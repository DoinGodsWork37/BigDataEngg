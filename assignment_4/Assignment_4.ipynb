{
 "cells": [
  {
   "cell_type": "markdown",
   "metadata": {},
   "source": []
  },
  {
   "cell_type": "raw",
   "metadata": {},
   "source": []
  },
  {
   "cell_type": "code",
   "execution_count": 1,
   "metadata": {},
   "outputs": [
    {
     "data": {
      "text/html": [
       "<style>.container { width:90% !important; }</style>"
      ],
      "text/plain": [
       "<IPython.core.display.HTML object>"
      ]
     },
     "metadata": {},
     "output_type": "display_data"
    }
   ],
   "source": [
    "# Put these at the top of every notebook, to get automatic reloading and inline plotting\n",
    "from IPython.core.display import display, HTML\n",
    "import pandas as pd\n",
    "%reload_ext autoreload\n",
    "%autoreload 1\n",
    "%matplotlib inline\n",
    "\n",
    "pd.set_option('display.max_rows', 500)\n",
    "pd.set_option('display.max_columns', 500)\n",
    "pd.set_option('display.width', 1000)\n",
    "\n",
    "display(HTML(\"<style>.container { width:90% !important; }</style>\"))"
   ]
  },
  {
   "cell_type": "code",
   "execution_count": 2,
   "metadata": {},
   "outputs": [
    {
     "name": "stdout",
     "output_type": "stream",
     "text": [
      "3.6.4 |Anaconda custom (64-bit)| (default, Mar 13 2018, 01:15:57) \n",
      "[GCC 7.2.0]\n"
     ]
    }
   ],
   "source": [
    "import sys\n",
    "import matplotlib.pyplot as plt\n",
    "import seaborn as sns\n",
    "sns.set()\n",
    "\n",
    "print(sys.version)"
   ]
  },
  {
   "cell_type": "code",
   "execution_count": 3,
   "metadata": {},
   "outputs": [
    {
     "name": "stdout",
     "output_type": "stream",
     "text": [
      "2.4.0-cdh6.1.0\n"
     ]
    }
   ],
   "source": [
    "print(spark.version)"
   ]
  },
  {
   "cell_type": "code",
   "execution_count": 4,
   "metadata": {},
   "outputs": [],
   "source": [
    "import pandas as pd\n",
    "import numpy as np\n",
    "\n",
    "from pyspark.ml import Pipeline\n",
    "from pyspark.ml.feature import OneHotEncoder, StringIndexer, VectorAssembler\n",
    "# from pyspark.ml.feature import OneHotEncoderEstimator\n",
    "# OneHotEncoderEstimator is available starting from Spark 2.3\n",
    "from pyspark.ml.classification import LogisticRegression, LogisticRegressionModel\n",
    "from pyspark.ml.evaluation import BinaryClassificationEvaluator\n",
    "\n",
    "from pyspark.sql.functions import *\n",
    "from pyspark.sql.types import *"
   ]
  },
  {
   "cell_type": "code",
   "execution_count": 5,
   "metadata": {},
   "outputs": [
    {
     "name": "stdout",
     "output_type": "stream",
     "text": [
      "total 1.3G\r\n",
      "-rwxr-xr-x 1 kadochnikov kadochnikov 671M Nov  4  2016 2007.csv\r\n",
      "-rwxr-xr-x 1 kadochnikov kadochnikov 658M Nov  4  2016 2008.csv\r\n"
     ]
    }
   ],
   "source": [
    "!ls -l -h '/project/msca/kadochnikov/data/air_travel'"
   ]
  },
  {
   "cell_type": "code",
   "execution_count": 6,
   "metadata": {},
   "outputs": [
    {
     "data": {
      "text/html": [
       "<div>\n",
       "<style scoped>\n",
       "    .dataframe tbody tr th:only-of-type {\n",
       "        vertical-align: middle;\n",
       "    }\n",
       "\n",
       "    .dataframe tbody tr th {\n",
       "        vertical-align: top;\n",
       "    }\n",
       "\n",
       "    .dataframe thead th {\n",
       "        text-align: right;\n",
       "    }\n",
       "</style>\n",
       "<table border=\"1\" class=\"dataframe\">\n",
       "  <thead>\n",
       "    <tr style=\"text-align: right;\">\n",
       "      <th></th>\n",
       "      <th>Year</th>\n",
       "      <th>Month</th>\n",
       "      <th>DayofMonth</th>\n",
       "      <th>DayOfWeek</th>\n",
       "      <th>DepTime</th>\n",
       "      <th>CRSDepTime</th>\n",
       "      <th>ArrTime</th>\n",
       "      <th>CRSArrTime</th>\n",
       "      <th>UniqueCarrier</th>\n",
       "      <th>FlightNum</th>\n",
       "      <th>TailNum</th>\n",
       "      <th>ActualElapsedTime</th>\n",
       "      <th>CRSElapsedTime</th>\n",
       "      <th>AirTime</th>\n",
       "      <th>ArrDelay</th>\n",
       "      <th>DepDelay</th>\n",
       "      <th>Origin</th>\n",
       "      <th>Dest</th>\n",
       "      <th>Distance</th>\n",
       "      <th>TaxiIn</th>\n",
       "      <th>TaxiOut</th>\n",
       "      <th>Cancelled</th>\n",
       "      <th>CancellationCode</th>\n",
       "      <th>Diverted</th>\n",
       "      <th>CarrierDelay</th>\n",
       "      <th>WeatherDelay</th>\n",
       "      <th>NASDelay</th>\n",
       "      <th>SecurityDelay</th>\n",
       "      <th>LateAircraftDelay</th>\n",
       "    </tr>\n",
       "  </thead>\n",
       "  <tbody>\n",
       "    <tr>\n",
       "      <th>0</th>\n",
       "      <td>2007</td>\n",
       "      <td>1</td>\n",
       "      <td>1</td>\n",
       "      <td>1</td>\n",
       "      <td>1232</td>\n",
       "      <td>1225</td>\n",
       "      <td>1341</td>\n",
       "      <td>1340</td>\n",
       "      <td>WN</td>\n",
       "      <td>2891</td>\n",
       "      <td>N351</td>\n",
       "      <td>69</td>\n",
       "      <td>75</td>\n",
       "      <td>54</td>\n",
       "      <td>1</td>\n",
       "      <td>7</td>\n",
       "      <td>SMF</td>\n",
       "      <td>ONT</td>\n",
       "      <td>389</td>\n",
       "      <td>4</td>\n",
       "      <td>11</td>\n",
       "      <td>0</td>\n",
       "      <td>None</td>\n",
       "      <td>0</td>\n",
       "      <td>0</td>\n",
       "      <td>0</td>\n",
       "      <td>0</td>\n",
       "      <td>0</td>\n",
       "      <td>0</td>\n",
       "    </tr>\n",
       "    <tr>\n",
       "      <th>1</th>\n",
       "      <td>2007</td>\n",
       "      <td>1</td>\n",
       "      <td>1</td>\n",
       "      <td>1</td>\n",
       "      <td>1918</td>\n",
       "      <td>1905</td>\n",
       "      <td>2043</td>\n",
       "      <td>2035</td>\n",
       "      <td>WN</td>\n",
       "      <td>462</td>\n",
       "      <td>N370</td>\n",
       "      <td>85</td>\n",
       "      <td>90</td>\n",
       "      <td>74</td>\n",
       "      <td>8</td>\n",
       "      <td>13</td>\n",
       "      <td>SMF</td>\n",
       "      <td>PDX</td>\n",
       "      <td>479</td>\n",
       "      <td>5</td>\n",
       "      <td>6</td>\n",
       "      <td>0</td>\n",
       "      <td>None</td>\n",
       "      <td>0</td>\n",
       "      <td>0</td>\n",
       "      <td>0</td>\n",
       "      <td>0</td>\n",
       "      <td>0</td>\n",
       "      <td>0</td>\n",
       "    </tr>\n",
       "    <tr>\n",
       "      <th>2</th>\n",
       "      <td>2007</td>\n",
       "      <td>1</td>\n",
       "      <td>1</td>\n",
       "      <td>1</td>\n",
       "      <td>2206</td>\n",
       "      <td>2130</td>\n",
       "      <td>2334</td>\n",
       "      <td>2300</td>\n",
       "      <td>WN</td>\n",
       "      <td>1229</td>\n",
       "      <td>N685</td>\n",
       "      <td>88</td>\n",
       "      <td>90</td>\n",
       "      <td>73</td>\n",
       "      <td>34</td>\n",
       "      <td>36</td>\n",
       "      <td>SMF</td>\n",
       "      <td>PDX</td>\n",
       "      <td>479</td>\n",
       "      <td>6</td>\n",
       "      <td>9</td>\n",
       "      <td>0</td>\n",
       "      <td>None</td>\n",
       "      <td>0</td>\n",
       "      <td>3</td>\n",
       "      <td>0</td>\n",
       "      <td>0</td>\n",
       "      <td>0</td>\n",
       "      <td>31</td>\n",
       "    </tr>\n",
       "    <tr>\n",
       "      <th>3</th>\n",
       "      <td>2007</td>\n",
       "      <td>1</td>\n",
       "      <td>1</td>\n",
       "      <td>1</td>\n",
       "      <td>1230</td>\n",
       "      <td>1200</td>\n",
       "      <td>1356</td>\n",
       "      <td>1330</td>\n",
       "      <td>WN</td>\n",
       "      <td>1355</td>\n",
       "      <td>N364</td>\n",
       "      <td>86</td>\n",
       "      <td>90</td>\n",
       "      <td>75</td>\n",
       "      <td>26</td>\n",
       "      <td>30</td>\n",
       "      <td>SMF</td>\n",
       "      <td>PDX</td>\n",
       "      <td>479</td>\n",
       "      <td>3</td>\n",
       "      <td>8</td>\n",
       "      <td>0</td>\n",
       "      <td>None</td>\n",
       "      <td>0</td>\n",
       "      <td>23</td>\n",
       "      <td>0</td>\n",
       "      <td>0</td>\n",
       "      <td>0</td>\n",
       "      <td>3</td>\n",
       "    </tr>\n",
       "    <tr>\n",
       "      <th>4</th>\n",
       "      <td>2007</td>\n",
       "      <td>1</td>\n",
       "      <td>1</td>\n",
       "      <td>1</td>\n",
       "      <td>831</td>\n",
       "      <td>830</td>\n",
       "      <td>957</td>\n",
       "      <td>1000</td>\n",
       "      <td>WN</td>\n",
       "      <td>2278</td>\n",
       "      <td>N480</td>\n",
       "      <td>86</td>\n",
       "      <td>90</td>\n",
       "      <td>74</td>\n",
       "      <td>-3</td>\n",
       "      <td>1</td>\n",
       "      <td>SMF</td>\n",
       "      <td>PDX</td>\n",
       "      <td>479</td>\n",
       "      <td>3</td>\n",
       "      <td>9</td>\n",
       "      <td>0</td>\n",
       "      <td>None</td>\n",
       "      <td>0</td>\n",
       "      <td>0</td>\n",
       "      <td>0</td>\n",
       "      <td>0</td>\n",
       "      <td>0</td>\n",
       "      <td>0</td>\n",
       "    </tr>\n",
       "  </tbody>\n",
       "</table>\n",
       "</div>"
      ],
      "text/plain": [
       "   Year  Month  DayofMonth  DayOfWeek DepTime  CRSDepTime ArrTime  CRSArrTime UniqueCarrier  FlightNum TailNum ActualElapsedTime CRSElapsedTime AirTime ArrDelay DepDelay Origin Dest  Distance  TaxiIn  TaxiOut  Cancelled CancellationCode  Diverted  CarrierDelay  WeatherDelay  NASDelay  SecurityDelay  LateAircraftDelay\n",
       "0  2007      1           1          1    1232        1225    1341        1340            WN       2891    N351                69             75      54        1        7    SMF  ONT       389       4       11          0             None         0             0             0         0              0                  0\n",
       "1  2007      1           1          1    1918        1905    2043        2035            WN        462    N370                85             90      74        8       13    SMF  PDX       479       5        6          0             None         0             0             0         0              0                  0\n",
       "2  2007      1           1          1    2206        2130    2334        2300            WN       1229    N685                88             90      73       34       36    SMF  PDX       479       6        9          0             None         0             3             0         0              0                 31\n",
       "3  2007      1           1          1    1230        1200    1356        1330            WN       1355    N364                86             90      75       26       30    SMF  PDX       479       3        8          0             None         0            23             0         0              0                  3\n",
       "4  2007      1           1          1     831         830     957        1000            WN       2278    N480                86             90      74       -3        1    SMF  PDX       479       3        9          0             None         0             0             0         0              0                  0"
      ]
     },
     "execution_count": 6,
     "metadata": {},
     "output_type": "execute_result"
    }
   ],
   "source": [
    "#Pull the dataset from Linux directory\n",
    "aircraft_2007 = spark.read.csv('file:///project/msca/kadochnikov/data/air_travel/2007.csv', header=True, inferSchema=True)\n",
    "aircraft_2007.cache()\n",
    "aircraft_2007.limit(100).toPandas().head(5)"
   ]
  },
  {
   "cell_type": "code",
   "execution_count": 7,
   "metadata": {},
   "outputs": [
    {
     "data": {
      "text/html": [
       "<div>\n",
       "<style scoped>\n",
       "    .dataframe tbody tr th:only-of-type {\n",
       "        vertical-align: middle;\n",
       "    }\n",
       "\n",
       "    .dataframe tbody tr th {\n",
       "        vertical-align: top;\n",
       "    }\n",
       "\n",
       "    .dataframe thead th {\n",
       "        text-align: right;\n",
       "    }\n",
       "</style>\n",
       "<table border=\"1\" class=\"dataframe\">\n",
       "  <thead>\n",
       "    <tr style=\"text-align: right;\">\n",
       "      <th></th>\n",
       "      <th>Year</th>\n",
       "      <th>Month</th>\n",
       "      <th>DayofMonth</th>\n",
       "      <th>DayOfWeek</th>\n",
       "      <th>DepTime</th>\n",
       "      <th>CRSDepTime</th>\n",
       "      <th>ArrTime</th>\n",
       "      <th>CRSArrTime</th>\n",
       "      <th>UniqueCarrier</th>\n",
       "      <th>FlightNum</th>\n",
       "      <th>TailNum</th>\n",
       "      <th>ActualElapsedTime</th>\n",
       "      <th>CRSElapsedTime</th>\n",
       "      <th>AirTime</th>\n",
       "      <th>ArrDelay</th>\n",
       "      <th>DepDelay</th>\n",
       "      <th>Origin</th>\n",
       "      <th>Dest</th>\n",
       "      <th>Distance</th>\n",
       "      <th>TaxiIn</th>\n",
       "      <th>TaxiOut</th>\n",
       "      <th>Cancelled</th>\n",
       "      <th>CancellationCode</th>\n",
       "      <th>Diverted</th>\n",
       "      <th>CarrierDelay</th>\n",
       "      <th>WeatherDelay</th>\n",
       "      <th>NASDelay</th>\n",
       "      <th>SecurityDelay</th>\n",
       "      <th>LateAircraftDelay</th>\n",
       "    </tr>\n",
       "  </thead>\n",
       "  <tbody>\n",
       "    <tr>\n",
       "      <th>0</th>\n",
       "      <td>2008</td>\n",
       "      <td>1</td>\n",
       "      <td>3</td>\n",
       "      <td>4</td>\n",
       "      <td>2003</td>\n",
       "      <td>1955</td>\n",
       "      <td>2211</td>\n",
       "      <td>2225</td>\n",
       "      <td>WN</td>\n",
       "      <td>335</td>\n",
       "      <td>N712SW</td>\n",
       "      <td>128</td>\n",
       "      <td>150</td>\n",
       "      <td>116</td>\n",
       "      <td>-14</td>\n",
       "      <td>8</td>\n",
       "      <td>IAD</td>\n",
       "      <td>TPA</td>\n",
       "      <td>810</td>\n",
       "      <td>4</td>\n",
       "      <td>8</td>\n",
       "      <td>0</td>\n",
       "      <td>None</td>\n",
       "      <td>0</td>\n",
       "      <td>NA</td>\n",
       "      <td>NA</td>\n",
       "      <td>NA</td>\n",
       "      <td>NA</td>\n",
       "      <td>NA</td>\n",
       "    </tr>\n",
       "    <tr>\n",
       "      <th>1</th>\n",
       "      <td>2008</td>\n",
       "      <td>1</td>\n",
       "      <td>3</td>\n",
       "      <td>4</td>\n",
       "      <td>754</td>\n",
       "      <td>735</td>\n",
       "      <td>1002</td>\n",
       "      <td>1000</td>\n",
       "      <td>WN</td>\n",
       "      <td>3231</td>\n",
       "      <td>N772SW</td>\n",
       "      <td>128</td>\n",
       "      <td>145</td>\n",
       "      <td>113</td>\n",
       "      <td>2</td>\n",
       "      <td>19</td>\n",
       "      <td>IAD</td>\n",
       "      <td>TPA</td>\n",
       "      <td>810</td>\n",
       "      <td>5</td>\n",
       "      <td>10</td>\n",
       "      <td>0</td>\n",
       "      <td>None</td>\n",
       "      <td>0</td>\n",
       "      <td>NA</td>\n",
       "      <td>NA</td>\n",
       "      <td>NA</td>\n",
       "      <td>NA</td>\n",
       "      <td>NA</td>\n",
       "    </tr>\n",
       "    <tr>\n",
       "      <th>2</th>\n",
       "      <td>2008</td>\n",
       "      <td>1</td>\n",
       "      <td>3</td>\n",
       "      <td>4</td>\n",
       "      <td>628</td>\n",
       "      <td>620</td>\n",
       "      <td>804</td>\n",
       "      <td>750</td>\n",
       "      <td>WN</td>\n",
       "      <td>448</td>\n",
       "      <td>N428WN</td>\n",
       "      <td>96</td>\n",
       "      <td>90</td>\n",
       "      <td>76</td>\n",
       "      <td>14</td>\n",
       "      <td>8</td>\n",
       "      <td>IND</td>\n",
       "      <td>BWI</td>\n",
       "      <td>515</td>\n",
       "      <td>3</td>\n",
       "      <td>17</td>\n",
       "      <td>0</td>\n",
       "      <td>None</td>\n",
       "      <td>0</td>\n",
       "      <td>NA</td>\n",
       "      <td>NA</td>\n",
       "      <td>NA</td>\n",
       "      <td>NA</td>\n",
       "      <td>NA</td>\n",
       "    </tr>\n",
       "    <tr>\n",
       "      <th>3</th>\n",
       "      <td>2008</td>\n",
       "      <td>1</td>\n",
       "      <td>3</td>\n",
       "      <td>4</td>\n",
       "      <td>926</td>\n",
       "      <td>930</td>\n",
       "      <td>1054</td>\n",
       "      <td>1100</td>\n",
       "      <td>WN</td>\n",
       "      <td>1746</td>\n",
       "      <td>N612SW</td>\n",
       "      <td>88</td>\n",
       "      <td>90</td>\n",
       "      <td>78</td>\n",
       "      <td>-6</td>\n",
       "      <td>-4</td>\n",
       "      <td>IND</td>\n",
       "      <td>BWI</td>\n",
       "      <td>515</td>\n",
       "      <td>3</td>\n",
       "      <td>7</td>\n",
       "      <td>0</td>\n",
       "      <td>None</td>\n",
       "      <td>0</td>\n",
       "      <td>NA</td>\n",
       "      <td>NA</td>\n",
       "      <td>NA</td>\n",
       "      <td>NA</td>\n",
       "      <td>NA</td>\n",
       "    </tr>\n",
       "    <tr>\n",
       "      <th>4</th>\n",
       "      <td>2008</td>\n",
       "      <td>1</td>\n",
       "      <td>3</td>\n",
       "      <td>4</td>\n",
       "      <td>1829</td>\n",
       "      <td>1755</td>\n",
       "      <td>1959</td>\n",
       "      <td>1925</td>\n",
       "      <td>WN</td>\n",
       "      <td>3920</td>\n",
       "      <td>N464WN</td>\n",
       "      <td>90</td>\n",
       "      <td>90</td>\n",
       "      <td>77</td>\n",
       "      <td>34</td>\n",
       "      <td>34</td>\n",
       "      <td>IND</td>\n",
       "      <td>BWI</td>\n",
       "      <td>515</td>\n",
       "      <td>3</td>\n",
       "      <td>10</td>\n",
       "      <td>0</td>\n",
       "      <td>None</td>\n",
       "      <td>0</td>\n",
       "      <td>2</td>\n",
       "      <td>0</td>\n",
       "      <td>0</td>\n",
       "      <td>0</td>\n",
       "      <td>32</td>\n",
       "    </tr>\n",
       "  </tbody>\n",
       "</table>\n",
       "</div>"
      ],
      "text/plain": [
       "   Year  Month  DayofMonth  DayOfWeek DepTime  CRSDepTime ArrTime  CRSArrTime UniqueCarrier  FlightNum TailNum ActualElapsedTime CRSElapsedTime AirTime ArrDelay DepDelay Origin Dest  Distance TaxiIn TaxiOut  Cancelled CancellationCode  Diverted CarrierDelay WeatherDelay NASDelay SecurityDelay LateAircraftDelay\n",
       "0  2008      1           3          4    2003        1955    2211        2225            WN        335  N712SW               128            150     116      -14        8    IAD  TPA       810      4       8          0             None         0           NA           NA       NA            NA                NA\n",
       "1  2008      1           3          4     754         735    1002        1000            WN       3231  N772SW               128            145     113        2       19    IAD  TPA       810      5      10          0             None         0           NA           NA       NA            NA                NA\n",
       "2  2008      1           3          4     628         620     804         750            WN        448  N428WN                96             90      76       14        8    IND  BWI       515      3      17          0             None         0           NA           NA       NA            NA                NA\n",
       "3  2008      1           3          4     926         930    1054        1100            WN       1746  N612SW                88             90      78       -6       -4    IND  BWI       515      3       7          0             None         0           NA           NA       NA            NA                NA\n",
       "4  2008      1           3          4    1829        1755    1959        1925            WN       3920  N464WN                90             90      77       34       34    IND  BWI       515      3      10          0             None         0            2            0        0             0                32"
      ]
     },
     "execution_count": 7,
     "metadata": {},
     "output_type": "execute_result"
    }
   ],
   "source": [
    "#Pull the dataset from Linux directory\n",
    "aircraft_2008 = spark.read.csv('file:///project/msca/kadochnikov/data/air_travel/2008.csv', header=True, inferSchema=True)\n",
    "aircraft_2008.cache()\n",
    "aircraft_2008.limit(100).toPandas().head(5)"
   ]
  },
  {
   "cell_type": "markdown",
   "metadata": {},
   "source": [
    "Join the two datasets together to get a larger consolidated one."
   ]
  },
  {
   "cell_type": "code",
   "execution_count": 8,
   "metadata": {},
   "outputs": [],
   "source": [
    "aircraft_df = aircraft_2007.union(aircraft_2008)"
   ]
  },
  {
   "cell_type": "code",
   "execution_count": 9,
   "metadata": {},
   "outputs": [
    {
     "data": {
      "text/plain": [
       "DataFrame[Year: int, Month: int, DayofMonth: int, DayOfWeek: int, DepTime: string, CRSDepTime: int, ArrTime: string, CRSArrTime: int, UniqueCarrier: string, FlightNum: int, TailNum: string, ActualElapsedTime: string, CRSElapsedTime: string, AirTime: string, ArrDelay: string, DepDelay: string, Origin: string, Dest: string, Distance: int, TaxiIn: string, TaxiOut: string, Cancelled: int, CancellationCode: string, Diverted: int, CarrierDelay: string, WeatherDelay: string, NASDelay: string, SecurityDelay: string, LateAircraftDelay: string]"
      ]
     },
     "execution_count": 9,
     "metadata": {},
     "output_type": "execute_result"
    }
   ],
   "source": [
    "aircraft_df.cache()"
   ]
  },
  {
   "cell_type": "code",
   "execution_count": 10,
   "metadata": {},
   "outputs": [],
   "source": [
    "aircraft_df = aircraft_df.toDF(*[c.lower() for c in aircraft_df.columns])"
   ]
  },
  {
   "cell_type": "code",
   "execution_count": 11,
   "metadata": {},
   "outputs": [
    {
     "name": "stdout",
     "output_type": "stream",
     "text": [
      "root\n",
      " |-- year: integer (nullable = true)\n",
      " |-- month: integer (nullable = true)\n",
      " |-- dayofmonth: integer (nullable = true)\n",
      " |-- dayofweek: integer (nullable = true)\n",
      " |-- deptime: string (nullable = true)\n",
      " |-- crsdeptime: integer (nullable = true)\n",
      " |-- arrtime: string (nullable = true)\n",
      " |-- crsarrtime: integer (nullable = true)\n",
      " |-- uniquecarrier: string (nullable = true)\n",
      " |-- flightnum: integer (nullable = true)\n",
      " |-- tailnum: string (nullable = true)\n",
      " |-- actualelapsedtime: string (nullable = true)\n",
      " |-- crselapsedtime: string (nullable = true)\n",
      " |-- airtime: string (nullable = true)\n",
      " |-- arrdelay: string (nullable = true)\n",
      " |-- depdelay: string (nullable = true)\n",
      " |-- origin: string (nullable = true)\n",
      " |-- dest: string (nullable = true)\n",
      " |-- distance: integer (nullable = true)\n",
      " |-- taxiin: string (nullable = true)\n",
      " |-- taxiout: string (nullable = true)\n",
      " |-- cancelled: integer (nullable = true)\n",
      " |-- cancellationcode: string (nullable = true)\n",
      " |-- diverted: integer (nullable = true)\n",
      " |-- carrierdelay: string (nullable = true)\n",
      " |-- weatherdelay: string (nullable = true)\n",
      " |-- nasdelay: string (nullable = true)\n",
      " |-- securitydelay: string (nullable = true)\n",
      " |-- lateaircraftdelay: string (nullable = true)\n",
      "\n"
     ]
    }
   ],
   "source": [
    "aircraft_df.printSchema()"
   ]
  },
  {
   "cell_type": "markdown",
   "metadata": {},
   "source": [
    "There are several columns here that need to be typecasted into a different data type. "
   ]
  },
  {
   "cell_type": "code",
   "execution_count": 12,
   "metadata": {},
   "outputs": [],
   "source": [
    "aircraft_df = aircraft_df.withColumn(\"deptime\", aircraft_df[\"deptime\"].cast(FloatType())).\\\n",
    "                          withColumn(\"arrtime\", aircraft_df[\"arrtime\"].cast(FloatType())).\\\n",
    "                          withColumn(\"arrdelay\", aircraft_df[\"arrdelay\"].cast(IntegerType())).\\\n",
    "                          withColumn(\"depdelay\", aircraft_df[\"depdelay\"].cast(IntegerType()))\n",
    "            \n",
    "aircraft_df = aircraft_df.withColumn(\"deptime\", aircraft_df[\"deptime\"].cast(IntegerType())).\\\n",
    "                          withColumn(\"arrtime\", aircraft_df[\"arrtime\"].cast(IntegerType()))"
   ]
  },
  {
   "cell_type": "code",
   "execution_count": 13,
   "metadata": {},
   "outputs": [
    {
     "data": {
      "text/html": [
       "<div>\n",
       "<style scoped>\n",
       "    .dataframe tbody tr th:only-of-type {\n",
       "        vertical-align: middle;\n",
       "    }\n",
       "\n",
       "    .dataframe tbody tr th {\n",
       "        vertical-align: top;\n",
       "    }\n",
       "\n",
       "    .dataframe thead th {\n",
       "        text-align: right;\n",
       "    }\n",
       "</style>\n",
       "<table border=\"1\" class=\"dataframe\">\n",
       "  <thead>\n",
       "    <tr style=\"text-align: right;\">\n",
       "      <th></th>\n",
       "      <th>year</th>\n",
       "      <th>month</th>\n",
       "      <th>dayofmonth</th>\n",
       "      <th>dayofweek</th>\n",
       "      <th>deptime</th>\n",
       "      <th>crsdeptime</th>\n",
       "      <th>arrtime</th>\n",
       "      <th>crsarrtime</th>\n",
       "      <th>uniquecarrier</th>\n",
       "      <th>flightnum</th>\n",
       "      <th>tailnum</th>\n",
       "      <th>actualelapsedtime</th>\n",
       "      <th>crselapsedtime</th>\n",
       "      <th>airtime</th>\n",
       "      <th>arrdelay</th>\n",
       "      <th>depdelay</th>\n",
       "      <th>origin</th>\n",
       "      <th>dest</th>\n",
       "      <th>distance</th>\n",
       "      <th>taxiin</th>\n",
       "      <th>taxiout</th>\n",
       "      <th>cancelled</th>\n",
       "      <th>cancellationcode</th>\n",
       "      <th>diverted</th>\n",
       "      <th>carrierdelay</th>\n",
       "      <th>weatherdelay</th>\n",
       "      <th>nasdelay</th>\n",
       "      <th>securitydelay</th>\n",
       "      <th>lateaircraftdelay</th>\n",
       "    </tr>\n",
       "  </thead>\n",
       "  <tbody>\n",
       "    <tr>\n",
       "      <th>0</th>\n",
       "      <td>2007</td>\n",
       "      <td>1</td>\n",
       "      <td>1</td>\n",
       "      <td>1</td>\n",
       "      <td>1232.0</td>\n",
       "      <td>1225</td>\n",
       "      <td>1341.0</td>\n",
       "      <td>1340</td>\n",
       "      <td>WN</td>\n",
       "      <td>2891</td>\n",
       "      <td>N351</td>\n",
       "      <td>69</td>\n",
       "      <td>75</td>\n",
       "      <td>54</td>\n",
       "      <td>1.0</td>\n",
       "      <td>7.0</td>\n",
       "      <td>SMF</td>\n",
       "      <td>ONT</td>\n",
       "      <td>389</td>\n",
       "      <td>4</td>\n",
       "      <td>11</td>\n",
       "      <td>0</td>\n",
       "      <td>None</td>\n",
       "      <td>0</td>\n",
       "      <td>0</td>\n",
       "      <td>0</td>\n",
       "      <td>0</td>\n",
       "      <td>0</td>\n",
       "      <td>0</td>\n",
       "    </tr>\n",
       "    <tr>\n",
       "      <th>1</th>\n",
       "      <td>2007</td>\n",
       "      <td>1</td>\n",
       "      <td>1</td>\n",
       "      <td>1</td>\n",
       "      <td>1918.0</td>\n",
       "      <td>1905</td>\n",
       "      <td>2043.0</td>\n",
       "      <td>2035</td>\n",
       "      <td>WN</td>\n",
       "      <td>462</td>\n",
       "      <td>N370</td>\n",
       "      <td>85</td>\n",
       "      <td>90</td>\n",
       "      <td>74</td>\n",
       "      <td>8.0</td>\n",
       "      <td>13.0</td>\n",
       "      <td>SMF</td>\n",
       "      <td>PDX</td>\n",
       "      <td>479</td>\n",
       "      <td>5</td>\n",
       "      <td>6</td>\n",
       "      <td>0</td>\n",
       "      <td>None</td>\n",
       "      <td>0</td>\n",
       "      <td>0</td>\n",
       "      <td>0</td>\n",
       "      <td>0</td>\n",
       "      <td>0</td>\n",
       "      <td>0</td>\n",
       "    </tr>\n",
       "    <tr>\n",
       "      <th>2</th>\n",
       "      <td>2007</td>\n",
       "      <td>1</td>\n",
       "      <td>1</td>\n",
       "      <td>1</td>\n",
       "      <td>2206.0</td>\n",
       "      <td>2130</td>\n",
       "      <td>2334.0</td>\n",
       "      <td>2300</td>\n",
       "      <td>WN</td>\n",
       "      <td>1229</td>\n",
       "      <td>N685</td>\n",
       "      <td>88</td>\n",
       "      <td>90</td>\n",
       "      <td>73</td>\n",
       "      <td>34.0</td>\n",
       "      <td>36.0</td>\n",
       "      <td>SMF</td>\n",
       "      <td>PDX</td>\n",
       "      <td>479</td>\n",
       "      <td>6</td>\n",
       "      <td>9</td>\n",
       "      <td>0</td>\n",
       "      <td>None</td>\n",
       "      <td>0</td>\n",
       "      <td>3</td>\n",
       "      <td>0</td>\n",
       "      <td>0</td>\n",
       "      <td>0</td>\n",
       "      <td>31</td>\n",
       "    </tr>\n",
       "    <tr>\n",
       "      <th>3</th>\n",
       "      <td>2007</td>\n",
       "      <td>1</td>\n",
       "      <td>1</td>\n",
       "      <td>1</td>\n",
       "      <td>1230.0</td>\n",
       "      <td>1200</td>\n",
       "      <td>1356.0</td>\n",
       "      <td>1330</td>\n",
       "      <td>WN</td>\n",
       "      <td>1355</td>\n",
       "      <td>N364</td>\n",
       "      <td>86</td>\n",
       "      <td>90</td>\n",
       "      <td>75</td>\n",
       "      <td>26.0</td>\n",
       "      <td>30.0</td>\n",
       "      <td>SMF</td>\n",
       "      <td>PDX</td>\n",
       "      <td>479</td>\n",
       "      <td>3</td>\n",
       "      <td>8</td>\n",
       "      <td>0</td>\n",
       "      <td>None</td>\n",
       "      <td>0</td>\n",
       "      <td>23</td>\n",
       "      <td>0</td>\n",
       "      <td>0</td>\n",
       "      <td>0</td>\n",
       "      <td>3</td>\n",
       "    </tr>\n",
       "    <tr>\n",
       "      <th>4</th>\n",
       "      <td>2007</td>\n",
       "      <td>1</td>\n",
       "      <td>1</td>\n",
       "      <td>1</td>\n",
       "      <td>831.0</td>\n",
       "      <td>830</td>\n",
       "      <td>957.0</td>\n",
       "      <td>1000</td>\n",
       "      <td>WN</td>\n",
       "      <td>2278</td>\n",
       "      <td>N480</td>\n",
       "      <td>86</td>\n",
       "      <td>90</td>\n",
       "      <td>74</td>\n",
       "      <td>-3.0</td>\n",
       "      <td>1.0</td>\n",
       "      <td>SMF</td>\n",
       "      <td>PDX</td>\n",
       "      <td>479</td>\n",
       "      <td>3</td>\n",
       "      <td>9</td>\n",
       "      <td>0</td>\n",
       "      <td>None</td>\n",
       "      <td>0</td>\n",
       "      <td>0</td>\n",
       "      <td>0</td>\n",
       "      <td>0</td>\n",
       "      <td>0</td>\n",
       "      <td>0</td>\n",
       "    </tr>\n",
       "  </tbody>\n",
       "</table>\n",
       "</div>"
      ],
      "text/plain": [
       "   year  month  dayofmonth  dayofweek  deptime  crsdeptime  arrtime  crsarrtime uniquecarrier  flightnum tailnum actualelapsedtime crselapsedtime airtime  arrdelay  depdelay origin dest  distance taxiin taxiout  cancelled cancellationcode  diverted carrierdelay weatherdelay nasdelay securitydelay lateaircraftdelay\n",
       "0  2007      1           1          1   1232.0        1225   1341.0        1340            WN       2891    N351                69             75      54       1.0       7.0    SMF  ONT       389      4      11          0             None         0            0            0        0             0                 0\n",
       "1  2007      1           1          1   1918.0        1905   2043.0        2035            WN        462    N370                85             90      74       8.0      13.0    SMF  PDX       479      5       6          0             None         0            0            0        0             0                 0\n",
       "2  2007      1           1          1   2206.0        2130   2334.0        2300            WN       1229    N685                88             90      73      34.0      36.0    SMF  PDX       479      6       9          0             None         0            3            0        0             0                31\n",
       "3  2007      1           1          1   1230.0        1200   1356.0        1330            WN       1355    N364                86             90      75      26.0      30.0    SMF  PDX       479      3       8          0             None         0           23            0        0             0                 3\n",
       "4  2007      1           1          1    831.0         830    957.0        1000            WN       2278    N480                86             90      74      -3.0       1.0    SMF  PDX       479      3       9          0             None         0            0            0        0             0                 0"
      ]
     },
     "execution_count": 13,
     "metadata": {},
     "output_type": "execute_result"
    }
   ],
   "source": [
    "aircraft_df.limit(100).toPandas().head(5)"
   ]
  },
  {
   "cell_type": "markdown",
   "metadata": {},
   "source": [
    "### 1. Which locations (Origin and Dest pairs) had the worst delays for both arrivals (ArrDelay) and departures (DepDelay)."
   ]
  },
  {
   "cell_type": "code",
   "execution_count": 14,
   "metadata": {},
   "outputs": [
    {
     "name": "stdout",
     "output_type": "stream",
     "text": [
      "+------+----+-------------+\n",
      "|origin|dest|max(arrdelay)|\n",
      "+------+----+-------------+\n",
      "|   PBI| DTW|         2598|\n",
      "|   HNL| MSP|         2461|\n",
      "|   CLT| MSP|         2453|\n",
      "|   RSW| DTW|         1951|\n",
      "|   ALO| MSP|         1942|\n",
      "+------+----+-------------+\n",
      "only showing top 5 rows\n",
      "\n"
     ]
    }
   ],
   "source": [
    "aircraft_grp_1 = aircraft_df[[\"origin\", \"dest\", \"arrdelay\"]].groupBy('origin', 'dest').max()\n",
    "aircraft_grp_1.orderBy('max(arrdelay)', ascending=False).show(5)"
   ]
  },
  {
   "cell_type": "code",
   "execution_count": 15,
   "metadata": {
    "scrolled": true
   },
   "outputs": [
    {
     "name": "stdout",
     "output_type": "stream",
     "text": [
      "+------+----+-------------+\n",
      "|origin|dest|max(depdelay)|\n",
      "+------+----+-------------+\n",
      "|   PBI| DTW|         2601|\n",
      "|   CLT| MSP|         2467|\n",
      "|   HNL| MSP|         2457|\n",
      "|   ALO| MSP|         1956|\n",
      "|   RSW| DTW|         1952|\n",
      "+------+----+-------------+\n",
      "only showing top 5 rows\n",
      "\n"
     ]
    }
   ],
   "source": [
    "aircraft_grp_2 = aircraft_df[[\"origin\", \"dest\", \"depdelay\"]].groupBy('origin', 'dest').max()\n",
    "aircraft_grp_2.orderBy('max(depdelay)', ascending=False).show(5)"
   ]
  },
  {
   "cell_type": "markdown",
   "metadata": {},
   "source": [
    "### 2. Which locations had fewest delays?"
   ]
  },
  {
   "cell_type": "markdown",
   "metadata": {},
   "source": [
    "Find the rows where a flight was actually delayed, and get the total count for each Origin/Destination pair. Once sorted, it would give us an idea on which locations had the fewest delays"
   ]
  },
  {
   "cell_type": "code",
   "execution_count": 16,
   "metadata": {},
   "outputs": [
    {
     "data": {
      "text/plain": [
       "14462943"
      ]
     },
     "execution_count": 16,
     "metadata": {},
     "output_type": "execute_result"
    }
   ],
   "source": [
    "cols = [\"origin\", \"dest\", \"arrdelay\", \"depdelay\", \"year\", \"month\", \"dayofweek\"]\n",
    "aircraft_subset = aircraft_df[cols]\n",
    "aircraft_subset.count()"
   ]
  },
  {
   "cell_type": "markdown",
   "metadata": {},
   "source": [
    "Filter out rows that had an arrival or departure delay"
   ]
  },
  {
   "cell_type": "code",
   "execution_count": 17,
   "metadata": {},
   "outputs": [
    {
     "data": {
      "text/plain": [
       "7792035"
      ]
     },
     "execution_count": 17,
     "metadata": {},
     "output_type": "execute_result"
    }
   ],
   "source": [
    "aircraft_subset = aircraft_subset[(aircraft_subset[\"arrdelay\"] > 0.0) |\\\n",
    "                                  (aircraft_subset[\"depdelay\"] > 0.0)]\n",
    "aircraft_subset.count()"
   ]
  },
  {
   "cell_type": "code",
   "execution_count": 18,
   "metadata": {},
   "outputs": [
    {
     "name": "stdout",
     "output_type": "stream",
     "text": [
      "+------+----+-----+\n",
      "|origin|dest|count|\n",
      "+------+----+-----+\n",
      "|   GRB| DEN|    1|\n",
      "|   ACY| MYR|    1|\n",
      "|   FSD| PIA|    1|\n",
      "|   XNA| SGF|    1|\n",
      "|   PVD| BDL|    1|\n",
      "+------+----+-----+\n",
      "only showing top 5 rows\n",
      "\n"
     ]
    }
   ],
   "source": [
    "aircraft_grp_3 = aircraft_subset[[\"origin\", \"dest\", \"arrdelay\"]].groupBy('origin', 'dest').count()\n",
    "aircraft_grp_3.orderBy('count', ascending=True).show(5)"
   ]
  },
  {
   "cell_type": "markdown",
   "metadata": {},
   "source": [
    "### 3.Do you see any significant seasonality effects for delays?"
   ]
  },
  {
   "cell_type": "markdown",
   "metadata": {},
   "source": [
    "We can analyse how many delays there have been over 2007 and 2008 on a monthly basis.\n",
    "First we find the rows that have had either an arrival/departure delay. Then we bin them through month and year."
   ]
  },
  {
   "cell_type": "code",
   "execution_count": 19,
   "metadata": {},
   "outputs": [
    {
     "name": "stdout",
     "output_type": "stream",
     "text": [
      "+------+----+--------+--------+----+-----+---------+\n",
      "|origin|dest|arrdelay|depdelay|year|month|dayofweek|\n",
      "+------+----+--------+--------+----+-----+---------+\n",
      "|   SMF| ONT|       1|       7|2007|    1|        1|\n",
      "|   SMF| PDX|       8|      13|2007|    1|        1|\n",
      "|   SMF| PDX|      34|      36|2007|    1|        1|\n",
      "|   SMF| PDX|      26|      30|2007|    1|        1|\n",
      "|   SMF| PDX|      -3|       1|2007|    1|        1|\n",
      "+------+----+--------+--------+----+-----+---------+\n",
      "only showing top 5 rows\n",
      "\n"
     ]
    }
   ],
   "source": [
    "aircraft_subset.show(5)"
   ]
  },
  {
   "cell_type": "code",
   "execution_count": 20,
   "metadata": {},
   "outputs": [
    {
     "name": "stdout",
     "output_type": "stream",
     "text": [
      "+----+-----+------+\n",
      "|year|month| count|\n",
      "+----+-----+------+\n",
      "|2007|    6|388918|\n",
      "|2008|    8|301709|\n",
      "|2007|    1|344800|\n",
      "|2007|   10|324434|\n",
      "|2008|    1|334398|\n",
      "+----+-----+------+\n",
      "only showing top 5 rows\n",
      "\n"
     ]
    }
   ],
   "source": [
    "aircraft_grp_4 = aircraft_subset.groupBy([\"year\", \"month\"]).count()\n",
    "aircraft_grp_4.show(5)"
   ]
  },
  {
   "cell_type": "code",
   "execution_count": 21,
   "metadata": {},
   "outputs": [
    {
     "data": {
      "image/png": "[encoded data removed]",
      "text/plain": [
       "<Figure size 1152x360 with 2 Axes>"
      ]
     },
     "metadata": {},
     "output_type": "display_data"
    }
   ],
   "source": [
    "p_grp_4 = aircraft_grp_4.toPandas()\n",
    "\n",
    "f, ax = plt.subplots(1, 2, figsize=(16,5), sharey=True)\n",
    "g = sns.barplot(x=\"month\", y=\"count\", data=p_grp_4[p_grp_4[\"year\"]==2007], hue=\"year\", ax=ax[0])\n",
    "g = sns.barplot(x=\"month\", y=\"count\", data=p_grp_4[p_grp_4[\"year\"]==2008], hue=\"year\", ax=ax[1])"
   ]
  },
  {
   "cell_type": "markdown",
   "metadata": {},
   "source": [
    "### 4. Do you see any increase or decrease in delays on weekends?"
   ]
  },
  {
   "cell_type": "markdown",
   "metadata": {},
   "source": [
    "Day 1 corresponds to Monday. The weekends would be days 6 and 7 (saturday and sunday respectively)."
   ]
  },
  {
   "cell_type": "code",
   "execution_count": 22,
   "metadata": {},
   "outputs": [
    {
     "name": "stdout",
     "output_type": "stream",
     "text": [
      "+------+----+--------+--------+----+-----+---------+\n",
      "|origin|dest|arrdelay|depdelay|year|month|dayofweek|\n",
      "+------+----+--------+--------+----+-----+---------+\n",
      "|   SMF| ONT|       1|       7|2007|    1|        1|\n",
      "|   SMF| PDX|       8|      13|2007|    1|        1|\n",
      "|   SMF| PDX|      34|      36|2007|    1|        1|\n",
      "|   SMF| PDX|      26|      30|2007|    1|        1|\n",
      "|   SMF| PDX|      -3|       1|2007|    1|        1|\n",
      "+------+----+--------+--------+----+-----+---------+\n",
      "only showing top 5 rows\n",
      "\n"
     ]
    }
   ],
   "source": [
    "aircraft_subset.show(5)"
   ]
  },
  {
   "cell_type": "code",
   "execution_count": 23,
   "metadata": {},
   "outputs": [
    {
     "name": "stdout",
     "output_type": "stream",
     "text": [
      "+---------+-------+\n",
      "|dayofweek|  count|\n",
      "+---------+-------+\n",
      "|        1|1172293|\n",
      "|        6| 907038|\n",
      "|        3|1106115|\n",
      "|        5|1243443|\n",
      "|        4|1189164|\n",
      "+---------+-------+\n",
      "only showing top 5 rows\n",
      "\n"
     ]
    }
   ],
   "source": [
    "aircraft_grp_5 = aircraft_subset.groupBy([\"dayofweek\"]).count()\n",
    "aircraft_grp_5.show(5)"
   ]
  },
  {
   "cell_type": "code",
   "execution_count": 24,
   "metadata": {},
   "outputs": [
    {
     "data": {
      "image/png": "[encoded data removed]",
      "text/plain": [
       "<Figure size 1152x360 with 2 Axes>"
      ]
     },
     "metadata": {},
     "output_type": "display_data"
    }
   ],
   "source": [
    "p_grp_5 = aircraft_grp_5.toPandas()\n",
    "\n",
    "weekday_count = p_grp_5[p_grp_5[\"dayofweek\"] < 6][\"count\"].sum()\n",
    "weekend_count = p_grp_5[p_grp_5[\"dayofweek\"] >= 6][\"count\"].sum()\n",
    "\n",
    "f, ax = plt.subplots(1, 2, figsize=(16,5))\n",
    "g = sns.barplot(x=\"dayofweek\", y=\"count\", data=p_grp_5, ax=ax[0])\n",
    "patches, texts = ax[1].pie(x=[weekday_count, weekend_count])\n",
    "\n",
    "t = ax[0].set_title(\"Activity across days\")\n",
    "t = ax[1].set_title(\"Weekday(blue) vs. Weekend(green) activity\")"
   ]
  },
  {
   "cell_type": "markdown",
   "metadata": {},
   "source": [
    "### 5. Are flights equally distributed throughout the day?\n",
    "Plot the distribution of DepTime, ArrTime (actual departure and arrival time)"
   ]
  },
  {
   "cell_type": "markdown",
   "metadata": {},
   "source": [
    "#### Arrival Times"
   ]
  },
  {
   "cell_type": "markdown",
   "metadata": {},
   "source": [
    "We can bin the times into their respective hours. To do this, we can remove the last 2 characters from each column, and extract the hour."
   ]
  },
  {
   "cell_type": "code",
   "execution_count": 25,
   "metadata": {},
   "outputs": [
    {
     "data": {
      "text/html": [
       "<div>\n",
       "<style scoped>\n",
       "    .dataframe tbody tr th:only-of-type {\n",
       "        vertical-align: middle;\n",
       "    }\n",
       "\n",
       "    .dataframe tbody tr th {\n",
       "        vertical-align: top;\n",
       "    }\n",
       "\n",
       "    .dataframe thead th {\n",
       "        text-align: right;\n",
       "    }\n",
       "</style>\n",
       "<table border=\"1\" class=\"dataframe\">\n",
       "  <thead>\n",
       "    <tr style=\"text-align: right;\">\n",
       "      <th></th>\n",
       "      <th>year</th>\n",
       "      <th>month</th>\n",
       "      <th>dayofmonth</th>\n",
       "      <th>dayofweek</th>\n",
       "      <th>deptime</th>\n",
       "      <th>crsdeptime</th>\n",
       "      <th>arrtime</th>\n",
       "      <th>crsarrtime</th>\n",
       "      <th>uniquecarrier</th>\n",
       "      <th>flightnum</th>\n",
       "      <th>tailnum</th>\n",
       "      <th>actualelapsedtime</th>\n",
       "      <th>crselapsedtime</th>\n",
       "      <th>airtime</th>\n",
       "      <th>arrdelay</th>\n",
       "      <th>depdelay</th>\n",
       "      <th>origin</th>\n",
       "      <th>dest</th>\n",
       "      <th>distance</th>\n",
       "      <th>taxiin</th>\n",
       "      <th>taxiout</th>\n",
       "      <th>cancelled</th>\n",
       "      <th>cancellationcode</th>\n",
       "      <th>diverted</th>\n",
       "      <th>carrierdelay</th>\n",
       "      <th>weatherdelay</th>\n",
       "      <th>nasdelay</th>\n",
       "      <th>securitydelay</th>\n",
       "      <th>lateaircraftdelay</th>\n",
       "    </tr>\n",
       "  </thead>\n",
       "  <tbody>\n",
       "    <tr>\n",
       "      <th>0</th>\n",
       "      <td>2007</td>\n",
       "      <td>1</td>\n",
       "      <td>18</td>\n",
       "      <td>4</td>\n",
       "      <td>2302</td>\n",
       "      <td>2235</td>\n",
       "      <td>2400</td>\n",
       "      <td>2336</td>\n",
       "      <td>DL</td>\n",
       "      <td>1798</td>\n",
       "      <td>N981DL</td>\n",
       "      <td>58</td>\n",
       "      <td>61</td>\n",
       "      <td>33</td>\n",
       "      <td>24</td>\n",
       "      <td>27</td>\n",
       "      <td>ATL</td>\n",
       "      <td>CLT</td>\n",
       "      <td>227</td>\n",
       "      <td>5</td>\n",
       "      <td>20</td>\n",
       "      <td>0</td>\n",
       "      <td>None</td>\n",
       "      <td>0</td>\n",
       "      <td>13</td>\n",
       "      <td>0</td>\n",
       "      <td>0</td>\n",
       "      <td>0</td>\n",
       "      <td>11</td>\n",
       "    </tr>\n",
       "    <tr>\n",
       "      <th>1</th>\n",
       "      <td>2007</td>\n",
       "      <td>1</td>\n",
       "      <td>12</td>\n",
       "      <td>5</td>\n",
       "      <td>2058</td>\n",
       "      <td>2000</td>\n",
       "      <td>2400</td>\n",
       "      <td>2325</td>\n",
       "      <td>B6</td>\n",
       "      <td>629</td>\n",
       "      <td>N534JB</td>\n",
       "      <td>182</td>\n",
       "      <td>205</td>\n",
       "      <td>147</td>\n",
       "      <td>35</td>\n",
       "      <td>58</td>\n",
       "      <td>JFK</td>\n",
       "      <td>HOU</td>\n",
       "      <td>1428</td>\n",
       "      <td>6</td>\n",
       "      <td>29</td>\n",
       "      <td>0</td>\n",
       "      <td>None</td>\n",
       "      <td>0</td>\n",
       "      <td>0</td>\n",
       "      <td>0</td>\n",
       "      <td>2</td>\n",
       "      <td>0</td>\n",
       "      <td>33</td>\n",
       "    </tr>\n",
       "    <tr>\n",
       "      <th>2</th>\n",
       "      <td>2007</td>\n",
       "      <td>1</td>\n",
       "      <td>21</td>\n",
       "      <td>7</td>\n",
       "      <td>1804</td>\n",
       "      <td>1719</td>\n",
       "      <td>2400</td>\n",
       "      <td>2330</td>\n",
       "      <td>DL</td>\n",
       "      <td>1215</td>\n",
       "      <td>N658DL</td>\n",
       "      <td>236</td>\n",
       "      <td>251</td>\n",
       "      <td>216</td>\n",
       "      <td>30</td>\n",
       "      <td>45</td>\n",
       "      <td>SLC</td>\n",
       "      <td>MCO</td>\n",
       "      <td>1929</td>\n",
       "      <td>6</td>\n",
       "      <td>14</td>\n",
       "      <td>0</td>\n",
       "      <td>None</td>\n",
       "      <td>0</td>\n",
       "      <td>13</td>\n",
       "      <td>0</td>\n",
       "      <td>0</td>\n",
       "      <td>0</td>\n",
       "      <td>17</td>\n",
       "    </tr>\n",
       "    <tr>\n",
       "      <th>3</th>\n",
       "      <td>2007</td>\n",
       "      <td>1</td>\n",
       "      <td>6</td>\n",
       "      <td>6</td>\n",
       "      <td>1854</td>\n",
       "      <td>1835</td>\n",
       "      <td>2400</td>\n",
       "      <td>2340</td>\n",
       "      <td>WN</td>\n",
       "      <td>756</td>\n",
       "      <td>N321</td>\n",
       "      <td>186</td>\n",
       "      <td>185</td>\n",
       "      <td>176</td>\n",
       "      <td>20</td>\n",
       "      <td>19</td>\n",
       "      <td>LAX</td>\n",
       "      <td>MCI</td>\n",
       "      <td>1363</td>\n",
       "      <td>4</td>\n",
       "      <td>6</td>\n",
       "      <td>0</td>\n",
       "      <td>None</td>\n",
       "      <td>0</td>\n",
       "      <td>0</td>\n",
       "      <td>0</td>\n",
       "      <td>4</td>\n",
       "      <td>0</td>\n",
       "      <td>16</td>\n",
       "    </tr>\n",
       "    <tr>\n",
       "      <th>4</th>\n",
       "      <td>2007</td>\n",
       "      <td>1</td>\n",
       "      <td>26</td>\n",
       "      <td>5</td>\n",
       "      <td>2104</td>\n",
       "      <td>2105</td>\n",
       "      <td>2400</td>\n",
       "      <td>8</td>\n",
       "      <td>DL</td>\n",
       "      <td>1035</td>\n",
       "      <td>N660DL</td>\n",
       "      <td>296</td>\n",
       "      <td>303</td>\n",
       "      <td>267</td>\n",
       "      <td>-8</td>\n",
       "      <td>-1</td>\n",
       "      <td>SLC</td>\n",
       "      <td>ANC</td>\n",
       "      <td>2125</td>\n",
       "      <td>5</td>\n",
       "      <td>24</td>\n",
       "      <td>0</td>\n",
       "      <td>None</td>\n",
       "      <td>0</td>\n",
       "      <td>0</td>\n",
       "      <td>0</td>\n",
       "      <td>0</td>\n",
       "      <td>0</td>\n",
       "      <td>0</td>\n",
       "    </tr>\n",
       "  </tbody>\n",
       "</table>\n",
       "</div>"
      ],
      "text/plain": [
       "   year  month  dayofmonth  dayofweek  deptime  crsdeptime  arrtime  crsarrtime uniquecarrier  flightnum tailnum actualelapsedtime crselapsedtime airtime  arrdelay  depdelay origin dest  distance taxiin taxiout  cancelled cancellationcode  diverted carrierdelay weatherdelay nasdelay securitydelay lateaircraftdelay\n",
       "0  2007      1          18          4     2302        2235     2400        2336            DL       1798  N981DL                58             61      33        24        27    ATL  CLT       227      5      20          0             None         0           13            0        0             0                11\n",
       "1  2007      1          12          5     2058        2000     2400        2325            B6        629  N534JB               182            205     147        35        58    JFK  HOU      1428      6      29          0             None         0            0            0        2             0                33\n",
       "2  2007      1          21          7     1804        1719     2400        2330            DL       1215  N658DL               236            251     216        30        45    SLC  MCO      1929      6      14          0             None         0           13            0        0             0                17\n",
       "3  2007      1           6          6     1854        1835     2400        2340            WN        756    N321               186            185     176        20        19    LAX  MCI      1363      4       6          0             None         0            0            0        4             0                16\n",
       "4  2007      1          26          5     2104        2105     2400           8            DL       1035  N660DL               296            303     267        -8        -1    SLC  ANC      2125      5      24          0             None         0            0            0        0             0                 0"
      ]
     },
     "execution_count": 25,
     "metadata": {},
     "output_type": "execute_result"
    }
   ],
   "source": [
    "aircraft_df.orderBy('arrtime', ascending=False).limit(100).toPandas().head(5)"
   ]
  },
  {
   "cell_type": "markdown",
   "metadata": {},
   "source": [
    "We need to format the arrival and departure times to ensure there is consistency and we can work with them. Let's first convert the columns into HHMM format. First we change their types to _string_"
   ]
  },
  {
   "cell_type": "code",
   "execution_count": 35,
   "metadata": {},
   "outputs": [
    {
     "name": "stdout",
     "output_type": "stream",
     "text": [
      "root\n",
      " |-- arrtime: string (nullable = true)\n",
      " |-- flightnum: integer (nullable = true)\n",
      "\n",
      "Number of rows :  14462943\n"
     ]
    }
   ],
   "source": [
    "# Converting the column ArrTime to string\n",
    "cols = [\"arrtime\", \"flightnum\"]\n",
    "arrival_df = aircraft_df[cols]\n",
    "# Also drop the rows that dont have arrival times (woah!)\n",
    "arrival_df.dropna()\n",
    "arrival_df = arrival_df.withColumn(\"arrtime\", aircraft_df[\"arrtime\"].cast(StringType()))\n",
    "\n",
    "arrival_df.printSchema()\n",
    "# Quick sanity check\n",
    "print(\"Number of rows : \", arrival_df.count())"
   ]
  },
  {
   "cell_type": "markdown",
   "metadata": {},
   "source": [
    "To clean the _arrtime_ column, we pad zero pad from the left to bring it to HHMM format."
   ]
  },
  {
   "cell_type": "code",
   "execution_count": 37,
   "metadata": {},
   "outputs": [
    {
     "data": {
      "text/html": [
       "<div>\n",
       "<style scoped>\n",
       "    .dataframe tbody tr th:only-of-type {\n",
       "        vertical-align: middle;\n",
       "    }\n",
       "\n",
       "    .dataframe tbody tr th {\n",
       "        vertical-align: top;\n",
       "    }\n",
       "\n",
       "    .dataframe thead th {\n",
       "        text-align: right;\n",
       "    }\n",
       "</style>\n",
       "<table border=\"1\" class=\"dataframe\">\n",
       "  <thead>\n",
       "    <tr style=\"text-align: right;\">\n",
       "      <th></th>\n",
       "      <th>arrtime</th>\n",
       "      <th>flightnum</th>\n",
       "    </tr>\n",
       "  </thead>\n",
       "  <tbody>\n",
       "    <tr>\n",
       "      <th>0</th>\n",
       "      <td>1341</td>\n",
       "      <td>2891</td>\n",
       "    </tr>\n",
       "    <tr>\n",
       "      <th>1</th>\n",
       "      <td>2043</td>\n",
       "      <td>462</td>\n",
       "    </tr>\n",
       "    <tr>\n",
       "      <th>2</th>\n",
       "      <td>2334</td>\n",
       "      <td>1229</td>\n",
       "    </tr>\n",
       "    <tr>\n",
       "      <th>3</th>\n",
       "      <td>1356</td>\n",
       "      <td>1355</td>\n",
       "    </tr>\n",
       "    <tr>\n",
       "      <th>4</th>\n",
       "      <td>0957</td>\n",
       "      <td>2278</td>\n",
       "    </tr>\n",
       "  </tbody>\n",
       "</table>\n",
       "</div>"
      ],
      "text/plain": [
       "  arrtime  flightnum\n",
       "0    1341       2891\n",
       "1    2043        462\n",
       "2    2334       1229\n",
       "3    1356       1355\n",
       "4    0957       2278"
      ]
     },
     "execution_count": 37,
     "metadata": {},
     "output_type": "execute_result"
    }
   ],
   "source": [
    "arrival_df = arrival_df.select(lpad(arrival_df['arrtime'],4,'0').alias('arrtime'),'flightnum')\n",
    "arrival_df.limit(100).toPandas().head(5)"
   ]
  },
  {
   "cell_type": "markdown",
   "metadata": {},
   "source": [
    "Now we can extract just the HH part from that column, and group by them."
   ]
  },
  {
   "cell_type": "code",
   "execution_count": 46,
   "metadata": {},
   "outputs": [
    {
     "data": {
      "text/html": [
       "<div>\n",
       "<style scoped>\n",
       "    .dataframe tbody tr th:only-of-type {\n",
       "        vertical-align: middle;\n",
       "    }\n",
       "\n",
       "    .dataframe tbody tr th {\n",
       "        vertical-align: top;\n",
       "    }\n",
       "\n",
       "    .dataframe thead th {\n",
       "        text-align: right;\n",
       "    }\n",
       "</style>\n",
       "<table border=\"1\" class=\"dataframe\">\n",
       "  <thead>\n",
       "    <tr style=\"text-align: right;\">\n",
       "      <th></th>\n",
       "      <th>arrtime</th>\n",
       "      <th>count</th>\n",
       "    </tr>\n",
       "  </thead>\n",
       "  <tbody>\n",
       "    <tr>\n",
       "      <th>1</th>\n",
       "      <td>00</td>\n",
       "      <td>191245</td>\n",
       "    </tr>\n",
       "    <tr>\n",
       "      <th>2</th>\n",
       "      <td>01</td>\n",
       "      <td>62934</td>\n",
       "    </tr>\n",
       "    <tr>\n",
       "      <th>3</th>\n",
       "      <td>02</td>\n",
       "      <td>20525</td>\n",
       "    </tr>\n",
       "    <tr>\n",
       "      <th>4</th>\n",
       "      <td>03</td>\n",
       "      <td>8095</td>\n",
       "    </tr>\n",
       "    <tr>\n",
       "      <th>5</th>\n",
       "      <td>04</td>\n",
       "      <td>16776</td>\n",
       "    </tr>\n",
       "  </tbody>\n",
       "</table>\n",
       "</div>"
      ],
      "text/plain": [
       "  arrtime   count\n",
       "1      00  191245\n",
       "2      01   62934\n",
       "3      02   20525\n",
       "4      03    8095\n",
       "5      04   16776"
      ]
     },
     "execution_count": 46,
     "metadata": {},
     "output_type": "execute_result"
    }
   ],
   "source": [
    "arrival_hour_df = arrival_df.withColumn('arrtime', substring('arrtime', 1, 2)).orderBy('arrtime', ascending=False)\n",
    "arrival_hour_grp = arrival_hour_df.groupBy('arrtime').count().orderBy('arrtime')\n",
    "# Quick filter to remove \"None\"\n",
    "p_arrival_hour_grp = arrival_hour_grp.toPandas()\n",
    "p_arrival_hour_grp = p_arrival_hour_grp[~p_arrival_hour_grp[\"arrtime\"].isna()]\n",
    "p_arrival_hour_grp.head(5)"
   ]
  },
  {
   "cell_type": "markdown",
   "metadata": {},
   "source": [
    "#### Departure times"
   ]
  },
  {
   "cell_type": "markdown",
   "metadata": {},
   "source": [
    "The same pipeline above applies for departure time. "
   ]
  },
  {
   "cell_type": "code",
   "execution_count": 47,
   "metadata": {},
   "outputs": [
    {
     "data": {
      "text/html": [
       "<div>\n",
       "<style scoped>\n",
       "    .dataframe tbody tr th:only-of-type {\n",
       "        vertical-align: middle;\n",
       "    }\n",
       "\n",
       "    .dataframe tbody tr th {\n",
       "        vertical-align: top;\n",
       "    }\n",
       "\n",
       "    .dataframe thead th {\n",
       "        text-align: right;\n",
       "    }\n",
       "</style>\n",
       "<table border=\"1\" class=\"dataframe\">\n",
       "  <thead>\n",
       "    <tr style=\"text-align: right;\">\n",
       "      <th></th>\n",
       "      <th>deptime</th>\n",
       "      <th>count</th>\n",
       "    </tr>\n",
       "  </thead>\n",
       "  <tbody>\n",
       "    <tr>\n",
       "      <th>1</th>\n",
       "      <td>00</td>\n",
       "      <td>44903</td>\n",
       "    </tr>\n",
       "    <tr>\n",
       "      <th>2</th>\n",
       "      <td>01</td>\n",
       "      <td>12655</td>\n",
       "    </tr>\n",
       "    <tr>\n",
       "      <th>3</th>\n",
       "      <td>02</td>\n",
       "      <td>4150</td>\n",
       "    </tr>\n",
       "    <tr>\n",
       "      <th>4</th>\n",
       "      <td>03</td>\n",
       "      <td>1525</td>\n",
       "    </tr>\n",
       "    <tr>\n",
       "      <th>5</th>\n",
       "      <td>04</td>\n",
       "      <td>6665</td>\n",
       "    </tr>\n",
       "  </tbody>\n",
       "</table>\n",
       "</div>"
      ],
      "text/plain": [
       "  deptime  count\n",
       "1      00  44903\n",
       "2      01  12655\n",
       "3      02   4150\n",
       "4      03   1525\n",
       "5      04   6665"
      ]
     },
     "execution_count": 47,
     "metadata": {},
     "output_type": "execute_result"
    }
   ],
   "source": [
    "# Converting the column ArrTime to string\n",
    "cols = [\"deptime\", \"flightnum\"]\n",
    "departure_df = aircraft_df[cols]\n",
    "# Also drop the rows that dont have departure times (woah!)\n",
    "departure_df.dropna()\n",
    "departure_df = departure_df.withColumn(\"deptime\", aircraft_df[\"deptime\"].cast(StringType()))\n",
    "departure_df = departure_df.select(lpad(departure_df['deptime'],4,'0').alias('deptime'),'flightnum')\n",
    "departure_hour_df = departure_df.withColumn('deptime', substring('deptime', 1, 2)).orderBy('deptime', ascending=False)\n",
    "departure_hour_grp = departure_hour_df.groupBy('deptime').count().orderBy('deptime')\n",
    "# Quick filter to remove \"None\"\n",
    "p_departure_hour_grp = departure_hour_grp.toPandas()\n",
    "p_departure_hour_grp = p_departure_hour_grp[~p_departure_hour_grp[\"deptime\"].isna()]\n",
    "p_departure_hour_grp.head(5)"
   ]
  },
  {
   "cell_type": "code",
   "execution_count": 50,
   "metadata": {},
   "outputs": [
    {
     "data": {
      "image/png": "[encoded data removed]",
      "text/plain": [
       "<Figure size 1152x360 with 2 Axes>"
      ]
     },
     "metadata": {},
     "output_type": "display_data"
    }
   ],
   "source": [
    "f, ax =plt.subplots(1, 2, figsize=(16, 5))\n",
    "\n",
    "g = sns.barplot(x=\"arrtime\", y=\"count\", data=p_arrival_hour_grp, ax=ax[0])\n",
    "g = sns.barplot(x=\"deptime\", y=\"count\", data=p_departure_hour_grp, ax=ax[1])\n",
    "\n",
    "t1 = ax[0].set_title(\"Distribution of flight arrival times over 24 hours\")\n",
    "t2 = ax[1].set_title(\"Distribution of flight departure times over 24 hours\")"
   ]
  },
  {
   "cell_type": "markdown",
   "metadata": {},
   "source": [
    "Post midnight till about 4 in the morning, flight arrival and departure activity is significantly lower."
   ]
  },
  {
   "cell_type": "markdown",
   "metadata": {},
   "source": [
    "### Q6 .Do you see the worst delays at any certain times of the day?\n",
    "Contrast DepTime, ArrTime with CRSDepTime, CRSArrTime (scheduled arrival and departure time; CRS is the Computer Reservation System)"
   ]
  },
  {
   "cell_type": "code",
   "execution_count": 51,
   "metadata": {},
   "outputs": [
    {
     "data": {
      "text/html": [
       "<div>\n",
       "<style scoped>\n",
       "    .dataframe tbody tr th:only-of-type {\n",
       "        vertical-align: middle;\n",
       "    }\n",
       "\n",
       "    .dataframe tbody tr th {\n",
       "        vertical-align: top;\n",
       "    }\n",
       "\n",
       "    .dataframe thead th {\n",
       "        text-align: right;\n",
       "    }\n",
       "</style>\n",
       "<table border=\"1\" class=\"dataframe\">\n",
       "  <thead>\n",
       "    <tr style=\"text-align: right;\">\n",
       "      <th></th>\n",
       "      <th>flightnum</th>\n",
       "      <th>arrtime</th>\n",
       "      <th>crsarrtime</th>\n",
       "      <th>deptime</th>\n",
       "      <th>crsdeptime</th>\n",
       "    </tr>\n",
       "  </thead>\n",
       "  <tbody>\n",
       "    <tr>\n",
       "      <th>0</th>\n",
       "      <td>2891</td>\n",
       "      <td>1341.0</td>\n",
       "      <td>1340</td>\n",
       "      <td>1232.0</td>\n",
       "      <td>1225</td>\n",
       "    </tr>\n",
       "    <tr>\n",
       "      <th>1</th>\n",
       "      <td>462</td>\n",
       "      <td>2043.0</td>\n",
       "      <td>2035</td>\n",
       "      <td>1918.0</td>\n",
       "      <td>1905</td>\n",
       "    </tr>\n",
       "    <tr>\n",
       "      <th>2</th>\n",
       "      <td>1229</td>\n",
       "      <td>2334.0</td>\n",
       "      <td>2300</td>\n",
       "      <td>2206.0</td>\n",
       "      <td>2130</td>\n",
       "    </tr>\n",
       "    <tr>\n",
       "      <th>3</th>\n",
       "      <td>1355</td>\n",
       "      <td>1356.0</td>\n",
       "      <td>1330</td>\n",
       "      <td>1230.0</td>\n",
       "      <td>1200</td>\n",
       "    </tr>\n",
       "    <tr>\n",
       "      <th>4</th>\n",
       "      <td>2278</td>\n",
       "      <td>957.0</td>\n",
       "      <td>1000</td>\n",
       "      <td>831.0</td>\n",
       "      <td>830</td>\n",
       "    </tr>\n",
       "  </tbody>\n",
       "</table>\n",
       "</div>"
      ],
      "text/plain": [
       "   flightnum  arrtime  crsarrtime  deptime  crsdeptime\n",
       "0       2891   1341.0        1340   1232.0        1225\n",
       "1        462   2043.0        2035   1918.0        1905\n",
       "2       1229   2334.0        2300   2206.0        2130\n",
       "3       1355   1356.0        1330   1230.0        1200\n",
       "4       2278    957.0        1000    831.0         830"
      ]
     },
     "execution_count": 51,
     "metadata": {},
     "output_type": "execute_result"
    }
   ],
   "source": [
    "cols_to_select = [\"flightnum\", \"arrtime\", \"crsarrtime\", \"deptime\", \"crsdeptime\"]\n",
    "aircraft_subset = aircraft_df[cols_to_select]\n",
    "aircraft_subset.limit(100).toPandas().head(5)"
   ]
  },
  {
   "cell_type": "markdown",
   "metadata": {},
   "source": [
    "The worst delays are the flights that had the maximum deviation from the CRS time specified. A difference between these two columns could prove insightful.\n",
    "\n",
    "If we want to see delays across a day, we can look at things in an hourly basis, and find the hour with the biggest distribution."
   ]
  },
  {
   "cell_type": "markdown",
   "metadata": {},
   "source": [
    "It also happens the CRS columns need to be cleaned and kept in the right format."
   ]
  },
  {
   "cell_type": "markdown",
   "metadata": {},
   "source": [
    "#### Arrival delays"
   ]
  },
  {
   "cell_type": "code",
   "execution_count": 74,
   "metadata": {},
   "outputs": [],
   "source": [
    "# Converting the column ArrTime to string\n",
    "cols = [\"flightnum\", \"arrdelay\", \"crsarrtime\"]\n",
    "arrival_df = aircraft_df[cols]\n",
    "arrival_df.dropna()\n",
    "\n",
    "arrival_df = arrival_df.withColumn(\"crsarrtime\", aircraft_df[\"crsarrtime\"].cast(StringType()))\n",
    "\n",
    "arrival_df = arrival_df.select(\"arrdelay\",\n",
    "                               lpad(arrival_df['crsarrtime'],4,'0').alias('crsarrtime'),\n",
    "                               'flightnum')"
   ]
  },
  {
   "cell_type": "markdown",
   "metadata": {},
   "source": [
    "Delays mean that the flight did not arrive earlier than the CRS time."
   ]
  },
  {
   "cell_type": "code",
   "execution_count": 75,
   "metadata": {},
   "outputs": [],
   "source": [
    "arrival_df = arrival_df[arrival_df[\"arrdelay\"] > 0]"
   ]
  },
  {
   "cell_type": "code",
   "execution_count": 76,
   "metadata": {},
   "outputs": [
    {
     "data": {
      "text/html": [
       "<div>\n",
       "<style scoped>\n",
       "    .dataframe tbody tr th:only-of-type {\n",
       "        vertical-align: middle;\n",
       "    }\n",
       "\n",
       "    .dataframe tbody tr th {\n",
       "        vertical-align: top;\n",
       "    }\n",
       "\n",
       "    .dataframe thead th {\n",
       "        text-align: right;\n",
       "    }\n",
       "</style>\n",
       "<table border=\"1\" class=\"dataframe\">\n",
       "  <thead>\n",
       "    <tr style=\"text-align: right;\">\n",
       "      <th></th>\n",
       "      <th>arrdelay</th>\n",
       "      <th>crsarrtime</th>\n",
       "      <th>flightnum</th>\n",
       "      <th>crsarrhours</th>\n",
       "      <th>crsarrminutes</th>\n",
       "    </tr>\n",
       "  </thead>\n",
       "  <tbody>\n",
       "    <tr>\n",
       "      <th>0</th>\n",
       "      <td>1</td>\n",
       "      <td>1340</td>\n",
       "      <td>2891</td>\n",
       "      <td>13</td>\n",
       "      <td>40</td>\n",
       "    </tr>\n",
       "    <tr>\n",
       "      <th>1</th>\n",
       "      <td>8</td>\n",
       "      <td>2035</td>\n",
       "      <td>462</td>\n",
       "      <td>20</td>\n",
       "      <td>35</td>\n",
       "    </tr>\n",
       "    <tr>\n",
       "      <th>2</th>\n",
       "      <td>34</td>\n",
       "      <td>2300</td>\n",
       "      <td>1229</td>\n",
       "      <td>23</td>\n",
       "      <td>00</td>\n",
       "    </tr>\n",
       "    <tr>\n",
       "      <th>3</th>\n",
       "      <td>26</td>\n",
       "      <td>1330</td>\n",
       "      <td>1355</td>\n",
       "      <td>13</td>\n",
       "      <td>30</td>\n",
       "    </tr>\n",
       "    <tr>\n",
       "      <th>4</th>\n",
       "      <td>3</td>\n",
       "      <td>1550</td>\n",
       "      <td>2386</td>\n",
       "      <td>15</td>\n",
       "      <td>50</td>\n",
       "    </tr>\n",
       "  </tbody>\n",
       "</table>\n",
       "</div>"
      ],
      "text/plain": [
       "   arrdelay crsarrtime  flightnum crsarrhours crsarrminutes\n",
       "0         1       1340       2891          13            40\n",
       "1         8       2035        462          20            35\n",
       "2        34       2300       1229          23            00\n",
       "3        26       1330       1355          13            30\n",
       "4         3       1550       2386          15            50"
      ]
     },
     "execution_count": 76,
     "metadata": {},
     "output_type": "execute_result"
    }
   ],
   "source": [
    "arrival_df = arrival_df.withColumn('crsarrhours', substring('crsarrtime', 1, 2))\n",
    "arrival_df = arrival_df.withColumn('crsarrminutes', substring('crsarrtime', 3, 4))\n",
    "\n",
    "arrival_df.limit(100).toPandas().head(5)"
   ]
  },
  {
   "cell_type": "code",
   "execution_count": 98,
   "metadata": {},
   "outputs": [],
   "source": [
    "arrdelay_grp = arrival_df.groupBy([\"crsarrhours\", \"crsarrminutes\"]).sum().toPandas()\n",
    "arrdelay_grp_max = arrdelay_grp.groupby(\"crsarrhours\", as_index=False).max()"
   ]
  },
  {
   "cell_type": "markdown",
   "metadata": {},
   "source": [
    "#### Departure delays"
   ]
  },
  {
   "cell_type": "markdown",
   "metadata": {},
   "source": [
    "The same pipeline applies to the departure delay dataframe as well."
   ]
  },
  {
   "cell_type": "code",
   "execution_count": 100,
   "metadata": {},
   "outputs": [],
   "source": [
    "# Converting the column ArrTime to string\n",
    "cols = [\"flightnum\", \"depdelay\", \"crsdeptime\"]\n",
    "departure_df = aircraft_df[cols]\n",
    "departure_df.dropna()\n",
    "\n",
    "departure_df = departure_df.withColumn(\"crsarrtime\", aircraft_df[\"crsdeptime\"].cast(StringType()))\n",
    "\n",
    "departure_df = departure_df.select(\"depdelay\",\n",
    "                               lpad(departure_df['crsdeptime'],4,'0').alias('crsdeptime'),\n",
    "                               'flightnum')\n",
    "\n",
    "departure_df = departure_df[departure_df[\"depdelay\"] > 0]\n",
    "\n",
    "departure_df = departure_df.withColumn('crsdephours', substring('crsdeptime', 1, 2))\n",
    "departure_df = departure_df.withColumn('crsdepminutes', substring('crsdeptime', 3, 4))\n",
    "\n",
    "depdelay_grp = departure_df.groupBy([\"crsdephours\", \"crsdepminutes\"]).sum().toPandas()\n",
    "depdelay_grp_max = depdelay_grp.groupby(\"crsdephours\", as_index=False).max()"
   ]
  },
  {
   "cell_type": "markdown",
   "metadata": {},
   "source": [
    "Visualise the distributions"
   ]
  },
  {
   "cell_type": "code",
   "execution_count": 104,
   "metadata": {},
   "outputs": [
    {
     "data": {
      "image/png": "[encoded data removed]",
      "text/plain": [
       "<Figure size 1440x1152 with 4 Axes>"
      ]
     },
     "metadata": {},
     "output_type": "display_data"
    }
   ],
   "source": [
    "f, ax = plt.subplots(2, 2, figsize=(20, 16))\n",
    "g1 = sns.boxplot(x=\"crsarrhours\", y=\"sum(arrdelay)\", data=arrdelay_grp, ax=ax[0][0])\n",
    "g1 = sns.barplot(x=\"crsarrhours\", y=\"sum(arrdelay)\", data=arrdelay_grp_max, ax=ax[0][1])\n",
    "g2 = sns.boxplot(x=\"crsdephours\", y=\"sum(depdelay)\", data=depdelay_grp, ax=ax[1][0])\n",
    "g2 = sns.barplot(x=\"crsdephours\", y=\"sum(depdelay)\", data=depdelay_grp_max, ax=ax[1][1])\n",
    "\n",
    "t1 = ax[0][0].set_title(\"Distribution of arrival delays over hour\")\n",
    "t2 = ax[0][1].set_title(\"Maximum arrival delays over hour\")\n",
    "t3 = ax[1][0].set_title(\"Distribution of departure delays over hour\")\n",
    "t4 = ax[1][1].set_title(\"Maximum departure delays over hour\")\n"
   ]
  }
 ],
 "metadata": {
  "kernelspec": {
   "display_name": "pySpark 2G 4e",
   "language": "python",
   "name": "pyspark2_2g"
  },
  "language_info": {
   "codemirror_mode": {
    "name": "ipython",
    "version": 3
   },
   "file_extension": ".py",
   "mimetype": "text/x-python",
   "name": "python",
   "nbconvert_exporter": "python",
   "pygments_lexer": "ipython3",
   "version": "3.6.4"
  }
 },
 "nbformat": 4,
 "nbformat_minor": 2
}
