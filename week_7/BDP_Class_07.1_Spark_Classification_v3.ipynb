{
 "cells": [
  {
   "cell_type": "markdown",
   "metadata": {
    "collapsed": true
   },
   "source": [
    "# Creating Classification Model in Spark ML"
   ]
  },
  {
   "cell_type": "markdown",
   "metadata": {},
   "source": [
    "In this notebook, we will utilize Spark's Machine Learning library to build a logistic regression model that helps to predict default likelihood using the Lending Club loan data."
   ]
  },
  {
   "cell_type": "code",
   "execution_count": 1,
   "metadata": {},
   "outputs": [
    {
     "name": "stdout",
     "output_type": "stream",
     "text": [
      "3.6.4 |Anaconda custom (64-bit)| (default, Mar 13 2018, 01:15:57) \n",
      "[GCC 7.2.0]\n"
     ]
    }
   ],
   "source": [
    "import sys\n",
    "print(sys.version)"
   ]
  },
  {
   "cell_type": "code",
   "execution_count": 2,
   "metadata": {},
   "outputs": [
    {
     "name": "stdout",
     "output_type": "stream",
     "text": [
      "2.2.0-cdh6.0.0\n"
     ]
    }
   ],
   "source": [
    "print(spark.version)"
   ]
  },
  {
   "cell_type": "code",
   "execution_count": 3,
   "metadata": {},
   "outputs": [],
   "source": [
    "import pandas as pd\n",
    "import numpy as np\n",
    "\n",
    "from pyspark.ml import Pipeline\n",
    "from pyspark.ml.feature import OneHotEncoder, StringIndexer, VectorAssembler\n",
    "# from pyspark.ml.feature import OneHotEncoderEstimator\n",
    "# OneHotEncoderEstimator is available starting from Spark 2.3\n",
    "from pyspark.ml.classification import LogisticRegression, LogisticRegressionModel\n",
    "from pyspark.ml.evaluation import BinaryClassificationEvaluator\n",
    "\n",
    "from pyspark.sql.functions import *\n",
    "from pyspark.sql.types import *"
   ]
  },
  {
   "cell_type": "markdown",
   "metadata": {},
   "source": [
    "###  Step 1.  Read from CSV into Spark DF"
   ]
  },
  {
   "cell_type": "code",
   "execution_count": 4,
   "metadata": {},
   "outputs": [
    {
     "name": "stdout",
     "output_type": "stream",
     "text": [
      "total 8480\r\n",
      "-rwxr-xr-x 1 kadochnikov kadochnikov 3974305 Apr 26  2018 adult_data.csv\r\n",
      "-rwxr-xr-x 1 kadochnikov kadochnikov 2003153 Apr 26  2018 adult_test.csv\r\n",
      "-rwxr-xr-x 1 kadochnikov kadochnikov    3861 Apr 26  2018 Advertising.csv\r\n",
      "-rwxr-xr-x 1 kadochnikov kadochnikov   26585 Apr 26  2018 Credit.csv\r\n",
      "-rwxr-xr-x 1 kadochnikov kadochnikov 2484483 Apr 26  2018 loan_sub_new.csv\r\n",
      "drwxr-xr-x 3 kadochnikov kadochnikov     512 Apr 30  2018 models\r\n",
      "-rwxr-xr-x 1 kadochnikov kadochnikov   84143 Apr 26  2018 WineData.csv\r\n"
     ]
    }
   ],
   "source": [
    "!ls -l '/project/msca/kadochnikov/data/spark'"
   ]
  },
  {
   "cell_type": "code",
   "execution_count": 5,
   "metadata": {},
   "outputs": [
    {
     "data": {
      "text/html": [
       "<div>\n",
       "<style scoped>\n",
       "    .dataframe tbody tr th:only-of-type {\n",
       "        vertical-align: middle;\n",
       "    }\n",
       "\n",
       "    .dataframe tbody tr th {\n",
       "        vertical-align: top;\n",
       "    }\n",
       "\n",
       "    .dataframe thead th {\n",
       "        text-align: right;\n",
       "    }\n",
       "</style>\n",
       "<table border=\"1\" class=\"dataframe\">\n",
       "  <thead>\n",
       "    <tr style=\"text-align: right;\">\n",
       "      <th></th>\n",
       "      <th>ID</th>\n",
       "      <th>MEMBER_ID</th>\n",
       "      <th>LOAN_STATUS</th>\n",
       "      <th>LOAN_AMNT</th>\n",
       "      <th>TERM</th>\n",
       "      <th>INT_RATE</th>\n",
       "      <th>VERIFICATION_STATUS</th>\n",
       "      <th>PURPOSE</th>\n",
       "      <th>POLICY_CODE</th>\n",
       "      <th>APPLICATION_TYPE</th>\n",
       "      <th>...</th>\n",
       "      <th>DELINQ_2YRS</th>\n",
       "      <th>MTHS_SINCE_LAST_DELINQ</th>\n",
       "      <th>TOTAL_ACC</th>\n",
       "      <th>INQ_LAST_6MTHS</th>\n",
       "      <th>MTHS_SINCE_LAST_RECORD</th>\n",
       "      <th>OPEN_ACC</th>\n",
       "      <th>PUB_REC</th>\n",
       "      <th>COLLECTIONS_12_MTHS_EX_MED</th>\n",
       "      <th>ACC_NOW_DELINQ</th>\n",
       "      <th>DEFAULT</th>\n",
       "    </tr>\n",
       "  </thead>\n",
       "  <tbody>\n",
       "    <tr>\n",
       "      <th>0</th>\n",
       "      <td>1068545</td>\n",
       "      <td>1303147</td>\n",
       "      <td>Fully Paid</td>\n",
       "      <td>7000</td>\n",
       "      <td>36 months</td>\n",
       "      <td>11.71</td>\n",
       "      <td>Not Verified</td>\n",
       "      <td>debt_consolidation</td>\n",
       "      <td>1</td>\n",
       "      <td>INDIVIDUAL</td>\n",
       "      <td>...</td>\n",
       "      <td>0</td>\n",
       "      <td>26</td>\n",
       "      <td>26</td>\n",
       "      <td>0</td>\n",
       "      <td>33</td>\n",
       "      <td>8</td>\n",
       "      <td>1</td>\n",
       "      <td>0</td>\n",
       "      <td>0</td>\n",
       "      <td>non-default</td>\n",
       "    </tr>\n",
       "    <tr>\n",
       "      <th>1</th>\n",
       "      <td>1062177</td>\n",
       "      <td>1294027</td>\n",
       "      <td>Fully Paid</td>\n",
       "      <td>15000</td>\n",
       "      <td>36 months</td>\n",
       "      <td>17.27</td>\n",
       "      <td>Source Verified</td>\n",
       "      <td>59.83</td>\n",
       "      <td>1</td>\n",
       "      <td>INDIVIDUAL</td>\n",
       "      <td>...</td>\n",
       "      <td>1</td>\n",
       "      <td>18</td>\n",
       "      <td>16</td>\n",
       "      <td>0</td>\n",
       "      <td>93</td>\n",
       "      <td>6</td>\n",
       "      <td>1</td>\n",
       "      <td>0</td>\n",
       "      <td>0</td>\n",
       "      <td>non-default</td>\n",
       "    </tr>\n",
       "    <tr>\n",
       "      <th>2</th>\n",
       "      <td>1066424</td>\n",
       "      <td>1291243</td>\n",
       "      <td>Fully Paid</td>\n",
       "      <td>5500</td>\n",
       "      <td>36 months</td>\n",
       "      <td>7.90</td>\n",
       "      <td>Source Verified</td>\n",
       "      <td>car</td>\n",
       "      <td>1</td>\n",
       "      <td>INDIVIDUAL</td>\n",
       "      <td>...</td>\n",
       "      <td>0</td>\n",
       "      <td>35</td>\n",
       "      <td>23</td>\n",
       "      <td>0</td>\n",
       "      <td>52</td>\n",
       "      <td>10</td>\n",
       "      <td>1</td>\n",
       "      <td>0</td>\n",
       "      <td>0</td>\n",
       "      <td>non-default</td>\n",
       "    </tr>\n",
       "    <tr>\n",
       "      <th>3</th>\n",
       "      <td>1064908</td>\n",
       "      <td>1298959</td>\n",
       "      <td>Fully Paid</td>\n",
       "      <td>9000</td>\n",
       "      <td>36 months</td>\n",
       "      <td>14.65</td>\n",
       "      <td>Source Verified</td>\n",
       "      <td>debt_consolidation</td>\n",
       "      <td>1</td>\n",
       "      <td>INDIVIDUAL</td>\n",
       "      <td>...</td>\n",
       "      <td>1</td>\n",
       "      <td>20</td>\n",
       "      <td>51</td>\n",
       "      <td>1</td>\n",
       "      <td>85</td>\n",
       "      <td>21</td>\n",
       "      <td>1</td>\n",
       "      <td>0</td>\n",
       "      <td>0</td>\n",
       "      <td>non-default</td>\n",
       "    </tr>\n",
       "    <tr>\n",
       "      <th>4</th>\n",
       "      <td>1064623</td>\n",
       "      <td>1298440</td>\n",
       "      <td>Fully Paid</td>\n",
       "      <td>5600</td>\n",
       "      <td>36 months</td>\n",
       "      <td>10.65</td>\n",
       "      <td>Not Verified</td>\n",
       "      <td>debt_consolidation</td>\n",
       "      <td>1</td>\n",
       "      <td>INDIVIDUAL</td>\n",
       "      <td>...</td>\n",
       "      <td>1</td>\n",
       "      <td>4</td>\n",
       "      <td>25</td>\n",
       "      <td>0</td>\n",
       "      <td>90</td>\n",
       "      <td>11</td>\n",
       "      <td>1</td>\n",
       "      <td>0</td>\n",
       "      <td>0</td>\n",
       "      <td>non-default</td>\n",
       "    </tr>\n",
       "  </tbody>\n",
       "</table>\n",
       "<p>5 rows × 24 columns</p>\n",
       "</div>"
      ],
      "text/plain": [
       "        ID  MEMBER_ID LOAN_STATUS  LOAN_AMNT        TERM  INT_RATE  \\\n",
       "0  1068545    1303147  Fully Paid       7000   36 months     11.71   \n",
       "1  1062177    1294027  Fully Paid      15000   36 months     17.27   \n",
       "2  1066424    1291243  Fully Paid       5500   36 months      7.90   \n",
       "3  1064908    1298959  Fully Paid       9000   36 months     14.65   \n",
       "4  1064623    1298440  Fully Paid       5600   36 months     10.65   \n",
       "\n",
       "  VERIFICATION_STATUS             PURPOSE  POLICY_CODE APPLICATION_TYPE  \\\n",
       "0        Not Verified  debt_consolidation            1       INDIVIDUAL   \n",
       "1     Source Verified               59.83            1       INDIVIDUAL   \n",
       "2     Source Verified                 car            1       INDIVIDUAL   \n",
       "3     Source Verified  debt_consolidation            1       INDIVIDUAL   \n",
       "4        Not Verified  debt_consolidation            1       INDIVIDUAL   \n",
       "\n",
       "      ...      DELINQ_2YRS  MTHS_SINCE_LAST_DELINQ TOTAL_ACC  INQ_LAST_6MTHS  \\\n",
       "0     ...                0                      26        26               0   \n",
       "1     ...                1                      18        16               0   \n",
       "2     ...                0                      35        23               0   \n",
       "3     ...                1                      20        51               1   \n",
       "4     ...                1                       4        25               0   \n",
       "\n",
       "   MTHS_SINCE_LAST_RECORD  OPEN_ACC  PUB_REC  COLLECTIONS_12_MTHS_EX_MED  \\\n",
       "0                      33         8        1                           0   \n",
       "1                      93         6        1                           0   \n",
       "2                      52        10        1                           0   \n",
       "3                      85        21        1                           0   \n",
       "4                      90        11        1                           0   \n",
       "\n",
       "   ACC_NOW_DELINQ      DEFAULT  \n",
       "0               0  non-default  \n",
       "1               0  non-default  \n",
       "2               0  non-default  \n",
       "3               0  non-default  \n",
       "4               0  non-default  \n",
       "\n",
       "[5 rows x 24 columns]"
      ]
     },
     "execution_count": 5,
     "metadata": {},
     "output_type": "execute_result"
    }
   ],
   "source": [
    "#Pull the dataset from Linux directory\n",
    "df10 = spark.read.csv('file:///project/msca/kadochnikov/data/spark/loan_sub_new.csv', header=True, inferSchema=True)\n",
    "df10.cache()\n",
    "df10.limit(100).toPandas().head(5)"
   ]
  },
  {
   "cell_type": "markdown",
   "metadata": {},
   "source": [
    "### Step 2 - Run basic Exploratory Data Analysis"
   ]
  },
  {
   "cell_type": "code",
   "execution_count": 6,
   "metadata": {},
   "outputs": [],
   "source": [
    "#Lowcase column names\n",
    "df20 = df10.toDF(*[c.lower() for c in df10.columns])"
   ]
  },
  {
   "cell_type": "code",
   "execution_count": 7,
   "metadata": {},
   "outputs": [
    {
     "name": "stdout",
     "output_type": "stream",
     "text": [
      "root\n",
      " |-- id: integer (nullable = true)\n",
      " |-- member_id: integer (nullable = true)\n",
      " |-- loan_status: string (nullable = true)\n",
      " |-- loan_amnt: integer (nullable = true)\n",
      " |-- term: string (nullable = true)\n",
      " |-- int_rate: double (nullable = true)\n",
      " |-- verification_status: string (nullable = true)\n",
      " |-- purpose: string (nullable = true)\n",
      " |-- policy_code: integer (nullable = true)\n",
      " |-- application_type: string (nullable = true)\n",
      " |-- home_ownership: string (nullable = true)\n",
      " |-- annual_inc: double (nullable = true)\n",
      " |-- addr_state: string (nullable = true)\n",
      " |-- dti: double (nullable = true)\n",
      " |-- delinq_2yrs: integer (nullable = true)\n",
      " |-- mths_since_last_delinq: integer (nullable = true)\n",
      " |-- total_acc: integer (nullable = true)\n",
      " |-- inq_last_6mths: integer (nullable = true)\n",
      " |-- mths_since_last_record: integer (nullable = true)\n",
      " |-- open_acc: integer (nullable = true)\n",
      " |-- pub_rec: integer (nullable = true)\n",
      " |-- collections_12_mths_ex_med: integer (nullable = true)\n",
      " |-- acc_now_delinq: integer (nullable = true)\n",
      " |-- default: string (nullable = true)\n",
      "\n"
     ]
    }
   ],
   "source": [
    "df20.printSchema()"
   ]
  },
  {
   "cell_type": "code",
   "execution_count": 8,
   "metadata": {},
   "outputs": [
    {
     "name": "stdout",
     "output_type": "stream",
     "text": [
      "+-------+------------------+\n",
      "|summary|         loan_amnt|\n",
      "+-------+------------------+\n",
      "|  count|             16733|\n",
      "|   mean|11754.677882029522|\n",
      "| stddev| 7157.199683129913|\n",
      "|    min|               500|\n",
      "|    max|             35000|\n",
      "+-------+------------------+\n",
      "\n"
     ]
    }
   ],
   "source": [
    "df20.describe(['loan_amnt']).show()"
   ]
  },
  {
   "cell_type": "code",
   "execution_count": 9,
   "metadata": {},
   "outputs": [
    {
     "data": {
      "text/html": [
       "<div>\n",
       "<style scoped>\n",
       "    .dataframe tbody tr th:only-of-type {\n",
       "        vertical-align: middle;\n",
       "    }\n",
       "\n",
       "    .dataframe tbody tr th {\n",
       "        vertical-align: top;\n",
       "    }\n",
       "\n",
       "    .dataframe thead th {\n",
       "        text-align: right;\n",
       "    }\n",
       "</style>\n",
       "<table border=\"1\" class=\"dataframe\">\n",
       "  <thead>\n",
       "    <tr style=\"text-align: right;\">\n",
       "      <th></th>\n",
       "      <th>id</th>\n",
       "      <th>member_id</th>\n",
       "      <th>loan_status</th>\n",
       "      <th>loan_amnt</th>\n",
       "      <th>term</th>\n",
       "      <th>int_rate</th>\n",
       "      <th>verification_status</th>\n",
       "      <th>purpose</th>\n",
       "      <th>policy_code</th>\n",
       "      <th>application_type</th>\n",
       "      <th>home_ownership</th>\n",
       "      <th>annual_inc</th>\n",
       "      <th>addr_state</th>\n",
       "      <th>dti</th>\n",
       "      <th>delinq_2yrs</th>\n",
       "      <th>mths_since_last_delinq</th>\n",
       "      <th>total_acc</th>\n",
       "      <th>inq_last_6mths</th>\n",
       "      <th>mths_since_last_record</th>\n",
       "      <th>open_acc</th>\n",
       "      <th>pub_rec</th>\n",
       "      <th>collections_12_mths_ex_med</th>\n",
       "      <th>acc_now_delinq</th>\n",
       "      <th>default</th>\n",
       "    </tr>\n",
       "  </thead>\n",
       "  <tbody>\n",
       "    <tr>\n",
       "      <th>0</th>\n",
       "      <td>1068545</td>\n",
       "      <td>1303147</td>\n",
       "      <td>Fully Paid</td>\n",
       "      <td>7000</td>\n",
       "      <td>36 months</td>\n",
       "      <td>11.71</td>\n",
       "      <td>Not Verified</td>\n",
       "      <td>debt_consolidation</td>\n",
       "      <td>1</td>\n",
       "      <td>INDIVIDUAL</td>\n",
       "      <td>OWN</td>\n",
       "      <td>39120.0</td>\n",
       "      <td>FL</td>\n",
       "      <td>21.01</td>\n",
       "      <td>0</td>\n",
       "      <td>26</td>\n",
       "      <td>26</td>\n",
       "      <td>0</td>\n",
       "      <td>33</td>\n",
       "      <td>8</td>\n",
       "      <td>1</td>\n",
       "      <td>0</td>\n",
       "      <td>0</td>\n",
       "      <td>non-default</td>\n",
       "    </tr>\n",
       "    <tr>\n",
       "      <th>1</th>\n",
       "      <td>1062177</td>\n",
       "      <td>1294027</td>\n",
       "      <td>Fully Paid</td>\n",
       "      <td>15000</td>\n",
       "      <td>36 months</td>\n",
       "      <td>17.27</td>\n",
       "      <td>Source Verified</td>\n",
       "      <td>59.83</td>\n",
       "      <td>1</td>\n",
       "      <td>INDIVIDUAL</td>\n",
       "      <td>MORTGAGE</td>\n",
       "      <td>44400.0</td>\n",
       "      <td>FL</td>\n",
       "      <td>3.59</td>\n",
       "      <td>1</td>\n",
       "      <td>18</td>\n",
       "      <td>16</td>\n",
       "      <td>0</td>\n",
       "      <td>93</td>\n",
       "      <td>6</td>\n",
       "      <td>1</td>\n",
       "      <td>0</td>\n",
       "      <td>0</td>\n",
       "      <td>non-default</td>\n",
       "    </tr>\n",
       "    <tr>\n",
       "      <th>2</th>\n",
       "      <td>1066424</td>\n",
       "      <td>1291243</td>\n",
       "      <td>Fully Paid</td>\n",
       "      <td>5500</td>\n",
       "      <td>36 months</td>\n",
       "      <td>7.90</td>\n",
       "      <td>Source Verified</td>\n",
       "      <td>car</td>\n",
       "      <td>1</td>\n",
       "      <td>INDIVIDUAL</td>\n",
       "      <td>OWN</td>\n",
       "      <td>59000.0</td>\n",
       "      <td>PA</td>\n",
       "      <td>6.65</td>\n",
       "      <td>0</td>\n",
       "      <td>35</td>\n",
       "      <td>23</td>\n",
       "      <td>0</td>\n",
       "      <td>52</td>\n",
       "      <td>10</td>\n",
       "      <td>1</td>\n",
       "      <td>0</td>\n",
       "      <td>0</td>\n",
       "      <td>non-default</td>\n",
       "    </tr>\n",
       "    <tr>\n",
       "      <th>3</th>\n",
       "      <td>1064908</td>\n",
       "      <td>1298959</td>\n",
       "      <td>Fully Paid</td>\n",
       "      <td>9000</td>\n",
       "      <td>36 months</td>\n",
       "      <td>14.65</td>\n",
       "      <td>Source Verified</td>\n",
       "      <td>debt_consolidation</td>\n",
       "      <td>1</td>\n",
       "      <td>INDIVIDUAL</td>\n",
       "      <td>RENT</td>\n",
       "      <td>45000.0</td>\n",
       "      <td>NY</td>\n",
       "      <td>17.01</td>\n",
       "      <td>1</td>\n",
       "      <td>20</td>\n",
       "      <td>51</td>\n",
       "      <td>1</td>\n",
       "      <td>85</td>\n",
       "      <td>21</td>\n",
       "      <td>1</td>\n",
       "      <td>0</td>\n",
       "      <td>0</td>\n",
       "      <td>non-default</td>\n",
       "    </tr>\n",
       "    <tr>\n",
       "      <th>4</th>\n",
       "      <td>1064623</td>\n",
       "      <td>1298440</td>\n",
       "      <td>Fully Paid</td>\n",
       "      <td>5600</td>\n",
       "      <td>36 months</td>\n",
       "      <td>10.65</td>\n",
       "      <td>Not Verified</td>\n",
       "      <td>debt_consolidation</td>\n",
       "      <td>1</td>\n",
       "      <td>INDIVIDUAL</td>\n",
       "      <td>RENT</td>\n",
       "      <td>60000.0</td>\n",
       "      <td>CA</td>\n",
       "      <td>16.36</td>\n",
       "      <td>1</td>\n",
       "      <td>4</td>\n",
       "      <td>25</td>\n",
       "      <td>0</td>\n",
       "      <td>90</td>\n",
       "      <td>11</td>\n",
       "      <td>1</td>\n",
       "      <td>0</td>\n",
       "      <td>0</td>\n",
       "      <td>non-default</td>\n",
       "    </tr>\n",
       "  </tbody>\n",
       "</table>\n",
       "</div>"
      ],
      "text/plain": [
       "        id  member_id loan_status  loan_amnt        term  int_rate  \\\n",
       "0  1068545    1303147  Fully Paid       7000   36 months     11.71   \n",
       "1  1062177    1294027  Fully Paid      15000   36 months     17.27   \n",
       "2  1066424    1291243  Fully Paid       5500   36 months      7.90   \n",
       "3  1064908    1298959  Fully Paid       9000   36 months     14.65   \n",
       "4  1064623    1298440  Fully Paid       5600   36 months     10.65   \n",
       "\n",
       "  verification_status             purpose  policy_code application_type  \\\n",
       "0        Not Verified  debt_consolidation            1       INDIVIDUAL   \n",
       "1     Source Verified               59.83            1       INDIVIDUAL   \n",
       "2     Source Verified                 car            1       INDIVIDUAL   \n",
       "3     Source Verified  debt_consolidation            1       INDIVIDUAL   \n",
       "4        Not Verified  debt_consolidation            1       INDIVIDUAL   \n",
       "\n",
       "  home_ownership  annual_inc addr_state    dti  delinq_2yrs  \\\n",
       "0            OWN     39120.0         FL  21.01            0   \n",
       "1       MORTGAGE     44400.0         FL   3.59            1   \n",
       "2            OWN     59000.0         PA   6.65            0   \n",
       "3           RENT     45000.0         NY  17.01            1   \n",
       "4           RENT     60000.0         CA  16.36            1   \n",
       "\n",
       "   mths_since_last_delinq  total_acc  inq_last_6mths  mths_since_last_record  \\\n",
       "0                      26         26               0                      33   \n",
       "1                      18         16               0                      93   \n",
       "2                      35         23               0                      52   \n",
       "3                      20         51               1                      85   \n",
       "4                       4         25               0                      90   \n",
       "\n",
       "   open_acc  pub_rec  collections_12_mths_ex_med  acc_now_delinq      default  \n",
       "0         8        1                           0               0  non-default  \n",
       "1         6        1                           0               0  non-default  \n",
       "2        10        1                           0               0  non-default  \n",
       "3        21        1                           0               0  non-default  \n",
       "4        11        1                           0               0  non-default  "
      ]
     },
     "execution_count": 9,
     "metadata": {},
     "output_type": "execute_result"
    }
   ],
   "source": [
    "pd.set_option('max_rows',10)\n",
    "pd.set_option('max_columns',100)\n",
    "\n",
    "df20.limit(5).toPandas().head()"
   ]
  },
  {
   "cell_type": "markdown",
   "metadata": {},
   "source": [
    "### Step 2: Preprocess Data\n",
    "\n",
    "#### 2.1. Convert categorical variables into dummy variables\n",
    "\n",
    "Since we are going to try algorithms like Logistic Regression, we will have to convert the categorical variables in the dataset into numeric variables. We will use One-Hot Encoding to convert categories into binary vectors with at most one nonzero value (eg: (Blue: [1, 0]), (Green: [0, 1]), (Red: [0, 0]))."
   ]
  },
  {
   "cell_type": "code",
   "execution_count": 10,
   "metadata": {},
   "outputs": [
    {
     "data": {
      "text/plain": [
       "['term', 'verification_status', 'purpose', 'home_ownership', 'addr_state']"
      ]
     },
     "execution_count": 10,
     "metadata": {},
     "output_type": "execute_result"
    }
   ],
   "source": [
    "categorical_all = [item[0] for item in df20.dtypes if item[1].startswith('string')]\n",
    "categorical_exclude = ['loan_status', 'application_type', 'default']\n",
    "categoricalColumns = [c for c in categorical_all if c not in categorical_exclude]\n",
    "categoricalColumns"
   ]
  },
  {
   "cell_type": "markdown",
   "metadata": {},
   "source": [
    "One-hot encoding maps a column of label indices to a column of binary vectors, with at most a single one-value. This encoding allows algorithms which expect continuous features, such as Logistic Regression, to use categorical features.  \n",
    "https://spark.apache.org/docs/2.2.0/ml-features.html#onehotencoder"
   ]
  },
  {
   "cell_type": "code",
   "execution_count": 11,
   "metadata": {},
   "outputs": [],
   "source": [
    "###One-Hot Encoding\n",
    "\n",
    "stages = [] # stages in our Pipeline\n",
    "for categoricalCol in categoricalColumns:\n",
    "    stringIndexer = StringIndexer(inputCol=categoricalCol, outputCol=categoricalCol+\"Index\")\n",
    "    encoder = OneHotEncoder(inputCol=categoricalCol+\"Index\", outputCol=categoricalCol+\"classVec\")\n",
    "    stages += [stringIndexer, encoder] "
   ]
  },
  {
   "cell_type": "markdown",
   "metadata": {},
   "source": [
    "Spark MLlib represents ML workflow as a Pipeline, which consists of a sequence of PipelineStages (Transformers and Estimators) to be run in a specific order.  They are specified as an ordered array and work as Directed Acyclic Graph (DAG)  \n",
    "https://spark.apache.org/docs/2.2.0/ml-pipeline.html"
   ]
  },
  {
   "cell_type": "code",
   "execution_count": 12,
   "metadata": {},
   "outputs": [
    {
     "data": {
      "text/plain": [
       "[StringIndexer_428db9e4d9b18d1a6a6a,\n",
       " OneHotEncoder_4ee8bc75fbb3e067786e,\n",
       " StringIndexer_4fa095dde910e42d3946,\n",
       " OneHotEncoder_46eeaebf7ca685257901,\n",
       " StringIndexer_4b519a30654166ed4454,\n",
       " OneHotEncoder_4084ad7a4a86696c54b2,\n",
       " StringIndexer_46929b84f28c4fd824d6,\n",
       " OneHotEncoder_4206b4d52ed11745a173,\n",
       " StringIndexer_4b2889ad12e8a50aeb7d,\n",
       " OneHotEncoder_4d948859f9ab929dcc68]"
      ]
     },
     "execution_count": 12,
     "metadata": {},
     "output_type": "execute_result"
    }
   ],
   "source": [
    "stages"
   ]
  },
  {
   "cell_type": "markdown",
   "metadata": {},
   "source": [
    "#### 2.2 Convert target variable into label indices\n",
    "StringIndexer encodes a string column of labels to a column of label indices. The indices are in [0, numLabels), ordered by label frequencies, so the most frequent label gets index 0  \n",
    "https://spark.apache.org/docs/2.2.0/ml-features.html#stringindexer"
   ]
  },
  {
   "cell_type": "code",
   "execution_count": 13,
   "metadata": {},
   "outputs": [],
   "source": [
    "# Convert label into label indices using the StringIndexer\n",
    "\n",
    "label_stringIdx = StringIndexer(inputCol = \"default\", outputCol = \"label\")\n",
    "stages += [label_stringIdx]"
   ]
  },
  {
   "cell_type": "code",
   "execution_count": 14,
   "metadata": {},
   "outputs": [
    {
     "data": {
      "text/plain": [
       "[StringIndexer_428db9e4d9b18d1a6a6a,\n",
       " OneHotEncoder_4ee8bc75fbb3e067786e,\n",
       " StringIndexer_4fa095dde910e42d3946,\n",
       " OneHotEncoder_46eeaebf7ca685257901,\n",
       " StringIndexer_4b519a30654166ed4454,\n",
       " OneHotEncoder_4084ad7a4a86696c54b2,\n",
       " StringIndexer_46929b84f28c4fd824d6,\n",
       " OneHotEncoder_4206b4d52ed11745a173,\n",
       " StringIndexer_4b2889ad12e8a50aeb7d,\n",
       " OneHotEncoder_4d948859f9ab929dcc68,\n",
       " StringIndexer_4cd7ad963f7464c078ce]"
      ]
     },
     "execution_count": 14,
     "metadata": {},
     "output_type": "execute_result"
    }
   ],
   "source": [
    "stages"
   ]
  },
  {
   "cell_type": "markdown",
   "metadata": {},
   "source": [
    "#### 2.3 Transform all features into a vector using VectorAssembler\n",
    "VectorAssembler is a transformer that combines a given list of columns into a single vector column. It is useful for combining raw features and features generated by different feature transformers into a single feature vector, in order to train ML models like logistic regression and decision trees.  "
   ]
  },
  {
   "cell_type": "code",
   "execution_count": 15,
   "metadata": {},
   "outputs": [
    {
     "data": {
      "text/plain": [
       "['loan_amnt',\n",
       " 'int_rate',\n",
       " 'annual_inc',\n",
       " 'dti',\n",
       " 'delinq_2yrs',\n",
       " 'mths_since_last_delinq',\n",
       " 'total_acc',\n",
       " 'inq_last_6mths',\n",
       " 'mths_since_last_record',\n",
       " 'open_acc',\n",
       " 'pub_rec',\n",
       " 'collections_12_mths_ex_med',\n",
       " 'acc_now_delinq']"
      ]
     },
     "execution_count": 15,
     "metadata": {},
     "output_type": "execute_result"
    }
   ],
   "source": [
    "numeric_all = [item[0] for item in df20.dtypes if not item[1].startswith('string')]\n",
    "numeric_exclude = ['id', 'member_id', 'default', 'policy_code']\n",
    "numericCols = [c for c in numeric_all if c not in numeric_exclude]\n",
    "numericCols"
   ]
  },
  {
   "cell_type": "markdown",
   "metadata": {},
   "source": [
    "In simple terms: we are combining the values from all predictors / variables into a single variable called \"features\"\n",
    "https://spark.apache.org/docs/2.2.0/ml-features.html#vectorassembler"
   ]
  },
  {
   "cell_type": "code",
   "execution_count": 16,
   "metadata": {},
   "outputs": [],
   "source": [
    "assemblerInputs = list(map(lambda c: c + \"classVec\", categoricalColumns)) + numericCols\n",
    "assembler = VectorAssembler(inputCols=assemblerInputs, outputCol=\"features\")\n",
    "stages += [assembler]"
   ]
  },
  {
   "cell_type": "code",
   "execution_count": 17,
   "metadata": {},
   "outputs": [
    {
     "data": {
      "text/plain": [
       "[StringIndexer_428db9e4d9b18d1a6a6a,\n",
       " OneHotEncoder_4ee8bc75fbb3e067786e,\n",
       " StringIndexer_4fa095dde910e42d3946,\n",
       " OneHotEncoder_46eeaebf7ca685257901,\n",
       " StringIndexer_4b519a30654166ed4454,\n",
       " OneHotEncoder_4084ad7a4a86696c54b2,\n",
       " StringIndexer_46929b84f28c4fd824d6,\n",
       " OneHotEncoder_4206b4d52ed11745a173,\n",
       " StringIndexer_4b2889ad12e8a50aeb7d,\n",
       " OneHotEncoder_4d948859f9ab929dcc68,\n",
       " StringIndexer_4cd7ad963f7464c078ce,\n",
       " VectorAssembler_4381af31fcdf46de7fea]"
      ]
     },
     "execution_count": 17,
     "metadata": {},
     "output_type": "execute_result"
    }
   ],
   "source": [
    "stages"
   ]
  },
  {
   "cell_type": "markdown",
   "metadata": {},
   "source": [
    "#### 2.4 Run Pipeline"
   ]
  },
  {
   "cell_type": "code",
   "execution_count": 18,
   "metadata": {},
   "outputs": [],
   "source": [
    "# Create a Pipeline.\n",
    "pipeline = Pipeline(stages=stages)\n",
    "\n",
    "# Run the feature transformations.\n",
    "#  - fit() computes feature statistics as needed.\n",
    "pipelineModel = pipeline.fit(df20)\n",
    "\n",
    "#  - transform() actually transforms the features.\n",
    "df30 = pipelineModel.transform(df20)"
   ]
  },
  {
   "cell_type": "code",
   "execution_count": 19,
   "metadata": {},
   "outputs": [
    {
     "data": {
      "text/html": [
       "<div>\n",
       "<style scoped>\n",
       "    .dataframe tbody tr th:only-of-type {\n",
       "        vertical-align: middle;\n",
       "    }\n",
       "\n",
       "    .dataframe tbody tr th {\n",
       "        vertical-align: top;\n",
       "    }\n",
       "\n",
       "    .dataframe thead th {\n",
       "        text-align: right;\n",
       "    }\n",
       "</style>\n",
       "<table border=\"1\" class=\"dataframe\">\n",
       "  <thead>\n",
       "    <tr style=\"text-align: right;\">\n",
       "      <th></th>\n",
       "      <th>id</th>\n",
       "      <th>member_id</th>\n",
       "      <th>loan_status</th>\n",
       "      <th>loan_amnt</th>\n",
       "      <th>term</th>\n",
       "      <th>int_rate</th>\n",
       "      <th>verification_status</th>\n",
       "      <th>purpose</th>\n",
       "      <th>policy_code</th>\n",
       "      <th>application_type</th>\n",
       "      <th>home_ownership</th>\n",
       "      <th>annual_inc</th>\n",
       "      <th>addr_state</th>\n",
       "      <th>dti</th>\n",
       "      <th>delinq_2yrs</th>\n",
       "      <th>mths_since_last_delinq</th>\n",
       "      <th>total_acc</th>\n",
       "      <th>inq_last_6mths</th>\n",
       "      <th>mths_since_last_record</th>\n",
       "      <th>open_acc</th>\n",
       "      <th>pub_rec</th>\n",
       "      <th>collections_12_mths_ex_med</th>\n",
       "      <th>acc_now_delinq</th>\n",
       "      <th>default</th>\n",
       "      <th>termIndex</th>\n",
       "      <th>termclassVec</th>\n",
       "      <th>verification_statusIndex</th>\n",
       "      <th>verification_statusclassVec</th>\n",
       "      <th>purposeIndex</th>\n",
       "      <th>purposeclassVec</th>\n",
       "      <th>home_ownershipIndex</th>\n",
       "      <th>home_ownershipclassVec</th>\n",
       "      <th>addr_stateIndex</th>\n",
       "      <th>addr_stateclassVec</th>\n",
       "      <th>label</th>\n",
       "      <th>features</th>\n",
       "    </tr>\n",
       "  </thead>\n",
       "  <tbody>\n",
       "    <tr>\n",
       "      <th>0</th>\n",
       "      <td>1068545</td>\n",
       "      <td>1303147</td>\n",
       "      <td>Fully Paid</td>\n",
       "      <td>7000</td>\n",
       "      <td>36 months</td>\n",
       "      <td>11.71</td>\n",
       "      <td>Not Verified</td>\n",
       "      <td>debt_consolidation</td>\n",
       "      <td>1</td>\n",
       "      <td>INDIVIDUAL</td>\n",
       "      <td>OWN</td>\n",
       "      <td>39120.0</td>\n",
       "      <td>FL</td>\n",
       "      <td>21.01</td>\n",
       "      <td>0</td>\n",
       "      <td>26</td>\n",
       "      <td>26</td>\n",
       "      <td>0</td>\n",
       "      <td>33</td>\n",
       "      <td>8</td>\n",
       "      <td>1</td>\n",
       "      <td>0</td>\n",
       "      <td>0</td>\n",
       "      <td>non-default</td>\n",
       "      <td>0.0</td>\n",
       "      <td>(1.0)</td>\n",
       "      <td>2.0</td>\n",
       "      <td>(0.0, 0.0)</td>\n",
       "      <td>0.0</td>\n",
       "      <td>(1.0, 0.0, 0.0, 0.0, 0.0, 0.0, 0.0, 0.0, 0.0, ...</td>\n",
       "      <td>2.0</td>\n",
       "      <td>(0.0, 0.0, 1.0)</td>\n",
       "      <td>2.0</td>\n",
       "      <td>(0.0, 0.0, 1.0, 0.0, 0.0, 0.0, 0.0, 0.0, 0.0, ...</td>\n",
       "      <td>0.0</td>\n",
       "      <td>(1.0, 0.0, 0.0, 1.0, 0.0, 0.0, 0.0, 0.0, 0.0, ...</td>\n",
       "    </tr>\n",
       "    <tr>\n",
       "      <th>1</th>\n",
       "      <td>1062177</td>\n",
       "      <td>1294027</td>\n",
       "      <td>Fully Paid</td>\n",
       "      <td>15000</td>\n",
       "      <td>36 months</td>\n",
       "      <td>17.27</td>\n",
       "      <td>Source Verified</td>\n",
       "      <td>59.83</td>\n",
       "      <td>1</td>\n",
       "      <td>INDIVIDUAL</td>\n",
       "      <td>MORTGAGE</td>\n",
       "      <td>44400.0</td>\n",
       "      <td>FL</td>\n",
       "      <td>3.59</td>\n",
       "      <td>1</td>\n",
       "      <td>18</td>\n",
       "      <td>16</td>\n",
       "      <td>0</td>\n",
       "      <td>93</td>\n",
       "      <td>6</td>\n",
       "      <td>1</td>\n",
       "      <td>0</td>\n",
       "      <td>0</td>\n",
       "      <td>non-default</td>\n",
       "      <td>0.0</td>\n",
       "      <td>(1.0)</td>\n",
       "      <td>0.0</td>\n",
       "      <td>(1.0, 0.0)</td>\n",
       "      <td>14.0</td>\n",
       "      <td>(0.0, 0.0, 0.0, 0.0, 0.0, 0.0, 0.0, 0.0, 0.0, ...</td>\n",
       "      <td>0.0</td>\n",
       "      <td>(1.0, 0.0, 0.0)</td>\n",
       "      <td>2.0</td>\n",
       "      <td>(0.0, 0.0, 1.0, 0.0, 0.0, 0.0, 0.0, 0.0, 0.0, ...</td>\n",
       "      <td>0.0</td>\n",
       "      <td>(1.0, 1.0, 0.0, 0.0, 0.0, 0.0, 0.0, 0.0, 0.0, ...</td>\n",
       "    </tr>\n",
       "    <tr>\n",
       "      <th>2</th>\n",
       "      <td>1066424</td>\n",
       "      <td>1291243</td>\n",
       "      <td>Fully Paid</td>\n",
       "      <td>5500</td>\n",
       "      <td>36 months</td>\n",
       "      <td>7.90</td>\n",
       "      <td>Source Verified</td>\n",
       "      <td>car</td>\n",
       "      <td>1</td>\n",
       "      <td>INDIVIDUAL</td>\n",
       "      <td>OWN</td>\n",
       "      <td>59000.0</td>\n",
       "      <td>PA</td>\n",
       "      <td>6.65</td>\n",
       "      <td>0</td>\n",
       "      <td>35</td>\n",
       "      <td>23</td>\n",
       "      <td>0</td>\n",
       "      <td>52</td>\n",
       "      <td>10</td>\n",
       "      <td>1</td>\n",
       "      <td>0</td>\n",
       "      <td>0</td>\n",
       "      <td>non-default</td>\n",
       "      <td>0.0</td>\n",
       "      <td>(1.0)</td>\n",
       "      <td>0.0</td>\n",
       "      <td>(1.0, 0.0)</td>\n",
       "      <td>7.0</td>\n",
       "      <td>(0.0, 0.0, 0.0, 0.0, 0.0, 0.0, 0.0, 1.0, 0.0, ...</td>\n",
       "      <td>2.0</td>\n",
       "      <td>(0.0, 0.0, 1.0)</td>\n",
       "      <td>10.0</td>\n",
       "      <td>(0.0, 0.0, 0.0, 0.0, 0.0, 0.0, 0.0, 0.0, 0.0, ...</td>\n",
       "      <td>0.0</td>\n",
       "      <td>(1.0, 1.0, 0.0, 0.0, 0.0, 0.0, 0.0, 0.0, 0.0, ...</td>\n",
       "    </tr>\n",
       "    <tr>\n",
       "      <th>3</th>\n",
       "      <td>1064908</td>\n",
       "      <td>1298959</td>\n",
       "      <td>Fully Paid</td>\n",
       "      <td>9000</td>\n",
       "      <td>36 months</td>\n",
       "      <td>14.65</td>\n",
       "      <td>Source Verified</td>\n",
       "      <td>debt_consolidation</td>\n",
       "      <td>1</td>\n",
       "      <td>INDIVIDUAL</td>\n",
       "      <td>RENT</td>\n",
       "      <td>45000.0</td>\n",
       "      <td>NY</td>\n",
       "      <td>17.01</td>\n",
       "      <td>1</td>\n",
       "      <td>20</td>\n",
       "      <td>51</td>\n",
       "      <td>1</td>\n",
       "      <td>85</td>\n",
       "      <td>21</td>\n",
       "      <td>1</td>\n",
       "      <td>0</td>\n",
       "      <td>0</td>\n",
       "      <td>non-default</td>\n",
       "      <td>0.0</td>\n",
       "      <td>(1.0)</td>\n",
       "      <td>0.0</td>\n",
       "      <td>(1.0, 0.0)</td>\n",
       "      <td>0.0</td>\n",
       "      <td>(1.0, 0.0, 0.0, 0.0, 0.0, 0.0, 0.0, 0.0, 0.0, ...</td>\n",
       "      <td>1.0</td>\n",
       "      <td>(0.0, 1.0, 0.0)</td>\n",
       "      <td>1.0</td>\n",
       "      <td>(0.0, 1.0, 0.0, 0.0, 0.0, 0.0, 0.0, 0.0, 0.0, ...</td>\n",
       "      <td>0.0</td>\n",
       "      <td>(1.0, 1.0, 0.0, 1.0, 0.0, 0.0, 0.0, 0.0, 0.0, ...</td>\n",
       "    </tr>\n",
       "    <tr>\n",
       "      <th>4</th>\n",
       "      <td>1064623</td>\n",
       "      <td>1298440</td>\n",
       "      <td>Fully Paid</td>\n",
       "      <td>5600</td>\n",
       "      <td>36 months</td>\n",
       "      <td>10.65</td>\n",
       "      <td>Not Verified</td>\n",
       "      <td>debt_consolidation</td>\n",
       "      <td>1</td>\n",
       "      <td>INDIVIDUAL</td>\n",
       "      <td>RENT</td>\n",
       "      <td>60000.0</td>\n",
       "      <td>CA</td>\n",
       "      <td>16.36</td>\n",
       "      <td>1</td>\n",
       "      <td>4</td>\n",
       "      <td>25</td>\n",
       "      <td>0</td>\n",
       "      <td>90</td>\n",
       "      <td>11</td>\n",
       "      <td>1</td>\n",
       "      <td>0</td>\n",
       "      <td>0</td>\n",
       "      <td>non-default</td>\n",
       "      <td>0.0</td>\n",
       "      <td>(1.0)</td>\n",
       "      <td>2.0</td>\n",
       "      <td>(0.0, 0.0)</td>\n",
       "      <td>0.0</td>\n",
       "      <td>(1.0, 0.0, 0.0, 0.0, 0.0, 0.0, 0.0, 0.0, 0.0, ...</td>\n",
       "      <td>1.0</td>\n",
       "      <td>(0.0, 1.0, 0.0)</td>\n",
       "      <td>0.0</td>\n",
       "      <td>(1.0, 0.0, 0.0, 0.0, 0.0, 0.0, 0.0, 0.0, 0.0, ...</td>\n",
       "      <td>0.0</td>\n",
       "      <td>(1.0, 0.0, 0.0, 1.0, 0.0, 0.0, 0.0, 0.0, 0.0, ...</td>\n",
       "    </tr>\n",
       "  </tbody>\n",
       "</table>\n",
       "</div>"
      ],
      "text/plain": [
       "        id  member_id loan_status  loan_amnt        term  int_rate  \\\n",
       "0  1068545    1303147  Fully Paid       7000   36 months     11.71   \n",
       "1  1062177    1294027  Fully Paid      15000   36 months     17.27   \n",
       "2  1066424    1291243  Fully Paid       5500   36 months      7.90   \n",
       "3  1064908    1298959  Fully Paid       9000   36 months     14.65   \n",
       "4  1064623    1298440  Fully Paid       5600   36 months     10.65   \n",
       "\n",
       "  verification_status             purpose  policy_code application_type  \\\n",
       "0        Not Verified  debt_consolidation            1       INDIVIDUAL   \n",
       "1     Source Verified               59.83            1       INDIVIDUAL   \n",
       "2     Source Verified                 car            1       INDIVIDUAL   \n",
       "3     Source Verified  debt_consolidation            1       INDIVIDUAL   \n",
       "4        Not Verified  debt_consolidation            1       INDIVIDUAL   \n",
       "\n",
       "  home_ownership  annual_inc addr_state    dti  delinq_2yrs  \\\n",
       "0            OWN     39120.0         FL  21.01            0   \n",
       "1       MORTGAGE     44400.0         FL   3.59            1   \n",
       "2            OWN     59000.0         PA   6.65            0   \n",
       "3           RENT     45000.0         NY  17.01            1   \n",
       "4           RENT     60000.0         CA  16.36            1   \n",
       "\n",
       "   mths_since_last_delinq  total_acc  inq_last_6mths  mths_since_last_record  \\\n",
       "0                      26         26               0                      33   \n",
       "1                      18         16               0                      93   \n",
       "2                      35         23               0                      52   \n",
       "3                      20         51               1                      85   \n",
       "4                       4         25               0                      90   \n",
       "\n",
       "   open_acc  pub_rec  collections_12_mths_ex_med  acc_now_delinq      default  \\\n",
       "0         8        1                           0               0  non-default   \n",
       "1         6        1                           0               0  non-default   \n",
       "2        10        1                           0               0  non-default   \n",
       "3        21        1                           0               0  non-default   \n",
       "4        11        1                           0               0  non-default   \n",
       "\n",
       "   termIndex termclassVec  verification_statusIndex  \\\n",
       "0        0.0        (1.0)                       2.0   \n",
       "1        0.0        (1.0)                       0.0   \n",
       "2        0.0        (1.0)                       0.0   \n",
       "3        0.0        (1.0)                       0.0   \n",
       "4        0.0        (1.0)                       2.0   \n",
       "\n",
       "  verification_statusclassVec  purposeIndex  \\\n",
       "0                  (0.0, 0.0)           0.0   \n",
       "1                  (1.0, 0.0)          14.0   \n",
       "2                  (1.0, 0.0)           7.0   \n",
       "3                  (1.0, 0.0)           0.0   \n",
       "4                  (0.0, 0.0)           0.0   \n",
       "\n",
       "                                     purposeclassVec  home_ownershipIndex  \\\n",
       "0  (1.0, 0.0, 0.0, 0.0, 0.0, 0.0, 0.0, 0.0, 0.0, ...                  2.0   \n",
       "1  (0.0, 0.0, 0.0, 0.0, 0.0, 0.0, 0.0, 0.0, 0.0, ...                  0.0   \n",
       "2  (0.0, 0.0, 0.0, 0.0, 0.0, 0.0, 0.0, 1.0, 0.0, ...                  2.0   \n",
       "3  (1.0, 0.0, 0.0, 0.0, 0.0, 0.0, 0.0, 0.0, 0.0, ...                  1.0   \n",
       "4  (1.0, 0.0, 0.0, 0.0, 0.0, 0.0, 0.0, 0.0, 0.0, ...                  1.0   \n",
       "\n",
       "  home_ownershipclassVec  addr_stateIndex  \\\n",
       "0        (0.0, 0.0, 1.0)              2.0   \n",
       "1        (1.0, 0.0, 0.0)              2.0   \n",
       "2        (0.0, 0.0, 1.0)             10.0   \n",
       "3        (0.0, 1.0, 0.0)              1.0   \n",
       "4        (0.0, 1.0, 0.0)              0.0   \n",
       "\n",
       "                                  addr_stateclassVec  label  \\\n",
       "0  (0.0, 0.0, 1.0, 0.0, 0.0, 0.0, 0.0, 0.0, 0.0, ...    0.0   \n",
       "1  (0.0, 0.0, 1.0, 0.0, 0.0, 0.0, 0.0, 0.0, 0.0, ...    0.0   \n",
       "2  (0.0, 0.0, 0.0, 0.0, 0.0, 0.0, 0.0, 0.0, 0.0, ...    0.0   \n",
       "3  (0.0, 1.0, 0.0, 0.0, 0.0, 0.0, 0.0, 0.0, 0.0, ...    0.0   \n",
       "4  (1.0, 0.0, 0.0, 0.0, 0.0, 0.0, 0.0, 0.0, 0.0, ...    0.0   \n",
       "\n",
       "                                            features  \n",
       "0  (1.0, 0.0, 0.0, 1.0, 0.0, 0.0, 0.0, 0.0, 0.0, ...  \n",
       "1  (1.0, 1.0, 0.0, 0.0, 0.0, 0.0, 0.0, 0.0, 0.0, ...  \n",
       "2  (1.0, 1.0, 0.0, 0.0, 0.0, 0.0, 0.0, 0.0, 0.0, ...  \n",
       "3  (1.0, 1.0, 0.0, 1.0, 0.0, 0.0, 0.0, 0.0, 0.0, ...  \n",
       "4  (1.0, 0.0, 0.0, 1.0, 0.0, 0.0, 0.0, 0.0, 0.0, ...  "
      ]
     },
     "execution_count": 19,
     "metadata": {},
     "output_type": "execute_result"
    }
   ],
   "source": [
    "p_df30 = df30.limit(10).toPandas()\n",
    "p_df30.head()"
   ]
  },
  {
   "cell_type": "code",
   "execution_count": 20,
   "metadata": {},
   "outputs": [
    {
     "data": {
      "text/html": [
       "<div>\n",
       "<style scoped>\n",
       "    .dataframe tbody tr th:only-of-type {\n",
       "        vertical-align: middle;\n",
       "    }\n",
       "\n",
       "    .dataframe tbody tr th {\n",
       "        vertical-align: top;\n",
       "    }\n",
       "\n",
       "    .dataframe thead th {\n",
       "        text-align: right;\n",
       "    }\n",
       "</style>\n",
       "<table border=\"1\" class=\"dataframe\">\n",
       "  <thead>\n",
       "    <tr style=\"text-align: right;\">\n",
       "      <th></th>\n",
       "      <th>home_ownership</th>\n",
       "      <th>home_ownershipIndex</th>\n",
       "      <th>home_ownershipclassVec</th>\n",
       "    </tr>\n",
       "  </thead>\n",
       "  <tbody>\n",
       "    <tr>\n",
       "      <th>0</th>\n",
       "      <td>OWN</td>\n",
       "      <td>2.0</td>\n",
       "      <td>(0.0, 0.0, 1.0)</td>\n",
       "    </tr>\n",
       "    <tr>\n",
       "      <th>1</th>\n",
       "      <td>MORTGAGE</td>\n",
       "      <td>0.0</td>\n",
       "      <td>(1.0, 0.0, 0.0)</td>\n",
       "    </tr>\n",
       "    <tr>\n",
       "      <th>2</th>\n",
       "      <td>OWN</td>\n",
       "      <td>2.0</td>\n",
       "      <td>(0.0, 0.0, 1.0)</td>\n",
       "    </tr>\n",
       "    <tr>\n",
       "      <th>3</th>\n",
       "      <td>RENT</td>\n",
       "      <td>1.0</td>\n",
       "      <td>(0.0, 1.0, 0.0)</td>\n",
       "    </tr>\n",
       "    <tr>\n",
       "      <th>4</th>\n",
       "      <td>RENT</td>\n",
       "      <td>1.0</td>\n",
       "      <td>(0.0, 1.0, 0.0)</td>\n",
       "    </tr>\n",
       "    <tr>\n",
       "      <th>5</th>\n",
       "      <td>MORTGAGE</td>\n",
       "      <td>0.0</td>\n",
       "      <td>(1.0, 0.0, 0.0)</td>\n",
       "    </tr>\n",
       "    <tr>\n",
       "      <th>6</th>\n",
       "      <td>RENT</td>\n",
       "      <td>1.0</td>\n",
       "      <td>(0.0, 1.0, 0.0)</td>\n",
       "    </tr>\n",
       "    <tr>\n",
       "      <th>7</th>\n",
       "      <td>RENT</td>\n",
       "      <td>1.0</td>\n",
       "      <td>(0.0, 1.0, 0.0)</td>\n",
       "    </tr>\n",
       "    <tr>\n",
       "      <th>8</th>\n",
       "      <td>MORTGAGE</td>\n",
       "      <td>0.0</td>\n",
       "      <td>(1.0, 0.0, 0.0)</td>\n",
       "    </tr>\n",
       "    <tr>\n",
       "      <th>9</th>\n",
       "      <td>RENT</td>\n",
       "      <td>1.0</td>\n",
       "      <td>(0.0, 1.0, 0.0)</td>\n",
       "    </tr>\n",
       "  </tbody>\n",
       "</table>\n",
       "</div>"
      ],
      "text/plain": [
       "  home_ownership  home_ownershipIndex home_ownershipclassVec\n",
       "0            OWN                  2.0        (0.0, 0.0, 1.0)\n",
       "1       MORTGAGE                  0.0        (1.0, 0.0, 0.0)\n",
       "2            OWN                  2.0        (0.0, 0.0, 1.0)\n",
       "3           RENT                  1.0        (0.0, 1.0, 0.0)\n",
       "4           RENT                  1.0        (0.0, 1.0, 0.0)\n",
       "5       MORTGAGE                  0.0        (1.0, 0.0, 0.0)\n",
       "6           RENT                  1.0        (0.0, 1.0, 0.0)\n",
       "7           RENT                  1.0        (0.0, 1.0, 0.0)\n",
       "8       MORTGAGE                  0.0        (1.0, 0.0, 0.0)\n",
       "9           RENT                  1.0        (0.0, 1.0, 0.0)"
      ]
     },
     "execution_count": 20,
     "metadata": {},
     "output_type": "execute_result"
    }
   ],
   "source": [
    "p_df30[['home_ownership','home_ownershipIndex', 'home_ownershipclassVec']].head(10)"
   ]
  },
  {
   "cell_type": "code",
   "execution_count": 21,
   "metadata": {},
   "outputs": [
    {
     "data": {
      "text/html": [
       "<div>\n",
       "<style scoped>\n",
       "    .dataframe tbody tr th:only-of-type {\n",
       "        vertical-align: middle;\n",
       "    }\n",
       "\n",
       "    .dataframe tbody tr th {\n",
       "        vertical-align: top;\n",
       "    }\n",
       "\n",
       "    .dataframe thead th {\n",
       "        text-align: right;\n",
       "    }\n",
       "</style>\n",
       "<table border=\"1\" class=\"dataframe\">\n",
       "  <thead>\n",
       "    <tr style=\"text-align: right;\">\n",
       "      <th></th>\n",
       "      <th>purpose</th>\n",
       "      <th>purposeIndex</th>\n",
       "      <th>purposeclassVec</th>\n",
       "    </tr>\n",
       "  </thead>\n",
       "  <tbody>\n",
       "    <tr>\n",
       "      <th>0</th>\n",
       "      <td>debt_consolidation</td>\n",
       "      <td>0.0</td>\n",
       "      <td>(1.0, 0.0, 0.0, 0.0, 0.0, 0.0, 0.0, 0.0, 0.0, 0.0, 0.0, 0.0, 0.0, 0.0)</td>\n",
       "    </tr>\n",
       "    <tr>\n",
       "      <th>1</th>\n",
       "      <td>59.83</td>\n",
       "      <td>14.0</td>\n",
       "      <td>(0.0, 0.0, 0.0, 0.0, 0.0, 0.0, 0.0, 0.0, 0.0, 0.0, 0.0, 0.0, 0.0, 0.0)</td>\n",
       "    </tr>\n",
       "    <tr>\n",
       "      <th>2</th>\n",
       "      <td>car</td>\n",
       "      <td>7.0</td>\n",
       "      <td>(0.0, 0.0, 0.0, 0.0, 0.0, 0.0, 0.0, 1.0, 0.0, 0.0, 0.0, 0.0, 0.0, 0.0)</td>\n",
       "    </tr>\n",
       "    <tr>\n",
       "      <th>3</th>\n",
       "      <td>debt_consolidation</td>\n",
       "      <td>0.0</td>\n",
       "      <td>(1.0, 0.0, 0.0, 0.0, 0.0, 0.0, 0.0, 0.0, 0.0, 0.0, 0.0, 0.0, 0.0, 0.0)</td>\n",
       "    </tr>\n",
       "    <tr>\n",
       "      <th>4</th>\n",
       "      <td>debt_consolidation</td>\n",
       "      <td>0.0</td>\n",
       "      <td>(1.0, 0.0, 0.0, 0.0, 0.0, 0.0, 0.0, 0.0, 0.0, 0.0, 0.0, 0.0, 0.0, 0.0)</td>\n",
       "    </tr>\n",
       "    <tr>\n",
       "      <th>5</th>\n",
       "      <td>medical</td>\n",
       "      <td>6.0</td>\n",
       "      <td>(0.0, 0.0, 0.0, 0.0, 0.0, 0.0, 1.0, 0.0, 0.0, 0.0, 0.0, 0.0, 0.0, 0.0)</td>\n",
       "    </tr>\n",
       "    <tr>\n",
       "      <th>6</th>\n",
       "      <td>debt_consolidation</td>\n",
       "      <td>0.0</td>\n",
       "      <td>(1.0, 0.0, 0.0, 0.0, 0.0, 0.0, 0.0, 0.0, 0.0, 0.0, 0.0, 0.0, 0.0, 0.0)</td>\n",
       "    </tr>\n",
       "    <tr>\n",
       "      <th>7</th>\n",
       "      <td>debt_consolidation</td>\n",
       "      <td>0.0</td>\n",
       "      <td>(1.0, 0.0, 0.0, 0.0, 0.0, 0.0, 0.0, 0.0, 0.0, 0.0, 0.0, 0.0, 0.0, 0.0)</td>\n",
       "    </tr>\n",
       "    <tr>\n",
       "      <th>8</th>\n",
       "      <td>debt_consolidation</td>\n",
       "      <td>0.0</td>\n",
       "      <td>(1.0, 0.0, 0.0, 0.0, 0.0, 0.0, 0.0, 0.0, 0.0, 0.0, 0.0, 0.0, 0.0, 0.0)</td>\n",
       "    </tr>\n",
       "    <tr>\n",
       "      <th>9</th>\n",
       "      <td>debt_consolidation</td>\n",
       "      <td>0.0</td>\n",
       "      <td>(1.0, 0.0, 0.0, 0.0, 0.0, 0.0, 0.0, 0.0, 0.0, 0.0, 0.0, 0.0, 0.0, 0.0)</td>\n",
       "    </tr>\n",
       "  </tbody>\n",
       "</table>\n",
       "</div>"
      ],
      "text/plain": [
       "              purpose  purposeIndex  \\\n",
       "0  debt_consolidation  0.0            \n",
       "1  59.83               14.0           \n",
       "2  car                 7.0            \n",
       "3  debt_consolidation  0.0            \n",
       "4  debt_consolidation  0.0            \n",
       "5  medical             6.0            \n",
       "6  debt_consolidation  0.0            \n",
       "7  debt_consolidation  0.0            \n",
       "8  debt_consolidation  0.0            \n",
       "9  debt_consolidation  0.0            \n",
       "\n",
       "                                                          purposeclassVec  \n",
       "0  (1.0, 0.0, 0.0, 0.0, 0.0, 0.0, 0.0, 0.0, 0.0, 0.0, 0.0, 0.0, 0.0, 0.0)  \n",
       "1  (0.0, 0.0, 0.0, 0.0, 0.0, 0.0, 0.0, 0.0, 0.0, 0.0, 0.0, 0.0, 0.0, 0.0)  \n",
       "2  (0.0, 0.0, 0.0, 0.0, 0.0, 0.0, 0.0, 1.0, 0.0, 0.0, 0.0, 0.0, 0.0, 0.0)  \n",
       "3  (1.0, 0.0, 0.0, 0.0, 0.0, 0.0, 0.0, 0.0, 0.0, 0.0, 0.0, 0.0, 0.0, 0.0)  \n",
       "4  (1.0, 0.0, 0.0, 0.0, 0.0, 0.0, 0.0, 0.0, 0.0, 0.0, 0.0, 0.0, 0.0, 0.0)  \n",
       "5  (0.0, 0.0, 0.0, 0.0, 0.0, 0.0, 1.0, 0.0, 0.0, 0.0, 0.0, 0.0, 0.0, 0.0)  \n",
       "6  (1.0, 0.0, 0.0, 0.0, 0.0, 0.0, 0.0, 0.0, 0.0, 0.0, 0.0, 0.0, 0.0, 0.0)  \n",
       "7  (1.0, 0.0, 0.0, 0.0, 0.0, 0.0, 0.0, 0.0, 0.0, 0.0, 0.0, 0.0, 0.0, 0.0)  \n",
       "8  (1.0, 0.0, 0.0, 0.0, 0.0, 0.0, 0.0, 0.0, 0.0, 0.0, 0.0, 0.0, 0.0, 0.0)  \n",
       "9  (1.0, 0.0, 0.0, 0.0, 0.0, 0.0, 0.0, 0.0, 0.0, 0.0, 0.0, 0.0, 0.0, 0.0)  "
      ]
     },
     "execution_count": 21,
     "metadata": {},
     "output_type": "execute_result"
    }
   ],
   "source": [
    "pd.set_option('display.max_colwidth', -1)\n",
    "\n",
    "p_df30[['purpose','purposeIndex', 'purposeclassVec']].head(10)"
   ]
  },
  {
   "cell_type": "code",
   "execution_count": 22,
   "metadata": {},
   "outputs": [
    {
     "data": {
      "text/html": [
       "<div>\n",
       "<style scoped>\n",
       "    .dataframe tbody tr th:only-of-type {\n",
       "        vertical-align: middle;\n",
       "    }\n",
       "\n",
       "    .dataframe tbody tr th {\n",
       "        vertical-align: top;\n",
       "    }\n",
       "\n",
       "    .dataframe thead th {\n",
       "        text-align: right;\n",
       "    }\n",
       "</style>\n",
       "<table border=\"1\" class=\"dataframe\">\n",
       "  <thead>\n",
       "    <tr style=\"text-align: right;\">\n",
       "      <th></th>\n",
       "      <th>default</th>\n",
       "      <th>label</th>\n",
       "    </tr>\n",
       "  </thead>\n",
       "  <tbody>\n",
       "    <tr>\n",
       "      <th>0</th>\n",
       "      <td>non-default</td>\n",
       "      <td>0.0</td>\n",
       "    </tr>\n",
       "    <tr>\n",
       "      <th>1</th>\n",
       "      <td>non-default</td>\n",
       "      <td>0.0</td>\n",
       "    </tr>\n",
       "    <tr>\n",
       "      <th>2</th>\n",
       "      <td>non-default</td>\n",
       "      <td>0.0</td>\n",
       "    </tr>\n",
       "    <tr>\n",
       "      <th>3</th>\n",
       "      <td>non-default</td>\n",
       "      <td>0.0</td>\n",
       "    </tr>\n",
       "    <tr>\n",
       "      <th>4</th>\n",
       "      <td>non-default</td>\n",
       "      <td>0.0</td>\n",
       "    </tr>\n",
       "    <tr>\n",
       "      <th>5</th>\n",
       "      <td>non-default</td>\n",
       "      <td>0.0</td>\n",
       "    </tr>\n",
       "    <tr>\n",
       "      <th>6</th>\n",
       "      <td>non-default</td>\n",
       "      <td>0.0</td>\n",
       "    </tr>\n",
       "    <tr>\n",
       "      <th>7</th>\n",
       "      <td>non-default</td>\n",
       "      <td>0.0</td>\n",
       "    </tr>\n",
       "    <tr>\n",
       "      <th>8</th>\n",
       "      <td>non-default</td>\n",
       "      <td>0.0</td>\n",
       "    </tr>\n",
       "    <tr>\n",
       "      <th>9</th>\n",
       "      <td>non-default</td>\n",
       "      <td>0.0</td>\n",
       "    </tr>\n",
       "  </tbody>\n",
       "</table>\n",
       "</div>"
      ],
      "text/plain": [
       "       default  label\n",
       "0  non-default  0.0  \n",
       "1  non-default  0.0  \n",
       "2  non-default  0.0  \n",
       "3  non-default  0.0  \n",
       "4  non-default  0.0  \n",
       "5  non-default  0.0  \n",
       "6  non-default  0.0  \n",
       "7  non-default  0.0  \n",
       "8  non-default  0.0  \n",
       "9  non-default  0.0  "
      ]
     },
     "execution_count": 22,
     "metadata": {},
     "output_type": "execute_result"
    }
   ],
   "source": [
    "p_df30[['default', 'label']].head(10)"
   ]
  },
  {
   "cell_type": "markdown",
   "metadata": {},
   "source": [
    "#### 2.5 Keep relevant columns for data modeling\n",
    "SparkML models like logistic regression and decision trees will only use two columns for modeling: \"label\" as target and \"features\" as predictors"
   ]
  },
  {
   "cell_type": "code",
   "execution_count": 23,
   "metadata": {},
   "outputs": [],
   "source": [
    "#cols = numericCols + categoricalColumns\n",
    "selectedcols = [\"label\", \"features\"] #+ cols\n",
    "df40 = df30.select(selectedcols)\n",
    "#df40.printSchema()"
   ]
  },
  {
   "cell_type": "markdown",
   "metadata": {},
   "source": [
    "#### 2.6 Split Data into training and testing sets"
   ]
  },
  {
   "cell_type": "code",
   "execution_count": 24,
   "metadata": {},
   "outputs": [
    {
     "name": "stdout",
     "output_type": "stream",
     "text": [
      "Training Records: 11669.  Test Records: 5064\n"
     ]
    }
   ],
   "source": [
    "(trainingData, testData) = df40.randomSplit([0.7, 0.3], seed = 123)\n",
    "\n",
    "print('Training Records: {}.  Test Records: {}'.format(trainingData.count(), testData.count()))"
   ]
  },
  {
   "cell_type": "code",
   "execution_count": 25,
   "metadata": {},
   "outputs": [
    {
     "name": "stdout",
     "output_type": "stream",
     "text": [
      "root\n",
      " |-- label: double (nullable = true)\n",
      " |-- features: vector (nullable = true)\n",
      "\n"
     ]
    }
   ],
   "source": [
    "df40.printSchema()"
   ]
  },
  {
   "cell_type": "markdown",
   "metadata": {},
   "source": [
    "#### Balance sample between classes"
   ]
  },
  {
   "cell_type": "code",
   "execution_count": 26,
   "metadata": {},
   "outputs": [
    {
     "name": "stdout",
     "output_type": "stream",
     "text": [
      "Distribution of Pos and Neg cases of the down-sampled training data are: \n",
      " [Row(label=0.0, count=2910), Row(label=1.0, count=2925)]\n"
     ]
    }
   ],
   "source": [
    "ratio_adjust = 1.0 ## ratio of pos to neg in the df_subsample\n",
    "\n",
    " \n",
    "#counts = trainingData.select('binary_response').groupBy('label').count().collect()\n",
    "counts = trainingData.groupBy('label').count().collect()\n",
    "\n",
    "if counts[0][1] > counts[1][1]:\n",
    "    down_class = counts[0][0]\n",
    "else:\n",
    "    down_class = counts[1][0]\n",
    "    \n",
    "\n",
    "higherBound = counts[0][1]\n",
    "treshold_to_filter = int(ratio_adjust * float(counts[1][1]) / counts[0][1] * higherBound)\n",
    " \n",
    "randGen = lambda x: np.random.randint(0, higherBound) if x == down_class else -1\n",
    " \n",
    "udfRandGen = udf(randGen, IntegerType())\n",
    "\n",
    "trainingData = trainingData.withColumn(\"randIndex\", udfRandGen(\"label\"))\n",
    "trainingData = trainingData.filter(trainingData['randIndex'] < treshold_to_filter).drop('randIndex')\n",
    " \n",
    "print(\"Distribution of Pos and Neg cases of the down-sampled training data are: \\n\", trainingData.groupBy(\"label\").count().take(3))"
   ]
  },
  {
   "cell_type": "markdown",
   "metadata": {},
   "source": [
    "### Step 3: Data Modeling - Logistic Regression"
   ]
  },
  {
   "cell_type": "markdown",
   "metadata": {},
   "source": [
    "#### 3.1 Fit model with Training Data"
   ]
  },
  {
   "cell_type": "code",
   "execution_count": 27,
   "metadata": {},
   "outputs": [
    {
     "name": "stdout",
     "output_type": "stream",
     "text": [
      "root\n",
      " |-- label: double (nullable = true)\n",
      " |-- features: vector (nullable = true)\n",
      "\n"
     ]
    }
   ],
   "source": [
    "trainingData.printSchema()"
   ]
  },
  {
   "cell_type": "code",
   "execution_count": 28,
   "metadata": {},
   "outputs": [
    {
     "name": "stdout",
     "output_type": "stream",
     "text": [
      "CPU times: user 9.24 ms, sys: 1.76 ms, total: 11 ms\n",
      "Wall time: 3.28 s\n"
     ]
    }
   ],
   "source": [
    "lr = LogisticRegression(labelCol=\"label\", featuresCol=\"features\", maxIter=10)\n",
    "\n",
    "%time lrModel = lr.fit(trainingData)"
   ]
  },
  {
   "cell_type": "markdown",
   "metadata": {},
   "source": [
    "#### 3.2 Make predictions on test data"
   ]
  },
  {
   "cell_type": "code",
   "execution_count": 29,
   "metadata": {},
   "outputs": [
    {
     "name": "stdout",
     "output_type": "stream",
     "text": [
      "+-----+----------+----------------------------------------+\n",
      "|label|prediction|probability                             |\n",
      "+-----+----------+----------------------------------------+\n",
      "|0.0  |0.0       |[0.7116845268508744,0.2883154731491256] |\n",
      "|0.0  |0.0       |[0.6346407540230323,0.3653592459769677] |\n",
      "|0.0  |0.0       |[0.5163503227070855,0.4836496772929146] |\n",
      "|0.0  |1.0       |[0.48967973604290754,0.5103202639570925]|\n",
      "|0.0  |0.0       |[0.5964436763604236,0.4035563236395764] |\n",
      "+-----+----------+----------------------------------------+\n",
      "only showing top 5 rows\n",
      "\n"
     ]
    }
   ],
   "source": [
    "predictions = lrModel.transform(testData)\n",
    "#selected = predictions.select(\"label\", \"prediction\", \"probability\")\n",
    "\n",
    "#  - Let's take a look at the output\n",
    "predictions.select([\"label\", \"prediction\", \"probability\"]).show(5, truncate=False)"
   ]
  },
  {
   "cell_type": "code",
   "execution_count": 30,
   "metadata": {},
   "outputs": [
    {
     "data": {
      "text/html": [
       "<div>\n",
       "<style scoped>\n",
       "    .dataframe tbody tr th:only-of-type {\n",
       "        vertical-align: middle;\n",
       "    }\n",
       "\n",
       "    .dataframe tbody tr th {\n",
       "        vertical-align: top;\n",
       "    }\n",
       "\n",
       "    .dataframe thead th {\n",
       "        text-align: right;\n",
       "    }\n",
       "</style>\n",
       "<table border=\"1\" class=\"dataframe\">\n",
       "  <thead>\n",
       "    <tr style=\"text-align: right;\">\n",
       "      <th></th>\n",
       "      <th>label</th>\n",
       "      <th>prediction</th>\n",
       "      <th>probability</th>\n",
       "    </tr>\n",
       "  </thead>\n",
       "  <tbody>\n",
       "    <tr>\n",
       "      <th>0</th>\n",
       "      <td>0.0</td>\n",
       "      <td>0.0</td>\n",
       "      <td>[0.7116845268508744, 0.2883154731491256]</td>\n",
       "    </tr>\n",
       "    <tr>\n",
       "      <th>1</th>\n",
       "      <td>0.0</td>\n",
       "      <td>0.0</td>\n",
       "      <td>[0.6346407540230323, 0.3653592459769677]</td>\n",
       "    </tr>\n",
       "    <tr>\n",
       "      <th>2</th>\n",
       "      <td>0.0</td>\n",
       "      <td>0.0</td>\n",
       "      <td>[0.5163503227070855, 0.4836496772929146]</td>\n",
       "    </tr>\n",
       "    <tr>\n",
       "      <th>3</th>\n",
       "      <td>0.0</td>\n",
       "      <td>1.0</td>\n",
       "      <td>[0.48967973604290754, 0.5103202639570925]</td>\n",
       "    </tr>\n",
       "    <tr>\n",
       "      <th>4</th>\n",
       "      <td>0.0</td>\n",
       "      <td>0.0</td>\n",
       "      <td>[0.5964436763604236, 0.4035563236395764]</td>\n",
       "    </tr>\n",
       "  </tbody>\n",
       "</table>\n",
       "</div>"
      ],
      "text/plain": [
       "   label  prediction                                probability\n",
       "0  0.0    0.0         [0.7116845268508744, 0.2883154731491256] \n",
       "1  0.0    0.0         [0.6346407540230323, 0.3653592459769677] \n",
       "2  0.0    0.0         [0.5163503227070855, 0.4836496772929146] \n",
       "3  0.0    1.0         [0.48967973604290754, 0.5103202639570925]\n",
       "4  0.0    0.0         [0.5964436763604236, 0.4035563236395764] "
      ]
     },
     "execution_count": 30,
     "metadata": {},
     "output_type": "execute_result"
    }
   ],
   "source": [
    "predictions.select([\"label\", \"prediction\", \"probability\"]).limit(10).toPandas().head(5)"
   ]
  },
  {
   "cell_type": "markdown",
   "metadata": {},
   "source": [
    "#### 3.3 Create confusion matrix"
   ]
  },
  {
   "cell_type": "code",
   "execution_count": 31,
   "metadata": {},
   "outputs": [
    {
     "name": "stdout",
     "output_type": "stream",
     "text": [
      "+----------------+----+----+\n",
      "|label_prediction| 0.0| 1.0|\n",
      "+----------------+----+----+\n",
      "|             1.0| 516| 747|\n",
      "|             0.0|2451|1350|\n",
      "+----------------+----+----+\n",
      "\n"
     ]
    }
   ],
   "source": [
    "predictions.crosstab(\"label\", \"prediction\").show()"
   ]
  },
  {
   "cell_type": "code",
   "execution_count": 32,
   "metadata": {},
   "outputs": [
    {
     "name": "stdout",
     "output_type": "stream",
     "text": [
      "+----------------+----+----+\n",
      "|label_prediction|   0|   1|\n",
      "+----------------+----+----+\n",
      "|               1| 516| 747|\n",
      "|               0|2451|1350|\n",
      "+----------------+----+----+\n",
      "\n"
     ]
    }
   ],
   "source": [
    "selected = predictions.select(\"label\", \"prediction\", \"probability\")\n",
    "\n",
    "selected = selected.withColumn(\"label\", selected[\"label\"].cast(IntegerType()))\n",
    "selected = selected.withColumn(\"prediction\", selected[\"prediction\"].cast(IntegerType()))\n",
    "\n",
    "selected.crosstab(\"label\", \"prediction\").show()"
   ]
  },
  {
   "cell_type": "markdown",
   "metadata": {},
   "source": [
    "#### 3.4 Evaluate the model and print areaUnderROC"
   ]
  },
  {
   "cell_type": "markdown",
   "metadata": {},
   "source": [
    "The default metric for the BinaryClassificationEvaluator is areaUnderROC"
   ]
  },
  {
   "cell_type": "code",
   "execution_count": 33,
   "metadata": {},
   "outputs": [
    {
     "name": "stdout",
     "output_type": "stream",
     "text": [
      "areaUnderROC: 0.6597582458922808\n"
     ]
    }
   ],
   "source": [
    "evaluator = BinaryClassificationEvaluator(rawPredictionCol=\"rawPrediction\")\n",
    "evaluator.getMetricName()\n",
    "evaluator.evaluate(predictions)\n",
    "print(evaluator.getMetricName() + \": \" + str(evaluator.evaluate(predictions)))"
   ]
  },
  {
   "cell_type": "markdown",
   "metadata": {},
   "source": [
    "##### 3.5. Print Intercept and Coefficients"
   ]
  },
  {
   "cell_type": "code",
   "execution_count": 34,
   "metadata": {},
   "outputs": [
    {
     "name": "stdout",
     "output_type": "stream",
     "text": [
      "Model Intercept:  -0.2292310452345045\n",
      "Model coefficients: [-0.2987902892992814,0.2234992324668268,0.03300403473560674,-0.4254522750014258,-0.37586734006110706,-0.5069650895799332,-0.31504654304244156,-0.4530272865740959,0.26710929733468336,-0.19515305175108605,-0.6079856298317105,0.4675437501548968,-0.26921245792725085,-0.21903134811022756,-0.9394242500205409,-2.12564734738114,5.048976823890919,-0.521571823031849,-0.2234221608542267,-0.3107711560115854,-0.24188504684332623,-0.0961272213039713,-0.25503840350210305,-0.3843760648345451,-0.1912869005330703,-0.43223791697369407,-0.3529921623641833,-0.334488943509195,-0.1758113129995602,-0.034489625174876554,-0.13452708630913238,-0.13625854475353794,-0.2712474713283907,0.1204762311743691,-0.09520757030040129,-0.5835218764955971,-0.2584561430329766,-0.16464790319601535,0.001530744664665917,-0.40670616284523714,-0.4212787865726386,-0.2946428628301351,-0.10542046700218047,-0.12017614096741021,-0.33335941855847206,0.06830244465894045,-0.2290733955385198,0.01950937462134629,0.009604933589429402,0.0922542930532391,0.24099833068142582,-0.3721878099245517,-0.36364223015516006,-0.20717034812709484,-1.139152001715333,-0.7438181926637191,-0.9243735585332786,-0.14736878123001507,0.12331892409934238,-0.299647704415347,0.9421036772490643,-0.5332584257751335,-0.08329303288705282,-1.1891406812622143,0.24331745724033269,-1.2159566888364441,5.171451002271239,0.0,4.933179086163841,4.001456330617086e-05,0.05607097990137199,-2.68832470973079e-06,0.035534585200240255,0.09127354481772708,-0.004768631048030505,-0.024652731143886903,0.0733664169839528,-0.00035146753664098805,0.028624734678696803,0.01941442790180284,0.017020281403515202,0.21423057202615922]\n"
     ]
    }
   ],
   "source": [
    "print ('Model Intercept: ', lrModel.intercept)\n",
    "print ('Model coefficients:', lrModel.coefficients)"
   ]
  },
  {
   "cell_type": "markdown",
   "metadata": {},
   "source": [
    "### Step 4. Save trained model"
   ]
  },
  {
   "cell_type": "markdown",
   "metadata": {},
   "source": [
    "#### 4.1 Save the model in Linux file system"
   ]
  },
  {
   "cell_type": "code",
   "execution_count": 35,
   "metadata": {},
   "outputs": [
    {
     "name": "stdout",
     "output_type": "stream",
     "text": [
      "'model=lrModel, test_data=testData, algorithm_type=Classification)' was not found in history, as a file, url, nor in the user namespace.\n"
     ]
    }
   ],
   "source": [
    "save(name='Spark Logistic Regression Model', model=lrModel, test_data=testData, algorithm_type='Classification') "
   ]
  },
  {
   "cell_type": "code",
   "execution_count": 36,
   "metadata": {},
   "outputs": [
    {
     "name": "stdout",
     "output_type": "stream",
     "text": [
      "Training count: 5882; Test count: 5064\n"
     ]
    }
   ],
   "source": [
    "print (\"Training count: {}; Test count: {}\".format(trainingData.count(), testData.count()))"
   ]
  },
  {
   "cell_type": "code",
   "execution_count": 37,
   "metadata": {},
   "outputs": [],
   "source": [
    "lrModel.write().overwrite().save('hdfs:///user/kadochnikov/spark/models/loan_logistic_regression')\n",
    "#  - can use shorthand is overwrite is not needed\n",
    "#lrModel.save(\"../models/loan_logistic_regression\")"
   ]
  },
  {
   "cell_type": "code",
   "execution_count": 38,
   "metadata": {},
   "outputs": [
    {
     "name": "stdout",
     "output_type": "stream",
     "text": [
      "WARNING: log4j.properties is not found. HADOOP_CONF_DIR may be incomplete.\n",
      "Java HotSpot(TM) 64-Bit Server VM warning: ignoring option MaxPermSize=512M; support was removed in 8.0\n",
      "drwxr-xr-x   - kadochnikov kadochnikov          0 2018-11-10 08:51 /user/kadochnikov/spark/models/loan_logistic_regression/data\n",
      "-rw-r--r--   3 kadochnikov kadochnikov          0 2018-11-10 08:51 /user/kadochnikov/spark/models/loan_logistic_regression/data/_SUCCESS\n",
      "-rw-r--r--   3 kadochnikov kadochnikov       4658 2018-11-10 08:51 /user/kadochnikov/spark/models/loan_logistic_regression/data/part-00000-30285a0c-d6f3-4782-add2-7917b05229a3-c000.snappy.parquet\n",
      "drwxr-xr-x   - kadochnikov kadochnikov          0 2018-11-10 08:51 /user/kadochnikov/spark/models/loan_logistic_regression/metadata\n",
      "-rw-r--r--   3 kadochnikov kadochnikov          0 2018-11-10 08:51 /user/kadochnikov/spark/models/loan_logistic_regression/metadata/_SUCCESS\n",
      "-rw-r--r--   3 kadochnikov kadochnikov        488 2018-11-10 08:51 /user/kadochnikov/spark/models/loan_logistic_regression/metadata/part-00000\n"
     ]
    }
   ],
   "source": [
    "!hadoop fs -ls -R '/user/kadochnikov/spark/models/loan_logistic_regression'"
   ]
  },
  {
   "cell_type": "markdown",
   "metadata": {},
   "source": [
    "#### 4.2 Retrieve saved model"
   ]
  },
  {
   "cell_type": "code",
   "execution_count": 39,
   "metadata": {},
   "outputs": [],
   "source": [
    "samelrModel = LogisticRegressionModel.load('hdfs:///user/kadochnikov/spark/models/loan_logistic_regression')"
   ]
  },
  {
   "cell_type": "markdown",
   "metadata": {},
   "source": [
    "### Step 5.  Score the new data and store in DashDB"
   ]
  },
  {
   "cell_type": "markdown",
   "metadata": {},
   "source": [
    "#### Step 5.2 Prepare features (same steps as 2.1 - 2.4)"
   ]
  },
  {
   "cell_type": "code",
   "execution_count": 40,
   "metadata": {},
   "outputs": [],
   "source": [
    "# Create and execute a Pipeline.\n",
    "pipeline = Pipeline(stages=stages)\n",
    "df50 = pipelineModel.transform(df20)"
   ]
  },
  {
   "cell_type": "markdown",
   "metadata": {},
   "source": [
    "#### Step 5.3 Score data"
   ]
  },
  {
   "cell_type": "code",
   "execution_count": 41,
   "metadata": {},
   "outputs": [
    {
     "name": "stdout",
     "output_type": "stream",
     "text": [
      "root\n",
      " |-- id: integer (nullable = true)\n",
      " |-- member_id: integer (nullable = true)\n",
      " |-- prediction: double (nullable = true)\n",
      " |-- probability: vector (nullable = true)\n",
      "\n"
     ]
    }
   ],
   "source": [
    "scored_data = lrModel.transform(df50).select(\"id\",\"member_id\",\"prediction\",\"probability\")\n",
    "scored_data.printSchema()"
   ]
  },
  {
   "cell_type": "code",
   "execution_count": 42,
   "metadata": {},
   "outputs": [
    {
     "data": {
      "text/html": [
       "<div>\n",
       "<style scoped>\n",
       "    .dataframe tbody tr th:only-of-type {\n",
       "        vertical-align: middle;\n",
       "    }\n",
       "\n",
       "    .dataframe tbody tr th {\n",
       "        vertical-align: top;\n",
       "    }\n",
       "\n",
       "    .dataframe thead th {\n",
       "        text-align: right;\n",
       "    }\n",
       "</style>\n",
       "<table border=\"1\" class=\"dataframe\">\n",
       "  <thead>\n",
       "    <tr style=\"text-align: right;\">\n",
       "      <th></th>\n",
       "      <th>id</th>\n",
       "      <th>member_id</th>\n",
       "      <th>prediction</th>\n",
       "      <th>probability</th>\n",
       "    </tr>\n",
       "  </thead>\n",
       "  <tbody>\n",
       "    <tr>\n",
       "      <th>0</th>\n",
       "      <td>1068545</td>\n",
       "      <td>1303147</td>\n",
       "      <td>0.0</td>\n",
       "      <td>[0.6152221386102559, 0.38477786138974407]</td>\n",
       "    </tr>\n",
       "    <tr>\n",
       "      <th>1</th>\n",
       "      <td>1062177</td>\n",
       "      <td>1294027</td>\n",
       "      <td>1.0</td>\n",
       "      <td>[0.4341078933459012, 0.5658921066540988]</td>\n",
       "    </tr>\n",
       "    <tr>\n",
       "      <th>2</th>\n",
       "      <td>1066424</td>\n",
       "      <td>1291243</td>\n",
       "      <td>0.0</td>\n",
       "      <td>[0.7433780501161734, 0.2566219498838266]</td>\n",
       "    </tr>\n",
       "    <tr>\n",
       "      <th>3</th>\n",
       "      <td>1064908</td>\n",
       "      <td>1298959</td>\n",
       "      <td>1.0</td>\n",
       "      <td>[0.4954618705096305, 0.5045381294903695]</td>\n",
       "    </tr>\n",
       "    <tr>\n",
       "      <th>4</th>\n",
       "      <td>1064623</td>\n",
       "      <td>1298440</td>\n",
       "      <td>0.0</td>\n",
       "      <td>[0.6032347964081389, 0.396765203591861]</td>\n",
       "    </tr>\n",
       "  </tbody>\n",
       "</table>\n",
       "</div>"
      ],
      "text/plain": [
       "        id  member_id  prediction                                probability\n",
       "0  1068545  1303147    0.0         [0.6152221386102559, 0.38477786138974407]\n",
       "1  1062177  1294027    1.0         [0.4341078933459012, 0.5658921066540988] \n",
       "2  1066424  1291243    0.0         [0.7433780501161734, 0.2566219498838266] \n",
       "3  1064908  1298959    1.0         [0.4954618705096305, 0.5045381294903695] \n",
       "4  1064623  1298440    0.0         [0.6032347964081389, 0.396765203591861]  "
      ]
     },
     "execution_count": 42,
     "metadata": {},
     "output_type": "execute_result"
    }
   ],
   "source": [
    "scored_data.limit(10).toPandas().head()"
   ]
  },
  {
   "cell_type": "code",
   "execution_count": 43,
   "metadata": {},
   "outputs": [],
   "source": [
    "def to_array(col):\n",
    "    def to_array_(v):\n",
    "        return v.toArray().tolist()\n",
    "    return udf(to_array_, ArrayType(DoubleType()))(col)\n",
    "\n",
    "scored_data_to_db = scored_data.withColumn(\"prob_\", to_array(col(\"probability\"))).select([\"id\",\"member_id\",\"prediction\",] + [col(\"prob_\")[i] for i in range(2)])"
   ]
  },
  {
   "cell_type": "code",
   "execution_count": 44,
   "metadata": {},
   "outputs": [
    {
     "data": {
      "text/html": [
       "<div>\n",
       "<style scoped>\n",
       "    .dataframe tbody tr th:only-of-type {\n",
       "        vertical-align: middle;\n",
       "    }\n",
       "\n",
       "    .dataframe tbody tr th {\n",
       "        vertical-align: top;\n",
       "    }\n",
       "\n",
       "    .dataframe thead th {\n",
       "        text-align: right;\n",
       "    }\n",
       "</style>\n",
       "<table border=\"1\" class=\"dataframe\">\n",
       "  <thead>\n",
       "    <tr style=\"text-align: right;\">\n",
       "      <th></th>\n",
       "      <th>id</th>\n",
       "      <th>member_id</th>\n",
       "      <th>prediction</th>\n",
       "      <th>prob_[0]</th>\n",
       "      <th>prob_[1]</th>\n",
       "    </tr>\n",
       "  </thead>\n",
       "  <tbody>\n",
       "    <tr>\n",
       "      <th>0</th>\n",
       "      <td>1068545</td>\n",
       "      <td>1303147</td>\n",
       "      <td>0.0</td>\n",
       "      <td>0.615222</td>\n",
       "      <td>0.384778</td>\n",
       "    </tr>\n",
       "    <tr>\n",
       "      <th>1</th>\n",
       "      <td>1062177</td>\n",
       "      <td>1294027</td>\n",
       "      <td>1.0</td>\n",
       "      <td>0.434108</td>\n",
       "      <td>0.565892</td>\n",
       "    </tr>\n",
       "    <tr>\n",
       "      <th>2</th>\n",
       "      <td>1066424</td>\n",
       "      <td>1291243</td>\n",
       "      <td>0.0</td>\n",
       "      <td>0.743378</td>\n",
       "      <td>0.256622</td>\n",
       "    </tr>\n",
       "    <tr>\n",
       "      <th>3</th>\n",
       "      <td>1064908</td>\n",
       "      <td>1298959</td>\n",
       "      <td>1.0</td>\n",
       "      <td>0.495462</td>\n",
       "      <td>0.504538</td>\n",
       "    </tr>\n",
       "    <tr>\n",
       "      <th>4</th>\n",
       "      <td>1064623</td>\n",
       "      <td>1298440</td>\n",
       "      <td>0.0</td>\n",
       "      <td>0.603235</td>\n",
       "      <td>0.396765</td>\n",
       "    </tr>\n",
       "  </tbody>\n",
       "</table>\n",
       "</div>"
      ],
      "text/plain": [
       "        id  member_id  prediction  prob_[0]  prob_[1]\n",
       "0  1068545  1303147    0.0         0.615222  0.384778\n",
       "1  1062177  1294027    1.0         0.434108  0.565892\n",
       "2  1066424  1291243    0.0         0.743378  0.256622\n",
       "3  1064908  1298959    1.0         0.495462  0.504538\n",
       "4  1064623  1298440    0.0         0.603235  0.396765"
      ]
     },
     "execution_count": 44,
     "metadata": {},
     "output_type": "execute_result"
    }
   ],
   "source": [
    "scored_data_to_db.limit(10).toPandas().head(5)"
   ]
  },
  {
   "cell_type": "markdown",
   "metadata": {},
   "source": [
    "#### Step 5.4 Save scored dataframe as Parquet file"
   ]
  },
  {
   "cell_type": "code",
   "execution_count": 45,
   "metadata": {},
   "outputs": [
    {
     "name": "stdout",
     "output_type": "stream",
     "text": [
      "WARNING: log4j.properties is not found. HADOOP_CONF_DIR may be incomplete.\n",
      "Java HotSpot(TM) 64-Bit Server VM warning: ignoring option MaxPermSize=512M; support was removed in 8.0\n",
      "2018-11-10 08:51:42,117 INFO  [main] fs.TrashPolicyDefault (TrashPolicyDefault.java:moveToTrash(168)) - Moved: 'hdfs://nameservice1/user/kadochnikov/spark/scored' to trash at: hdfs://nameservice1/user/kadochnikov/.Trash/Current/user/kadochnikov/spark/scored\n",
      "WARNING: log4j.properties is not found. HADOOP_CONF_DIR may be incomplete.\n",
      "Java HotSpot(TM) 64-Bit Server VM warning: ignoring option MaxPermSize=512M; support was removed in 8.0\n",
      "-rw-r--r--   3 kadochnikov kadochnikov          0 2018-11-10 08:51 hdfs:///user/kadochnikov/spark/scored/_SUCCESS\n",
      "-rw-r--r--   3 kadochnikov kadochnikov     406179 2018-11-10 08:51 hdfs:///user/kadochnikov/spark/scored/part-00000-217db7d6-e1d7-4202-a8e1-a64c67b09a39-c000.snappy.parquet\n"
     ]
    }
   ],
   "source": [
    "!hadoop fs -rm -r -f 'hdfs:///user/kadochnikov/spark/scored/'\n",
    "\n",
    "scored_data.write.parquet('hdfs:///user/kadochnikov/spark/scored/')\n",
    "\n",
    "!hadoop fs -ls -R 'hdfs:///user/kadochnikov/spark/scored/'"
   ]
  },
  {
   "cell_type": "markdown",
   "metadata": {},
   "source": [
    "## With pipeline defined, we can easily build other classifiers"
   ]
  },
  {
   "cell_type": "markdown",
   "metadata": {},
   "source": [
    "### Decision tree model"
   ]
  },
  {
   "cell_type": "code",
   "execution_count": 46,
   "metadata": {},
   "outputs": [
    {
     "name": "stdout",
     "output_type": "stream",
     "text": [
      "CPU times: user 9.55 ms, sys: 1.25 ms, total: 10.8 ms\n",
      "Wall time: 4.67 s\n"
     ]
    }
   ],
   "source": [
    "from pyspark.ml.classification import DecisionTreeClassifier\n",
    "\n",
    "# Create initial Decision Tree Model\n",
    "dt = DecisionTreeClassifier(labelCol=\"label\", featuresCol=\"features\", maxDepth=3)\n",
    "\n",
    "# Train model with Training Data\n",
    "%time dtModel = dt.fit(trainingData)"
   ]
  },
  {
   "cell_type": "code",
   "execution_count": 47,
   "metadata": {},
   "outputs": [
    {
     "name": "stdout",
     "output_type": "stream",
     "text": [
      "numNodes =  15\n",
      "depth =  3\n"
     ]
    }
   ],
   "source": [
    "print(\"numNodes = \", dtModel.numNodes)\n",
    "print(\"depth = \", dtModel.depth)"
   ]
  },
  {
   "cell_type": "code",
   "execution_count": 48,
   "metadata": {},
   "outputs": [],
   "source": [
    "predictions = dtModel.transform(testData)"
   ]
  },
  {
   "cell_type": "code",
   "execution_count": 49,
   "metadata": {},
   "outputs": [
    {
     "name": "stdout",
     "output_type": "stream",
     "text": [
      "+-----+----------+----------------------------------------+\n",
      "|label|prediction|probability                             |\n",
      "+-----+----------+----------------------------------------+\n",
      "|0.0  |0.0       |[0.6571285140562249,0.3428714859437751] |\n",
      "|0.0  |0.0       |[0.6571285140562249,0.3428714859437751] |\n",
      "|0.0  |0.0       |[0.6571285140562249,0.3428714859437751] |\n",
      "|0.0  |1.0       |[0.41598360655737704,0.5840163934426229]|\n",
      "|0.0  |0.0       |[0.6571285140562249,0.3428714859437751] |\n",
      "+-----+----------+----------------------------------------+\n",
      "only showing top 5 rows\n",
      "\n"
     ]
    }
   ],
   "source": [
    "predictions.select([\"label\", \"prediction\", \"probability\"]).show(5, truncate=False)"
   ]
  },
  {
   "cell_type": "code",
   "execution_count": 50,
   "metadata": {},
   "outputs": [
    {
     "data": {
      "text/plain": [
       "0.43488607719392086"
      ]
     },
     "execution_count": 50,
     "metadata": {},
     "output_type": "execute_result"
    }
   ],
   "source": [
    "evaluator = BinaryClassificationEvaluator()\n",
    "evaluator.evaluate(predictions)"
   ]
  },
  {
   "cell_type": "code",
   "execution_count": 51,
   "metadata": {},
   "outputs": [
    {
     "name": "stdout",
     "output_type": "stream",
     "text": [
      "+----------------+----+----+\n",
      "|label_prediction|   0|   1|\n",
      "+----------------+----+----+\n",
      "|               1| 584| 679|\n",
      "|               0|2466|1335|\n",
      "+----------------+----+----+\n",
      "\n"
     ]
    }
   ],
   "source": [
    "selected = predictions.select(\"label\", \"prediction\", \"probability\")\n",
    "\n",
    "selected = selected.withColumn(\"label\", selected[\"label\"].cast(IntegerType()))\n",
    "selected = selected.withColumn(\"prediction\", selected[\"prediction\"].cast(IntegerType()))\n",
    "\n",
    "selected.crosstab(\"label\", \"prediction\").show()"
   ]
  },
  {
   "cell_type": "markdown",
   "metadata": {},
   "source": [
    "Now we will try tuning the model with the ParamGridBuilder and the CrossValidator.\n",
    "\n",
    "As we indicate 3 values for maxDepth and 3 values for maxBin, this grid will have 3 x 3 = 9 parameter settings for CrossValidator to choose from. We will create a 5-fold CrossValidator.\n"
   ]
  },
  {
   "cell_type": "code",
   "execution_count": 52,
   "metadata": {},
   "outputs": [],
   "source": [
    "# Create ParamGrid for Cross Validation\n",
    "from pyspark.ml.tuning import ParamGridBuilder, CrossValidator\n",
    "paramGrid = (ParamGridBuilder()\n",
    "             .addGrid(dt.maxDepth, [1, 2, 6, 10])\n",
    "             .addGrid(dt.maxBins, [20, 40, 80])\n",
    "             .build())"
   ]
  },
  {
   "cell_type": "code",
   "execution_count": 53,
   "metadata": {},
   "outputs": [
    {
     "name": "stdout",
     "output_type": "stream",
     "text": [
      "CPU times: user 1.19 s, sys: 321 ms, total: 1.52 s\n",
      "Wall time: 2min 48s\n"
     ]
    }
   ],
   "source": [
    "# Create 5-fold CrossValidator\n",
    "cv = CrossValidator(estimator=dt, estimatorParamMaps=paramGrid, evaluator=evaluator, numFolds=5)\n",
    "\n",
    "# Run cross validations\n",
    "%time cvModel = cv.fit(trainingData)"
   ]
  },
  {
   "cell_type": "code",
   "execution_count": 54,
   "metadata": {},
   "outputs": [],
   "source": [
    "predictions = cvModel.transform(testData)"
   ]
  },
  {
   "cell_type": "code",
   "execution_count": 55,
   "metadata": {},
   "outputs": [
    {
     "name": "stdout",
     "output_type": "stream",
     "text": [
      "+-----+----------+----------------------------------------+\n",
      "|label|prediction|probability                             |\n",
      "+-----+----------+----------------------------------------+\n",
      "|0.0  |0.0       |[0.839541547277937,0.16045845272206305] |\n",
      "|0.0  |0.0       |[0.7489177489177489,0.2510822510822511] |\n",
      "|0.0  |0.0       |[0.7692307692307693,0.23076923076923078]|\n",
      "|0.0  |0.0       |[0.5071428571428571,0.4928571428571429] |\n",
      "|0.0  |0.0       |[1.0,0.0]                               |\n",
      "+-----+----------+----------------------------------------+\n",
      "only showing top 5 rows\n",
      "\n"
     ]
    }
   ],
   "source": [
    "predictions.select([\"label\", \"prediction\", \"probability\"]).show(5, truncate=False)"
   ]
  },
  {
   "cell_type": "code",
   "execution_count": 56,
   "metadata": {},
   "outputs": [
    {
     "data": {
      "text/plain": [
       "0.5291521191968692"
      ]
     },
     "execution_count": 56,
     "metadata": {},
     "output_type": "execute_result"
    }
   ],
   "source": [
    "evaluator.evaluate(predictions)"
   ]
  },
  {
   "cell_type": "markdown",
   "metadata": {},
   "source": [
    "### Random Forest Model"
   ]
  },
  {
   "cell_type": "code",
   "execution_count": 57,
   "metadata": {},
   "outputs": [
    {
     "name": "stdout",
     "output_type": "stream",
     "text": [
      "CPU times: user 12.4 ms, sys: 3.55 ms, total: 15.9 ms\n",
      "Wall time: 3.28 s\n"
     ]
    }
   ],
   "source": [
    "from pyspark.ml.classification import RandomForestClassifier\n",
    "\n",
    "# Create an initial RandomForest model.\n",
    "rf = RandomForestClassifier(labelCol=\"label\", featuresCol=\"features\")\n",
    "\n",
    "# Train model with Training Data\n",
    "%time rfModel = rf.fit(trainingData)"
   ]
  },
  {
   "cell_type": "code",
   "execution_count": 58,
   "metadata": {},
   "outputs": [],
   "source": [
    "predictions = rfModel.transform(testData)"
   ]
  },
  {
   "cell_type": "code",
   "execution_count": 59,
   "metadata": {},
   "outputs": [
    {
     "name": "stdout",
     "output_type": "stream",
     "text": [
      "+----------------+----+----+\n",
      "|label_prediction|   0|   1|\n",
      "+----------------+----+----+\n",
      "|               1| 534| 729|\n",
      "|               0|2551|1250|\n",
      "+----------------+----+----+\n",
      "\n"
     ]
    }
   ],
   "source": [
    "selected = predictions.select(\"label\", \"prediction\", \"probability\")\n",
    "\n",
    "selected = selected.withColumn(\"label\", selected[\"label\"].cast(IntegerType()))\n",
    "selected = selected.withColumn(\"prediction\", selected[\"prediction\"].cast(IntegerType()))\n",
    "\n",
    "selected.crosstab(\"label\", \"prediction\").show()"
   ]
  },
  {
   "cell_type": "code",
   "execution_count": 60,
   "metadata": {},
   "outputs": [
    {
     "data": {
      "text/plain": [
       "0.6695865758541989"
      ]
     },
     "execution_count": 60,
     "metadata": {},
     "output_type": "execute_result"
    }
   ],
   "source": [
    "evaluator.evaluate(predictions)"
   ]
  },
  {
   "cell_type": "markdown",
   "metadata": {},
   "source": [
    "Now we will try tuning the model with the ParamGridBuilder and the CrossValidator.\n",
    "\n",
    "As we indicate 3 values for maxDepth, 2 values for maxBin, and 2 values for numTrees, this grid will have 3 x 2 x 2 = 12 parameter settings for CrossValidator to choose from. We will create a 5-fold CrossValidator.\n"
   ]
  },
  {
   "cell_type": "code",
   "execution_count": 61,
   "metadata": {},
   "outputs": [],
   "source": [
    "# Create ParamGrid for Cross Validation\n",
    "from pyspark.ml.tuning import ParamGridBuilder, CrossValidator\n",
    "\n",
    "paramGrid = (ParamGridBuilder()\n",
    "             .addGrid(rf.maxDepth, [2, 4, 6])\n",
    "             .addGrid(rf.maxBins, [20, 60])\n",
    "             .addGrid(rf.numTrees, [5, 20])\n",
    "             .build())"
   ]
  },
  {
   "cell_type": "code",
   "execution_count": 62,
   "metadata": {},
   "outputs": [
    {
     "name": "stdout",
     "output_type": "stream",
     "text": [
      "CPU times: user 1.47 s, sys: 392 ms, total: 1.86 s\n",
      "Wall time: 3min 11s\n"
     ]
    }
   ],
   "source": [
    "# Create 5-fold CrossValidator\n",
    "cv = CrossValidator(estimator=rf, estimatorParamMaps=paramGrid, evaluator=evaluator, numFolds=5)\n",
    "\n",
    "# Run cross validations.  This can take about 6 minutes since it is training over 20 trees!\n",
    "%time cvModel = cv.fit(trainingData)"
   ]
  },
  {
   "cell_type": "code",
   "execution_count": 63,
   "metadata": {},
   "outputs": [],
   "source": [
    "predictions = cvModel.transform(testData)"
   ]
  },
  {
   "cell_type": "code",
   "execution_count": 64,
   "metadata": {},
   "outputs": [
    {
     "data": {
      "text/plain": [
       "0.6694923180402268"
      ]
     },
     "execution_count": 64,
     "metadata": {},
     "output_type": "execute_result"
    }
   ],
   "source": [
    "evaluator.evaluate(predictions)"
   ]
  },
  {
   "cell_type": "code",
   "execution_count": 65,
   "metadata": {},
   "outputs": [
    {
     "name": "stdout",
     "output_type": "stream",
     "text": [
      "+----------------+----+----+\n",
      "|label_prediction|   0|   1|\n",
      "+----------------+----+----+\n",
      "|               1| 517| 746|\n",
      "|               0|2527|1274|\n",
      "+----------------+----+----+\n",
      "\n"
     ]
    }
   ],
   "source": [
    "selected = predictions.select(\"label\", \"prediction\", \"probability\")\n",
    "\n",
    "selected = selected.withColumn(\"label\", selected[\"label\"].cast(IntegerType()))\n",
    "selected = selected.withColumn(\"prediction\", selected[\"prediction\"].cast(IntegerType()))\n",
    "\n",
    "selected.crosstab(\"label\", \"prediction\").show()"
   ]
  },
  {
   "cell_type": "code",
   "execution_count": null,
   "metadata": {},
   "outputs": [],
   "source": []
  }
 ],
 "metadata": {
  "kernelspec": {
   "display_name": "pySpark 1G 4e",
   "language": "python",
   "name": "pyspark2_1g"
  },
  "language_info": {
   "codemirror_mode": {
    "name": "ipython",
    "version": 3
   },
   "file_extension": ".py",
   "mimetype": "text/x-python",
   "name": "python",
   "nbconvert_exporter": "python",
   "pygments_lexer": "ipython3",
   "version": "3.6.4"
  }
 },
 "nbformat": 4,
 "nbformat_minor": 1
}
