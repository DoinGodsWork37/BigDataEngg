{
 "cells": [
  {
   "cell_type": "markdown",
   "metadata": {},
   "source": [
    "## Importing Libraries"
   ]
  },
  {
   "cell_type": "markdown",
   "metadata": {},
   "source": [
    "In this notebook, we'll examine the impact of choosing n in our n-grams across two libraries of texts. Onelibrary is comprised of several full-length novels, while another consists of articles of varying lenghts. We'llﬁrst deﬁne several helper functions that will be re-used throughout this process (each one is commented).We'll then proceed to evaluate our choice of n, per library, and then ﬁnally, use that n-value to compare ourlibrary of texts and return Jaccard similarity values for the more similiar texts."
   ]
  },
  {
   "cell_type": "code",
   "execution_count": 1,
   "metadata": {
    "scrolled": true
   },
   "outputs": [],
   "source": [
    "import nltk\n",
    "import pandas as pd"
   ]
  },
  {
   "cell_type": "code",
   "execution_count": 2,
   "metadata": {},
   "outputs": [],
   "source": [
    "text1 = \"texas online preparatory school now accepting enrollment for 2018 school year\"\n",
    "text2 = \"texas online preparatory school now accepting enrollment for 2019 school year\"\n",
    "text3 = \"No one knows how Google Duplex will work with eavesdropping laws\"\n",
    "text4 = \"Google sells the future, powered by your personal data\"\n",
    "text5 = \"Google And Amazon Raise The Volume On Conversational Commerce\"\n",
    "text6 = \"Google\"\n",
    "text7 = \"Apple made more Profit in the last Quarter than Amazon made since its Inception\"\n",
    "text8 = \"Recipe: Apple Pear Sour Cocktail\"\n",
    "\n",
    "all_documents = [text1,text2,text3,text4,text5,text6,text7,text8]"
   ]
  },
  {
   "cell_type": "markdown",
   "metadata": {},
   "source": [
    "### Jaccard similarity using words"
   ]
  },
  {
   "cell_type": "code",
   "execution_count": 3,
   "metadata": {},
   "outputs": [],
   "source": [
    "def jaccard_similarity_words(text1, text2):\n",
    "\n",
    "    n=1\n",
    "\n",
    "    doc1_grams = nltk.ngrams(text1.split(),n)\n",
    "    doc2_grams = nltk.ngrams(text2.split(),n)\n",
    "\n",
    "    doc1 = []\n",
    "    doc2 = []\n",
    "\n",
    "    for gram in doc1_grams:\n",
    "        doc1.append(gram)\n",
    "\n",
    "    for gram in doc2_grams:\n",
    "        doc2.append(gram)\n",
    "\n",
    "    intersection = len(list(set(doc1).intersection(set(doc2))))\n",
    "    union = len(set(doc1)) + len(set(doc2)) - intersection\n",
    "    jaccard_similarity = intersection / union\n",
    "\n",
    "    return doc1, doc2, intersection, union, jaccard_similarity"
   ]
  },
  {
   "cell_type": "code",
   "execution_count": 4,
   "metadata": {},
   "outputs": [
    {
     "name": "stdout",
     "output_type": "stream",
     "text": [
      "[('texas',), ('online',), ('preparatory',), ('school',), ('now',), ('accepting',), ('enrollment',), ('for',), ('2018',), ('school',), ('year',)]\n",
      "[('texas',), ('online',), ('preparatory',), ('school',), ('now',), ('accepting',), ('enrollment',), ('for',), ('2019',), ('school',), ('year',)]\n",
      "Intersection: 9\n",
      "Union: 11\n",
      "Jaccard_similarity: 0.8181818181818182\n"
     ]
    }
   ],
   "source": [
    "doc1, doc2, Intersection, Union, Jaccard_similarity = jaccard_similarity_words(text1, text2)\n",
    "\n",
    "print(doc1)\n",
    "print(doc2)\n",
    "\n",
    "print(\"Intersection: {}\". format(Intersection))\n",
    "print(\"Union: {}\". format(Union))\n",
    "print(\"Jaccard_similarity: {}\". format(Jaccard_similarity))"
   ]
  },
  {
   "cell_type": "markdown",
   "metadata": {},
   "source": [
    "### Jaccard similarity using hashes"
   ]
  },
  {
   "cell_type": "code",
   "execution_count": 5,
   "metadata": {},
   "outputs": [],
   "source": [
    "def jaccard_similarity_hashed(text1, text2):\n",
    "\n",
    "    n=1\n",
    "\n",
    "    doc1_grams = nltk.ngrams(text1.split(),n)\n",
    "    doc2_grams = nltk.ngrams(text2.split(),n)\n",
    "\n",
    "    hashed1 = []\n",
    "    hashed2 = []\n",
    "\n",
    "    for gram in doc1_grams:\n",
    "        hashed1.append(hash(gram))\n",
    "\n",
    "    for gram in doc2_grams:\n",
    "        hashed2.append(hash(gram)) \n",
    "\n",
    "    intersection = len(list(set(hashed1).intersection(set(hashed2))))\n",
    "    union = len(set(hashed1)) + len(set(hashed2)) - intersection\n",
    "    jaccard_similarity = intersection / union\n",
    "\n",
    "    return hashed1, hashed2, intersection, union, jaccard_similarity"
   ]
  },
  {
   "cell_type": "code",
   "execution_count": 6,
   "metadata": {},
   "outputs": [
    {
     "name": "stdout",
     "output_type": "stream",
     "text": [
      "[-3828334556592602502, 7796169260296222837, 3829359575656866846, 7380576032124812189, -2794614432831930426, -3880342475057074692, 2865250114530183441, 8842832327081768553, 3337012716206599963, 7380576032124812189, -1468383533794503398]\n",
      "[-3828334556592602502, 7796169260296222837, 3829359575656866846, 7380576032124812189, -2794614432831930426, -3880342475057074692, 2865250114530183441, 8842832327081768553, 3476266166996983440, 7380576032124812189, -1468383533794503398]\n",
      "Intersection: 9\n",
      "Union: 11\n",
      "Jaccard_similarity: 0.8181818181818182\n"
     ]
    }
   ],
   "source": [
    "hashed1, hashed2, Intersection, Union, Jaccard_similarity = jaccard_similarity_hashed(text1, text2)\n",
    "\n",
    "print(hashed1)\n",
    "print(hashed2)\n",
    "\n",
    "print(\"Intersection: {}\". format(Intersection))\n",
    "print(\"Union: {}\". format(Union))\n",
    "print(\"Jaccard_similarity: {}\". format(Jaccard_similarity))"
   ]
  },
  {
   "cell_type": "markdown",
   "metadata": {},
   "source": [
    "### Compare similar topics"
   ]
  },
  {
   "cell_type": "code",
   "execution_count": 7,
   "metadata": {},
   "outputs": [
    {
     "name": "stdout",
     "output_type": "stream",
     "text": [
      "[('Google',), ('sells',), ('the',), ('future,',), ('powered',), ('by',), ('your',), ('personal',), ('data',)]\n",
      "[('Google',), ('And',), ('Amazon',), ('Raise',), ('The',), ('Volume',), ('On',), ('Conversational',), ('Commerce',)]\n",
      "Intersection: 1\n",
      "Union: 17\n",
      "Jaccard_similarity: 0.058823529411764705\n"
     ]
    }
   ],
   "source": [
    "doc1, doc2, Intersection, Union, Jaccard_similarity = jaccard_similarity_words(text4, text5)\n",
    "\n",
    "print(doc1)\n",
    "print(doc2)\n",
    "\n",
    "print(\"Intersection: {}\". format(Intersection))\n",
    "print(\"Union: {}\". format(Union))\n",
    "print(\"Jaccard_similarity: {}\". format(Jaccard_similarity))"
   ]
  },
  {
   "cell_type": "markdown",
   "metadata": {},
   "source": [
    "### Compare long vs short strings"
   ]
  },
  {
   "cell_type": "code",
   "execution_count": 8,
   "metadata": {},
   "outputs": [
    {
     "name": "stdout",
     "output_type": "stream",
     "text": [
      "[('Google',), ('And',), ('Amazon',), ('Raise',), ('The',), ('Volume',), ('On',), ('Conversational',), ('Commerce',)]\n",
      "[('Google',)]\n",
      "Intersection: 1\n",
      "Union: 9\n",
      "Jaccard_similarity: 0.1111111111111111\n"
     ]
    }
   ],
   "source": [
    "doc1, doc2, Intersection, Union, Jaccard_similarity = jaccard_similarity_words(text5, text6)\n",
    "\n",
    "print(doc1)\n",
    "print(doc2)\n",
    "\n",
    "print(\"Intersection: {}\". format(Intersection))\n",
    "print(\"Union: {}\". format(Union))\n",
    "print(\"Jaccard_similarity: {}\". format(Jaccard_similarity))"
   ]
  },
  {
   "cell_type": "markdown",
   "metadata": {},
   "source": [
    "### Compare topics"
   ]
  },
  {
   "cell_type": "code",
   "execution_count": 9,
   "metadata": {},
   "outputs": [
    {
     "name": "stdout",
     "output_type": "stream",
     "text": [
      "[('Apple',), ('made',), ('more',), ('Profit',), ('in',), ('the',), ('last',), ('Quarter',), ('than',), ('Amazon',), ('made',), ('since',), ('its',), ('Inception',)]\n",
      "[('Recipe:',), ('Apple',), ('Pear',), ('Sour',), ('Cocktail',)]\n",
      "Intersection: 1\n",
      "Union: 17\n",
      "Jaccard_similarity: 0.058823529411764705\n"
     ]
    }
   ],
   "source": [
    "doc1, doc2, Intersection, Union, Jaccard_similarity = jaccard_similarity_words(text7, text8)\n",
    "\n",
    "print(doc1)\n",
    "print(doc2)\n",
    "\n",
    "print(\"Intersection: {}\". format(Intersection))\n",
    "print(\"Union: {}\". format(Union))\n",
    "print(\"Jaccard_similarity: {}\". format(Jaccard_similarity))"
   ]
  }
 ],
 "metadata": {
  "kernelspec": {
   "display_name": "Python 3.6.4",
   "language": "python",
   "name": "python3"
  },
  "language_info": {
   "codemirror_mode": {
    "name": "ipython",
    "version": 3
   },
   "file_extension": ".py",
   "mimetype": "text/x-python",
   "name": "python",
   "nbconvert_exporter": "python",
   "pygments_lexer": "ipython3",
   "version": "3.6.4"
  }
 },
 "nbformat": 4,
 "nbformat_minor": 1
}
