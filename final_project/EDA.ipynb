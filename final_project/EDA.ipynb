{
 "cells": [
  {
   "cell_type": "code",
   "execution_count": 1,
   "metadata": {},
   "outputs": [
    {
     "data": {
      "text/html": [
       "<style>.container { width:95% !important; }</style>"
      ],
      "text/plain": [
       "<IPython.core.display.HTML object>"
      ]
     },
     "metadata": {},
     "output_type": "display_data"
    },
    {
     "name": "stdout",
     "output_type": "stream",
     "text": [
      "3.6.7 (default, Oct 22 2018, 11:32:17) \n",
      "[GCC 8.2.0]\n"
     ]
    }
   ],
   "source": [
    "# Put these at the top of every notebook, to get automatic reloading and inline plotting\n",
    "from IPython.core.display import display, HTML\n",
    "import pandas as pd\n",
    "%reload_ext autoreload\n",
    "%autoreload 1\n",
    "%matplotlib inline\n",
    "\n",
    "import warnings\n",
    "warnings.filterwarnings('ignore')\n",
    "\n",
    "pd.set_option('display.max_rows', 500)\n",
    "pd.set_option('display.max_columns', 500)\n",
    "pd.set_option('display.width', 1000)\n",
    "pd.set_option('max_colwidth',100)    \n",
    "\n",
    "display(HTML(\"<style>.container { width:95% !important; }</style>\"))\n",
    "\n",
    "import sys\n",
    "import matplotlib.pyplot as plt\n",
    "import seaborn as sns\n",
    "import re\n",
    "import json\n",
    "from itertools import combinations, takewhile\n",
    "import collections\n",
    "import pandas as pd\n",
    "import numpy as np\n",
    "import os\n",
    "\n",
    "from simhash import Simhash, SimhashIndex\n",
    "\n",
    "sns.set()\n",
    "\n",
    "from Utils.UtilsViz import *\n",
    "from Utils.UtilsGeoViz import *\n",
    "\n",
    "print(sys.version)"
   ]
  },
  {
   "cell_type": "code",
   "execution_count": 2,
   "metadata": {},
   "outputs": [
    {
     "data": {
      "text/plain": [
       "(1048947, 20)"
      ]
     },
     "metadata": {},
     "output_type": "display_data"
    },
    {
     "data": {
      "text/html": [
       "<div>\n",
       "<style scoped>\n",
       "    .dataframe tbody tr th:only-of-type {\n",
       "        vertical-align: middle;\n",
       "    }\n",
       "\n",
       "    .dataframe tbody tr th {\n",
       "        vertical-align: top;\n",
       "    }\n",
       "\n",
       "    .dataframe thead th {\n",
       "        text-align: right;\n",
       "    }\n",
       "</style>\n",
       "<table border=\"1\" class=\"dataframe\">\n",
       "  <thead>\n",
       "    <tr style=\"text-align: right;\">\n",
       "      <th></th>\n",
       "      <th>id_str</th>\n",
       "      <th>text</th>\n",
       "      <th>in_reply_to_status_id_str</th>\n",
       "      <th>in_reply_to_user_id_str</th>\n",
       "      <th>created_at</th>\n",
       "      <th>user_id_str</th>\n",
       "      <th>user_name</th>\n",
       "      <th>user_followers_count</th>\n",
       "      <th>user_favourites_count</th>\n",
       "      <th>user_statuses_count</th>\n",
       "      <th>user_friends_count</th>\n",
       "      <th>coordinates</th>\n",
       "      <th>favorite_count</th>\n",
       "      <th>entities_hashtags</th>\n",
       "      <th>favorited</th>\n",
       "      <th>retweet_count</th>\n",
       "      <th>retweeted</th>\n",
       "      <th>retweeted_status_user_id_str</th>\n",
       "      <th>retweeted_status_user_name</th>\n",
       "      <th>hashtags_cleaned</th>\n",
       "    </tr>\n",
       "  </thead>\n",
       "  <tbody>\n",
       "    <tr>\n",
       "      <th>0</th>\n",
       "      <td>8.778927e+17</td>\n",
       "      <td>RT @ArkansasBlog: Study: States with concealed carry laws experience rise in violent crime. http...</td>\n",
       "      <td>NaN</td>\n",
       "      <td>NaN</td>\n",
       "      <td>Thu Jun 22 14:15:01 +0000 2017</td>\n",
       "      <td>1.550783e+08</td>\n",
       "      <td>Lake Man</td>\n",
       "      <td>1554.0</td>\n",
       "      <td>56574.0</td>\n",
       "      <td>95959.0</td>\n",
       "      <td>2577.0</td>\n",
       "      <td>NaN</td>\n",
       "      <td>0.0</td>\n",
       "      <td>[]</td>\n",
       "      <td>False</td>\n",
       "      <td>0.0</td>\n",
       "      <td>False</td>\n",
       "      <td>17131180</td>\n",
       "      <td>Arkansas Blog</td>\n",
       "      <td>[]</td>\n",
       "    </tr>\n",
       "    <tr>\n",
       "      <th>1</th>\n",
       "      <td>8.778927e+17</td>\n",
       "      <td>IL Healthcare Truth Tour: Heal Don't Repeal! 6/22 2:30PM Federal Plaza, Chicago. Mobile billboar...</td>\n",
       "      <td>NaN</td>\n",
       "      <td>NaN</td>\n",
       "      <td>Thu Jun 22 14:15:01 +0000 2017</td>\n",
       "      <td>7.159992e+06</td>\n",
       "      <td>Annie Williams</td>\n",
       "      <td>22.0</td>\n",
       "      <td>167.0</td>\n",
       "      <td>417.0</td>\n",
       "      <td>87.0</td>\n",
       "      <td>NaN</td>\n",
       "      <td>0.0</td>\n",
       "      <td>[]</td>\n",
       "      <td>False</td>\n",
       "      <td>0.0</td>\n",
       "      <td>False</td>\n",
       "      <td>NaN</td>\n",
       "      <td>NaN</td>\n",
       "      <td>[]</td>\n",
       "    </tr>\n",
       "    <tr>\n",
       "      <th>2</th>\n",
       "      <td>8.778927e+17</td>\n",
       "      <td>IL Healthcare Truth Tour: Heal Don't Repeal! 6/22 2:30PM Federal Plaza, Chicago. Mobile billboar...</td>\n",
       "      <td>NaN</td>\n",
       "      <td>NaN</td>\n",
       "      <td>Thu Jun 22 14:15:01 +0000 2017</td>\n",
       "      <td>8.271887e+17</td>\n",
       "      <td>Indivisible9IL</td>\n",
       "      <td>264.0</td>\n",
       "      <td>111.0</td>\n",
       "      <td>342.0</td>\n",
       "      <td>231.0</td>\n",
       "      <td>NaN</td>\n",
       "      <td>0.0</td>\n",
       "      <td>[]</td>\n",
       "      <td>False</td>\n",
       "      <td>0.0</td>\n",
       "      <td>False</td>\n",
       "      <td>NaN</td>\n",
       "      <td>NaN</td>\n",
       "      <td>[]</td>\n",
       "    </tr>\n",
       "    <tr>\n",
       "      <th>3</th>\n",
       "      <td>8.778927e+17</td>\n",
       "      <td>IL Healthcare Truth Tour: Heal Don't Repeal! 6/22 2:30PM Federal Plaza, Chicago. Mobile billboar...</td>\n",
       "      <td>NaN</td>\n",
       "      <td>NaN</td>\n",
       "      <td>Thu Jun 22 14:15:02 +0000 2017</td>\n",
       "      <td>8.313191e+17</td>\n",
       "      <td>Indivisible Illinois</td>\n",
       "      <td>1027.0</td>\n",
       "      <td>1626.0</td>\n",
       "      <td>982.0</td>\n",
       "      <td>267.0</td>\n",
       "      <td>NaN</td>\n",
       "      <td>0.0</td>\n",
       "      <td>[]</td>\n",
       "      <td>False</td>\n",
       "      <td>0.0</td>\n",
       "      <td>False</td>\n",
       "      <td>NaN</td>\n",
       "      <td>NaN</td>\n",
       "      <td>[]</td>\n",
       "    </tr>\n",
       "    <tr>\n",
       "      <th>4</th>\n",
       "      <td>8.778927e+17</td>\n",
       "      <td>Day 1 of Chicago Summit: Gregory Touhill delivers keynote on Cybersecurity=Risk Management #ISMG...</td>\n",
       "      <td>NaN</td>\n",
       "      <td>NaN</td>\n",
       "      <td>Thu Jun 22 14:15:02 +0000 2017</td>\n",
       "      <td>3.998460e+07</td>\n",
       "      <td>ISMG Network News</td>\n",
       "      <td>2395.0</td>\n",
       "      <td>119.0</td>\n",
       "      <td>12833.0</td>\n",
       "      <td>960.0</td>\n",
       "      <td>NaN</td>\n",
       "      <td>0.0</td>\n",
       "      <td>[Row(indices=[91, 103], text='ISMGSummits'), Row(indices=[104, 112], text='infosec')]</td>\n",
       "      <td>False</td>\n",
       "      <td>0.0</td>\n",
       "      <td>False</td>\n",
       "      <td>NaN</td>\n",
       "      <td>NaN</td>\n",
       "      <td>['ISMGSummits', 'infosec']</td>\n",
       "    </tr>\n",
       "  </tbody>\n",
       "</table>\n",
       "</div>"
      ],
      "text/plain": [
       "         id_str                                                                                                 text in_reply_to_status_id_str  in_reply_to_user_id_str                      created_at   user_id_str             user_name  user_followers_count  user_favourites_count  user_statuses_count  user_friends_count coordinates favorite_count                                                                      entities_hashtags favorited  retweet_count retweeted retweeted_status_user_id_str retweeted_status_user_name            hashtags_cleaned\n",
       "0  8.778927e+17  RT @ArkansasBlog: Study: States with concealed carry laws experience rise in violent crime. http...                       NaN                      NaN  Thu Jun 22 14:15:01 +0000 2017  1.550783e+08              Lake Man                1554.0                56574.0              95959.0              2577.0         NaN            0.0                                                                                     []     False            0.0     False                     17131180              Arkansas Blog                          []\n",
       "1  8.778927e+17  IL Healthcare Truth Tour: Heal Don't Repeal! 6/22 2:30PM Federal Plaza, Chicago. Mobile billboar...                       NaN                      NaN  Thu Jun 22 14:15:01 +0000 2017  7.159992e+06        Annie Williams                  22.0                  167.0                417.0                87.0         NaN            0.0                                                                                     []     False            0.0     False                          NaN                        NaN                          []\n",
       "2  8.778927e+17  IL Healthcare Truth Tour: Heal Don't Repeal! 6/22 2:30PM Federal Plaza, Chicago. Mobile billboar...                       NaN                      NaN  Thu Jun 22 14:15:01 +0000 2017  8.271887e+17        Indivisible9IL                 264.0                  111.0                342.0               231.0         NaN            0.0                                                                                     []     False            0.0     False                          NaN                        NaN                          []\n",
       "3  8.778927e+17  IL Healthcare Truth Tour: Heal Don't Repeal! 6/22 2:30PM Federal Plaza, Chicago. Mobile billboar...                       NaN                      NaN  Thu Jun 22 14:15:02 +0000 2017  8.313191e+17  Indivisible Illinois                1027.0                 1626.0                982.0               267.0         NaN            0.0                                                                                     []     False            0.0     False                          NaN                        NaN                          []\n",
       "4  8.778927e+17  Day 1 of Chicago Summit: Gregory Touhill delivers keynote on Cybersecurity=Risk Management #ISMG...                       NaN                      NaN  Thu Jun 22 14:15:02 +0000 2017  3.998460e+07     ISMG Network News                2395.0                  119.0              12833.0               960.0         NaN            0.0  [Row(indices=[91, 103], text='ISMGSummits'), Row(indices=[104, 112], text='infosec')]     False            0.0     False                          NaN                        NaN  ['ISMGSummits', 'infosec']"
      ]
     },
     "metadata": {},
     "output_type": "display_data"
    }
   ],
   "source": [
    "fpath = os.path.join(os.getcwd(), \"temp.csv\")\n",
    "tweets_df = pd.read_csv(fpath, index_col=\"Unnamed: 0\")\n",
    "display(\n",
    "    tweets_df.shape,\n",
    "    tweets_df.head()\n",
    ")"
   ]
  },
  {
   "cell_type": "code",
   "execution_count": 3,
   "metadata": {},
   "outputs": [],
   "source": [
    "from ast import literal_eval\n",
    "\n",
    "def le(row):\n",
    "    if row is np.NaN:\n",
    "        return []\n",
    "    else:\n",
    "        return literal_eval(row)\n",
    "\n",
    "tweets_df['hashtags_cleaned']=tweets_df['hashtags_cleaned'].apply(le)"
   ]
  },
  {
   "cell_type": "code",
   "execution_count": 4,
   "metadata": {},
   "outputs": [],
   "source": [
    "tweets_df[\"text\"].fillna(value=\"\", inplace=True)\n",
    "tweets_df[\"text_len\"] = tweets_df[\"text\"].apply(len)"
   ]
  },
  {
   "cell_type": "markdown",
   "metadata": {},
   "source": [
    "# Q1 - Identify tweets related to UChicago and 3-4 universities of your choice"
   ]
  },
  {
   "cell_type": "code",
   "execution_count": 5,
   "metadata": {
    "collapsed": true
   },
   "outputs": [
    {
     "data": {
      "text/plain": [
       "(133, 3)"
      ]
     },
     "metadata": {},
     "output_type": "display_data"
    },
    {
     "data": {
      "text/plain": [
       "(93, 3)"
      ]
     },
     "metadata": {},
     "output_type": "display_data"
    },
    {
     "data": {
      "text/plain": [
       "(88, 3)"
      ]
     },
     "metadata": {},
     "output_type": "display_data"
    },
    {
     "data": {
      "text/plain": [
       "(1021, 3)"
      ]
     },
     "metadata": {},
     "output_type": "display_data"
    },
    {
     "data": {
      "text/plain": [
       "(818, 3)"
      ]
     },
     "metadata": {},
     "output_type": "display_data"
    },
    {
     "data": {
      "text/plain": [
       "(214, 3)"
      ]
     },
     "metadata": {},
     "output_type": "display_data"
    },
    {
     "data": {
      "text/plain": [
       "(1048947,)"
      ]
     },
     "metadata": {},
     "output_type": "display_data"
    },
    {
     "data": {
      "text/plain": [
       "(1048947, 29)"
      ]
     },
     "metadata": {},
     "output_type": "display_data"
    }
   ],
   "source": [
    "uc_favored_tags = [\"uchicago\", \"uchearing\", \"universityofchicago\", \"pritzkerschoolofmedicine\",\n",
    "                   \"uofc\", \"maroonmade\", \"chicagobooth\"]\n",
    "nw_favored_tags = [\"northwestern\"]\n",
    "upenn_favored_tags = [\"upenn\", \"penn\", \"uofpenn\", \"universityofpennsylvania\", \"pennlaw\", \"upennhearing\"]\n",
    "uic_favored_tags = [\"UIC\", \"UICProud\"]\n",
    "mit_favored_tags = [\"MIT\"]\n",
    "stanford_favored_tags = [\"stanford\"]\n",
    "\n",
    "def is_stanford_tweet(row):\n",
    "    if row is np.NaN:\n",
    "        return False\n",
    "    for ftag in stanford_favored_tags:\n",
    "        for tag in row:\n",
    "            if ftag.lower() in tag.lower():\n",
    "                return True\n",
    "    return False\n",
    "\n",
    "def is_upenn_tweet(row):\n",
    "    if row is np.NaN:\n",
    "        return False\n",
    "    for ftag in upenn_favored_tags:\n",
    "        for tag in row:\n",
    "            if ftag.lower() in tag.lower():\n",
    "                return True\n",
    "    return False\n",
    "\n",
    "def is_nw_tweet(row):\n",
    "    if row is np.NaN:\n",
    "        return False\n",
    "    for ftag in nw_favored_tags:\n",
    "        for tag in row:\n",
    "            if ftag.lower() == tag.lower():\n",
    "                return True\n",
    "    return False\n",
    "\n",
    "def is_uc_tweet(row):\n",
    "    if row is np.NaN:\n",
    "        return False\n",
    "    for ftag in uc_favored_tags:\n",
    "        for tag in row:\n",
    "            if ftag.lower() in tag.lower():\n",
    "                return True\n",
    "    return False\n",
    "\n",
    "def is_uic_tweet(row):\n",
    "    if row is np.NaN:\n",
    "        return False\n",
    "    for ftag in uic_favored_tags:\n",
    "        for tag in row:\n",
    "            if ftag.lower() == tag.lower():\n",
    "                return True\n",
    "    return False\n",
    "\n",
    "def is_mit_tweet(row):\n",
    "    if row is np.NaN:\n",
    "        return False\n",
    "    for ftag in mit_favored_tags:\n",
    "        for tag in row:\n",
    "            if ftag.lower() == tag.lower():\n",
    "                return True\n",
    "    return False\n",
    "\n",
    "tweets_df[\"mit_tweet\"] = tweets_df[\"hashtags_cleaned\"].apply(is_mit_tweet)\n",
    "tweets_df[\"stanford_tweet\"] = tweets_df[\"hashtags_cleaned\"].apply(is_stanford_tweet)\n",
    "tweets_df[\"nw_tweet\"] = tweets_df[\"hashtags_cleaned\"].apply(is_nw_tweet)\n",
    "tweets_df[\"upenn_tweet\"] = tweets_df[\"hashtags_cleaned\"].apply(is_upenn_tweet)\n",
    "tweets_df[\"uc_tweet\"] = tweets_df[\"hashtags_cleaned\"].apply(is_uc_tweet)\n",
    "tweets_df[\"uic_tweet\"] = tweets_df[\"hashtags_cleaned\"].apply(is_uic_tweet)\n",
    "\n",
    "cols = [\"uc_tweet\", \"uic_tweet\", \"mit_tweet\", \"stanford_tweet\", \"upenn_tweet\", \"nw_tweet\"]\n",
    "\n",
    "def is_uni_tweet(row):\n",
    "    for col in cols:\n",
    "        if row[col]:\n",
    "            return True\n",
    "    else:\n",
    "        return False\n",
    "\n",
    "tweets_df[\"uni_tweet\"] = tweets_df[cols].apply(is_uni_tweet, axis=1)\n",
    "\n",
    "def is_uni_tweet2(row):\n",
    "    for col in cols:\n",
    "        if row[col]:\n",
    "            return col[0:-6]\n",
    "    else:\n",
    "        return \"\"\n",
    "\n",
    "tweets_df[\"uni_tweet_name\"] = tweets_df[cols].apply(is_uni_tweet2, axis=1)"
   ]
  },
  {
   "cell_type": "markdown",
   "metadata": {},
   "source": [
    "Make a subset data set that only picks tweets related to universities we're analysing."
   ]
  },
  {
   "cell_type": "code",
   "execution_count": 6,
   "metadata": {},
   "outputs": [],
   "source": [
    "uni_df = tweets_df[(tweets_df[\"uni_tweet\"]==True)]"
   ]
  },
  {
   "cell_type": "markdown",
   "metadata": {},
   "source": [
    "Let's just quickly make a Time dimension for ease of use later on."
   ]
  },
  {
   "cell_type": "code",
   "execution_count": 50,
   "metadata": {},
   "outputs": [],
   "source": [
    "uni_df[\"created_at\"] = pd.to_datetime(uni_df['created_at'])"
   ]
  },
  {
   "cell_type": "code",
   "execution_count": 51,
   "metadata": {},
   "outputs": [],
   "source": [
    "uni_df['created_month'] = uni_df['created_at'].map(lambda x: x.month)\n",
    "uni_df['created_year'] = uni_df['created_at'].map(lambda x: x.year)\n",
    "uni_df['created_date'] = uni_df['created_at'].map(lambda x: x.day)\n",
    "uni_df['created_dayofweek'] = uni_df['created_at'].map(lambda x: x.weekday_name)"
   ]
  },
  {
   "cell_type": "code",
   "execution_count": 7,
   "metadata": {},
   "outputs": [
    {
     "data": {
      "text/plain": [
       "(2350, 29)"
      ]
     },
     "execution_count": 7,
     "metadata": {},
     "output_type": "execute_result"
    }
   ],
   "source": [
    "uni_df.shape"
   ]
  },
  {
   "cell_type": "markdown",
   "metadata": {},
   "source": [
    "# Q2 - Identify the most prolific / influential Twitterers\n",
    "1. By message volume\n",
    "1. By message retweet\n",
    "1. How much are they tweeting about the Universities vs. other topics? "
   ]
  },
  {
   "cell_type": "code",
   "execution_count": 8,
   "metadata": {},
   "outputs": [
    {
     "data": {
      "text/html": [
       "<div>\n",
       "<style scoped>\n",
       "    .dataframe tbody tr th:only-of-type {\n",
       "        vertical-align: middle;\n",
       "    }\n",
       "\n",
       "    .dataframe tbody tr th {\n",
       "        vertical-align: top;\n",
       "    }\n",
       "\n",
       "    .dataframe thead th {\n",
       "        text-align: right;\n",
       "    }\n",
       "</style>\n",
       "<table border=\"1\" class=\"dataframe\">\n",
       "  <thead>\n",
       "    <tr style=\"text-align: right;\">\n",
       "      <th></th>\n",
       "      <th>id_str</th>\n",
       "      <th>text</th>\n",
       "      <th>in_reply_to_status_id_str</th>\n",
       "      <th>in_reply_to_user_id_str</th>\n",
       "      <th>created_at</th>\n",
       "      <th>user_id_str</th>\n",
       "      <th>user_name</th>\n",
       "      <th>user_followers_count</th>\n",
       "      <th>user_favourites_count</th>\n",
       "      <th>user_statuses_count</th>\n",
       "      <th>user_friends_count</th>\n",
       "      <th>coordinates</th>\n",
       "      <th>favorite_count</th>\n",
       "      <th>entities_hashtags</th>\n",
       "      <th>favorited</th>\n",
       "      <th>retweet_count</th>\n",
       "      <th>retweeted</th>\n",
       "      <th>retweeted_status_user_id_str</th>\n",
       "      <th>retweeted_status_user_name</th>\n",
       "      <th>hashtags_cleaned</th>\n",
       "      <th>text_len</th>\n",
       "      <th>mit_tweet</th>\n",
       "      <th>stanford_tweet</th>\n",
       "      <th>nw_tweet</th>\n",
       "      <th>upenn_tweet</th>\n",
       "      <th>uc_tweet</th>\n",
       "      <th>uic_tweet</th>\n",
       "      <th>uni_tweet</th>\n",
       "      <th>uni_tweet_name</th>\n",
       "    </tr>\n",
       "  </thead>\n",
       "  <tbody>\n",
       "    <tr>\n",
       "      <th>348</th>\n",
       "      <td>8.778933e+17</td>\n",
       "      <td>RT @OriginalMcGill3: #AGTG EXTREMELY HONORED AND BLESSED TO RECIEVE AN OFFER FROM STANFORD UNIVE...</td>\n",
       "      <td>NaN</td>\n",
       "      <td>NaN</td>\n",
       "      <td>Thu Jun 22 14:17:26 +0000 2017</td>\n",
       "      <td>24333184.0</td>\n",
       "      <td>Gabe</td>\n",
       "      <td>85.0</td>\n",
       "      <td>385.0</td>\n",
       "      <td>152.0</td>\n",
       "      <td>213.0</td>\n",
       "      <td>NaN</td>\n",
       "      <td>0.0</td>\n",
       "      <td>[Row(indices=[21, 26], text='AGTG'), Row(indices=[103, 114], text='GoStanford')]</td>\n",
       "      <td>False</td>\n",
       "      <td>0.0</td>\n",
       "      <td>False</td>\n",
       "      <td>1104434276</td>\n",
       "      <td>Jonathan McGill</td>\n",
       "      <td>[AGTG, GoStanford]</td>\n",
       "      <td>140</td>\n",
       "      <td>False</td>\n",
       "      <td>True</td>\n",
       "      <td>False</td>\n",
       "      <td>False</td>\n",
       "      <td>False</td>\n",
       "      <td>False</td>\n",
       "      <td>True</td>\n",
       "      <td>stanford</td>\n",
       "    </tr>\n",
       "    <tr>\n",
       "      <th>373</th>\n",
       "      <td>8.778933e+17</td>\n",
       "      <td>New algorithm generates folding patterns to produce any #3-D origami structure #MIT... https://t...</td>\n",
       "      <td>NaN</td>\n",
       "      <td>NaN</td>\n",
       "      <td>Thu Jun 22 14:17:39 +0000 2017</td>\n",
       "      <td>588604189.0</td>\n",
       "      <td>Technolizer</td>\n",
       "      <td>880.0</td>\n",
       "      <td>0.0</td>\n",
       "      <td>117346.0</td>\n",
       "      <td>381.0</td>\n",
       "      <td>NaN</td>\n",
       "      <td>0.0</td>\n",
       "      <td>[Row(indices=[79, 83], text='MIT')]</td>\n",
       "      <td>False</td>\n",
       "      <td>0.0</td>\n",
       "      <td>False</td>\n",
       "      <td>NaN</td>\n",
       "      <td>NaN</td>\n",
       "      <td>[MIT]</td>\n",
       "      <td>134</td>\n",
       "      <td>True</td>\n",
       "      <td>False</td>\n",
       "      <td>False</td>\n",
       "      <td>False</td>\n",
       "      <td>False</td>\n",
       "      <td>False</td>\n",
       "      <td>True</td>\n",
       "      <td>mit</td>\n",
       "    </tr>\n",
       "    <tr>\n",
       "      <th>443</th>\n",
       "      <td>8.778935e+17</td>\n",
       "      <td>RT @MirandaWeinberg: Morning! Today I'll be live from #UPennHearing on behalf of @GETUPgrads &amp;am...</td>\n",
       "      <td>NaN</td>\n",
       "      <td>NaN</td>\n",
       "      <td>Thu Jun 22 14:18:07 +0000 2017</td>\n",
       "      <td>274415582.0</td>\n",
       "      <td>Danielle Hanley</td>\n",
       "      <td>131.0</td>\n",
       "      <td>637.0</td>\n",
       "      <td>577.0</td>\n",
       "      <td>288.0</td>\n",
       "      <td>NaN</td>\n",
       "      <td>0.0</td>\n",
       "      <td>[Row(indices=[54, 67], text='UPennHearing'), Row(indices=[133, 143], text='UChearing')]</td>\n",
       "      <td>False</td>\n",
       "      <td>0.0</td>\n",
       "      <td>False</td>\n",
       "      <td>1158927727</td>\n",
       "      <td>Miranda Weinberg</td>\n",
       "      <td>[UPennHearing, UChearing]</td>\n",
       "      <td>144</td>\n",
       "      <td>False</td>\n",
       "      <td>False</td>\n",
       "      <td>False</td>\n",
       "      <td>True</td>\n",
       "      <td>True</td>\n",
       "      <td>False</td>\n",
       "      <td>True</td>\n",
       "      <td>uc</td>\n",
       "    </tr>\n",
       "    <tr>\n",
       "      <th>473</th>\n",
       "      <td>8.778935e+17</td>\n",
       "      <td>#Stanford Scientists #Discover a #Way to #Convert #Carbon #Dioxide into #Clean #Burning #Ethanol...</td>\n",
       "      <td>NaN</td>\n",
       "      <td>NaN</td>\n",
       "      <td>Thu Jun 22 14:18:19 +0000 2017</td>\n",
       "      <td>45817618.0</td>\n",
       "      <td>Ivan Kulikov</td>\n",
       "      <td>449.0</td>\n",
       "      <td>528.0</td>\n",
       "      <td>9451.0</td>\n",
       "      <td>358.0</td>\n",
       "      <td>NaN</td>\n",
       "      <td>0.0</td>\n",
       "      <td>[Row(indices=[0, 9], text='Stanford'), Row(indices=[21, 30], text='Discover'), Row(indices=[33, ...</td>\n",
       "      <td>False</td>\n",
       "      <td>0.0</td>\n",
       "      <td>False</td>\n",
       "      <td>NaN</td>\n",
       "      <td>NaN</td>\n",
       "      <td>[Stanford, Discover, Way, Convert, Carbon, Dioxide, Clean, Burning, Ethanol]</td>\n",
       "      <td>120</td>\n",
       "      <td>False</td>\n",
       "      <td>True</td>\n",
       "      <td>False</td>\n",
       "      <td>False</td>\n",
       "      <td>False</td>\n",
       "      <td>False</td>\n",
       "      <td>True</td>\n",
       "      <td>stanford</td>\n",
       "    </tr>\n",
       "    <tr>\n",
       "      <th>741</th>\n",
       "      <td>8.778940e+17</td>\n",
       "      <td>https://t.co/3fR9KmELE1 5 Life Hacks und Tricks mit Ballons | Tommy Tv #video #life #hacks #und ...</td>\n",
       "      <td>NaN</td>\n",
       "      <td>NaN</td>\n",
       "      <td>Thu Jun 22 14:20:09 +0000 2017</td>\n",
       "      <td>366674576.0</td>\n",
       "      <td>HotVideo Deutschland</td>\n",
       "      <td>369.0</td>\n",
       "      <td>0.0</td>\n",
       "      <td>47474.0</td>\n",
       "      <td>0.0</td>\n",
       "      <td>NaN</td>\n",
       "      <td>0.0</td>\n",
       "      <td>[Row(indices=[71, 77], text='video'), Row(indices=[78, 83], text='life'), Row(indices=[84, 90], ...</td>\n",
       "      <td>False</td>\n",
       "      <td>0.0</td>\n",
       "      <td>False</td>\n",
       "      <td>NaN</td>\n",
       "      <td>NaN</td>\n",
       "      <td>[video, life, hacks, und, tricks, mit, ballons, tommy]</td>\n",
       "      <td>124</td>\n",
       "      <td>True</td>\n",
       "      <td>False</td>\n",
       "      <td>False</td>\n",
       "      <td>False</td>\n",
       "      <td>False</td>\n",
       "      <td>False</td>\n",
       "      <td>True</td>\n",
       "      <td>mit</td>\n",
       "    </tr>\n",
       "  </tbody>\n",
       "</table>\n",
       "</div>"
      ],
      "text/plain": [
       "           id_str                                                                                                 text in_reply_to_status_id_str  in_reply_to_user_id_str                      created_at  user_id_str             user_name  user_followers_count  user_favourites_count  user_statuses_count  user_friends_count coordinates favorite_count                                                                                    entities_hashtags favorited  retweet_count retweeted retweeted_status_user_id_str retweeted_status_user_name                                                              hashtags_cleaned  text_len  mit_tweet  stanford_tweet  nw_tweet  upenn_tweet  uc_tweet  uic_tweet  uni_tweet uni_tweet_name\n",
       "348  8.778933e+17  RT @OriginalMcGill3: #AGTG EXTREMELY HONORED AND BLESSED TO RECIEVE AN OFFER FROM STANFORD UNIVE...                       NaN                      NaN  Thu Jun 22 14:17:26 +0000 2017   24333184.0                  Gabe                  85.0                  385.0                152.0               213.0         NaN            0.0                     [Row(indices=[21, 26], text='AGTG'), Row(indices=[103, 114], text='GoStanford')]     False            0.0     False                   1104434276            Jonathan McGill                                                            [AGTG, GoStanford]       140      False            True     False        False     False      False       True       stanford\n",
       "373  8.778933e+17  New algorithm generates folding patterns to produce any #3-D origami structure #MIT... https://t...                       NaN                      NaN  Thu Jun 22 14:17:39 +0000 2017  588604189.0           Technolizer                 880.0                    0.0             117346.0               381.0         NaN            0.0                                                                  [Row(indices=[79, 83], text='MIT')]     False            0.0     False                          NaN                        NaN                                                                         [MIT]       134       True           False     False        False     False      False       True            mit\n",
       "443  8.778935e+17  RT @MirandaWeinberg: Morning! Today I'll be live from #UPennHearing on behalf of @GETUPgrads &am...                       NaN                      NaN  Thu Jun 22 14:18:07 +0000 2017  274415582.0       Danielle Hanley                 131.0                  637.0                577.0               288.0         NaN            0.0              [Row(indices=[54, 67], text='UPennHearing'), Row(indices=[133, 143], text='UChearing')]     False            0.0     False                   1158927727           Miranda Weinberg                                                     [UPennHearing, UChearing]       144      False           False     False         True      True      False       True             uc\n",
       "473  8.778935e+17  #Stanford Scientists #Discover a #Way to #Convert #Carbon #Dioxide into #Clean #Burning #Ethanol...                       NaN                      NaN  Thu Jun 22 14:18:19 +0000 2017   45817618.0          Ivan Kulikov                 449.0                  528.0               9451.0               358.0         NaN            0.0  [Row(indices=[0, 9], text='Stanford'), Row(indices=[21, 30], text='Discover'), Row(indices=[33, ...     False            0.0     False                          NaN                        NaN  [Stanford, Discover, Way, Convert, Carbon, Dioxide, Clean, Burning, Ethanol]       120      False            True     False        False     False      False       True       stanford\n",
       "741  8.778940e+17  https://t.co/3fR9KmELE1 5 Life Hacks und Tricks mit Ballons | Tommy Tv #video #life #hacks #und ...                       NaN                      NaN  Thu Jun 22 14:20:09 +0000 2017  366674576.0  HotVideo Deutschland                 369.0                    0.0              47474.0                 0.0         NaN            0.0  [Row(indices=[71, 77], text='video'), Row(indices=[78, 83], text='life'), Row(indices=[84, 90], ...     False            0.0     False                          NaN                        NaN                        [video, life, hacks, und, tricks, mit, ballons, tommy]       124       True           False     False        False     False      False       True            mit"
      ]
     },
     "execution_count": 8,
     "metadata": {},
     "output_type": "execute_result"
    }
   ],
   "source": [
    "uni_df.head()"
   ]
  },
  {
   "cell_type": "markdown",
   "metadata": {},
   "source": [
    "Can we identify Retweets?"
   ]
  },
  {
   "cell_type": "code",
   "execution_count": 9,
   "metadata": {
    "scrolled": true
   },
   "outputs": [
    {
     "data": {
      "text/plain": [
       "975"
      ]
     },
     "execution_count": 9,
     "metadata": {},
     "output_type": "execute_result"
    }
   ],
   "source": [
    "uni_df[\"retweeted_status_user_id_str\"].count()"
   ]
  },
  {
   "cell_type": "markdown",
   "metadata": {},
   "source": [
    "## Most active users"
   ]
  },
  {
   "cell_type": "markdown",
   "metadata": {},
   "source": [
    "How many users do we have in this glorious subsample?"
   ]
  },
  {
   "cell_type": "code",
   "execution_count": 10,
   "metadata": {},
   "outputs": [
    {
     "data": {
      "text/plain": [
       "(1540,)"
      ]
     },
     "execution_count": 10,
     "metadata": {},
     "output_type": "execute_result"
    }
   ],
   "source": [
    "uni_df[\"user_id_str\"].unique().shape"
   ]
  },
  {
   "cell_type": "markdown",
   "metadata": {},
   "source": [
    "### Message Volume"
   ]
  },
  {
   "cell_type": "code",
   "execution_count": 11,
   "metadata": {},
   "outputs": [
    {
     "data": {
      "text/html": [
       "<div>\n",
       "<style scoped>\n",
       "    .dataframe tbody tr th:only-of-type {\n",
       "        vertical-align: middle;\n",
       "    }\n",
       "\n",
       "    .dataframe tbody tr th {\n",
       "        vertical-align: top;\n",
       "    }\n",
       "\n",
       "    .dataframe thead th {\n",
       "        text-align: right;\n",
       "    }\n",
       "</style>\n",
       "<table border=\"1\" class=\"dataframe\">\n",
       "  <thead>\n",
       "    <tr style=\"text-align: right;\">\n",
       "      <th></th>\n",
       "      <th>user_name</th>\n",
       "      <th>id_str</th>\n",
       "      <th>user_id_str</th>\n",
       "    </tr>\n",
       "  </thead>\n",
       "  <tbody>\n",
       "    <tr>\n",
       "      <th>0</th>\n",
       "      <td>#JamalVarney</td>\n",
       "      <td>1</td>\n",
       "      <td>1</td>\n",
       "    </tr>\n",
       "    <tr>\n",
       "      <th>1</th>\n",
       "      <td>#Programmer Bot</td>\n",
       "      <td>4</td>\n",
       "      <td>4</td>\n",
       "    </tr>\n",
       "    <tr>\n",
       "      <th>2</th>\n",
       "      <td>#Proud Deplorable</td>\n",
       "      <td>1</td>\n",
       "      <td>1</td>\n",
       "    </tr>\n",
       "    <tr>\n",
       "      <th>3</th>\n",
       "      <td>#W.W.J.W</td>\n",
       "      <td>1</td>\n",
       "      <td>1</td>\n",
       "    </tr>\n",
       "    <tr>\n",
       "      <th>4</th>\n",
       "      <td>#idampan idamariapan</td>\n",
       "      <td>1</td>\n",
       "      <td>1</td>\n",
       "    </tr>\n",
       "  </tbody>\n",
       "</table>\n",
       "</div>"
      ],
      "text/plain": [
       "              user_name  id_str  user_id_str\n",
       "0          #JamalVarney       1            1\n",
       "1       #Programmer Bot       4            4\n",
       "2     #Proud Deplorable       1            1\n",
       "3              #W.W.J.W       1            1\n",
       "4  #idampan idamariapan       1            1"
      ]
     },
     "execution_count": 11,
     "metadata": {},
     "output_type": "execute_result"
    }
   ],
   "source": [
    "user_grp = uni_df[[\"id_str\", \"user_id_str\", \"user_name\"]].groupby(by=[\"user_name\"], as_index=False).count()\n",
    "user_grp.reset_index(drop=True, inplace=True)\n",
    "user_grp.head()"
   ]
  },
  {
   "cell_type": "code",
   "execution_count": 12,
   "metadata": {},
   "outputs": [
    {
     "data": {
      "image/png": "[encoded data removed]",
      "text/plain": [
       "<Figure size 1152x648 with 1 Axes>"
      ]
     },
     "metadata": {
      "needs_background": "light"
     },
     "output_type": "display_data"
    }
   ],
   "source": [
    "user_subset = user_grp[user_grp[\"id_str\"] > 10]\n",
    "user_subset.reset_index(drop=True, inplace=True)\n",
    "f, ax = plt.subplots(1, 1, figsize=(16,9))\n",
    "plot_bar(data=user_subset, x=\"user_name\", y=\"id_str\", ax=ax)"
   ]
  },
  {
   "cell_type": "markdown",
   "metadata": {},
   "source": [
    "[USERNAME] Seems to be the most active user with several tweets"
   ]
  },
  {
   "cell_type": "markdown",
   "metadata": {},
   "source": [
    "### Message Retweet"
   ]
  },
  {
   "cell_type": "markdown",
   "metadata": {},
   "source": [
    "###### <font color=red> NOTE : CHANGE DATAFRAME TO uni_df WHEN RUNNING ONLINE </font>"
   ]
  },
  {
   "cell_type": "code",
   "execution_count": 13,
   "metadata": {},
   "outputs": [
    {
     "data": {
      "text/html": [
       "<div>\n",
       "<style scoped>\n",
       "    .dataframe tbody tr th:only-of-type {\n",
       "        vertical-align: middle;\n",
       "    }\n",
       "\n",
       "    .dataframe tbody tr th {\n",
       "        vertical-align: top;\n",
       "    }\n",
       "\n",
       "    .dataframe thead th {\n",
       "        text-align: right;\n",
       "    }\n",
       "</style>\n",
       "<table border=\"1\" class=\"dataframe\">\n",
       "  <thead>\n",
       "    <tr style=\"text-align: right;\">\n",
       "      <th></th>\n",
       "      <th>user_name</th>\n",
       "      <th>retweet_count</th>\n",
       "    </tr>\n",
       "  </thead>\n",
       "  <tbody>\n",
       "    <tr>\n",
       "      <th>0</th>\n",
       "      <td>Anita El-Hara</td>\n",
       "      <td>0.0</td>\n",
       "    </tr>\n",
       "    <tr>\n",
       "      <th>1</th>\n",
       "      <td>Anneliese Kearney</td>\n",
       "      <td>0.0</td>\n",
       "    </tr>\n",
       "    <tr>\n",
       "      <th>2</th>\n",
       "      <td>BigDadio</td>\n",
       "      <td>0.0</td>\n",
       "    </tr>\n",
       "    <tr>\n",
       "      <th>3</th>\n",
       "      <td>Dusty Jorgenson</td>\n",
       "      <td>0.0</td>\n",
       "    </tr>\n",
       "    <tr>\n",
       "      <th>4</th>\n",
       "      <td>Edna Adelberg</td>\n",
       "      <td>0.0</td>\n",
       "    </tr>\n",
       "  </tbody>\n",
       "</table>\n",
       "</div>"
      ],
      "text/plain": [
       "            user_name  retweet_count\n",
       "0      Anita El-Hara             0.0\n",
       "1   Anneliese Kearney            0.0\n",
       "2            BigDadio            0.0\n",
       "3     Dusty Jorgenson            0.0\n",
       "4       Edna Adelberg            0.0"
      ]
     },
     "metadata": {},
     "output_type": "display_data"
    }
   ],
   "source": [
    "user_rt_grp = tweets_df[[\"user_name\", \"retweet_count\"]].groupby(by=[\"user_name\"], as_index=False).sum()\n",
    "user_rt_grp.reset_index(drop=True, inplace=True)\n",
    "display(user_rt_grp.head())\n",
    "\n",
    "# user_rt_subset = user_rt_grp[user_rt_grp[\"retweet_count\"] > 10]\n",
    "# user_rt_subset.reset_index(drop=True, inplace=True)\n",
    "# display(user_rt_grp[user_rt_grp[\"retweet_count\"] > 10])"
   ]
  },
  {
   "cell_type": "code",
   "execution_count": 14,
   "metadata": {},
   "outputs": [],
   "source": [
    "# f, ax = plt.subplots(1, 1, figsize=(16,9))\n",
    "# plot_bar(data=user_rt_subset, x=\"user_name\", y=\"retweet_count\", ax=ax)"
   ]
  },
  {
   "cell_type": "markdown",
   "metadata": {},
   "source": [
    "### How much are they tweeting about the Universities vs. other topics?"
   ]
  },
  {
   "cell_type": "code",
   "execution_count": 15,
   "metadata": {},
   "outputs": [],
   "source": [
    "prolific_users = user_subset[\"user_name\"].unique()"
   ]
  },
  {
   "cell_type": "code",
   "execution_count": 16,
   "metadata": {},
   "outputs": [
    {
     "data": {
      "text/plain": [
       "(514, 12)"
      ]
     },
     "execution_count": 16,
     "metadata": {},
     "output_type": "execute_result"
    }
   ],
   "source": [
    "cols = [\"id_str\", \"user_id_str\", \"text\", \"user_name\", \"hashtags_cleaned\", \"uc_tweet\", \"uic_tweet\", \"mit_tweet\", \"stanford_tweet\", \"upenn_tweet\", \"nw_tweet\", \"uni_tweet\"]\n",
    "uvnu_df = tweets_df[tweets_df[\"user_name\"].isin(prolific_users)][cols]\n",
    "def tmpfun(row):\n",
    "    if row:\n",
    "        return 1\n",
    "    else:\n",
    "        return 0\n",
    "uvnu_df[\"uni_tweet\"] = uvnu_df[\"uni_tweet\"].apply(tmpfun)\n",
    "uvnu_df.shape"
   ]
  },
  {
   "cell_type": "code",
   "execution_count": 17,
   "metadata": {},
   "outputs": [
    {
     "data": {
      "text/html": [
       "<div>\n",
       "<style scoped>\n",
       "    .dataframe tbody tr th:only-of-type {\n",
       "        vertical-align: middle;\n",
       "    }\n",
       "\n",
       "    .dataframe tbody tr th {\n",
       "        vertical-align: top;\n",
       "    }\n",
       "\n",
       "    .dataframe thead th {\n",
       "        text-align: right;\n",
       "    }\n",
       "</style>\n",
       "<table border=\"1\" class=\"dataframe\">\n",
       "  <thead>\n",
       "    <tr style=\"text-align: right;\">\n",
       "      <th></th>\n",
       "      <th>user_name</th>\n",
       "      <th>uni_tweets</th>\n",
       "      <th>total_tweets</th>\n",
       "      <th>ratio</th>\n",
       "    </tr>\n",
       "  </thead>\n",
       "  <tbody>\n",
       "    <tr>\n",
       "      <th>0</th>\n",
       "      <td>Climber.com EDU Jobs</td>\n",
       "      <td>124</td>\n",
       "      <td>192</td>\n",
       "      <td>0.645833</td>\n",
       "    </tr>\n",
       "    <tr>\n",
       "      <th>1</th>\n",
       "      <td>Laura Fornaro</td>\n",
       "      <td>171</td>\n",
       "      <td>171</td>\n",
       "      <td>1.000000</td>\n",
       "    </tr>\n",
       "    <tr>\n",
       "      <th>2</th>\n",
       "      <td>Northwestern Spyder</td>\n",
       "      <td>23</td>\n",
       "      <td>23</td>\n",
       "      <td>1.000000</td>\n",
       "    </tr>\n",
       "    <tr>\n",
       "      <th>3</th>\n",
       "      <td>Reality Check</td>\n",
       "      <td>20</td>\n",
       "      <td>33</td>\n",
       "      <td>0.606061</td>\n",
       "    </tr>\n",
       "    <tr>\n",
       "      <th>4</th>\n",
       "      <td>Stanford Bee</td>\n",
       "      <td>23</td>\n",
       "      <td>23</td>\n",
       "      <td>1.000000</td>\n",
       "    </tr>\n",
       "    <tr>\n",
       "      <th>5</th>\n",
       "      <td>Vi Rai⚡️ (ϑ ℛai)</td>\n",
       "      <td>22</td>\n",
       "      <td>59</td>\n",
       "      <td>0.372881</td>\n",
       "    </tr>\n",
       "    <tr>\n",
       "      <th>6</th>\n",
       "      <td>eddie knk</td>\n",
       "      <td>13</td>\n",
       "      <td>13</td>\n",
       "      <td>1.000000</td>\n",
       "    </tr>\n",
       "  </tbody>\n",
       "</table>\n",
       "</div>"
      ],
      "text/plain": [
       "              user_name  uni_tweets  total_tweets     ratio\n",
       "0  Climber.com EDU Jobs         124           192  0.645833\n",
       "1         Laura Fornaro         171           171  1.000000\n",
       "2   Northwestern Spyder          23            23  1.000000\n",
       "3         Reality Check          20            33  0.606061\n",
       "4          Stanford Bee          23            23  1.000000\n",
       "5      Vi Rai⚡️ (ϑ ℛai)          22            59  0.372881\n",
       "6             eddie knk          13            13  1.000000"
      ]
     },
     "execution_count": 17,
     "metadata": {},
     "output_type": "execute_result"
    }
   ],
   "source": [
    "tmp_df = uvnu_df[[\"user_name\", \"uni_tweet\"]].groupby(by=\"user_name\", as_index=False).agg([\"sum\", \"count\"])\n",
    "tmp_df.columns = [\"uni_tweets\", \"total_tweets\"]\n",
    "tmp_df.reset_index(drop=False, inplace=True)\n",
    "tmp_df[\"ratio\"] = tmp_df[\"uni_tweets\"] / tmp_df[\"total_tweets\"]\n",
    "tmp_df"
   ]
  },
  {
   "cell_type": "code",
   "execution_count": 18,
   "metadata": {
    "scrolled": false
   },
   "outputs": [
    {
     "data": {
      "image/png": "[encoded data removed]",
      "text/plain": [
       "<Figure size 1152x648 with 1 Axes>"
      ]
     },
     "metadata": {
      "needs_background": "light"
     },
     "output_type": "display_data"
    }
   ],
   "source": [
    "f, ax = plt.subplots(1,1,figsize=(16,9))\n",
    "plot_bar(data=tmp_df, x=\"user_name\", y=\"ratio\", ax=ax, highlight_max_min=False)"
   ]
  },
  {
   "cell_type": "markdown",
   "metadata": {},
   "source": [
    "## Where are these Twitterers located?\n",
    "-  For UChicago\n",
    "-  For other universities\n",
    "-  Do you see any relationship between university locations and Twitterers’ locations?\n",
    "-  Visualize the relationships"
   ]
  },
  {
   "cell_type": "markdown",
   "metadata": {},
   "source": [
    "##### <font color=\"red\">ToDo</font>"
   ]
  },
  {
   "cell_type": "markdown",
   "metadata": {},
   "source": [
    "## What distinguishes University of Chicago Twitterers vs Twitterers who tweet about other universities\n",
    "Visualize the trends"
   ]
  },
  {
   "cell_type": "markdown",
   "metadata": {},
   "source": [
    "##### <font color=\"red\">Re-tweets</font>"
   ]
  },
  {
   "cell_type": "code",
   "execution_count": 48,
   "metadata": {},
   "outputs": [
    {
     "data": {
      "image/png": "[encoded data removed]",
      "text/plain": [
       "<Figure size 1584x504 with 2 Axes>"
      ]
     },
     "metadata": {
      "needs_background": "light"
     },
     "output_type": "display_data"
    }
   ],
   "source": [
    "f, ax = plt.subplots(1,2,figsize=(22,7))\n",
    "\n",
    "uni_counts = uni_df[\"uni_tweet_name\"].value_counts().to_frame()\n",
    "uni_counts.reset_index(drop=False, inplace=True)\n",
    "uni_counts.columns = [\"university\", \"num_tweets\"]\n",
    "plot_bar(x=\"university\", y=\"num_tweets\", data=uni_counts, ax=ax[0], highlight_max_min=False,\n",
    "        title=\"Number of tweets per university\", ylabel=\"Number of tweets\")\n",
    "\n",
    "sns.violinplot(data=uni_df, x=\"uni_tweet_name\", y=\"text_len\", ax=ax[1] )\n",
    "t = ax[1].set(title=\"Tweet lenght distribution per university\", ylabel=\"Tweet lenght in characters\", xlabel=\"\")"
   ]
  },
  {
   "cell_type": "markdown",
   "metadata": {},
   "source": [
    "## What are the timelines of these tweets? Do you see significant peaks and valleys?\n",
    "Do you see data collection gaps?"
   ]
  },
  {
   "cell_type": "code",
   "execution_count": 52,
   "metadata": {},
   "outputs": [
    {
     "data": {
      "image/png": "[encoded data removed]",
      "text/plain": [
       "<Figure size 1440x1296 with 4 Axes>"
      ]
     },
     "metadata": {
      "needs_background": "light"
     },
     "output_type": "display_data"
    }
   ],
   "source": [
    "uni_df_date_grp = uni_df[[\"id_str\", \"created_date\"]].groupby(by=\"created_date\", as_index=False).count()\n",
    "uni_df_dayofweek_grp = uni_df[[\"id_str\", \"created_dayofweek\"]].groupby(by=\"created_dayofweek\", as_index=False).count()\n",
    "uni_df_month_grp = uni_df[[\"id_str\", \"created_month\"]].groupby(by=\"created_month\", as_index=False).count()\n",
    "uni_df_year_grp = uni_df[[\"id_str\", \"created_year\"]].groupby(by=\"created_year\", as_index=False).count()\n",
    "\n",
    "f, ax = plt.subplots(2,2,figsize=(20,18))\n",
    "plot_bar(data=uni_df_date_grp, x=\"created_date\", y=\"id_str\", ax=ax[0][0], annot=False)\n",
    "plot_bar(data=uni_df_dayofweek_grp, x=\"created_dayofweek\", y=\"id_str\", ax=ax[0][1], annot=False)\n",
    "plot_bar(data=uni_df_month_grp, x=\"created_month\", y=\"id_str\", ax=ax[1][0], annot=False)\n",
    "plot_bar(data=uni_df_year_grp, x=\"created_year\", y=\"id_str\", ax=ax[1][1], annot=False)"
   ]
  },
  {
   "cell_type": "markdown",
   "metadata": {},
   "source": [
    "## How unique are the messages for each of these universities?\n",
    "-  Are they mostly unique? Or mostly people are just copy-pasting the same text?\n",
    "-  You can use something like Jaccard similarity / Cosine Similarity / Simhash / Minhash to measure uniqueness / similarity\n",
    "-  Visualize message duplication (for each university – not between the universities)"
   ]
  },
  {
   "cell_type": "code",
   "execution_count": 54,
   "metadata": {},
   "outputs": [
    {
     "data": {
      "text/plain": [
       "0    RT @ArkansasBlog: Study: States with concealed carry laws experience rise in violent crime. http...\n",
       "1    IL Healthcare Truth Tour: Heal Don't Repeal! 6/22 2:30PM Federal Plaza, Chicago. Mobile billboar...\n",
       "2    IL Healthcare Truth Tour: Heal Don't Repeal! 6/22 2:30PM Federal Plaza, Chicago. Mobile billboar...\n",
       "3    IL Healthcare Truth Tour: Heal Don't Repeal! 6/22 2:30PM Federal Plaza, Chicago. Mobile billboar...\n",
       "4    Day 1 of Chicago Summit: Gregory Touhill delivers keynote on Cybersecurity=Risk Management #ISMG...\n",
       "Name: text, dtype: object"
      ]
     },
     "execution_count": 54,
     "metadata": {},
     "output_type": "execute_result"
    }
   ],
   "source": [
    "tweets_df[\"text\"].head()"
   ]
  },
  {
   "cell_type": "markdown",
   "metadata": {},
   "source": [
    "We will need to remove all the Re-tweets to ensure we aren't inordinately biased towards some tweets."
   ]
  },
  {
   "cell_type": "code",
   "execution_count": 67,
   "metadata": {},
   "outputs": [
    {
     "data": {
      "text/plain": [
       "(1375, 33)"
      ]
     },
     "metadata": {},
     "output_type": "display_data"
    }
   ],
   "source": [
    "rows_to_drop = uni_df[~uni_df[\"retweeted_status_user_id_str\"].isna()].index\n",
    "# Drop all the rows with retweets\n",
    "unique_uni_tweets_df = uni_df.drop(rows_to_drop, axis=0)"
   ]
  },
  {
   "cell_type": "code",
   "execution_count": 73,
   "metadata": {},
   "outputs": [],
   "source": [
    "uc_tweets = unique_uni_tweets_df[unique_uni_tweets_df[\"uc_tweet\"]==True][\"text\"]\n",
    "uic_tweets = unique_uni_tweets_df[unique_uni_tweets_df[\"uic_tweet\"]==True][\"text\"]\n",
    "upenn_tweets = unique_uni_tweets_df[unique_uni_tweets_df[\"upenn_tweet\"]==True][\"text\"]\n",
    "nw_tweets = unique_uni_tweets_df[unique_uni_tweets_df[\"nw_tweet\"]==True][\"text\"]\n",
    "stanford_tweets = unique_uni_tweets_df[unique_uni_tweets_df[\"stanford_tweet\"]==True][\"text\"]\n",
    "mit_tweets = unique_uni_tweets_df[unique_uni_tweets_df[\"mit_tweet\"]==True][\"text\"]"
   ]
  },
  {
   "cell_type": "markdown",
   "metadata": {},
   "source": [
    "Some helper functions"
   ]
  },
  {
   "cell_type": "code",
   "execution_count": 85,
   "metadata": {},
   "outputs": [],
   "source": [
    "def get_features(s):\n",
    "    width = 3\n",
    "    s = s.lower()\n",
    "    s = re.sub(r'[^\\w]+', '', s)\n",
    "    return [s[i:i + width] for i in range(max(len(s) - width + 1, 1))]\n",
    "\n",
    "def get_ratios(df):\n",
    "    data = df.to_dict()\n",
    "    objs = [(str(k), Simhash(get_features(v))) for k, v in data.items()]\n",
    "    index = SimhashIndex(objs, k=3)\n",
    "    list_all = []\n",
    "    for i in range(0,len(data)):\n",
    "        s1 = list(data.values())[i]\n",
    "        s2 = Simhash(get_features(s1))\n",
    "        list_all.append(len(index.get_near_dups(s2)))\n",
    "    a = [0 if i == 1 else 1 for i in list_all]\n",
    "    duplicate = sum(a)\n",
    "    unique = len(a)-sum(a)\n",
    "    return duplicate, unique"
   ]
  },
  {
   "cell_type": "code",
   "execution_count": 88,
   "metadata": {},
   "outputs": [],
   "source": [
    "uc_dup, uc_unique = get_ratios(uc_tweets)\n",
    "uic_dup, uic_unique = get_ratios(uic_tweets)\n",
    "upenn_dup, upenn_unique = get_ratios(upenn_tweets)\n",
    "nw_dup, nw_unique = get_ratios(nw_tweets)\n",
    "stanford_dup, stanford_unique = get_ratios(stanford_tweets)\n",
    "mit_dup, mit_unique = get_ratios(mit_tweets)"
   ]
  },
  {
   "cell_type": "code",
   "execution_count": 139,
   "metadata": {},
   "outputs": [
    {
     "data": {
      "image/png": "[encoded data removed]",
      "text/plain": [
       "<Figure size 1296x864 with 6 Axes>"
      ]
     },
     "metadata": {},
     "output_type": "display_data"
    }
   ],
   "source": [
    "labels = ['Duplicate', 'Unique']\n",
    "colors = ['orange','lightblue']\n",
    "f, ax = plt.subplots(2, 3, figsize=(18, 12))\n",
    "plot_pie(values=[uc_dup, uc_unique], labels=labels, colors=colors, ax=ax[0][0])\n",
    "ax[0][0].set(title=\"University of Chicago tweets\")\n",
    "\n",
    "plot_pie(values=[uic_dup, uic_unique], labels=labels, colors=colors, ax=ax[0][1])\n",
    "ax[0][1].set(title=\"University of Illinois, Chicago tweets\")\n",
    "\n",
    "plot_pie(values=[upenn_dup, upenn_unique], labels=labels, colors=colors, ax=ax[0][2])\n",
    "ax[0][2].set(title=\"University of Pennsylvania tweets\")\n",
    "\n",
    "plot_pie(values=[nw_dup, nw_unique], labels=labels, colors=colors, ax=ax[1][0])\n",
    "ax[1][0].set(title=\"Northwestern University tweets\")\n",
    "\n",
    "plot_pie(values=[stanford_dup, stanford_unique], labels=labels, colors=colors, ax=ax[1][1])\n",
    "ax[1][1].set(title=\"Stanford University tweets\")\n",
    "\n",
    "plot_pie(values=[mit_dup, mit_unique], labels=labels, colors=colors, ax=ax[1][2])\n",
    "t = ax[1][2].set(title=\"MIT tweets\")\n",
    "\n"
   ]
  }
 ],
 "metadata": {
  "kernelspec": {
   "display_name": "Python 3",
   "language": "python",
   "name": "python3"
  },
  "language_info": {
   "codemirror_mode": {
    "name": "ipython",
    "version": 3
   },
   "file_extension": ".py",
   "mimetype": "text/x-python",
   "name": "python",
   "nbconvert_exporter": "python",
   "pygments_lexer": "ipython3",
   "version": "3.6.7"
  }
 },
 "nbformat": 4,
 "nbformat_minor": 2
}
