{
 "cells": [
  {
   "cell_type": "code",
   "execution_count": 1,
   "metadata": {},
   "outputs": [
    {
     "data": {
      "text/html": [
       "<style>.container { width:95% !important; }</style>"
      ],
      "text/plain": [
       "<IPython.core.display.HTML object>"
      ]
     },
     "metadata": {},
     "output_type": "display_data"
    }
   ],
   "source": [
    "# Put these at the top of every notebook, to get automatic reloading and inline plotting\n",
    "from IPython.core.display import display, HTML\n",
    "import pandas as pd\n",
    "%reload_ext autoreload\n",
    "%autoreload 1\n",
    "%matplotlib inline\n",
    "\n",
    "import warnings\n",
    "warnings.filterwarnings('ignore')\n",
    "\n",
    "pd.set_option('display.max_rows', 500)\n",
    "pd.set_option('display.max_columns', 500)\n",
    "pd.set_option('display.width', 1000)\n",
    "pd.set_option('max_colwidth',100)    \n",
    "\n",
    "display(HTML(\"<style>.container { width:95% !important; }</style>\"))"
   ]
  },
  {
   "cell_type": "code",
   "execution_count": 4,
   "metadata": {},
   "outputs": [
    {
     "name": "stdout",
     "output_type": "stream",
     "text": [
      "3.6.7 (default, Oct 22 2018, 11:32:17) \n",
      "[GCC 8.2.0]\n"
     ]
    }
   ],
   "source": [
    "import sys\n",
    "import matplotlib.pyplot as plt\n",
    "import seaborn as sns\n",
    "import re\n",
    "import json\n",
    "from itertools import combinations, takewhile\n",
    "import collections\n",
    "import pandas as pd\n",
    "import numpy as np\n",
    "import os\n",
    "\n",
    "from simhash import Simhash, SimhashIndex\n",
    "\n",
    "sns.set()\n",
    "\n",
    "print(sys.version)"
   ]
  },
  {
   "cell_type": "code",
   "execution_count": 14,
   "metadata": {},
   "outputs": [
    {
     "data": {
      "text/plain": [
       "(1048947, 20)"
      ]
     },
     "metadata": {},
     "output_type": "display_data"
    },
    {
     "data": {
      "text/html": [
       "<div>\n",
       "<style scoped>\n",
       "    .dataframe tbody tr th:only-of-type {\n",
       "        vertical-align: middle;\n",
       "    }\n",
       "\n",
       "    .dataframe tbody tr th {\n",
       "        vertical-align: top;\n",
       "    }\n",
       "\n",
       "    .dataframe thead th {\n",
       "        text-align: right;\n",
       "    }\n",
       "</style>\n",
       "<table border=\"1\" class=\"dataframe\">\n",
       "  <thead>\n",
       "    <tr style=\"text-align: right;\">\n",
       "      <th></th>\n",
       "      <th>id_str</th>\n",
       "      <th>text</th>\n",
       "      <th>in_reply_to_status_id_str</th>\n",
       "      <th>in_reply_to_user_id_str</th>\n",
       "      <th>created_at</th>\n",
       "      <th>user_id_str</th>\n",
       "      <th>user_name</th>\n",
       "      <th>user_followers_count</th>\n",
       "      <th>user_favourites_count</th>\n",
       "      <th>user_statuses_count</th>\n",
       "      <th>user_friends_count</th>\n",
       "      <th>coordinates</th>\n",
       "      <th>favorite_count</th>\n",
       "      <th>entities_hashtags</th>\n",
       "      <th>favorited</th>\n",
       "      <th>retweet_count</th>\n",
       "      <th>retweeted</th>\n",
       "      <th>retweeted_status_user_id_str</th>\n",
       "      <th>retweeted_status_user_name</th>\n",
       "      <th>hashtags_cleaned</th>\n",
       "    </tr>\n",
       "  </thead>\n",
       "  <tbody>\n",
       "    <tr>\n",
       "      <th>0</th>\n",
       "      <td>8.778927e+17</td>\n",
       "      <td>RT @ArkansasBlog: Study: States with concealed carry laws experience rise in violent crime. http...</td>\n",
       "      <td>NaN</td>\n",
       "      <td>NaN</td>\n",
       "      <td>Thu Jun 22 14:15:01 +0000 2017</td>\n",
       "      <td>1.550783e+08</td>\n",
       "      <td>Lake Man</td>\n",
       "      <td>1554.0</td>\n",
       "      <td>56574.0</td>\n",
       "      <td>95959.0</td>\n",
       "      <td>2577.0</td>\n",
       "      <td>NaN</td>\n",
       "      <td>0.0</td>\n",
       "      <td>[]</td>\n",
       "      <td>False</td>\n",
       "      <td>0.0</td>\n",
       "      <td>False</td>\n",
       "      <td>17131180</td>\n",
       "      <td>Arkansas Blog</td>\n",
       "      <td>[]</td>\n",
       "    </tr>\n",
       "    <tr>\n",
       "      <th>1</th>\n",
       "      <td>8.778927e+17</td>\n",
       "      <td>IL Healthcare Truth Tour: Heal Don't Repeal! 6/22 2:30PM Federal Plaza, Chicago. Mobile billboar...</td>\n",
       "      <td>NaN</td>\n",
       "      <td>NaN</td>\n",
       "      <td>Thu Jun 22 14:15:01 +0000 2017</td>\n",
       "      <td>7.159992e+06</td>\n",
       "      <td>Annie Williams</td>\n",
       "      <td>22.0</td>\n",
       "      <td>167.0</td>\n",
       "      <td>417.0</td>\n",
       "      <td>87.0</td>\n",
       "      <td>NaN</td>\n",
       "      <td>0.0</td>\n",
       "      <td>[]</td>\n",
       "      <td>False</td>\n",
       "      <td>0.0</td>\n",
       "      <td>False</td>\n",
       "      <td>NaN</td>\n",
       "      <td>NaN</td>\n",
       "      <td>[]</td>\n",
       "    </tr>\n",
       "    <tr>\n",
       "      <th>2</th>\n",
       "      <td>8.778927e+17</td>\n",
       "      <td>IL Healthcare Truth Tour: Heal Don't Repeal! 6/22 2:30PM Federal Plaza, Chicago. Mobile billboar...</td>\n",
       "      <td>NaN</td>\n",
       "      <td>NaN</td>\n",
       "      <td>Thu Jun 22 14:15:01 +0000 2017</td>\n",
       "      <td>8.271887e+17</td>\n",
       "      <td>Indivisible9IL</td>\n",
       "      <td>264.0</td>\n",
       "      <td>111.0</td>\n",
       "      <td>342.0</td>\n",
       "      <td>231.0</td>\n",
       "      <td>NaN</td>\n",
       "      <td>0.0</td>\n",
       "      <td>[]</td>\n",
       "      <td>False</td>\n",
       "      <td>0.0</td>\n",
       "      <td>False</td>\n",
       "      <td>NaN</td>\n",
       "      <td>NaN</td>\n",
       "      <td>[]</td>\n",
       "    </tr>\n",
       "    <tr>\n",
       "      <th>3</th>\n",
       "      <td>8.778927e+17</td>\n",
       "      <td>IL Healthcare Truth Tour: Heal Don't Repeal! 6/22 2:30PM Federal Plaza, Chicago. Mobile billboar...</td>\n",
       "      <td>NaN</td>\n",
       "      <td>NaN</td>\n",
       "      <td>Thu Jun 22 14:15:02 +0000 2017</td>\n",
       "      <td>8.313191e+17</td>\n",
       "      <td>Indivisible Illinois</td>\n",
       "      <td>1027.0</td>\n",
       "      <td>1626.0</td>\n",
       "      <td>982.0</td>\n",
       "      <td>267.0</td>\n",
       "      <td>NaN</td>\n",
       "      <td>0.0</td>\n",
       "      <td>[]</td>\n",
       "      <td>False</td>\n",
       "      <td>0.0</td>\n",
       "      <td>False</td>\n",
       "      <td>NaN</td>\n",
       "      <td>NaN</td>\n",
       "      <td>[]</td>\n",
       "    </tr>\n",
       "    <tr>\n",
       "      <th>4</th>\n",
       "      <td>8.778927e+17</td>\n",
       "      <td>Day 1 of Chicago Summit: Gregory Touhill delivers keynote on Cybersecurity=Risk Management #ISMG...</td>\n",
       "      <td>NaN</td>\n",
       "      <td>NaN</td>\n",
       "      <td>Thu Jun 22 14:15:02 +0000 2017</td>\n",
       "      <td>3.998460e+07</td>\n",
       "      <td>ISMG Network News</td>\n",
       "      <td>2395.0</td>\n",
       "      <td>119.0</td>\n",
       "      <td>12833.0</td>\n",
       "      <td>960.0</td>\n",
       "      <td>NaN</td>\n",
       "      <td>0.0</td>\n",
       "      <td>[Row(indices=[91, 103], text='ISMGSummits'), Row(indices=[104, 112], text='infosec')]</td>\n",
       "      <td>False</td>\n",
       "      <td>0.0</td>\n",
       "      <td>False</td>\n",
       "      <td>NaN</td>\n",
       "      <td>NaN</td>\n",
       "      <td>['ISMGSummits', 'infosec']</td>\n",
       "    </tr>\n",
       "  </tbody>\n",
       "</table>\n",
       "</div>"
      ],
      "text/plain": [
       "         id_str                                                                                                 text in_reply_to_status_id_str  in_reply_to_user_id_str                      created_at   user_id_str             user_name  user_followers_count  user_favourites_count  user_statuses_count  user_friends_count coordinates favorite_count                                                                      entities_hashtags favorited  retweet_count retweeted retweeted_status_user_id_str retweeted_status_user_name            hashtags_cleaned\n",
       "0  8.778927e+17  RT @ArkansasBlog: Study: States with concealed carry laws experience rise in violent crime. http...                       NaN                      NaN  Thu Jun 22 14:15:01 +0000 2017  1.550783e+08              Lake Man                1554.0                56574.0              95959.0              2577.0         NaN            0.0                                                                                     []     False            0.0     False                     17131180              Arkansas Blog                          []\n",
       "1  8.778927e+17  IL Healthcare Truth Tour: Heal Don't Repeal! 6/22 2:30PM Federal Plaza, Chicago. Mobile billboar...                       NaN                      NaN  Thu Jun 22 14:15:01 +0000 2017  7.159992e+06        Annie Williams                  22.0                  167.0                417.0                87.0         NaN            0.0                                                                                     []     False            0.0     False                          NaN                        NaN                          []\n",
       "2  8.778927e+17  IL Healthcare Truth Tour: Heal Don't Repeal! 6/22 2:30PM Federal Plaza, Chicago. Mobile billboar...                       NaN                      NaN  Thu Jun 22 14:15:01 +0000 2017  8.271887e+17        Indivisible9IL                 264.0                  111.0                342.0               231.0         NaN            0.0                                                                                     []     False            0.0     False                          NaN                        NaN                          []\n",
       "3  8.778927e+17  IL Healthcare Truth Tour: Heal Don't Repeal! 6/22 2:30PM Federal Plaza, Chicago. Mobile billboar...                       NaN                      NaN  Thu Jun 22 14:15:02 +0000 2017  8.313191e+17  Indivisible Illinois                1027.0                 1626.0                982.0               267.0         NaN            0.0                                                                                     []     False            0.0     False                          NaN                        NaN                          []\n",
       "4  8.778927e+17  Day 1 of Chicago Summit: Gregory Touhill delivers keynote on Cybersecurity=Risk Management #ISMG...                       NaN                      NaN  Thu Jun 22 14:15:02 +0000 2017  3.998460e+07     ISMG Network News                2395.0                  119.0              12833.0               960.0         NaN            0.0  [Row(indices=[91, 103], text='ISMGSummits'), Row(indices=[104, 112], text='infosec')]     False            0.0     False                          NaN                        NaN  ['ISMGSummits', 'infosec']"
      ]
     },
     "metadata": {},
     "output_type": "display_data"
    }
   ],
   "source": [
    "fpath = os.path.join(os.getcwd(), \"temp.csv\")\n",
    "tweets_df = pd.read_csv(fpath, index_col=\"Unnamed: 0\")\n",
    "display(\n",
    "    tweets_df.shape,\n",
    "    tweets_df.head()\n",
    ")"
   ]
  },
  {
   "cell_type": "markdown",
   "metadata": {},
   "source": [
    "# Q1 - Identify tweets related to UChicago and 3-4 universities of your choice "
   ]
  },
  {
   "cell_type": "code",
   "execution_count": 15,
   "metadata": {},
   "outputs": [],
   "source": [
    "uc_favored_tags = [\"uchicago\", \"uchearing\", \"universityofchicago\", \"pritzkerschoolofmedicine\",\n",
    "                   \"uofc\", \"maroonmade\", \"chicagobooth\"]\n",
    "\n",
    "upenn_favored_tags = [\"upenn\", \"penn\", \"uofpenn\", \"universityofpennsylvania\", \"pennlaw\"]\n",
    "\n",
    "uic_favored_tags = [\"UIC\", \"UICProud\"]"
   ]
  },
  {
   "cell_type": "code",
   "execution_count": 58,
   "metadata": {},
   "outputs": [
    {
     "name": "stdout",
     "output_type": "stream",
     "text": [
      "uchicago\n"
     ]
    }
   ],
   "source": [
    "t = ['uchicago', 'firstgen', 'college', 'careers', 'trioprograms']\n",
    "for ftag in uc_favored_tags:\n",
    "    for tag in t:\n",
    "        if ftag.lower() in tag.lower():\n",
    "            print(tag)"
   ]
  },
  {
   "cell_type": "code",
   "execution_count": 69,
   "metadata": {},
   "outputs": [],
   "source": [
    "from ast import literal_eval\n",
    "\n",
    "def le(row):\n",
    "    if row is np.NaN:\n",
    "        return []\n",
    "    else:\n",
    "        return literal_eval(row)\n",
    "\n",
    "tweets_df['hashtags_cleaned']=tweets_df['hashtags_cleaned'].apply(le)"
   ]
  },
  {
   "cell_type": "code",
   "execution_count": 71,
   "metadata": {
    "scrolled": true
   },
   "outputs": [],
   "source": [
    "uc_favored_tags = [\"uchicago\", \"uchearing\", \"universityofchicago\", \"pritzkerschoolofmedicine\",\n",
    "                   \"uofc\", \"maroonmade\", \"chicagobooth\"]\n",
    "\n",
    "def is_uc_tweet(row):\n",
    "    if row is np.NaN:\n",
    "        return False\n",
    "    for ftag in uc_favored_tags:\n",
    "        for tag in row:\n",
    "            if ftag in tag.lower():\n",
    "                return True\n",
    "    return False\n",
    "\n",
    "tweets_df[\"uc_tweet\"] = tweets_df[\"hashtags_cleaned\"].apply(is_uc_tweet)"
   ]
  },
  {
   "cell_type": "code",
   "execution_count": 73,
   "metadata": {},
   "outputs": [],
   "source": [
    "uic_favored_tags = [\"UIC\", \"UICProud\"]\n",
    "def is_uic_tweet(row):\n",
    "    if row is np.NaN:\n",
    "        return False\n",
    "    for ftag in uic_favored_tags:\n",
    "        for tag in row:\n",
    "            if ftag.lower() == tag.lower():\n",
    "                return True\n",
    "    return False\n",
    "\n",
    "tweets_df[\"uic_tweet\"] = tweets_df[\"hashtags_cleaned\"].apply(is_uic_tweet)"
   ]
  },
  {
   "cell_type": "code",
   "execution_count": 74,
   "metadata": {},
   "outputs": [],
   "source": [
    "upenn_favored_tags = [\"upenn\", \"penn\", \"uofpenn\", \"universityofpennsylvania\", \"pennlaw\"]\n",
    "\n",
    "def is_upenn_tweet(row):\n",
    "    if row is np.NaN:\n",
    "        return False\n",
    "    for ftag in upenn_favored_tags:\n",
    "        for tag in row:\n",
    "            if ftag.lower() in tag.lower():\n",
    "                return True\n",
    "    return False\n",
    "\n",
    "tweets_df[\"upenn_tweet\"] = tweets_df[\"hashtags_cleaned\"].apply(is_upenn_tweet)"
   ]
  },
  {
   "cell_type": "code",
   "execution_count": 88,
   "metadata": {},
   "outputs": [],
   "source": [
    "caltech_favored_tags = [\"MIT\"]\n",
    "\n",
    "def is_caltech_tweet(row):\n",
    "    if row is np.NaN:\n",
    "        return False\n",
    "    for ftag in caltech_favored_tags:\n",
    "        for tag in row:\n",
    "            if ftag in tag:\n",
    "                return True\n",
    "    return False\n",
    "\n",
    "tweets_df[\"caltech_tweet\"] = tweets_df[\"hashtags_cleaned\"].apply(is_caltech_tweet)"
   ]
  },
  {
   "cell_type": "code",
   "execution_count": 89,
   "metadata": {},
   "outputs": [
    {
     "data": {
      "text/plain": [
       "(133, 3)"
      ]
     },
     "metadata": {},
     "output_type": "display_data"
    },
    {
     "data": {
      "text/plain": [
       "(93, 3)"
      ]
     },
     "metadata": {},
     "output_type": "display_data"
    },
    {
     "data": {
      "text/plain": [
       "(88, 3)"
      ]
     },
     "metadata": {},
     "output_type": "display_data"
    },
    {
     "data": {
      "text/plain": [
       "(973, 3)"
      ]
     },
     "metadata": {},
     "output_type": "display_data"
    },
    {
     "data": {
      "text/plain": [
       "(1048947, 25)"
      ]
     },
     "metadata": {},
     "output_type": "display_data"
    }
   ],
   "source": [
    "display(\n",
    "    tweets_df[tweets_df[\"uic_tweet\"]==True][[\"id_str\", \"text\", \"hashtags_cleaned\"]].shape,\n",
    "    tweets_df[tweets_df[\"uc_tweet\"]==True][[\"id_str\", \"text\", \"hashtags_cleaned\"]].shape,\n",
    "    tweets_df[tweets_df[\"upenn_tweet\"]==True][[\"id_str\", \"text\", \"hashtags_cleaned\"]].shape,\n",
    "    tweets_df[tweets_df[\"caltech_tweet\"]==True][[\"id_str\", \"text\", \"hashtags_cleaned\"]].shape,\n",
    "    tweets_df.shape\n",
    ")"
   ]
  },
  {
   "cell_type": "code",
   "execution_count": 90,
   "metadata": {},
   "outputs": [
    {
     "data": {
      "text/html": [
       "<div>\n",
       "<style scoped>\n",
       "    .dataframe tbody tr th:only-of-type {\n",
       "        vertical-align: middle;\n",
       "    }\n",
       "\n",
       "    .dataframe tbody tr th {\n",
       "        vertical-align: top;\n",
       "    }\n",
       "\n",
       "    .dataframe thead th {\n",
       "        text-align: right;\n",
       "    }\n",
       "</style>\n",
       "<table border=\"1\" class=\"dataframe\">\n",
       "  <thead>\n",
       "    <tr style=\"text-align: right;\">\n",
       "      <th></th>\n",
       "      <th>id_str</th>\n",
       "      <th>text</th>\n",
       "      <th>hashtags_cleaned</th>\n",
       "    </tr>\n",
       "  </thead>\n",
       "  <tbody>\n",
       "    <tr>\n",
       "      <th>373</th>\n",
       "      <td>8.778933e+17</td>\n",
       "      <td>New algorithm generates folding patterns to produce any #3-D origami structure #MIT... https://t...</td>\n",
       "      <td>[MIT]</td>\n",
       "    </tr>\n",
       "    <tr>\n",
       "      <th>1481</th>\n",
       "      <td>8.778951e+17</td>\n",
       "      <td>Prof. Leonard Guarente -Slowing aging by tweaking the body's metabolism #MIT Startup Exchange #F...</td>\n",
       "      <td>[MIT, Fitnescity]</td>\n",
       "    </tr>\n",
       "    <tr>\n",
       "      <th>1573</th>\n",
       "      <td>8.778952e+17</td>\n",
       "      <td>RT @ProfBuehlerMIT: One of the case studies presented at #MITAgricultureInnovation are bio-based...</td>\n",
       "      <td>[MITAgricultureInnovation]</td>\n",
       "    </tr>\n",
       "    <tr>\n",
       "      <th>4137</th>\n",
       "      <td>8.778990e+17</td>\n",
       "      <td>#MIT students hack #AssistiveTechnology solutions for local residents with #disability\\nhttps://...</td>\n",
       "      <td>[MIT, AssistiveTechnology, disability, a11y, PWD]</td>\n",
       "    </tr>\n",
       "    <tr>\n",
       "      <th>4341</th>\n",
       "      <td>8.778993e+17</td>\n",
       "      <td>#Master in #Applied #Physics from the #Prestigious #MIT\\nTo say:\\n(#Space =0°= #Time)\\nIs a #Poi...</td>\n",
       "      <td>[Master, Applied, Physics, Prestigious, MIT, Space, Time, PointOfView]</td>\n",
       "    </tr>\n",
       "  </tbody>\n",
       "</table>\n",
       "</div>"
      ],
      "text/plain": [
       "            id_str                                                                                                 text                                                        hashtags_cleaned\n",
       "373   8.778933e+17  New algorithm generates folding patterns to produce any #3-D origami structure #MIT... https://t...                                                                   [MIT]\n",
       "1481  8.778951e+17  Prof. Leonard Guarente -Slowing aging by tweaking the body's metabolism #MIT Startup Exchange #F...                                                       [MIT, Fitnescity]\n",
       "1573  8.778952e+17  RT @ProfBuehlerMIT: One of the case studies presented at #MITAgricultureInnovation are bio-based...                                              [MITAgricultureInnovation]\n",
       "4137  8.778990e+17  #MIT students hack #AssistiveTechnology solutions for local residents with #disability\\nhttps://...                       [MIT, AssistiveTechnology, disability, a11y, PWD]\n",
       "4341  8.778993e+17  #Master in #Applied #Physics from the #Prestigious #MIT\\nTo say:\\n(#Space =0°= #Time)\\nIs a #Poi...  [Master, Applied, Physics, Prestigious, MIT, Space, Time, PointOfView]"
      ]
     },
     "execution_count": 90,
     "metadata": {},
     "output_type": "execute_result"
    }
   ],
   "source": [
    "tweets_df[tweets_df[\"caltech_tweet\"]==True][[\"id_str\", \"text\", \"hashtags_cleaned\"]].head()"
   ]
  },
  {
   "cell_type": "code",
   "execution_count": null,
   "metadata": {},
   "outputs": [],
   "source": []
  }
 ],
 "metadata": {
  "kernelspec": {
   "display_name": "Python 3",
   "language": "python",
   "name": "python3"
  },
  "language_info": {
   "codemirror_mode": {
    "name": "ipython",
    "version": 3
   },
   "file_extension": ".py",
   "mimetype": "text/x-python",
   "name": "python",
   "nbconvert_exporter": "python",
   "pygments_lexer": "ipython3",
   "version": "3.6.7"
  }
 },
 "nbformat": 4,
 "nbformat_minor": 2
}
