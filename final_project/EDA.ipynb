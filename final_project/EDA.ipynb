{
 "cells": [
  {
   "cell_type": "code",
   "execution_count": 53,
   "metadata": {},
   "outputs": [
    {
     "data": {
      "text/html": [
       "<style>.container { width:95% !important; }</style>"
      ],
      "text/plain": [
       "<IPython.core.display.HTML object>"
      ]
     },
     "metadata": {},
     "output_type": "display_data"
    },
    {
     "name": "stdout",
     "output_type": "stream",
     "text": [
      "3.6.7 (default, Oct 22 2018, 11:32:17) \n",
      "[GCC 8.2.0]\n"
     ]
    }
   ],
   "source": [
    "# Put these at the top of every notebook, to get automatic reloading and inline plotting\n",
    "from IPython.core.display import display, HTML\n",
    "import pandas as pd\n",
    "%reload_ext autoreload\n",
    "%autoreload 1\n",
    "%matplotlib inline\n",
    "\n",
    "import warnings\n",
    "warnings.filterwarnings('ignore')\n",
    "\n",
    "pd.set_option('display.max_rows', 500)\n",
    "pd.set_option('display.max_columns', 500)\n",
    "pd.set_option('display.width', 1000)\n",
    "pd.set_option('max_colwidth',100)    \n",
    "\n",
    "display(HTML(\"<style>.container { width:95% !important; }</style>\"))\n",
    "\n",
    "import sys\n",
    "import matplotlib.pyplot as plt\n",
    "import seaborn as sns\n",
    "import re\n",
    "import json\n",
    "from itertools import combinations, takewhile\n",
    "import collections\n",
    "import pandas as pd\n",
    "import numpy as np\n",
    "import os\n",
    "\n",
    "from simhash import Simhash, SimhashIndex\n",
    "\n",
    "sns.set()\n",
    "\n",
    "from Utils.UtilsViz import *\n",
    "from Utils.UtilsGeoViz import *\n",
    "\n",
    "print(sys.version)"
   ]
  },
  {
   "cell_type": "code",
   "execution_count": 54,
   "metadata": {},
   "outputs": [
    {
     "data": {
      "text/plain": [
       "(1048947, 20)"
      ]
     },
     "metadata": {},
     "output_type": "display_data"
    },
    {
     "data": {
      "text/html": [
       "<div>\n",
       "<style scoped>\n",
       "    .dataframe tbody tr th:only-of-type {\n",
       "        vertical-align: middle;\n",
       "    }\n",
       "\n",
       "    .dataframe tbody tr th {\n",
       "        vertical-align: top;\n",
       "    }\n",
       "\n",
       "    .dataframe thead th {\n",
       "        text-align: right;\n",
       "    }\n",
       "</style>\n",
       "<table border=\"1\" class=\"dataframe\">\n",
       "  <thead>\n",
       "    <tr style=\"text-align: right;\">\n",
       "      <th></th>\n",
       "      <th>id_str</th>\n",
       "      <th>text</th>\n",
       "      <th>in_reply_to_status_id_str</th>\n",
       "      <th>in_reply_to_user_id_str</th>\n",
       "      <th>created_at</th>\n",
       "      <th>user_id_str</th>\n",
       "      <th>user_name</th>\n",
       "      <th>user_followers_count</th>\n",
       "      <th>user_favourites_count</th>\n",
       "      <th>user_statuses_count</th>\n",
       "      <th>user_friends_count</th>\n",
       "      <th>coordinates</th>\n",
       "      <th>favorite_count</th>\n",
       "      <th>entities_hashtags</th>\n",
       "      <th>favorited</th>\n",
       "      <th>retweet_count</th>\n",
       "      <th>retweeted</th>\n",
       "      <th>retweeted_status_user_id_str</th>\n",
       "      <th>retweeted_status_user_name</th>\n",
       "      <th>hashtags_cleaned</th>\n",
       "    </tr>\n",
       "  </thead>\n",
       "  <tbody>\n",
       "    <tr>\n",
       "      <th>0</th>\n",
       "      <td>8.778927e+17</td>\n",
       "      <td>RT @ArkansasBlog: Study: States with concealed carry laws experience rise in violent crime. http...</td>\n",
       "      <td>NaN</td>\n",
       "      <td>NaN</td>\n",
       "      <td>Thu Jun 22 14:15:01 +0000 2017</td>\n",
       "      <td>1.550783e+08</td>\n",
       "      <td>Lake Man</td>\n",
       "      <td>1554.0</td>\n",
       "      <td>56574.0</td>\n",
       "      <td>95959.0</td>\n",
       "      <td>2577.0</td>\n",
       "      <td>NaN</td>\n",
       "      <td>0.0</td>\n",
       "      <td>[]</td>\n",
       "      <td>False</td>\n",
       "      <td>0.0</td>\n",
       "      <td>False</td>\n",
       "      <td>17131180</td>\n",
       "      <td>Arkansas Blog</td>\n",
       "      <td>[]</td>\n",
       "    </tr>\n",
       "    <tr>\n",
       "      <th>1</th>\n",
       "      <td>8.778927e+17</td>\n",
       "      <td>IL Healthcare Truth Tour: Heal Don't Repeal! 6/22 2:30PM Federal Plaza, Chicago. Mobile billboar...</td>\n",
       "      <td>NaN</td>\n",
       "      <td>NaN</td>\n",
       "      <td>Thu Jun 22 14:15:01 +0000 2017</td>\n",
       "      <td>7.159992e+06</td>\n",
       "      <td>Annie Williams</td>\n",
       "      <td>22.0</td>\n",
       "      <td>167.0</td>\n",
       "      <td>417.0</td>\n",
       "      <td>87.0</td>\n",
       "      <td>NaN</td>\n",
       "      <td>0.0</td>\n",
       "      <td>[]</td>\n",
       "      <td>False</td>\n",
       "      <td>0.0</td>\n",
       "      <td>False</td>\n",
       "      <td>NaN</td>\n",
       "      <td>NaN</td>\n",
       "      <td>[]</td>\n",
       "    </tr>\n",
       "    <tr>\n",
       "      <th>2</th>\n",
       "      <td>8.778927e+17</td>\n",
       "      <td>IL Healthcare Truth Tour: Heal Don't Repeal! 6/22 2:30PM Federal Plaza, Chicago. Mobile billboar...</td>\n",
       "      <td>NaN</td>\n",
       "      <td>NaN</td>\n",
       "      <td>Thu Jun 22 14:15:01 +0000 2017</td>\n",
       "      <td>8.271887e+17</td>\n",
       "      <td>Indivisible9IL</td>\n",
       "      <td>264.0</td>\n",
       "      <td>111.0</td>\n",
       "      <td>342.0</td>\n",
       "      <td>231.0</td>\n",
       "      <td>NaN</td>\n",
       "      <td>0.0</td>\n",
       "      <td>[]</td>\n",
       "      <td>False</td>\n",
       "      <td>0.0</td>\n",
       "      <td>False</td>\n",
       "      <td>NaN</td>\n",
       "      <td>NaN</td>\n",
       "      <td>[]</td>\n",
       "    </tr>\n",
       "    <tr>\n",
       "      <th>3</th>\n",
       "      <td>8.778927e+17</td>\n",
       "      <td>IL Healthcare Truth Tour: Heal Don't Repeal! 6/22 2:30PM Federal Plaza, Chicago. Mobile billboar...</td>\n",
       "      <td>NaN</td>\n",
       "      <td>NaN</td>\n",
       "      <td>Thu Jun 22 14:15:02 +0000 2017</td>\n",
       "      <td>8.313191e+17</td>\n",
       "      <td>Indivisible Illinois</td>\n",
       "      <td>1027.0</td>\n",
       "      <td>1626.0</td>\n",
       "      <td>982.0</td>\n",
       "      <td>267.0</td>\n",
       "      <td>NaN</td>\n",
       "      <td>0.0</td>\n",
       "      <td>[]</td>\n",
       "      <td>False</td>\n",
       "      <td>0.0</td>\n",
       "      <td>False</td>\n",
       "      <td>NaN</td>\n",
       "      <td>NaN</td>\n",
       "      <td>[]</td>\n",
       "    </tr>\n",
       "    <tr>\n",
       "      <th>4</th>\n",
       "      <td>8.778927e+17</td>\n",
       "      <td>Day 1 of Chicago Summit: Gregory Touhill delivers keynote on Cybersecurity=Risk Management #ISMG...</td>\n",
       "      <td>NaN</td>\n",
       "      <td>NaN</td>\n",
       "      <td>Thu Jun 22 14:15:02 +0000 2017</td>\n",
       "      <td>3.998460e+07</td>\n",
       "      <td>ISMG Network News</td>\n",
       "      <td>2395.0</td>\n",
       "      <td>119.0</td>\n",
       "      <td>12833.0</td>\n",
       "      <td>960.0</td>\n",
       "      <td>NaN</td>\n",
       "      <td>0.0</td>\n",
       "      <td>[Row(indices=[91, 103], text='ISMGSummits'), Row(indices=[104, 112], text='infosec')]</td>\n",
       "      <td>False</td>\n",
       "      <td>0.0</td>\n",
       "      <td>False</td>\n",
       "      <td>NaN</td>\n",
       "      <td>NaN</td>\n",
       "      <td>['ISMGSummits', 'infosec']</td>\n",
       "    </tr>\n",
       "  </tbody>\n",
       "</table>\n",
       "</div>"
      ],
      "text/plain": [
       "         id_str                                                                                                 text in_reply_to_status_id_str  in_reply_to_user_id_str                      created_at   user_id_str             user_name  user_followers_count  user_favourites_count  user_statuses_count  user_friends_count coordinates favorite_count                                                                      entities_hashtags favorited  retweet_count retweeted retweeted_status_user_id_str retweeted_status_user_name            hashtags_cleaned\n",
       "0  8.778927e+17  RT @ArkansasBlog: Study: States with concealed carry laws experience rise in violent crime. http...                       NaN                      NaN  Thu Jun 22 14:15:01 +0000 2017  1.550783e+08              Lake Man                1554.0                56574.0              95959.0              2577.0         NaN            0.0                                                                                     []     False            0.0     False                     17131180              Arkansas Blog                          []\n",
       "1  8.778927e+17  IL Healthcare Truth Tour: Heal Don't Repeal! 6/22 2:30PM Federal Plaza, Chicago. Mobile billboar...                       NaN                      NaN  Thu Jun 22 14:15:01 +0000 2017  7.159992e+06        Annie Williams                  22.0                  167.0                417.0                87.0         NaN            0.0                                                                                     []     False            0.0     False                          NaN                        NaN                          []\n",
       "2  8.778927e+17  IL Healthcare Truth Tour: Heal Don't Repeal! 6/22 2:30PM Federal Plaza, Chicago. Mobile billboar...                       NaN                      NaN  Thu Jun 22 14:15:01 +0000 2017  8.271887e+17        Indivisible9IL                 264.0                  111.0                342.0               231.0         NaN            0.0                                                                                     []     False            0.0     False                          NaN                        NaN                          []\n",
       "3  8.778927e+17  IL Healthcare Truth Tour: Heal Don't Repeal! 6/22 2:30PM Federal Plaza, Chicago. Mobile billboar...                       NaN                      NaN  Thu Jun 22 14:15:02 +0000 2017  8.313191e+17  Indivisible Illinois                1027.0                 1626.0                982.0               267.0         NaN            0.0                                                                                     []     False            0.0     False                          NaN                        NaN                          []\n",
       "4  8.778927e+17  Day 1 of Chicago Summit: Gregory Touhill delivers keynote on Cybersecurity=Risk Management #ISMG...                       NaN                      NaN  Thu Jun 22 14:15:02 +0000 2017  3.998460e+07     ISMG Network News                2395.0                  119.0              12833.0               960.0         NaN            0.0  [Row(indices=[91, 103], text='ISMGSummits'), Row(indices=[104, 112], text='infosec')]     False            0.0     False                          NaN                        NaN  ['ISMGSummits', 'infosec']"
      ]
     },
     "metadata": {},
     "output_type": "display_data"
    }
   ],
   "source": [
    "fpath = os.path.join(os.getcwd(), \"temp.csv\")\n",
    "tweets_df = pd.read_csv(fpath, index_col=\"Unnamed: 0\")\n",
    "display(\n",
    "    tweets_df.shape,\n",
    "    tweets_df.head()\n",
    ")"
   ]
  },
  {
   "cell_type": "code",
   "execution_count": 55,
   "metadata": {},
   "outputs": [],
   "source": [
    "from ast import literal_eval\n",
    "\n",
    "def le(row):\n",
    "    if row is np.NaN:\n",
    "        return []\n",
    "    else:\n",
    "        return literal_eval(row)\n",
    "\n",
    "tweets_df['hashtags_cleaned']=tweets_df['hashtags_cleaned'].apply(le)"
   ]
  },
  {
   "cell_type": "markdown",
   "metadata": {},
   "source": [
    "# Q1 - Identify tweets related to UChicago and 3-4 universities of your choice"
   ]
  },
  {
   "cell_type": "code",
   "execution_count": 128,
   "metadata": {},
   "outputs": [
    {
     "data": {
      "text/plain": [
       "(133, 3)"
      ]
     },
     "metadata": {},
     "output_type": "display_data"
    },
    {
     "data": {
      "text/plain": [
       "(93, 3)"
      ]
     },
     "metadata": {},
     "output_type": "display_data"
    },
    {
     "data": {
      "text/plain": [
       "(88, 3)"
      ]
     },
     "metadata": {},
     "output_type": "display_data"
    },
    {
     "data": {
      "text/plain": [
       "(1021, 3)"
      ]
     },
     "metadata": {},
     "output_type": "display_data"
    },
    {
     "data": {
      "text/plain": [
       "(818, 3)"
      ]
     },
     "metadata": {},
     "output_type": "display_data"
    },
    {
     "data": {
      "text/plain": [
       "(214, 3)"
      ]
     },
     "metadata": {},
     "output_type": "display_data"
    },
    {
     "data": {
      "text/plain": [
       "(1048947,)"
      ]
     },
     "metadata": {},
     "output_type": "display_data"
    },
    {
     "data": {
      "text/plain": [
       "(1048947, 27)"
      ]
     },
     "metadata": {},
     "output_type": "display_data"
    }
   ],
   "source": [
    "uc_favored_tags = [\"uchicago\", \"uchearing\", \"universityofchicago\", \"pritzkerschoolofmedicine\",\n",
    "                   \"uofc\", \"maroonmade\", \"chicagobooth\"]\n",
    "nw_favored_tags = [\"northwestern\"]\n",
    "upenn_favored_tags = [\"upenn\", \"penn\", \"uofpenn\", \"universityofpennsylvania\", \"pennlaw\", \"upennhearing\"]\n",
    "uic_favored_tags = [\"UIC\", \"UICProud\"]\n",
    "mit_favored_tags = [\"MIT\"]\n",
    "stanford_favored_tags = [\"stanford\"]\n",
    "\n",
    "def is_stanford_tweet(row):\n",
    "    if row is np.NaN:\n",
    "        return False\n",
    "    for ftag in stanford_favored_tags:\n",
    "        for tag in row:\n",
    "            if ftag.lower() in tag.lower():\n",
    "                return True\n",
    "    return False\n",
    "\n",
    "def is_upenn_tweet(row):\n",
    "    if row is np.NaN:\n",
    "        return False\n",
    "    for ftag in upenn_favored_tags:\n",
    "        for tag in row:\n",
    "            if ftag.lower() in tag.lower():\n",
    "                return True\n",
    "    return False\n",
    "\n",
    "def is_nw_tweet(row):\n",
    "    if row is np.NaN:\n",
    "        return False\n",
    "    for ftag in nw_favored_tags:\n",
    "        for tag in row:\n",
    "            if ftag.lower() == tag.lower():\n",
    "                return True\n",
    "    return False\n",
    "\n",
    "def is_uc_tweet(row):\n",
    "    if row is np.NaN:\n",
    "        return False\n",
    "    for ftag in uc_favored_tags:\n",
    "        for tag in row:\n",
    "            if ftag.lower() in tag.lower():\n",
    "                return True\n",
    "    return False\n",
    "\n",
    "def is_uic_tweet(row):\n",
    "    if row is np.NaN:\n",
    "        return False\n",
    "    for ftag in uic_favored_tags:\n",
    "        for tag in row:\n",
    "            if ftag.lower() == tag.lower():\n",
    "                return True\n",
    "    return False\n",
    "\n",
    "def is_mit_tweet(row):\n",
    "    if row is np.NaN:\n",
    "        return False\n",
    "    for ftag in mit_favored_tags:\n",
    "        for tag in row:\n",
    "            if ftag.lower() == tag.lower():\n",
    "                return True\n",
    "    return False\n",
    "\n",
    "tweets_df[\"mit_tweet\"] = tweets_df[\"hashtags_cleaned\"].apply(is_mit_tweet)\n",
    "tweets_df[\"stanford_tweet\"] = tweets_df[\"hashtags_cleaned\"].apply(is_stanford_tweet)\n",
    "tweets_df[\"nw_tweet\"] = tweets_df[\"hashtags_cleaned\"].apply(is_nw_tweet)\n",
    "tweets_df[\"upenn_tweet\"] = tweets_df[\"hashtags_cleaned\"].apply(is_upenn_tweet)\n",
    "tweets_df[\"uc_tweet\"] = tweets_df[\"hashtags_cleaned\"].apply(is_uc_tweet)\n",
    "tweets_df[\"uic_tweet\"] = tweets_df[\"hashtags_cleaned\"].apply(is_uic_tweet)\n",
    "\n",
    "cols = [\"uc_tweet\", \"uic_tweet\", \"mit_tweet\", \"stanford_tweet\", \"upenn_tweet\", \"nw_tweet\"]\n",
    "\n",
    "def is_uni_tweet(row):\n",
    "    for col in cols:\n",
    "        if row[col]:\n",
    "            return True\n",
    "    else:\n",
    "        return False\n",
    "\n",
    "tweets_df[\"uni_tweet\"] = tweets_df[cols].apply(is_uni_tweet, axis=1)\n",
    "\n",
    "display(\n",
    "    tweets_df[tweets_df[\"uic_tweet\"]==True][[\"id_str\", \"text\", \"hashtags_cleaned\"]].shape,\n",
    "    tweets_df[tweets_df[\"uc_tweet\"]==True][[\"id_str\", \"text\", \"hashtags_cleaned\"]].shape,\n",
    "    tweets_df[tweets_df[\"upenn_tweet\"]==True][[\"id_str\", \"text\", \"hashtags_cleaned\"]].shape,\n",
    "    tweets_df[tweets_df[\"mit_tweet\"]==True][[\"id_str\", \"text\", \"hashtags_cleaned\"]].shape,\n",
    "    tweets_df[tweets_df[\"stanford_tweet\"]==True][[\"id_str\", \"text\", \"hashtags_cleaned\"]].shape,\n",
    "    tweets_df[tweets_df[\"nw_tweet\"]==True][[\"id_str\", \"text\", \"hashtags_cleaned\"]].shape,\n",
    "    tweets_df[\"uni_tweet\"].shape,\n",
    "    tweets_df.shape\n",
    ")"
   ]
  },
  {
   "cell_type": "code",
   "execution_count": 69,
   "metadata": {},
   "outputs": [],
   "source": [
    "uni_df = \\\n",
    "    tweets_df[(tweets_df[\"uc_tweet\"]==True) | \n",
    "              (tweets_df[\"uic_tweet\"]==True) |\n",
    "              (tweets_df[\"mit_tweet\"]==True) |\n",
    "              (tweets_df[\"stanford_tweet\"]==True) |\n",
    "              (tweets_df[\"upenn_tweet\"]==True) |\n",
    "              (tweets_df[\"nw_tweet\"]==True)]"
   ]
  },
  {
   "cell_type": "code",
   "execution_count": 58,
   "metadata": {},
   "outputs": [
    {
     "data": {
      "text/plain": [
       "(2350, 26)"
      ]
     },
     "execution_count": 58,
     "metadata": {},
     "output_type": "execute_result"
    }
   ],
   "source": [
    "uni_df.shape"
   ]
  },
  {
   "cell_type": "markdown",
   "metadata": {},
   "source": [
    "# Q2 - Identify the most prolific / influential Twitterers\n",
    "1. By message volume\n",
    "1. By message retweet\n",
    "1. How much are they tweeting about the Universities vs. other topics? "
   ]
  },
  {
   "cell_type": "code",
   "execution_count": 59,
   "metadata": {},
   "outputs": [
    {
     "data": {
      "text/html": [
       "<div>\n",
       "<style scoped>\n",
       "    .dataframe tbody tr th:only-of-type {\n",
       "        vertical-align: middle;\n",
       "    }\n",
       "\n",
       "    .dataframe tbody tr th {\n",
       "        vertical-align: top;\n",
       "    }\n",
       "\n",
       "    .dataframe thead th {\n",
       "        text-align: right;\n",
       "    }\n",
       "</style>\n",
       "<table border=\"1\" class=\"dataframe\">\n",
       "  <thead>\n",
       "    <tr style=\"text-align: right;\">\n",
       "      <th></th>\n",
       "      <th>id_str</th>\n",
       "      <th>text</th>\n",
       "      <th>in_reply_to_status_id_str</th>\n",
       "      <th>in_reply_to_user_id_str</th>\n",
       "      <th>created_at</th>\n",
       "      <th>user_id_str</th>\n",
       "      <th>user_name</th>\n",
       "      <th>user_followers_count</th>\n",
       "      <th>user_favourites_count</th>\n",
       "      <th>user_statuses_count</th>\n",
       "      <th>user_friends_count</th>\n",
       "      <th>coordinates</th>\n",
       "      <th>favorite_count</th>\n",
       "      <th>entities_hashtags</th>\n",
       "      <th>favorited</th>\n",
       "      <th>retweet_count</th>\n",
       "      <th>retweeted</th>\n",
       "      <th>retweeted_status_user_id_str</th>\n",
       "      <th>retweeted_status_user_name</th>\n",
       "      <th>hashtags_cleaned</th>\n",
       "      <th>mit_tweet</th>\n",
       "      <th>stanford_tweet</th>\n",
       "      <th>nw_tweet</th>\n",
       "      <th>upenn_tweet</th>\n",
       "      <th>uc_tweet</th>\n",
       "      <th>uic_tweet</th>\n",
       "    </tr>\n",
       "  </thead>\n",
       "  <tbody>\n",
       "    <tr>\n",
       "      <th>348</th>\n",
       "      <td>8.778933e+17</td>\n",
       "      <td>RT @OriginalMcGill3: #AGTG EXTREMELY HONORED AND BLESSED TO RECIEVE AN OFFER FROM STANFORD UNIVE...</td>\n",
       "      <td>NaN</td>\n",
       "      <td>NaN</td>\n",
       "      <td>Thu Jun 22 14:17:26 +0000 2017</td>\n",
       "      <td>24333184.0</td>\n",
       "      <td>Gabe</td>\n",
       "      <td>85.0</td>\n",
       "      <td>385.0</td>\n",
       "      <td>152.0</td>\n",
       "      <td>213.0</td>\n",
       "      <td>NaN</td>\n",
       "      <td>0.0</td>\n",
       "      <td>[Row(indices=[21, 26], text='AGTG'), Row(indices=[103, 114], text='GoStanford')]</td>\n",
       "      <td>False</td>\n",
       "      <td>0.0</td>\n",
       "      <td>False</td>\n",
       "      <td>1104434276</td>\n",
       "      <td>Jonathan McGill</td>\n",
       "      <td>[AGTG, GoStanford]</td>\n",
       "      <td>False</td>\n",
       "      <td>True</td>\n",
       "      <td>False</td>\n",
       "      <td>False</td>\n",
       "      <td>False</td>\n",
       "      <td>False</td>\n",
       "    </tr>\n",
       "    <tr>\n",
       "      <th>373</th>\n",
       "      <td>8.778933e+17</td>\n",
       "      <td>New algorithm generates folding patterns to produce any #3-D origami structure #MIT... https://t...</td>\n",
       "      <td>NaN</td>\n",
       "      <td>NaN</td>\n",
       "      <td>Thu Jun 22 14:17:39 +0000 2017</td>\n",
       "      <td>588604189.0</td>\n",
       "      <td>Technolizer</td>\n",
       "      <td>880.0</td>\n",
       "      <td>0.0</td>\n",
       "      <td>117346.0</td>\n",
       "      <td>381.0</td>\n",
       "      <td>NaN</td>\n",
       "      <td>0.0</td>\n",
       "      <td>[Row(indices=[79, 83], text='MIT')]</td>\n",
       "      <td>False</td>\n",
       "      <td>0.0</td>\n",
       "      <td>False</td>\n",
       "      <td>NaN</td>\n",
       "      <td>NaN</td>\n",
       "      <td>[MIT]</td>\n",
       "      <td>True</td>\n",
       "      <td>False</td>\n",
       "      <td>False</td>\n",
       "      <td>False</td>\n",
       "      <td>False</td>\n",
       "      <td>False</td>\n",
       "    </tr>\n",
       "    <tr>\n",
       "      <th>443</th>\n",
       "      <td>8.778935e+17</td>\n",
       "      <td>RT @MirandaWeinberg: Morning! Today I'll be live from #UPennHearing on behalf of @GETUPgrads &amp;am...</td>\n",
       "      <td>NaN</td>\n",
       "      <td>NaN</td>\n",
       "      <td>Thu Jun 22 14:18:07 +0000 2017</td>\n",
       "      <td>274415582.0</td>\n",
       "      <td>Danielle Hanley</td>\n",
       "      <td>131.0</td>\n",
       "      <td>637.0</td>\n",
       "      <td>577.0</td>\n",
       "      <td>288.0</td>\n",
       "      <td>NaN</td>\n",
       "      <td>0.0</td>\n",
       "      <td>[Row(indices=[54, 67], text='UPennHearing'), Row(indices=[133, 143], text='UChearing')]</td>\n",
       "      <td>False</td>\n",
       "      <td>0.0</td>\n",
       "      <td>False</td>\n",
       "      <td>1158927727</td>\n",
       "      <td>Miranda Weinberg</td>\n",
       "      <td>[UPennHearing, UChearing]</td>\n",
       "      <td>False</td>\n",
       "      <td>False</td>\n",
       "      <td>False</td>\n",
       "      <td>True</td>\n",
       "      <td>True</td>\n",
       "      <td>False</td>\n",
       "    </tr>\n",
       "    <tr>\n",
       "      <th>473</th>\n",
       "      <td>8.778935e+17</td>\n",
       "      <td>#Stanford Scientists #Discover a #Way to #Convert #Carbon #Dioxide into #Clean #Burning #Ethanol...</td>\n",
       "      <td>NaN</td>\n",
       "      <td>NaN</td>\n",
       "      <td>Thu Jun 22 14:18:19 +0000 2017</td>\n",
       "      <td>45817618.0</td>\n",
       "      <td>Ivan Kulikov</td>\n",
       "      <td>449.0</td>\n",
       "      <td>528.0</td>\n",
       "      <td>9451.0</td>\n",
       "      <td>358.0</td>\n",
       "      <td>NaN</td>\n",
       "      <td>0.0</td>\n",
       "      <td>[Row(indices=[0, 9], text='Stanford'), Row(indices=[21, 30], text='Discover'), Row(indices=[33, ...</td>\n",
       "      <td>False</td>\n",
       "      <td>0.0</td>\n",
       "      <td>False</td>\n",
       "      <td>NaN</td>\n",
       "      <td>NaN</td>\n",
       "      <td>[Stanford, Discover, Way, Convert, Carbon, Dioxide, Clean, Burning, Ethanol]</td>\n",
       "      <td>False</td>\n",
       "      <td>True</td>\n",
       "      <td>False</td>\n",
       "      <td>False</td>\n",
       "      <td>False</td>\n",
       "      <td>False</td>\n",
       "    </tr>\n",
       "    <tr>\n",
       "      <th>741</th>\n",
       "      <td>8.778940e+17</td>\n",
       "      <td>https://t.co/3fR9KmELE1 5 Life Hacks und Tricks mit Ballons | Tommy Tv #video #life #hacks #und ...</td>\n",
       "      <td>NaN</td>\n",
       "      <td>NaN</td>\n",
       "      <td>Thu Jun 22 14:20:09 +0000 2017</td>\n",
       "      <td>366674576.0</td>\n",
       "      <td>HotVideo Deutschland</td>\n",
       "      <td>369.0</td>\n",
       "      <td>0.0</td>\n",
       "      <td>47474.0</td>\n",
       "      <td>0.0</td>\n",
       "      <td>NaN</td>\n",
       "      <td>0.0</td>\n",
       "      <td>[Row(indices=[71, 77], text='video'), Row(indices=[78, 83], text='life'), Row(indices=[84, 90], ...</td>\n",
       "      <td>False</td>\n",
       "      <td>0.0</td>\n",
       "      <td>False</td>\n",
       "      <td>NaN</td>\n",
       "      <td>NaN</td>\n",
       "      <td>[video, life, hacks, und, tricks, mit, ballons, tommy]</td>\n",
       "      <td>True</td>\n",
       "      <td>False</td>\n",
       "      <td>False</td>\n",
       "      <td>False</td>\n",
       "      <td>False</td>\n",
       "      <td>False</td>\n",
       "    </tr>\n",
       "  </tbody>\n",
       "</table>\n",
       "</div>"
      ],
      "text/plain": [
       "           id_str                                                                                                 text in_reply_to_status_id_str  in_reply_to_user_id_str                      created_at  user_id_str             user_name  user_followers_count  user_favourites_count  user_statuses_count  user_friends_count coordinates favorite_count                                                                                    entities_hashtags favorited  retweet_count retweeted retweeted_status_user_id_str retweeted_status_user_name                                                              hashtags_cleaned  mit_tweet  stanford_tweet  nw_tweet  upenn_tweet  uc_tweet  uic_tweet\n",
       "348  8.778933e+17  RT @OriginalMcGill3: #AGTG EXTREMELY HONORED AND BLESSED TO RECIEVE AN OFFER FROM STANFORD UNIVE...                       NaN                      NaN  Thu Jun 22 14:17:26 +0000 2017   24333184.0                  Gabe                  85.0                  385.0                152.0               213.0         NaN            0.0                     [Row(indices=[21, 26], text='AGTG'), Row(indices=[103, 114], text='GoStanford')]     False            0.0     False                   1104434276            Jonathan McGill                                                            [AGTG, GoStanford]      False            True     False        False     False      False\n",
       "373  8.778933e+17  New algorithm generates folding patterns to produce any #3-D origami structure #MIT... https://t...                       NaN                      NaN  Thu Jun 22 14:17:39 +0000 2017  588604189.0           Technolizer                 880.0                    0.0             117346.0               381.0         NaN            0.0                                                                  [Row(indices=[79, 83], text='MIT')]     False            0.0     False                          NaN                        NaN                                                                         [MIT]       True           False     False        False     False      False\n",
       "443  8.778935e+17  RT @MirandaWeinberg: Morning! Today I'll be live from #UPennHearing on behalf of @GETUPgrads &am...                       NaN                      NaN  Thu Jun 22 14:18:07 +0000 2017  274415582.0       Danielle Hanley                 131.0                  637.0                577.0               288.0         NaN            0.0              [Row(indices=[54, 67], text='UPennHearing'), Row(indices=[133, 143], text='UChearing')]     False            0.0     False                   1158927727           Miranda Weinberg                                                     [UPennHearing, UChearing]      False           False     False         True      True      False\n",
       "473  8.778935e+17  #Stanford Scientists #Discover a #Way to #Convert #Carbon #Dioxide into #Clean #Burning #Ethanol...                       NaN                      NaN  Thu Jun 22 14:18:19 +0000 2017   45817618.0          Ivan Kulikov                 449.0                  528.0               9451.0               358.0         NaN            0.0  [Row(indices=[0, 9], text='Stanford'), Row(indices=[21, 30], text='Discover'), Row(indices=[33, ...     False            0.0     False                          NaN                        NaN  [Stanford, Discover, Way, Convert, Carbon, Dioxide, Clean, Burning, Ethanol]      False            True     False        False     False      False\n",
       "741  8.778940e+17  https://t.co/3fR9KmELE1 5 Life Hacks und Tricks mit Ballons | Tommy Tv #video #life #hacks #und ...                       NaN                      NaN  Thu Jun 22 14:20:09 +0000 2017  366674576.0  HotVideo Deutschland                 369.0                    0.0              47474.0                 0.0         NaN            0.0  [Row(indices=[71, 77], text='video'), Row(indices=[78, 83], text='life'), Row(indices=[84, 90], ...     False            0.0     False                          NaN                        NaN                        [video, life, hacks, und, tricks, mit, ballons, tommy]       True           False     False        False     False      False"
      ]
     },
     "execution_count": 59,
     "metadata": {},
     "output_type": "execute_result"
    }
   ],
   "source": [
    "uni_df.head()"
   ]
  },
  {
   "cell_type": "code",
   "execution_count": 60,
   "metadata": {
    "scrolled": true
   },
   "outputs": [
    {
     "data": {
      "text/plain": [
       "0.0    2257\n",
       "0.0      93\n",
       "Name: favorite_count, dtype: int64"
      ]
     },
     "execution_count": 60,
     "metadata": {},
     "output_type": "execute_result"
    }
   ],
   "source": [
    "uni_df[\"favorite_count\"].value_counts()"
   ]
  },
  {
   "cell_type": "markdown",
   "metadata": {},
   "source": [
    "## Most active users"
   ]
  },
  {
   "cell_type": "markdown",
   "metadata": {},
   "source": [
    "How many users do we have in this glorious subsample?"
   ]
  },
  {
   "cell_type": "code",
   "execution_count": 61,
   "metadata": {},
   "outputs": [
    {
     "data": {
      "text/plain": [
       "(1540,)"
      ]
     },
     "execution_count": 61,
     "metadata": {},
     "output_type": "execute_result"
    }
   ],
   "source": [
    "uni_df[\"user_id_str\"].unique().shape"
   ]
  },
  {
   "cell_type": "markdown",
   "metadata": {},
   "source": [
    "### Message Volume"
   ]
  },
  {
   "cell_type": "code",
   "execution_count": 79,
   "metadata": {},
   "outputs": [
    {
     "data": {
      "text/html": [
       "<div>\n",
       "<style scoped>\n",
       "    .dataframe tbody tr th:only-of-type {\n",
       "        vertical-align: middle;\n",
       "    }\n",
       "\n",
       "    .dataframe tbody tr th {\n",
       "        vertical-align: top;\n",
       "    }\n",
       "\n",
       "    .dataframe thead th {\n",
       "        text-align: right;\n",
       "    }\n",
       "</style>\n",
       "<table border=\"1\" class=\"dataframe\">\n",
       "  <thead>\n",
       "    <tr style=\"text-align: right;\">\n",
       "      <th></th>\n",
       "      <th>user_name</th>\n",
       "      <th>id_str</th>\n",
       "      <th>user_id_str</th>\n",
       "    </tr>\n",
       "  </thead>\n",
       "  <tbody>\n",
       "    <tr>\n",
       "      <th>0</th>\n",
       "      <td>#JamalVarney</td>\n",
       "      <td>1</td>\n",
       "      <td>1</td>\n",
       "    </tr>\n",
       "    <tr>\n",
       "      <th>1</th>\n",
       "      <td>#Programmer Bot</td>\n",
       "      <td>4</td>\n",
       "      <td>4</td>\n",
       "    </tr>\n",
       "    <tr>\n",
       "      <th>2</th>\n",
       "      <td>#Proud Deplorable</td>\n",
       "      <td>1</td>\n",
       "      <td>1</td>\n",
       "    </tr>\n",
       "    <tr>\n",
       "      <th>3</th>\n",
       "      <td>#W.W.J.W</td>\n",
       "      <td>1</td>\n",
       "      <td>1</td>\n",
       "    </tr>\n",
       "    <tr>\n",
       "      <th>4</th>\n",
       "      <td>#idampan idamariapan</td>\n",
       "      <td>1</td>\n",
       "      <td>1</td>\n",
       "    </tr>\n",
       "  </tbody>\n",
       "</table>\n",
       "</div>"
      ],
      "text/plain": [
       "              user_name  id_str  user_id_str\n",
       "0          #JamalVarney       1            1\n",
       "1       #Programmer Bot       4            4\n",
       "2     #Proud Deplorable       1            1\n",
       "3              #W.W.J.W       1            1\n",
       "4  #idampan idamariapan       1            1"
      ]
     },
     "execution_count": 79,
     "metadata": {},
     "output_type": "execute_result"
    }
   ],
   "source": [
    "user_grp = uni_df[[\"id_str\", \"user_id_str\", \"user_name\"]].groupby(by=[\"user_name\"], as_index=False).count()\n",
    "user_grp.reset_index(drop=True, inplace=True)\n",
    "user_grp.head()"
   ]
  },
  {
   "cell_type": "code",
   "execution_count": 63,
   "metadata": {},
   "outputs": [
    {
     "data": {
      "image/png": "[encoded data removed]",
      "text/plain": [
       "<Figure size 1152x648 with 1 Axes>"
      ]
     },
     "metadata": {},
     "output_type": "display_data"
    }
   ],
   "source": [
    "user_subset = user_grp[user_grp[\"id_str\"] > 10]\n",
    "user_subset.reset_index(drop=True, inplace=True)\n",
    "f, ax = plt.subplots(1, 1, figsize=(16,9))\n",
    "plot_bar(data=user_subset, x=\"user_name\", y=\"id_str\", ax=ax)"
   ]
  },
  {
   "cell_type": "markdown",
   "metadata": {},
   "source": [
    "[USERNAME] Seems to be the most active user with several tweets"
   ]
  },
  {
   "cell_type": "markdown",
   "metadata": {},
   "source": [
    "### Message Retweet"
   ]
  },
  {
   "cell_type": "markdown",
   "metadata": {},
   "source": [
    "###### <font color=red> NOTE : CHANGE DATAFRAME TO uni_df WHEN RUNNING ONLINE </font>"
   ]
  },
  {
   "cell_type": "code",
   "execution_count": 88,
   "metadata": {},
   "outputs": [
    {
     "data": {
      "text/html": [
       "<div>\n",
       "<style scoped>\n",
       "    .dataframe tbody tr th:only-of-type {\n",
       "        vertical-align: middle;\n",
       "    }\n",
       "\n",
       "    .dataframe tbody tr th {\n",
       "        vertical-align: top;\n",
       "    }\n",
       "\n",
       "    .dataframe thead th {\n",
       "        text-align: right;\n",
       "    }\n",
       "</style>\n",
       "<table border=\"1\" class=\"dataframe\">\n",
       "  <thead>\n",
       "    <tr style=\"text-align: right;\">\n",
       "      <th></th>\n",
       "      <th>user_id_str</th>\n",
       "      <th>user_name</th>\n",
       "      <th>retweet_count</th>\n",
       "    </tr>\n",
       "  </thead>\n",
       "  <tbody>\n",
       "    <tr>\n",
       "      <th>0</th>\n",
       "      <td>1.0</td>\n",
       "      <td>81.0</td>\n",
       "      <td>0.000000e+00</td>\n",
       "    </tr>\n",
       "    <tr>\n",
       "      <th>1</th>\n",
       "      <td>4.0</td>\n",
       "      <td>0.0</td>\n",
       "      <td>8.220680e+17</td>\n",
       "    </tr>\n",
       "    <tr>\n",
       "      <th>2</th>\n",
       "      <td>4.0</td>\n",
       "      <td>2.0</td>\n",
       "      <td>8.220680e+17</td>\n",
       "    </tr>\n",
       "    <tr>\n",
       "      <th>3</th>\n",
       "      <td>4.0</td>\n",
       "      <td>3.0</td>\n",
       "      <td>0.000000e+00</td>\n",
       "    </tr>\n",
       "    <tr>\n",
       "      <th>4</th>\n",
       "      <td>5.0</td>\n",
       "      <td>111.0</td>\n",
       "      <td>0.000000e+00</td>\n",
       "    </tr>\n",
       "  </tbody>\n",
       "</table>\n",
       "</div>"
      ],
      "text/plain": [
       "   user_id_str user_name  retweet_count\n",
       "0          1.0      81.0   0.000000e+00\n",
       "1          4.0       0.0   8.220680e+17\n",
       "2          4.0       2.0   8.220680e+17\n",
       "3          4.0       3.0   0.000000e+00\n",
       "4          5.0     111.0   0.000000e+00"
      ]
     },
     "execution_count": 88,
     "metadata": {},
     "output_type": "execute_result"
    }
   ],
   "source": [
    "user_rt_grp = tweets_df[[\"user_name\", \"user_id_str\", \"retweet_count\"]].groupby(by=[\"user_id_str\", \"user_name\"], as_index=False).sum()\n",
    "user_rt_grp.reset_index(drop=True, inplace=True)\n",
    "user_rt_grp.head()"
   ]
  },
  {
   "cell_type": "code",
   "execution_count": 89,
   "metadata": {},
   "outputs": [
    {
     "data": {
      "image/png": "[encoded data removed]",
      "text/plain": [
       "<Figure size 1152x648 with 1 Axes>"
      ]
     },
     "metadata": {},
     "output_type": "display_data"
    }
   ],
   "source": [
    "user_rt_subset = user_rt_grp[user_rt_grp[\"retweet_count\"] > 1]\n",
    "user_rt_subset.reset_index(drop=True, inplace=True)\n",
    "f, ax = plt.subplots(1, 1, figsize=(16,9))\n",
    "plot_bar(data=user_rt_subset, x=\"user_name\", y=\"retweet_count\", ax=ax)"
   ]
  },
  {
   "cell_type": "markdown",
   "metadata": {},
   "source": [
    "### How much are they tweeting about the Universities vs. other topics?"
   ]
  },
  {
   "cell_type": "code",
   "execution_count": 124,
   "metadata": {},
   "outputs": [],
   "source": [
    "prolific_users = user_subset[\"user_name\"].unique()"
   ]
  },
  {
   "cell_type": "code",
   "execution_count": 149,
   "metadata": {},
   "outputs": [
    {
     "data": {
      "text/plain": [
       "(514, 12)"
      ]
     },
     "execution_count": 149,
     "metadata": {},
     "output_type": "execute_result"
    }
   ],
   "source": [
    "cols = [\"id_str\", \"user_id_str\", \"text\", \"user_name\", \"hashtags_cleaned\", \"uc_tweet\", \"uic_tweet\", \"mit_tweet\", \"stanford_tweet\", \"upenn_tweet\", \"nw_tweet\", \"uni_tweet\"]\n",
    "uvnu_df = tweets_df[tweets_df[\"user_name\"].isin(prolific_users)][cols]\n",
    "def tmpfun(row):\n",
    "    if row:\n",
    "        return 1\n",
    "    else:\n",
    "        return 0\n",
    "uvnu_df[\"uni_tweet\"] = tmpdf[\"uni_tweet\"].apply(tmpfun)\n",
    "uvnu_df.shape"
   ]
  },
  {
   "cell_type": "code",
   "execution_count": 176,
   "metadata": {},
   "outputs": [
    {
     "data": {
      "text/html": [
       "<div>\n",
       "<style scoped>\n",
       "    .dataframe tbody tr th:only-of-type {\n",
       "        vertical-align: middle;\n",
       "    }\n",
       "\n",
       "    .dataframe tbody tr th {\n",
       "        vertical-align: top;\n",
       "    }\n",
       "\n",
       "    .dataframe thead th {\n",
       "        text-align: right;\n",
       "    }\n",
       "</style>\n",
       "<table border=\"1\" class=\"dataframe\">\n",
       "  <thead>\n",
       "    <tr style=\"text-align: right;\">\n",
       "      <th></th>\n",
       "      <th>user_name</th>\n",
       "      <th>uni_tweets</th>\n",
       "      <th>total_tweets</th>\n",
       "      <th>ratio</th>\n",
       "    </tr>\n",
       "  </thead>\n",
       "  <tbody>\n",
       "    <tr>\n",
       "      <th>0</th>\n",
       "      <td>Climber.com EDU Jobs</td>\n",
       "      <td>124</td>\n",
       "      <td>192</td>\n",
       "      <td>0.645833</td>\n",
       "    </tr>\n",
       "    <tr>\n",
       "      <th>1</th>\n",
       "      <td>Laura Fornaro</td>\n",
       "      <td>171</td>\n",
       "      <td>171</td>\n",
       "      <td>1.000000</td>\n",
       "    </tr>\n",
       "    <tr>\n",
       "      <th>2</th>\n",
       "      <td>Northwestern Spyder</td>\n",
       "      <td>23</td>\n",
       "      <td>23</td>\n",
       "      <td>1.000000</td>\n",
       "    </tr>\n",
       "    <tr>\n",
       "      <th>3</th>\n",
       "      <td>Reality Check</td>\n",
       "      <td>20</td>\n",
       "      <td>33</td>\n",
       "      <td>0.606061</td>\n",
       "    </tr>\n",
       "    <tr>\n",
       "      <th>4</th>\n",
       "      <td>Stanford Bee</td>\n",
       "      <td>23</td>\n",
       "      <td>23</td>\n",
       "      <td>1.000000</td>\n",
       "    </tr>\n",
       "    <tr>\n",
       "      <th>5</th>\n",
       "      <td>Vi Rai⚡️ (ϑ ℛai)</td>\n",
       "      <td>22</td>\n",
       "      <td>59</td>\n",
       "      <td>0.372881</td>\n",
       "    </tr>\n",
       "    <tr>\n",
       "      <th>6</th>\n",
       "      <td>eddie knk</td>\n",
       "      <td>13</td>\n",
       "      <td>13</td>\n",
       "      <td>1.000000</td>\n",
       "    </tr>\n",
       "  </tbody>\n",
       "</table>\n",
       "</div>"
      ],
      "text/plain": [
       "              user_name  uni_tweets  total_tweets     ratio\n",
       "0  Climber.com EDU Jobs         124           192  0.645833\n",
       "1         Laura Fornaro         171           171  1.000000\n",
       "2   Northwestern Spyder          23            23  1.000000\n",
       "3         Reality Check          20            33  0.606061\n",
       "4          Stanford Bee          23            23  1.000000\n",
       "5      Vi Rai⚡️ (ϑ ℛai)          22            59  0.372881\n",
       "6             eddie knk          13            13  1.000000"
      ]
     },
     "execution_count": 176,
     "metadata": {},
     "output_type": "execute_result"
    }
   ],
   "source": [
    "tmp_df = uvnu_df[[\"user_name\", \"uni_tweet\"]].groupby(by=\"user_name\", as_index=False).agg([\"sum\", \"count\"])\n",
    "tmp_df.columns = [\"uni_tweets\", \"total_tweets\"]\n",
    "tmp_df.reset_index(drop=False, inplace=True)\n",
    "tmp_df[\"ratio\"] = tmp_df[\"uni_tweets\"] / tmp_df[\"total_tweets\"]\n",
    "tmp_df"
   ]
  },
  {
   "cell_type": "code",
   "execution_count": null,
   "metadata": {},
   "outputs": [],
   "source": [
    "f, ax = plt.subplots(1,1,figsize=(16,9))\n",
    "plt"
   ]
  },
  {
   "cell_type": "markdown",
   "metadata": {},
   "source": [
    "## Location studies"
   ]
  },
  {
   "cell_type": "markdown",
   "metadata": {},
   "source": [
    "## What distinguishes University of Chicago Twitterers vs Twitterers who tweet about other universities"
   ]
  },
  {
   "cell_type": "markdown",
   "metadata": {},
   "source": [
    "## Seasonality"
   ]
  },
  {
   "cell_type": "markdown",
   "metadata": {},
   "source": [
    "## How unique are the messages for each of these universities?"
   ]
  }
 ],
 "metadata": {
  "kernelspec": {
   "display_name": "Python 3",
   "language": "python",
   "name": "python3"
  },
  "language_info": {
   "codemirror_mode": {
    "name": "ipython",
    "version": 3
   },
   "file_extension": ".py",
   "mimetype": "text/x-python",
   "name": "python",
   "nbconvert_exporter": "python",
   "pygments_lexer": "ipython3",
   "version": "3.6.7"
  }
 },
 "nbformat": 4,
 "nbformat_minor": 2
}
