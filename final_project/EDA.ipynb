{
 "cells": [
  {
   "cell_type": "code",
   "execution_count": 3,
   "metadata": {},
   "outputs": [
    {
     "data": {
      "text/html": [
       "<style>.container { width:95% !important; }</style>"
      ],
      "text/plain": [
       "<IPython.core.display.HTML object>"
      ]
     },
     "metadata": {},
     "output_type": "display_data"
    }
   ],
   "source": [
    "# Put these at the top of every notebook, to get automatic reloading and inline plotting\n",
    "from IPython.core.display import display, HTML\n",
    "import pandas as pd\n",
    "%reload_ext autoreload\n",
    "%autoreload 1\n",
    "%matplotlib inline\n",
    "\n",
    "import warnings\n",
    "warnings.filterwarnings('ignore')\n",
    "\n",
    "pd.set_option('display.max_rows', 500)\n",
    "pd.set_option('display.max_columns', 500)\n",
    "pd.set_option('display.width', 1000)\n",
    "pd.set_option('max_colwidth',100)    \n",
    "\n",
    "display(HTML(\"<style>.container { width:95% !important; }</style>\"))"
   ]
  },
  {
   "cell_type": "code",
   "execution_count": 4,
   "metadata": {},
   "outputs": [
    {
     "name": "stdout",
     "output_type": "stream",
     "text": [
      "3.6.7 (default, Oct 22 2018, 11:32:17) \n",
      "[GCC 8.2.0]\n"
     ]
    }
   ],
   "source": [
    "import sys\n",
    "import matplotlib.pyplot as plt\n",
    "import seaborn as sns\n",
    "import re\n",
    "import json\n",
    "from itertools import combinations, takewhile\n",
    "import collections\n",
    "import pandas as pd\n",
    "import numpy as np\n",
    "import os\n",
    "\n",
    "from simhash import Simhash, SimhashIndex\n",
    "\n",
    "sns.set()\n",
    "\n",
    "print(sys.version)"
   ]
  },
  {
   "cell_type": "code",
   "execution_count": 5,
   "metadata": {},
   "outputs": [
    {
     "data": {
      "text/plain": [
       "(1048947, 20)"
      ]
     },
     "metadata": {},
     "output_type": "display_data"
    },
    {
     "data": {
      "text/html": [
       "<div>\n",
       "<style scoped>\n",
       "    .dataframe tbody tr th:only-of-type {\n",
       "        vertical-align: middle;\n",
       "    }\n",
       "\n",
       "    .dataframe tbody tr th {\n",
       "        vertical-align: top;\n",
       "    }\n",
       "\n",
       "    .dataframe thead th {\n",
       "        text-align: right;\n",
       "    }\n",
       "</style>\n",
       "<table border=\"1\" class=\"dataframe\">\n",
       "  <thead>\n",
       "    <tr style=\"text-align: right;\">\n",
       "      <th></th>\n",
       "      <th>id_str</th>\n",
       "      <th>text</th>\n",
       "      <th>in_reply_to_status_id_str</th>\n",
       "      <th>in_reply_to_user_id_str</th>\n",
       "      <th>created_at</th>\n",
       "      <th>user_id_str</th>\n",
       "      <th>user_name</th>\n",
       "      <th>user_followers_count</th>\n",
       "      <th>user_favourites_count</th>\n",
       "      <th>user_statuses_count</th>\n",
       "      <th>user_friends_count</th>\n",
       "      <th>coordinates</th>\n",
       "      <th>favorite_count</th>\n",
       "      <th>entities_hashtags</th>\n",
       "      <th>favorited</th>\n",
       "      <th>retweet_count</th>\n",
       "      <th>retweeted</th>\n",
       "      <th>retweeted_status_user_id_str</th>\n",
       "      <th>retweeted_status_user_name</th>\n",
       "      <th>hashtags_cleaned</th>\n",
       "    </tr>\n",
       "  </thead>\n",
       "  <tbody>\n",
       "    <tr>\n",
       "      <th>0</th>\n",
       "      <td>8.778927e+17</td>\n",
       "      <td>RT @ArkansasBlog: Study: States with concealed carry laws experience rise in violent crime. http...</td>\n",
       "      <td>NaN</td>\n",
       "      <td>NaN</td>\n",
       "      <td>Thu Jun 22 14:15:01 +0000 2017</td>\n",
       "      <td>1.550783e+08</td>\n",
       "      <td>Lake Man</td>\n",
       "      <td>1554.0</td>\n",
       "      <td>56574.0</td>\n",
       "      <td>95959.0</td>\n",
       "      <td>2577.0</td>\n",
       "      <td>NaN</td>\n",
       "      <td>0.0</td>\n",
       "      <td>[]</td>\n",
       "      <td>False</td>\n",
       "      <td>0.0</td>\n",
       "      <td>False</td>\n",
       "      <td>17131180</td>\n",
       "      <td>Arkansas Blog</td>\n",
       "      <td>[]</td>\n",
       "    </tr>\n",
       "    <tr>\n",
       "      <th>1</th>\n",
       "      <td>8.778927e+17</td>\n",
       "      <td>IL Healthcare Truth Tour: Heal Don't Repeal! 6/22 2:30PM Federal Plaza, Chicago. Mobile billboar...</td>\n",
       "      <td>NaN</td>\n",
       "      <td>NaN</td>\n",
       "      <td>Thu Jun 22 14:15:01 +0000 2017</td>\n",
       "      <td>7.159992e+06</td>\n",
       "      <td>Annie Williams</td>\n",
       "      <td>22.0</td>\n",
       "      <td>167.0</td>\n",
       "      <td>417.0</td>\n",
       "      <td>87.0</td>\n",
       "      <td>NaN</td>\n",
       "      <td>0.0</td>\n",
       "      <td>[]</td>\n",
       "      <td>False</td>\n",
       "      <td>0.0</td>\n",
       "      <td>False</td>\n",
       "      <td>NaN</td>\n",
       "      <td>NaN</td>\n",
       "      <td>[]</td>\n",
       "    </tr>\n",
       "    <tr>\n",
       "      <th>2</th>\n",
       "      <td>8.778927e+17</td>\n",
       "      <td>IL Healthcare Truth Tour: Heal Don't Repeal! 6/22 2:30PM Federal Plaza, Chicago. Mobile billboar...</td>\n",
       "      <td>NaN</td>\n",
       "      <td>NaN</td>\n",
       "      <td>Thu Jun 22 14:15:01 +0000 2017</td>\n",
       "      <td>8.271887e+17</td>\n",
       "      <td>Indivisible9IL</td>\n",
       "      <td>264.0</td>\n",
       "      <td>111.0</td>\n",
       "      <td>342.0</td>\n",
       "      <td>231.0</td>\n",
       "      <td>NaN</td>\n",
       "      <td>0.0</td>\n",
       "      <td>[]</td>\n",
       "      <td>False</td>\n",
       "      <td>0.0</td>\n",
       "      <td>False</td>\n",
       "      <td>NaN</td>\n",
       "      <td>NaN</td>\n",
       "      <td>[]</td>\n",
       "    </tr>\n",
       "    <tr>\n",
       "      <th>3</th>\n",
       "      <td>8.778927e+17</td>\n",
       "      <td>IL Healthcare Truth Tour: Heal Don't Repeal! 6/22 2:30PM Federal Plaza, Chicago. Mobile billboar...</td>\n",
       "      <td>NaN</td>\n",
       "      <td>NaN</td>\n",
       "      <td>Thu Jun 22 14:15:02 +0000 2017</td>\n",
       "      <td>8.313191e+17</td>\n",
       "      <td>Indivisible Illinois</td>\n",
       "      <td>1027.0</td>\n",
       "      <td>1626.0</td>\n",
       "      <td>982.0</td>\n",
       "      <td>267.0</td>\n",
       "      <td>NaN</td>\n",
       "      <td>0.0</td>\n",
       "      <td>[]</td>\n",
       "      <td>False</td>\n",
       "      <td>0.0</td>\n",
       "      <td>False</td>\n",
       "      <td>NaN</td>\n",
       "      <td>NaN</td>\n",
       "      <td>[]</td>\n",
       "    </tr>\n",
       "    <tr>\n",
       "      <th>4</th>\n",
       "      <td>8.778927e+17</td>\n",
       "      <td>Day 1 of Chicago Summit: Gregory Touhill delivers keynote on Cybersecurity=Risk Management #ISMG...</td>\n",
       "      <td>NaN</td>\n",
       "      <td>NaN</td>\n",
       "      <td>Thu Jun 22 14:15:02 +0000 2017</td>\n",
       "      <td>3.998460e+07</td>\n",
       "      <td>ISMG Network News</td>\n",
       "      <td>2395.0</td>\n",
       "      <td>119.0</td>\n",
       "      <td>12833.0</td>\n",
       "      <td>960.0</td>\n",
       "      <td>NaN</td>\n",
       "      <td>0.0</td>\n",
       "      <td>[Row(indices=[91, 103], text='ISMGSummits'), Row(indices=[104, 112], text='infosec')]</td>\n",
       "      <td>False</td>\n",
       "      <td>0.0</td>\n",
       "      <td>False</td>\n",
       "      <td>NaN</td>\n",
       "      <td>NaN</td>\n",
       "      <td>['ISMGSummits', 'infosec']</td>\n",
       "    </tr>\n",
       "  </tbody>\n",
       "</table>\n",
       "</div>"
      ],
      "text/plain": [
       "         id_str                                                                                                 text in_reply_to_status_id_str  in_reply_to_user_id_str                      created_at   user_id_str             user_name  user_followers_count  user_favourites_count  user_statuses_count  user_friends_count coordinates favorite_count                                                                      entities_hashtags favorited  retweet_count retweeted retweeted_status_user_id_str retweeted_status_user_name            hashtags_cleaned\n",
       "0  8.778927e+17  RT @ArkansasBlog: Study: States with concealed carry laws experience rise in violent crime. http...                       NaN                      NaN  Thu Jun 22 14:15:01 +0000 2017  1.550783e+08              Lake Man                1554.0                56574.0              95959.0              2577.0         NaN            0.0                                                                                     []     False            0.0     False                     17131180              Arkansas Blog                          []\n",
       "1  8.778927e+17  IL Healthcare Truth Tour: Heal Don't Repeal! 6/22 2:30PM Federal Plaza, Chicago. Mobile billboar...                       NaN                      NaN  Thu Jun 22 14:15:01 +0000 2017  7.159992e+06        Annie Williams                  22.0                  167.0                417.0                87.0         NaN            0.0                                                                                     []     False            0.0     False                          NaN                        NaN                          []\n",
       "2  8.778927e+17  IL Healthcare Truth Tour: Heal Don't Repeal! 6/22 2:30PM Federal Plaza, Chicago. Mobile billboar...                       NaN                      NaN  Thu Jun 22 14:15:01 +0000 2017  8.271887e+17        Indivisible9IL                 264.0                  111.0                342.0               231.0         NaN            0.0                                                                                     []     False            0.0     False                          NaN                        NaN                          []\n",
       "3  8.778927e+17  IL Healthcare Truth Tour: Heal Don't Repeal! 6/22 2:30PM Federal Plaza, Chicago. Mobile billboar...                       NaN                      NaN  Thu Jun 22 14:15:02 +0000 2017  8.313191e+17  Indivisible Illinois                1027.0                 1626.0                982.0               267.0         NaN            0.0                                                                                     []     False            0.0     False                          NaN                        NaN                          []\n",
       "4  8.778927e+17  Day 1 of Chicago Summit: Gregory Touhill delivers keynote on Cybersecurity=Risk Management #ISMG...                       NaN                      NaN  Thu Jun 22 14:15:02 +0000 2017  3.998460e+07     ISMG Network News                2395.0                  119.0              12833.0               960.0         NaN            0.0  [Row(indices=[91, 103], text='ISMGSummits'), Row(indices=[104, 112], text='infosec')]     False            0.0     False                          NaN                        NaN  ['ISMGSummits', 'infosec']"
      ]
     },
     "metadata": {},
     "output_type": "display_data"
    }
   ],
   "source": [
    "fpath = os.path.join(os.getcwd(), \"temp.csv\")\n",
    "tweets_df = pd.read_csv(fpath, index_col=\"Unnamed: 0\")\n",
    "display(\n",
    "    tweets_df.shape,\n",
    "    tweets_df.head()\n",
    ")"
   ]
  },
  {
   "cell_type": "markdown",
   "metadata": {},
   "source": [
    "# Q1 - Identify tweets related to UChicago and 3-4 universities of your choice "
   ]
  },
  {
   "cell_type": "code",
   "execution_count": 6,
   "metadata": {},
   "outputs": [],
   "source": [
    "uc_favored_tags = [\"uchicago\", \"uchearing\", \"universityofchicago\", \"pritzkerschoolofmedicine\",\n",
    "                   \"uofc\", \"maroonmade\", \"chicagobooth\"]\n",
    "\n",
    "upenn_favored_tags = [\"upenn\", \"penn\", \"uofpenn\", \"universityofpennsylvania\", \"pennlaw\"]\n",
    "\n",
    "uic_favored_tags = [\"UIC\", \"UICProud\"]"
   ]
  },
  {
   "cell_type": "code",
   "execution_count": 7,
   "metadata": {},
   "outputs": [
    {
     "name": "stdout",
     "output_type": "stream",
     "text": [
      "uchicago\n"
     ]
    }
   ],
   "source": [
    "t = ['uchicago', 'firstgen', 'college', 'careers', 'trioprograms']\n",
    "for ftag in uc_favored_tags:\n",
    "    for tag in t:\n",
    "        if ftag.lower() in tag.lower():\n",
    "            print(tag)"
   ]
  },
  {
   "cell_type": "code",
   "execution_count": 8,
   "metadata": {},
   "outputs": [],
   "source": [
    "from ast import literal_eval\n",
    "\n",
    "def le(row):\n",
    "    if row is np.NaN:\n",
    "        return []\n",
    "    else:\n",
    "        return literal_eval(row)\n",
    "\n",
    "tweets_df['hashtags_cleaned']=tweets_df['hashtags_cleaned'].apply(le)"
   ]
  },
  {
   "cell_type": "code",
   "execution_count": 9,
   "metadata": {
    "scrolled": true
   },
   "outputs": [],
   "source": [
    "uc_favored_tags = [\"uchicago\", \"uchearing\", \"universityofchicago\", \"pritzkerschoolofmedicine\",\n",
    "                   \"uofc\", \"maroonmade\", \"chicagobooth\"]\n",
    "\n",
    "def is_uc_tweet(row):\n",
    "    if row is np.NaN:\n",
    "        return False\n",
    "    for ftag in uc_favored_tags:\n",
    "        for tag in row:\n",
    "            if ftag.lower() in tag.lower():\n",
    "                return True\n",
    "    return False\n",
    "\n",
    "tweets_df[\"uc_tweet\"] = tweets_df[\"hashtags_cleaned\"].apply(is_uc_tweet)"
   ]
  },
  {
   "cell_type": "code",
   "execution_count": 10,
   "metadata": {},
   "outputs": [],
   "source": [
    "uic_favored_tags = [\"UIC\", \"UICProud\"]\n",
    "def is_uic_tweet(row):\n",
    "    if row is np.NaN:\n",
    "        return False\n",
    "    for ftag in uic_favored_tags:\n",
    "        for tag in row:\n",
    "            if ftag.lower() == tag.lower():\n",
    "                return True\n",
    "    return False\n",
    "\n",
    "tweets_df[\"uic_tweet\"] = tweets_df[\"hashtags_cleaned\"].apply(is_uic_tweet)"
   ]
  },
  {
   "cell_type": "code",
   "execution_count": 11,
   "metadata": {},
   "outputs": [],
   "source": [
    "upenn_favored_tags = [\"upenn\", \"penn\", \"uofpenn\", \"universityofpennsylvania\", \"pennlaw\"]\n",
    "\n",
    "def is_upenn_tweet(row):\n",
    "    if row is np.NaN:\n",
    "        return False\n",
    "    for ftag in upenn_favored_tags:\n",
    "        for tag in row:\n",
    "            if ftag.lower() in tag.lower():\n",
    "                return True\n",
    "    return False\n",
    "\n",
    "tweets_df[\"upenn_tweet\"] = tweets_df[\"hashtags_cleaned\"].apply(is_upenn_tweet)"
   ]
  },
  {
   "cell_type": "code",
   "execution_count": 12,
   "metadata": {},
   "outputs": [],
   "source": [
    "mit_favored_tags = [\"MIT\"]\n",
    "\n",
    "def is_mit_tweet(row):\n",
    "    if row is np.NaN:\n",
    "        return False\n",
    "    for ftag in mit_favored_tags:\n",
    "        for tag in row:\n",
    "            if ftag.lower() == tag.lower():\n",
    "                return True\n",
    "    return False\n",
    "\n",
    "tweets_df[\"mit_tweet\"] = tweets_df[\"hashtags_cleaned\"].apply(is_mit_tweet)"
   ]
  },
  {
   "cell_type": "code",
   "execution_count": 23,
   "metadata": {},
   "outputs": [],
   "source": [
    "nyu_favored_tags = [\"nyu\"]\n",
    "\n",
    "def is_nyu_tweet(row):\n",
    "    if row is np.NaN:\n",
    "        return False\n",
    "    for ftag in nyu_favored_tags:\n",
    "        for tag in row:\n",
    "            if ftag.lower() in tag.lower():\n",
    "                return True\n",
    "    return False\n",
    "\n",
    "tweets_df[\"nyu_tweet\"] = tweets_df[\"hashtags_cleaned\"].apply(is_nyu_tweet)"
   ]
  },
  {
   "cell_type": "code",
   "execution_count": 22,
   "metadata": {},
   "outputs": [],
   "source": [
    "stanford_favored_tags = [\"stanford\"]\n",
    "\n",
    "def is_stanford_tweet(row):\n",
    "    if row is np.NaN:\n",
    "        return False\n",
    "    for ftag in stanford_favored_tags:\n",
    "        for tag in row:\n",
    "            if ftag.lower() in tag.lower():\n",
    "                return True\n",
    "    return False\n",
    "\n",
    "tweets_df[\"stanford_tweet\"] = tweets_df[\"hashtags_cleaned\"].apply(is_stanford_tweet)"
   ]
  },
  {
   "cell_type": "code",
   "execution_count": 27,
   "metadata": {},
   "outputs": [],
   "source": [
    "nw_favored_tags = [\"northwestern\"]\n",
    "\n",
    "def is_nw_tweet(row):\n",
    "    if row is np.NaN:\n",
    "        return False\n",
    "    for ftag in nw_favored_tags:\n",
    "        for tag in row:\n",
    "            if ftag.lower() == tag.lower():\n",
    "                return True\n",
    "    return False\n",
    "\n",
    "tweets_df[\"nw_tweet\"] = tweets_df[\"hashtags_cleaned\"].apply(is_nw_tweet)"
   ]
  },
  {
   "cell_type": "code",
   "execution_count": 28,
   "metadata": {
    "scrolled": true
   },
   "outputs": [
    {
     "data": {
      "text/plain": [
       "(133, 3)"
      ]
     },
     "metadata": {},
     "output_type": "display_data"
    },
    {
     "data": {
      "text/plain": [
       "(93, 3)"
      ]
     },
     "metadata": {},
     "output_type": "display_data"
    },
    {
     "data": {
      "text/plain": [
       "(88, 3)"
      ]
     },
     "metadata": {},
     "output_type": "display_data"
    },
    {
     "data": {
      "text/plain": [
       "(1021, 3)"
      ]
     },
     "metadata": {},
     "output_type": "display_data"
    },
    {
     "data": {
      "text/plain": [
       "(21, 3)"
      ]
     },
     "metadata": {},
     "output_type": "display_data"
    },
    {
     "data": {
      "text/plain": [
       "(214, 3)"
      ]
     },
     "metadata": {},
     "output_type": "display_data"
    },
    {
     "data": {
      "text/plain": [
       "(818, 3)"
      ]
     },
     "metadata": {},
     "output_type": "display_data"
    },
    {
     "data": {
      "text/plain": [
       "(1048947, 27)"
      ]
     },
     "metadata": {},
     "output_type": "display_data"
    }
   ],
   "source": [
    "display(\n",
    "    tweets_df[tweets_df[\"uic_tweet\"]==True][[\"id_str\", \"text\", \"hashtags_cleaned\"]].shape,\n",
    "    tweets_df[tweets_df[\"uc_tweet\"]==True][[\"id_str\", \"text\", \"hashtags_cleaned\"]].shape,\n",
    "    tweets_df[tweets_df[\"upenn_tweet\"]==True][[\"id_str\", \"text\", \"hashtags_cleaned\"]].shape,\n",
    "#     tweets_df[tweets_df[\"mit_tweet\"]==True][[\"id_str\", \"text\", \"hashtags_cleaned\"]].shape,\n",
    "#     tweets_df[tweets_df[\"nyu_tweet\"]==True][[\"id_str\", \"text\", \"hashtags_cleaned\"]].shape,\n",
    "    tweets_df[tweets_df[\"nw_tweet\"]==True][[\"id_str\", \"text\", \"hashtags_cleaned\"]].shape,\n",
    "#     tweets_df[tweets_df[\"stanford_tweet\"]==True][[\"id_str\", \"text\", \"hashtags_cleaned\"]].shape,\n",
    "    tweets_df.shape\n",
    ")"
   ]
  },
  {
   "cell_type": "code",
   "execution_count": 26,
   "metadata": {},
   "outputs": [
    {
     "data": {
      "text/html": [
       "<div>\n",
       "<style scoped>\n",
       "    .dataframe tbody tr th:only-of-type {\n",
       "        vertical-align: middle;\n",
       "    }\n",
       "\n",
       "    .dataframe tbody tr th {\n",
       "        vertical-align: top;\n",
       "    }\n",
       "\n",
       "    .dataframe thead th {\n",
       "        text-align: right;\n",
       "    }\n",
       "</style>\n",
       "<table border=\"1\" class=\"dataframe\">\n",
       "  <thead>\n",
       "    <tr style=\"text-align: right;\">\n",
       "      <th></th>\n",
       "      <th>id_str</th>\n",
       "      <th>text</th>\n",
       "      <th>hashtags_cleaned</th>\n",
       "    </tr>\n",
       "  </thead>\n",
       "  <tbody>\n",
       "    <tr>\n",
       "      <th>348</th>\n",
       "      <td>8.778933e+17</td>\n",
       "      <td>RT @OriginalMcGill3: #AGTG EXTREMELY HONORED AND BLESSED TO RECIEVE AN OFFER FROM STANFORD UNIVE...</td>\n",
       "      <td>[AGTG, GoStanford]</td>\n",
       "    </tr>\n",
       "    <tr>\n",
       "      <th>473</th>\n",
       "      <td>8.778935e+17</td>\n",
       "      <td>#Stanford Scientists #Discover a #Way to #Convert #Carbon #Dioxide into #Clean #Burning #Ethanol...</td>\n",
       "      <td>[Stanford, Discover, Way, Convert, Carbon, Dioxide, Clean, Burning, Ethanol]</td>\n",
       "    </tr>\n",
       "    <tr>\n",
       "      <th>1950</th>\n",
       "      <td>8.778959e+17</td>\n",
       "      <td>Yes ladies! ✊🏾 #YBFGrads #RealLifeYBF #Stanford👩🏾‍🎓 https://t.co/ZUQsW0V5Af https://t.co/i2CIslbkzu</td>\n",
       "      <td>[YBFGrads, RealLifeYBF, Stanford]</td>\n",
       "    </tr>\n",
       "    <tr>\n",
       "      <th>2459</th>\n",
       "      <td>8.778966e+17</td>\n",
       "      <td>RT @TheYBF: Yes ladies! ✊🏾 #YBFGrads #RealLifeYBF #Stanford👩🏾‍🎓 https://t.co/ZUQsW0V5Af https://...</td>\n",
       "      <td>[YBFGrads, RealLifeYBF, Stanford]</td>\n",
       "    </tr>\n",
       "    <tr>\n",
       "      <th>2764</th>\n",
       "      <td>8.778971e+17</td>\n",
       "      <td>RT @TheYBF: Yes ladies! ✊🏾 #YBFGrads #RealLifeYBF #Stanford👩🏾‍🎓 https://t.co/ZUQsW0V5Af https://...</td>\n",
       "      <td>[YBFGrads, RealLifeYBF, Stanford]</td>\n",
       "    </tr>\n",
       "    <tr>\n",
       "      <th>2890</th>\n",
       "      <td>8.778972e+17</td>\n",
       "      <td>RT @TrinCollChoir: Not long now til #Stanford disc is out! Pre-order here: https://t.co/bpf5Qca3...</td>\n",
       "      <td>[Stanford, throwback]</td>\n",
       "    </tr>\n",
       "    <tr>\n",
       "      <th>2911</th>\n",
       "      <td>8.778973e+17</td>\n",
       "      <td>RT @TheYBF: Yes ladies! ✊🏾 #YBFGrads #RealLifeYBF #Stanford👩🏾‍🎓 https://t.co/ZUQsW0V5Af https://...</td>\n",
       "      <td>[YBFGrads, RealLifeYBF, Stanford]</td>\n",
       "    </tr>\n",
       "    <tr>\n",
       "      <th>3358</th>\n",
       "      <td>8.778979e+17</td>\n",
       "      <td>RT @TheYBF: Yes ladies! ✊🏾 #YBFGrads #RealLifeYBF #Stanford👩🏾‍🎓 https://t.co/ZUQsW0V5Af https://...</td>\n",
       "      <td>[YBFGrads, RealLifeYBF, Stanford]</td>\n",
       "    </tr>\n",
       "    <tr>\n",
       "      <th>3388</th>\n",
       "      <td>8.778980e+17</td>\n",
       "      <td>3-Star 2018 OL Sean Boles @sean_boles Set to Impress at #Stanford &amp;amp; #Iowa Camps. Interview: ...</td>\n",
       "      <td>[Stanford, Iowa, Mizzou, ISU, HoosRising]</td>\n",
       "    </tr>\n",
       "    <tr>\n",
       "      <th>4077</th>\n",
       "      <td>8.778989e+17</td>\n",
       "      <td>RT @RyanWrightRNG: 3-Star 2018 OL Sean Boles @sean_boles Set to Impress at #Stanford &amp;amp; #Iowa...</td>\n",
       "      <td>[Stanford, Iowa]</td>\n",
       "    </tr>\n",
       "    <tr>\n",
       "      <th>4438</th>\n",
       "      <td>8.778995e+17</td>\n",
       "      <td>RT @RyanWrightRNG: 3-Star 2018 OL Sean Boles @sean_boles Set to Impress at #Stanford &amp;amp; #Iowa...</td>\n",
       "      <td>[Stanford, Iowa]</td>\n",
       "    </tr>\n",
       "    <tr>\n",
       "      <th>4612</th>\n",
       "      <td>8.778998e+17</td>\n",
       "      <td>RT @Benji_Fernandes: Graduation. MBA✅. #StanfordGSB17 @StanfordBiz #Tanzania 🇹🇿 https://t.co/2wn...</td>\n",
       "      <td>[StanfordGSB17, Tanzania]</td>\n",
       "    </tr>\n",
       "    <tr>\n",
       "      <th>4998</th>\n",
       "      <td>8.779003e+17</td>\n",
       "      <td>RT @OriginalMcGill3: #AGTG EXTREMELY HONORED AND BLESSED TO RECIEVE AN OFFER FROM STANFORD UNIVE...</td>\n",
       "      <td>[AGTG, GoStanford]</td>\n",
       "    </tr>\n",
       "    <tr>\n",
       "      <th>5292</th>\n",
       "      <td>8.779008e+17</td>\n",
       "      <td>RT @TheYBF: Yes ladies! ✊🏾 #YBFGrads #RealLifeYBF #Stanford👩🏾‍🎓 https://t.co/ZUQsW0V5Af https://...</td>\n",
       "      <td>[YBFGrads, RealLifeYBF, Stanford]</td>\n",
       "    </tr>\n",
       "    <tr>\n",
       "      <th>5439</th>\n",
       "      <td>8.779010e+17</td>\n",
       "      <td>RT @OriginalMcGill3: #AGTG EXTREMELY HONORED AND BLESSED TO RECIEVE AN OFFER FROM STANFORD UNIVE...</td>\n",
       "      <td>[AGTG, GoStanford]</td>\n",
       "    </tr>\n",
       "    <tr>\n",
       "      <th>6705</th>\n",
       "      <td>8.779031e+17</td>\n",
       "      <td>2019 DB out of Dacula (GA) earns #Stanford offer. @MClarkScout @BrandonHuffman @GregBiggins @Joh...</td>\n",
       "      <td>[Stanford]</td>\n",
       "    </tr>\n",
       "    <tr>\n",
       "      <th>6833</th>\n",
       "      <td>8.779033e+17</td>\n",
       "      <td>RT @MattDeBary: 2019 DB out of Dacula (GA) earns #Stanford offer. @MClarkScout @BrandonHuffman @...</td>\n",
       "      <td>[Stanford]</td>\n",
       "    </tr>\n",
       "    <tr>\n",
       "      <th>6943</th>\n",
       "      <td>8.779035e+17</td>\n",
       "      <td>RT @MattDeBary: 2019 DB out of Dacula (GA) earns #Stanford offer. @MClarkScout @BrandonHuffman @...</td>\n",
       "      <td>[Stanford]</td>\n",
       "    </tr>\n",
       "    <tr>\n",
       "      <th>7456</th>\n",
       "      <td>8.779042e+17</td>\n",
       "      <td>@All_Black21 @Black_365com @RawStory Oh my! At my college ,. I read the same thing I'm trying to...</td>\n",
       "      <td>[Stanford]</td>\n",
       "    </tr>\n",
       "    <tr>\n",
       "      <th>7951</th>\n",
       "      <td>8.779049e+17</td>\n",
       "      <td>Soc Science Rsch Coord - Stanford, CA, 94305, USA #jobs #Stanford pls RT: ## Description The Sta...</td>\n",
       "      <td>[jobs, Stanford]</td>\n",
       "    </tr>\n",
       "    <tr>\n",
       "      <th>7962</th>\n",
       "      <td>8.779049e+17</td>\n",
       "      <td>Research Coordinator - Stanford, CA, 94305, USA #jobs #Stanford pls RT: ## Description The Depar...</td>\n",
       "      <td>[jobs, Stanford]</td>\n",
       "    </tr>\n",
       "    <tr>\n",
       "      <th>7964</th>\n",
       "      <td>8.779049e+17</td>\n",
       "      <td>Administrative Associate - Stanford, CA, 94305, USA #jobs #Stanford pls RT: ## Description The H...</td>\n",
       "      <td>[jobs, Stanford]</td>\n",
       "    </tr>\n",
       "    <tr>\n",
       "      <th>7968</th>\n",
       "      <td>8.779049e+17</td>\n",
       "      <td>Life Science Research Professional 1 - Stanford, CA, 94305, USA #jobs #Stanford pls RT: ## Descr...</td>\n",
       "      <td>[jobs, Stanford]</td>\n",
       "    </tr>\n",
       "    <tr>\n",
       "      <th>7972</th>\n",
       "      <td>8.779049e+17</td>\n",
       "      <td>Hotel Front Desk Agent - Stanford, CA, 94305, USA #jobs #Stanford pls RT: ## Description **_ABOU...</td>\n",
       "      <td>[jobs, Stanford]</td>\n",
       "    </tr>\n",
       "    <tr>\n",
       "      <th>7976</th>\n",
       "      <td>8.779049e+17</td>\n",
       "      <td>Research Administrator 2 - Stanford, CA, 94305, USA #jobs #Stanford pls RT: ## Description **Res...</td>\n",
       "      <td>[jobs, Stanford]</td>\n",
       "    </tr>\n",
       "    <tr>\n",
       "      <th>7985</th>\n",
       "      <td>8.779049e+17</td>\n",
       "      <td>Research Assistant - Stanford, CA, 94305, USA #jobs #Stanford pls RT: ## Description The Program...</td>\n",
       "      <td>[jobs, Stanford]</td>\n",
       "    </tr>\n",
       "    <tr>\n",
       "      <th>7991</th>\n",
       "      <td>8.779049e+17</td>\n",
       "      <td>Assistant Dean &amp;amp; Associate Director of Career Communities - Stanford, CA, 94305, USA #jobs #...</td>\n",
       "      <td>[jobs, Stanford]</td>\n",
       "    </tr>\n",
       "    <tr>\n",
       "      <th>8053</th>\n",
       "      <td>8.779050e+17</td>\n",
       "      <td>#Stanford #Javascript #Crypto Library https://t.co/rhe67SBO9d</td>\n",
       "      <td>[Stanford, Javascript, Crypto]</td>\n",
       "    </tr>\n",
       "    <tr>\n",
       "      <th>8056</th>\n",
       "      <td>8.779050e+17</td>\n",
       "      <td>Benefits Services Specialist - Stanford, CA, 94305, USA #jobs #Stanford pls RT: ## Description A...</td>\n",
       "      <td>[jobs, Stanford]</td>\n",
       "    </tr>\n",
       "    <tr>\n",
       "      <th>8058</th>\n",
       "      <td>8.779050e+17</td>\n",
       "      <td>Adm Assoc 2 - Stanford, CA, 94305, USA #jobs #Stanford pls RT: ## Description *Note: Not all uni...</td>\n",
       "      <td>[jobs, Stanford]</td>\n",
       "    </tr>\n",
       "  </tbody>\n",
       "</table>\n",
       "</div>"
      ],
      "text/plain": [
       "            id_str                                                                                                 text                                                              hashtags_cleaned\n",
       "348   8.778933e+17  RT @OriginalMcGill3: #AGTG EXTREMELY HONORED AND BLESSED TO RECIEVE AN OFFER FROM STANFORD UNIVE...                                                            [AGTG, GoStanford]\n",
       "473   8.778935e+17  #Stanford Scientists #Discover a #Way to #Convert #Carbon #Dioxide into #Clean #Burning #Ethanol...  [Stanford, Discover, Way, Convert, Carbon, Dioxide, Clean, Burning, Ethanol]\n",
       "1950  8.778959e+17  Yes ladies! ✊🏾 #YBFGrads #RealLifeYBF #Stanford👩🏾‍🎓 https://t.co/ZUQsW0V5Af https://t.co/i2CIslbkzu                                             [YBFGrads, RealLifeYBF, Stanford]\n",
       "2459  8.778966e+17  RT @TheYBF: Yes ladies! ✊🏾 #YBFGrads #RealLifeYBF #Stanford👩🏾‍🎓 https://t.co/ZUQsW0V5Af https://...                                             [YBFGrads, RealLifeYBF, Stanford]\n",
       "2764  8.778971e+17  RT @TheYBF: Yes ladies! ✊🏾 #YBFGrads #RealLifeYBF #Stanford👩🏾‍🎓 https://t.co/ZUQsW0V5Af https://...                                             [YBFGrads, RealLifeYBF, Stanford]\n",
       "2890  8.778972e+17  RT @TrinCollChoir: Not long now til #Stanford disc is out! Pre-order here: https://t.co/bpf5Qca3...                                                         [Stanford, throwback]\n",
       "2911  8.778973e+17  RT @TheYBF: Yes ladies! ✊🏾 #YBFGrads #RealLifeYBF #Stanford👩🏾‍🎓 https://t.co/ZUQsW0V5Af https://...                                             [YBFGrads, RealLifeYBF, Stanford]\n",
       "3358  8.778979e+17  RT @TheYBF: Yes ladies! ✊🏾 #YBFGrads #RealLifeYBF #Stanford👩🏾‍🎓 https://t.co/ZUQsW0V5Af https://...                                             [YBFGrads, RealLifeYBF, Stanford]\n",
       "3388  8.778980e+17  3-Star 2018 OL Sean Boles @sean_boles Set to Impress at #Stanford &amp; #Iowa Camps. Interview: ...                                     [Stanford, Iowa, Mizzou, ISU, HoosRising]\n",
       "4077  8.778989e+17  RT @RyanWrightRNG: 3-Star 2018 OL Sean Boles @sean_boles Set to Impress at #Stanford &amp; #Iowa...                                                              [Stanford, Iowa]\n",
       "4438  8.778995e+17  RT @RyanWrightRNG: 3-Star 2018 OL Sean Boles @sean_boles Set to Impress at #Stanford &amp; #Iowa...                                                              [Stanford, Iowa]\n",
       "4612  8.778998e+17  RT @Benji_Fernandes: Graduation. MBA✅. #StanfordGSB17 @StanfordBiz #Tanzania 🇹🇿 https://t.co/2wn...                                                     [StanfordGSB17, Tanzania]\n",
       "4998  8.779003e+17  RT @OriginalMcGill3: #AGTG EXTREMELY HONORED AND BLESSED TO RECIEVE AN OFFER FROM STANFORD UNIVE...                                                            [AGTG, GoStanford]\n",
       "5292  8.779008e+17  RT @TheYBF: Yes ladies! ✊🏾 #YBFGrads #RealLifeYBF #Stanford👩🏾‍🎓 https://t.co/ZUQsW0V5Af https://...                                             [YBFGrads, RealLifeYBF, Stanford]\n",
       "5439  8.779010e+17  RT @OriginalMcGill3: #AGTG EXTREMELY HONORED AND BLESSED TO RECIEVE AN OFFER FROM STANFORD UNIVE...                                                            [AGTG, GoStanford]\n",
       "6705  8.779031e+17  2019 DB out of Dacula (GA) earns #Stanford offer. @MClarkScout @BrandonHuffman @GregBiggins @Joh...                                                                    [Stanford]\n",
       "6833  8.779033e+17  RT @MattDeBary: 2019 DB out of Dacula (GA) earns #Stanford offer. @MClarkScout @BrandonHuffman @...                                                                    [Stanford]\n",
       "6943  8.779035e+17  RT @MattDeBary: 2019 DB out of Dacula (GA) earns #Stanford offer. @MClarkScout @BrandonHuffman @...                                                                    [Stanford]\n",
       "7456  8.779042e+17  @All_Black21 @Black_365com @RawStory Oh my! At my college ,. I read the same thing I'm trying to...                                                                    [Stanford]\n",
       "7951  8.779049e+17  Soc Science Rsch Coord - Stanford, CA, 94305, USA #jobs #Stanford pls RT: ## Description The Sta...                                                              [jobs, Stanford]\n",
       "7962  8.779049e+17  Research Coordinator - Stanford, CA, 94305, USA #jobs #Stanford pls RT: ## Description The Depar...                                                              [jobs, Stanford]\n",
       "7964  8.779049e+17  Administrative Associate - Stanford, CA, 94305, USA #jobs #Stanford pls RT: ## Description The H...                                                              [jobs, Stanford]\n",
       "7968  8.779049e+17  Life Science Research Professional 1 - Stanford, CA, 94305, USA #jobs #Stanford pls RT: ## Descr...                                                              [jobs, Stanford]\n",
       "7972  8.779049e+17  Hotel Front Desk Agent - Stanford, CA, 94305, USA #jobs #Stanford pls RT: ## Description **_ABOU...                                                              [jobs, Stanford]\n",
       "7976  8.779049e+17  Research Administrator 2 - Stanford, CA, 94305, USA #jobs #Stanford pls RT: ## Description **Res...                                                              [jobs, Stanford]\n",
       "7985  8.779049e+17  Research Assistant - Stanford, CA, 94305, USA #jobs #Stanford pls RT: ## Description The Program...                                                              [jobs, Stanford]\n",
       "7991  8.779049e+17  Assistant Dean &amp; Associate Director of Career Communities - Stanford, CA, 94305, USA #jobs #...                                                              [jobs, Stanford]\n",
       "8053  8.779050e+17                                        #Stanford #Javascript #Crypto Library https://t.co/rhe67SBO9d                                                [Stanford, Javascript, Crypto]\n",
       "8056  8.779050e+17  Benefits Services Specialist - Stanford, CA, 94305, USA #jobs #Stanford pls RT: ## Description A...                                                              [jobs, Stanford]\n",
       "8058  8.779050e+17  Adm Assoc 2 - Stanford, CA, 94305, USA #jobs #Stanford pls RT: ## Description *Note: Not all uni...                                                              [jobs, Stanford]"
      ]
     },
     "execution_count": 26,
     "metadata": {},
     "output_type": "execute_result"
    }
   ],
   "source": [
    "tweets_df[tweets_df[\"stanford_tweet\"]==True][[\"id_str\", \"text\", \"hashtags_cleaned\"]].head(30)"
   ]
  },
  {
   "cell_type": "code",
   "execution_count": null,
   "metadata": {},
   "outputs": [],
   "source": []
  }
 ],
 "metadata": {
  "kernelspec": {
   "display_name": "Python 3",
   "language": "python",
   "name": "python3"
  },
  "language_info": {
   "codemirror_mode": {
    "name": "ipython",
    "version": 3
   },
   "file_extension": ".py",
   "mimetype": "text/x-python",
   "name": "python",
   "nbconvert_exporter": "python",
   "pygments_lexer": "ipython3",
   "version": "3.6.7"
  }
 },
 "nbformat": 4,
 "nbformat_minor": 2
}
