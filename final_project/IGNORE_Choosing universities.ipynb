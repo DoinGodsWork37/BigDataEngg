{
 "cells": [
  {
   "cell_type": "code",
   "execution_count": 3,
   "metadata": {},
   "outputs": [
    {
     "data": {
      "text/html": [
       "<style>.container { width:95% !important; }</style>"
      ],
      "text/plain": [
       "<IPython.core.display.HTML object>"
      ]
     },
     "metadata": {},
     "output_type": "display_data"
    }
   ],
   "source": [
    "# Put these at the top of every notebook, to get automatic reloading and inline plotting\n",
    "from IPython.core.display import display, HTML\n",
    "import pandas as pd\n",
    "%reload_ext autoreload\n",
    "%autoreload 1\n",
    "%matplotlib inline\n",
    "\n",
    "import warnings\n",
    "warnings.filterwarnings('ignore')\n",
    "\n",
    "pd.set_option('display.max_rows', 500)\n",
    "pd.set_option('display.max_columns', 500)\n",
    "pd.set_option('display.width', 1000)\n",
    "pd.set_option('max_colwidth',100)    \n",
    "\n",
    "display(HTML(\"<style>.container { width:95% !important; }</style>\"))"
   ]
  },
  {
   "cell_type": "code",
   "execution_count": 4,
   "metadata": {},
   "outputs": [
    {
     "name": "stdout",
     "output_type": "stream",
     "text": [
      "3.6.7 (default, Oct 22 2018, 11:32:17) \n",
      "[GCC 8.2.0]\n"
     ]
    }
   ],
   "source": [
    "import sys\n",
    "import matplotlib.pyplot as plt\n",
    "import seaborn as sns\n",
    "import re\n",
    "import json\n",
    "from itertools import combinations, takewhile\n",
    "import collections\n",
    "import pandas as pd\n",
    "import numpy as np\n",
    "import os\n",
    "\n",
    "from simhash import Simhash, SimhashIndex\n",
    "\n",
    "sns.set()\n",
    "\n",
    "print(sys.version)"
   ]
  },
  {
   "cell_type": "code",
   "execution_count": 5,
   "metadata": {},
   "outputs": [
    {
     "data": {
      "text/plain": [
       "(1048947, 20)"
      ]
     },
     "metadata": {},
     "output_type": "display_data"
    },
    {
     "data": {
      "text/html": [
       "<div>\n",
       "<style scoped>\n",
       "    .dataframe tbody tr th:only-of-type {\n",
       "        vertical-align: middle;\n",
       "    }\n",
       "\n",
       "    .dataframe tbody tr th {\n",
       "        vertical-align: top;\n",
       "    }\n",
       "\n",
       "    .dataframe thead th {\n",
       "        text-align: right;\n",
       "    }\n",
       "</style>\n",
       "<table border=\"1\" class=\"dataframe\">\n",
       "  <thead>\n",
       "    <tr style=\"text-align: right;\">\n",
       "      <th></th>\n",
       "      <th>id_str</th>\n",
       "      <th>text</th>\n",
       "      <th>in_reply_to_status_id_str</th>\n",
       "      <th>in_reply_to_user_id_str</th>\n",
       "      <th>created_at</th>\n",
       "      <th>user_id_str</th>\n",
       "      <th>user_name</th>\n",
       "      <th>user_followers_count</th>\n",
       "      <th>user_favourites_count</th>\n",
       "      <th>user_statuses_count</th>\n",
       "      <th>user_friends_count</th>\n",
       "      <th>coordinates</th>\n",
       "      <th>favorite_count</th>\n",
       "      <th>entities_hashtags</th>\n",
       "      <th>favorited</th>\n",
       "      <th>retweet_count</th>\n",
       "      <th>retweeted</th>\n",
       "      <th>retweeted_status_user_id_str</th>\n",
       "      <th>retweeted_status_user_name</th>\n",
       "      <th>hashtags_cleaned</th>\n",
       "    </tr>\n",
       "  </thead>\n",
       "  <tbody>\n",
       "    <tr>\n",
       "      <th>0</th>\n",
       "      <td>8.778927e+17</td>\n",
       "      <td>RT @ArkansasBlog: Study: States with concealed carry laws experience rise in violent crime. http...</td>\n",
       "      <td>NaN</td>\n",
       "      <td>NaN</td>\n",
       "      <td>Thu Jun 22 14:15:01 +0000 2017</td>\n",
       "      <td>1.550783e+08</td>\n",
       "      <td>Lake Man</td>\n",
       "      <td>1554.0</td>\n",
       "      <td>56574.0</td>\n",
       "      <td>95959.0</td>\n",
       "      <td>2577.0</td>\n",
       "      <td>NaN</td>\n",
       "      <td>0.0</td>\n",
       "      <td>[]</td>\n",
       "      <td>False</td>\n",
       "      <td>0.0</td>\n",
       "      <td>False</td>\n",
       "      <td>17131180</td>\n",
       "      <td>Arkansas Blog</td>\n",
       "      <td>[]</td>\n",
       "    </tr>\n",
       "    <tr>\n",
       "      <th>1</th>\n",
       "      <td>8.778927e+17</td>\n",
       "      <td>IL Healthcare Truth Tour: Heal Don't Repeal! 6/22 2:30PM Federal Plaza, Chicago. Mobile billboar...</td>\n",
       "      <td>NaN</td>\n",
       "      <td>NaN</td>\n",
       "      <td>Thu Jun 22 14:15:01 +0000 2017</td>\n",
       "      <td>7.159992e+06</td>\n",
       "      <td>Annie Williams</td>\n",
       "      <td>22.0</td>\n",
       "      <td>167.0</td>\n",
       "      <td>417.0</td>\n",
       "      <td>87.0</td>\n",
       "      <td>NaN</td>\n",
       "      <td>0.0</td>\n",
       "      <td>[]</td>\n",
       "      <td>False</td>\n",
       "      <td>0.0</td>\n",
       "      <td>False</td>\n",
       "      <td>NaN</td>\n",
       "      <td>NaN</td>\n",
       "      <td>[]</td>\n",
       "    </tr>\n",
       "    <tr>\n",
       "      <th>2</th>\n",
       "      <td>8.778927e+17</td>\n",
       "      <td>IL Healthcare Truth Tour: Heal Don't Repeal! 6/22 2:30PM Federal Plaza, Chicago. Mobile billboar...</td>\n",
       "      <td>NaN</td>\n",
       "      <td>NaN</td>\n",
       "      <td>Thu Jun 22 14:15:01 +0000 2017</td>\n",
       "      <td>8.271887e+17</td>\n",
       "      <td>Indivisible9IL</td>\n",
       "      <td>264.0</td>\n",
       "      <td>111.0</td>\n",
       "      <td>342.0</td>\n",
       "      <td>231.0</td>\n",
       "      <td>NaN</td>\n",
       "      <td>0.0</td>\n",
       "      <td>[]</td>\n",
       "      <td>False</td>\n",
       "      <td>0.0</td>\n",
       "      <td>False</td>\n",
       "      <td>NaN</td>\n",
       "      <td>NaN</td>\n",
       "      <td>[]</td>\n",
       "    </tr>\n",
       "    <tr>\n",
       "      <th>3</th>\n",
       "      <td>8.778927e+17</td>\n",
       "      <td>IL Healthcare Truth Tour: Heal Don't Repeal! 6/22 2:30PM Federal Plaza, Chicago. Mobile billboar...</td>\n",
       "      <td>NaN</td>\n",
       "      <td>NaN</td>\n",
       "      <td>Thu Jun 22 14:15:02 +0000 2017</td>\n",
       "      <td>8.313191e+17</td>\n",
       "      <td>Indivisible Illinois</td>\n",
       "      <td>1027.0</td>\n",
       "      <td>1626.0</td>\n",
       "      <td>982.0</td>\n",
       "      <td>267.0</td>\n",
       "      <td>NaN</td>\n",
       "      <td>0.0</td>\n",
       "      <td>[]</td>\n",
       "      <td>False</td>\n",
       "      <td>0.0</td>\n",
       "      <td>False</td>\n",
       "      <td>NaN</td>\n",
       "      <td>NaN</td>\n",
       "      <td>[]</td>\n",
       "    </tr>\n",
       "    <tr>\n",
       "      <th>4</th>\n",
       "      <td>8.778927e+17</td>\n",
       "      <td>Day 1 of Chicago Summit: Gregory Touhill delivers keynote on Cybersecurity=Risk Management #ISMG...</td>\n",
       "      <td>NaN</td>\n",
       "      <td>NaN</td>\n",
       "      <td>Thu Jun 22 14:15:02 +0000 2017</td>\n",
       "      <td>3.998460e+07</td>\n",
       "      <td>ISMG Network News</td>\n",
       "      <td>2395.0</td>\n",
       "      <td>119.0</td>\n",
       "      <td>12833.0</td>\n",
       "      <td>960.0</td>\n",
       "      <td>NaN</td>\n",
       "      <td>0.0</td>\n",
       "      <td>[Row(indices=[91, 103], text='ISMGSummits'), Row(indices=[104, 112], text='infosec')]</td>\n",
       "      <td>False</td>\n",
       "      <td>0.0</td>\n",
       "      <td>False</td>\n",
       "      <td>NaN</td>\n",
       "      <td>NaN</td>\n",
       "      <td>['ISMGSummits', 'infosec']</td>\n",
       "    </tr>\n",
       "  </tbody>\n",
       "</table>\n",
       "</div>"
      ],
      "text/plain": [
       "         id_str                                                                                                 text in_reply_to_status_id_str  in_reply_to_user_id_str                      created_at   user_id_str             user_name  user_followers_count  user_favourites_count  user_statuses_count  user_friends_count coordinates favorite_count                                                                      entities_hashtags favorited  retweet_count retweeted retweeted_status_user_id_str retweeted_status_user_name            hashtags_cleaned\n",
       "0  8.778927e+17  RT @ArkansasBlog: Study: States with concealed carry laws experience rise in violent crime. http...                       NaN                      NaN  Thu Jun 22 14:15:01 +0000 2017  1.550783e+08              Lake Man                1554.0                56574.0              95959.0              2577.0         NaN            0.0                                                                                     []     False            0.0     False                     17131180              Arkansas Blog                          []\n",
       "1  8.778927e+17  IL Healthcare Truth Tour: Heal Don't Repeal! 6/22 2:30PM Federal Plaza, Chicago. Mobile billboar...                       NaN                      NaN  Thu Jun 22 14:15:01 +0000 2017  7.159992e+06        Annie Williams                  22.0                  167.0                417.0                87.0         NaN            0.0                                                                                     []     False            0.0     False                          NaN                        NaN                          []\n",
       "2  8.778927e+17  IL Healthcare Truth Tour: Heal Don't Repeal! 6/22 2:30PM Federal Plaza, Chicago. Mobile billboar...                       NaN                      NaN  Thu Jun 22 14:15:01 +0000 2017  8.271887e+17        Indivisible9IL                 264.0                  111.0                342.0               231.0         NaN            0.0                                                                                     []     False            0.0     False                          NaN                        NaN                          []\n",
       "3  8.778927e+17  IL Healthcare Truth Tour: Heal Don't Repeal! 6/22 2:30PM Federal Plaza, Chicago. Mobile billboar...                       NaN                      NaN  Thu Jun 22 14:15:02 +0000 2017  8.313191e+17  Indivisible Illinois                1027.0                 1626.0                982.0               267.0         NaN            0.0                                                                                     []     False            0.0     False                          NaN                        NaN                          []\n",
       "4  8.778927e+17  Day 1 of Chicago Summit: Gregory Touhill delivers keynote on Cybersecurity=Risk Management #ISMG...                       NaN                      NaN  Thu Jun 22 14:15:02 +0000 2017  3.998460e+07     ISMG Network News                2395.0                  119.0              12833.0               960.0         NaN            0.0  [Row(indices=[91, 103], text='ISMGSummits'), Row(indices=[104, 112], text='infosec')]     False            0.0     False                          NaN                        NaN  ['ISMGSummits', 'infosec']"
      ]
     },
     "metadata": {},
     "output_type": "display_data"
    }
   ],
   "source": [
    "fpath = os.path.join(os.getcwd(), \"temp.csv\")\n",
    "tweets_df = pd.read_csv(fpath, index_col=\"Unnamed: 0\")\n",
    "display(\n",
    "    tweets_df.shape,\n",
    "    tweets_df.head()\n",
    ")"
   ]
  },
  {
   "cell_type": "markdown",
   "metadata": {},
   "source": [
    "# Q1 - Identify tweets related to UChicago and 3-4 universities of your choice "
   ]
  },
  {
   "cell_type": "code",
   "execution_count": 6,
   "metadata": {},
   "outputs": [],
   "source": [
    "uc_favored_tags = [\"uchicago\", \"uchearing\", \"universityofchicago\", \"pritzkerschoolofmedicine\",\n",
    "                   \"uofc\", \"maroonmade\", \"chicagobooth\"]\n",
    "\n",
    "upenn_favored_tags = [\"upenn\", \"penn\", \"uofpenn\", \"universityofpennsylvania\", \"pennlaw\"]\n",
    "\n",
    "uic_favored_tags = [\"UIC\", \"UICProud\"]"
   ]
  },
  {
   "cell_type": "code",
   "execution_count": 7,
   "metadata": {},
   "outputs": [
    {
     "name": "stdout",
     "output_type": "stream",
     "text": [
      "uchicago\n"
     ]
    }
   ],
   "source": [
    "t = ['uchicago', 'firstgen', 'college', 'careers', 'trioprograms']\n",
    "for ftag in uc_favored_tags:\n",
    "    for tag in t:\n",
    "        if ftag.lower() in tag.lower():\n",
    "            print(tag)"
   ]
  },
  {
   "cell_type": "code",
   "execution_count": 8,
   "metadata": {},
   "outputs": [],
   "source": [
    "from ast import literal_eval\n",
    "\n",
    "def le(row):\n",
    "    if row is np.NaN:\n",
    "        return []\n",
    "    else:\n",
    "        return literal_eval(row)\n",
    "\n",
    "tweets_df['hashtags_cleaned']=tweets_df['hashtags_cleaned'].apply(le)"
   ]
  },
  {
   "cell_type": "code",
   "execution_count": 9,
   "metadata": {
    "scrolled": true
   },
   "outputs": [],
   "source": [
    "uc_favored_tags = [\"uchicago\", \"uchearing\", \"universityofchicago\", \"pritzkerschoolofmedicine\",\n",
    "                   \"uofc\", \"maroonmade\", \"chicagobooth\"]\n",
    "\n",
    "def is_uc_tweet(row):\n",
    "    if row is np.NaN:\n",
    "        return False\n",
    "    for ftag in uc_favored_tags:\n",
    "        for tag in row:\n",
    "            if ftag.lower() in tag.lower():\n",
    "                return True\n",
    "    return False\n",
    "\n",
    "tweets_df[\"uc_tweet\"] = tweets_df[\"hashtags_cleaned\"].apply(is_uc_tweet)"
   ]
  },
  {
   "cell_type": "code",
   "execution_count": 10,
   "metadata": {},
   "outputs": [],
   "source": [
    "uic_favored_tags = [\"UIC\", \"UICProud\"]\n",
    "def is_uic_tweet(row):\n",
    "    if row is np.NaN:\n",
    "        return False\n",
    "    for ftag in uic_favored_tags:\n",
    "        for tag in row:\n",
    "            if ftag.lower() == tag.lower():\n",
    "                return True\n",
    "    return False\n",
    "\n",
    "tweets_df[\"uic_tweet\"] = tweets_df[\"hashtags_cleaned\"].apply(is_uic_tweet)"
   ]
  },
  {
   "cell_type": "code",
   "execution_count": 11,
   "metadata": {},
   "outputs": [],
   "source": [
    "upenn_favored_tags = [\"upenn\", \"penn\", \"uofpenn\", \"universityofpennsylvania\", \"pennlaw\"]\n",
    "\n",
    "def is_upenn_tweet(row):\n",
    "    if row is np.NaN:\n",
    "        return False\n",
    "    for ftag in upenn_favored_tags:\n",
    "        for tag in row:\n",
    "            if ftag.lower() in tag.lower():\n",
    "                return True\n",
    "    return False\n",
    "\n",
    "tweets_df[\"upenn_tweet\"] = tweets_df[\"hashtags_cleaned\"].apply(is_upenn_tweet)"
   ]
  },
  {
   "cell_type": "code",
   "execution_count": 12,
   "metadata": {},
   "outputs": [],
   "source": [
    "mit_favored_tags = [\"MIT\"]\n",
    "\n",
    "def is_mit_tweet(row):\n",
    "    if row is np.NaN:\n",
    "        return False\n",
    "    for ftag in mit_favored_tags:\n",
    "        for tag in row:\n",
    "            if ftag.lower() == tag.lower():\n",
    "                return True\n",
    "    return False\n",
    "\n",
    "tweets_df[\"mit_tweet\"] = tweets_df[\"hashtags_cleaned\"].apply(is_mit_tweet)"
   ]
  },
  {
   "cell_type": "code",
   "execution_count": 23,
   "metadata": {},
   "outputs": [],
   "source": [
    "nyu_favored_tags = [\"nyu\"]\n",
    "\n",
    "def is_nyu_tweet(row):\n",
    "    if row is np.NaN:\n",
    "        return False\n",
    "    for ftag in nyu_favored_tags:\n",
    "        for tag in row:\n",
    "            if ftag.lower() in tag.lower():\n",
    "                return True\n",
    "    return False\n",
    "\n",
    "tweets_df[\"nyu_tweet\"] = tweets_df[\"hashtags_cleaned\"].apply(is_nyu_tweet)"
   ]
  },
  {
   "cell_type": "code",
   "execution_count": 22,
   "metadata": {},
   "outputs": [],
   "source": [
    "stanford_favored_tags = [\"stanford\"]\n",
    "\n",
    "def is_stanford_tweet(row):\n",
    "    if row is np.NaN:\n",
    "        return False\n",
    "    for ftag in stanford_favored_tags:\n",
    "        for tag in row:\n",
    "            if ftag.lower() in tag.lower():\n",
    "                return True\n",
    "    return False\n",
    "\n",
    "tweets_df[\"stanford_tweet\"] = tweets_df[\"hashtags_cleaned\"].apply(is_stanford_tweet)"
   ]
  },
  {
   "cell_type": "code",
   "execution_count": 27,
   "metadata": {},
   "outputs": [],
   "source": [
    "nw_favored_tags = [\"northwestern\"]\n",
    "\n",
    "def is_nw_tweet(row):\n",
    "    if row is np.NaN:\n",
    "        return False\n",
    "    for ftag in nw_favored_tags:\n",
    "        for tag in row:\n",
    "            if ftag.lower() == tag.lower():\n",
    "                return True\n",
    "    return False\n",
    "\n",
    "tweets_df[\"nw_tweet\"] = tweets_df[\"hashtags_cleaned\"].apply(is_nw_tweet)"
   ]
  },
  {
   "cell_type": "code",
   "execution_count": 29,
   "metadata": {
    "scrolled": true
   },
   "outputs": [
    {
     "data": {
      "text/plain": [
       "(133, 3)"
      ]
     },
     "metadata": {},
     "output_type": "display_data"
    },
    {
     "data": {
      "text/plain": [
       "(93, 3)"
      ]
     },
     "metadata": {},
     "output_type": "display_data"
    },
    {
     "data": {
      "text/plain": [
       "(88, 3)"
      ]
     },
     "metadata": {},
     "output_type": "display_data"
    },
    {
     "data": {
      "text/plain": [
       "(214, 3)"
      ]
     },
     "metadata": {},
     "output_type": "display_data"
    },
    {
     "data": {
      "text/plain": [
       "(1048947, 27)"
      ]
     },
     "metadata": {},
     "output_type": "display_data"
    }
   ],
   "source": [
    "display(\n",
    "    tweets_df[tweets_df[\"uic_tweet\"]==True][[\"id_str\", \"text\", \"hashtags_cleaned\"]].shape,\n",
    "    tweets_df[tweets_df[\"uc_tweet\"]==True][[\"id_str\", \"text\", \"hashtags_cleaned\"]].shape,\n",
    "    tweets_df[tweets_df[\"upenn_tweet\"]==True][[\"id_str\", \"text\", \"hashtags_cleaned\"]].shape,\n",
    "#     tweets_df[tweets_df[\"mit_tweet\"]==True][[\"id_str\", \"text\", \"hashtags_cleaned\"]].shape,\n",
    "#     tweets_df[tweets_df[\"nyu_tweet\"]==True][[\"id_str\", \"text\", \"hashtags_cleaned\"]].shape,\n",
    "    tweets_df[tweets_df[\"nw_tweet\"]==True][[\"id_str\", \"text\", \"hashtags_cleaned\"]].shape,\n",
    "#     tweets_df[tweets_df[\"stanford_tweet\"]==True][[\"id_str\", \"text\", \"hashtags_cleaned\"]].shape,\n",
    "    tweets_df.shape\n",
    ")"
   ]
  },
  {
   "cell_type": "markdown",
   "metadata": {},
   "source": [
    "------------------------"
   ]
  },
  {
   "cell_type": "markdown",
   "metadata": {},
   "source": [
    "### Universities to monitor"
   ]
  },
  {
   "cell_type": "markdown",
   "metadata": {},
   "source": [
    "1. University of Chicago\n",
    "1. University of Illinois, Chicago\n",
    "1. University of Pennsylvania\n",
    "1. Northwestern University"
   ]
  },
  {
   "cell_type": "code",
   "execution_count": 34,
   "metadata": {},
   "outputs": [
    {
     "data": {
      "text/plain": [
       "(133, 3)"
      ]
     },
     "metadata": {},
     "output_type": "display_data"
    },
    {
     "data": {
      "text/plain": [
       "(93, 3)"
      ]
     },
     "metadata": {},
     "output_type": "display_data"
    },
    {
     "data": {
      "text/plain": [
       "(88, 3)"
      ]
     },
     "metadata": {},
     "output_type": "display_data"
    },
    {
     "data": {
      "text/plain": [
       "(214, 3)"
      ]
     },
     "metadata": {},
     "output_type": "display_data"
    },
    {
     "data": {
      "text/plain": [
       "(1048947, 27)"
      ]
     },
     "metadata": {},
     "output_type": "display_data"
    }
   ],
   "source": [
    "uc_favored_tags = [\"uchicago\", \"uchearing\", \"universityofchicago\", \"pritzkerschoolofmedicine\",\n",
    "                   \"uofc\", \"maroonmade\", \"chicagobooth\"]\n",
    "nw_favored_tags = [\"northwestern\"]\n",
    "upenn_favored_tags = [\"upenn\", \"penn\", \"uofpenn\", \"universityofpennsylvania\", \"pennlaw\"]\n",
    "uic_favored_tags = [\"UIC\", \"UICProud\"]\n",
    "\n",
    "def is_upenn_tweet(row):\n",
    "    if row is np.NaN:\n",
    "        return False\n",
    "    for ftag in upenn_favored_tags:\n",
    "        for tag in row:\n",
    "            if ftag.lower() in tag.lower():\n",
    "                return True\n",
    "    return False\n",
    "\n",
    "def is_nw_tweet(row):\n",
    "    if row is np.NaN:\n",
    "        return False\n",
    "    for ftag in nw_favored_tags:\n",
    "        for tag in row:\n",
    "            if ftag.lower() == tag.lower():\n",
    "                return True\n",
    "    return False\n",
    "\n",
    "def is_uc_tweet(row):\n",
    "    if row is np.NaN:\n",
    "        return False\n",
    "    for ftag in uc_favored_tags:\n",
    "        for tag in row:\n",
    "            if ftag.lower() in tag.lower():\n",
    "                return True\n",
    "    return False\n",
    "\n",
    "def is_uic_tweet(row):\n",
    "    if row is np.NaN:\n",
    "        return False\n",
    "    for ftag in uic_favored_tags:\n",
    "        for tag in row:\n",
    "            if ftag.lower() == tag.lower():\n",
    "                return True\n",
    "    return False\n",
    "\n",
    "tweets_df[\"nw_tweet\"] = tweets_df[\"hashtags_cleaned\"].apply(is_nw_tweet)\n",
    "tweets_df[\"upenn_tweet\"] = tweets_df[\"hashtags_cleaned\"].apply(is_upenn_tweet)\n",
    "tweets_df[\"uc_tweet\"] = tweets_df[\"hashtags_cleaned\"].apply(is_uc_tweet)\n",
    "tweets_df[\"uic_tweet\"] = tweets_df[\"hashtags_cleaned\"].apply(is_uic_tweet)\n",
    "\n",
    "display(\n",
    "    tweets_df[tweets_df[\"uic_tweet\"]==True][[\"id_str\", \"text\", \"hashtags_cleaned\"]].shape,\n",
    "    tweets_df[tweets_df[\"uc_tweet\"]==True][[\"id_str\", \"text\", \"hashtags_cleaned\"]].shape,\n",
    "    tweets_df[tweets_df[\"upenn_tweet\"]==True][[\"id_str\", \"text\", \"hashtags_cleaned\"]].shape,\n",
    "    tweets_df[tweets_df[\"nw_tweet\"]==True][[\"id_str\", \"text\", \"hashtags_cleaned\"]].shape,\n",
    "    tweets_df.shape\n",
    ")"
   ]
  },
  {
   "cell_type": "code",
   "execution_count": null,
   "metadata": {},
   "outputs": [],
   "source": []
  }
 ],
 "metadata": {
  "kernelspec": {
   "display_name": "Python 3",
   "language": "python",
   "name": "python3"
  },
  "language_info": {
   "codemirror_mode": {
    "name": "ipython",
    "version": 3
   },
   "file_extension": ".py",
   "mimetype": "text/x-python",
   "name": "python",
   "nbconvert_exporter": "python",
   "pygments_lexer": "ipython3",
   "version": "3.6.7"
  }
 },
 "nbformat": 4,
 "nbformat_minor": 2
}
