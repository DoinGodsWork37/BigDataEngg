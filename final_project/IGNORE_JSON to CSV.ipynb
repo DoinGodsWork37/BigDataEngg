{
 "cells": [
  {
   "cell_type": "code",
   "execution_count": 2,
   "metadata": {},
   "outputs": [
    {
     "data": {
      "text/html": [
       "<style>.container { width:95% !important; }</style>"
      ],
      "text/plain": [
       "<IPython.core.display.HTML object>"
      ]
     },
     "metadata": {},
     "output_type": "display_data"
    }
   ],
   "source": [
    "# Put these at the top of every notebook, to get automatic reloading and inline plotting\n",
    "from IPython.core.display import display, HTML\n",
    "import pandas as pd\n",
    "%reload_ext autoreload\n",
    "%autoreload 1\n",
    "%matplotlib inline\n",
    "\n",
    "import warnings\n",
    "warnings.filterwarnings('ignore')\n",
    "\n",
    "pd.set_option('display.max_rows', 500)\n",
    "pd.set_option('display.max_columns', 500)\n",
    "pd.set_option('display.width', 1000)\n",
    "pd.set_option('max_colwidth',100)    \n",
    "\n",
    "display(HTML(\"<style>.container { width:95% !important; }</style>\"))\n",
    "\n",
    "import sys\n",
    "import json\n",
    "import matplotlib.pyplot as plt\n",
    "import seaborn as sns\n",
    "import re\n",
    "import json\n",
    "from itertools import combinations, takewhile\n",
    "import collections\n",
    "import pandas as pd\n",
    "import numpy as np\n",
    "import os\n",
    "\n",
    "sns.set()\n",
    "\n",
    "from Utils.UtilsViz import *\n",
    "from Utils.UtilsGeoViz import *"
   ]
  },
  {
   "cell_type": "code",
   "execution_count": 3,
   "metadata": {},
   "outputs": [
    {
     "data": {
      "text/plain": [
       "'D:\\\\Dev\\\\Sources\\\\Projects\\\\GitProjects\\\\BigDataEngg\\\\final_project'"
      ]
     },
     "execution_count": 3,
     "metadata": {},
     "output_type": "execute_result"
    }
   ],
   "source": [
    "os.getcwd()"
   ]
  },
  {
   "cell_type": "code",
   "execution_count": 4,
   "metadata": {},
   "outputs": [],
   "source": [
    "fpath = os.path.join(os.getcwd(), \"all_uni_data.csv\")"
   ]
  },
  {
   "cell_type": "code",
   "execution_count": 8,
   "metadata": {},
   "outputs": [],
   "source": [
    "# all_uni_data = pd.read_json(fpath, lines=True)\n",
    "all_uni_data = pd.read_csv(fpath, nrows=100, index_col=\"Unnamed: 0\")"
   ]
  },
  {
   "cell_type": "code",
   "execution_count": 9,
   "metadata": {},
   "outputs": [
    {
     "data": {
      "text/html": [
       "<div>\n",
       "<style scoped>\n",
       "    .dataframe tbody tr th:only-of-type {\n",
       "        vertical-align: middle;\n",
       "    }\n",
       "\n",
       "    .dataframe tbody tr th {\n",
       "        vertical-align: top;\n",
       "    }\n",
       "\n",
       "    .dataframe thead th {\n",
       "        text-align: right;\n",
       "    }\n",
       "</style>\n",
       "<table border=\"1\" class=\"dataframe\">\n",
       "  <thead>\n",
       "    <tr style=\"text-align: right;\">\n",
       "      <th></th>\n",
       "      <th>coordinates</th>\n",
       "      <th>created_at</th>\n",
       "      <th>entities_hashtags</th>\n",
       "      <th>favorite_count</th>\n",
       "      <th>favorited</th>\n",
       "      <th>id_str</th>\n",
       "      <th>in_reply_to_status_id_str</th>\n",
       "      <th>in_reply_to_user_id_str</th>\n",
       "      <th>place_country</th>\n",
       "      <th>place_country_code</th>\n",
       "      <th>place_name</th>\n",
       "      <th>place_type</th>\n",
       "      <th>retweet_count</th>\n",
       "      <th>retweeted</th>\n",
       "      <th>retweeted_status_user_id_str</th>\n",
       "      <th>retweeted_status_user_name</th>\n",
       "      <th>text</th>\n",
       "      <th>user_favorites_count</th>\n",
       "      <th>user_followers_count</th>\n",
       "      <th>user_friends_count</th>\n",
       "      <th>user_id_str</th>\n",
       "      <th>user_name</th>\n",
       "      <th>user_statuses_count</th>\n",
       "    </tr>\n",
       "  </thead>\n",
       "  <tbody>\n",
       "    <tr>\n",
       "      <th>0</th>\n",
       "      <td>NaN</td>\n",
       "      <td>2017-06-22 23:16:53</td>\n",
       "      <td>[]</td>\n",
       "      <td>0</td>\n",
       "      <td>False</td>\n",
       "      <td>878029049469190144</td>\n",
       "      <td>NaN</td>\n",
       "      <td>NaN</td>\n",
       "      <td>NaN</td>\n",
       "      <td>NaN</td>\n",
       "      <td>NaN</td>\n",
       "      <td>NaN</td>\n",
       "      <td>0</td>\n",
       "      <td>False</td>\n",
       "      <td>3.366467e+08</td>\n",
       "      <td>John McGonigal</td>\n",
       "      <td>RT @jmcgonigal9: Penn State student section tickets sold out in 89 minutes\\r\\n\\r\\nhttps://t.co/K...</td>\n",
       "      <td>132</td>\n",
       "      <td>3</td>\n",
       "      <td>44</td>\n",
       "      <td>774045894652166144</td>\n",
       "      <td>David Kononchuk</td>\n",
       "      <td>130</td>\n",
       "    </tr>\n",
       "    <tr>\n",
       "      <th>1</th>\n",
       "      <td>NaN</td>\n",
       "      <td>2017-06-22 23:17:13</td>\n",
       "      <td>[{'indices': [112, 115], 'text': 'Wx'}]</td>\n",
       "      <td>0</td>\n",
       "      <td>False</td>\n",
       "      <td>878029136089894912</td>\n",
       "      <td>NaN</td>\n",
       "      <td>NaN</td>\n",
       "      <td>NaN</td>\n",
       "      <td>NaN</td>\n",
       "      <td>NaN</td>\n",
       "      <td>NaN</td>\n",
       "      <td>0</td>\n",
       "      <td>False</td>\n",
       "      <td>NaN</td>\n",
       "      <td>NaN</td>\n",
       "      <td>...A SIGNIFICANT WEATHER ADVISORY HAS BEEN ISSUED UNTIL 630 PM CDT FOR... Northwestern Marshall ...</td>\n",
       "      <td>0</td>\n",
       "      <td>602</td>\n",
       "      <td>607</td>\n",
       "      <td>888181566</td>\n",
       "      <td>AmericaAlerts App</td>\n",
       "      <td>85724</td>\n",
       "    </tr>\n",
       "    <tr>\n",
       "      <th>2</th>\n",
       "      <td>NaN</td>\n",
       "      <td>2017-06-22 23:17:47</td>\n",
       "      <td>[]</td>\n",
       "      <td>0</td>\n",
       "      <td>False</td>\n",
       "      <td>878029276557131776</td>\n",
       "      <td>NaN</td>\n",
       "      <td>NaN</td>\n",
       "      <td>NaN</td>\n",
       "      <td>NaN</td>\n",
       "      <td>NaN</td>\n",
       "      <td>NaN</td>\n",
       "      <td>0</td>\n",
       "      <td>False</td>\n",
       "      <td>NaN</td>\n",
       "      <td>NaN</td>\n",
       "      <td>Inspired by this innovative wave 4 forming whole students that @CSUDH is riding &amp;amp; stoking w/...</td>\n",
       "      <td>693</td>\n",
       "      <td>875</td>\n",
       "      <td>1221</td>\n",
       "      <td>2363593488</td>\n",
       "      <td>Giacomo</td>\n",
       "      <td>3086</td>\n",
       "    </tr>\n",
       "    <tr>\n",
       "      <th>3</th>\n",
       "      <td>NaN</td>\n",
       "      <td>2017-06-22 23:17:53</td>\n",
       "      <td>[]</td>\n",
       "      <td>0</td>\n",
       "      <td>False</td>\n",
       "      <td>878029303304208384</td>\n",
       "      <td>NaN</td>\n",
       "      <td>NaN</td>\n",
       "      <td>NaN</td>\n",
       "      <td>NaN</td>\n",
       "      <td>NaN</td>\n",
       "      <td>NaN</td>\n",
       "      <td>0</td>\n",
       "      <td>False</td>\n",
       "      <td>7.091099e+17</td>\n",
       "      <td>David Eccles</td>\n",
       "      <td>RT @gringene_bio: @Big3BioSF @OmicsOmicsBlog @Stanford @PacBio If you're making DNA look like it...</td>\n",
       "      <td>5796</td>\n",
       "      <td>1047</td>\n",
       "      <td>1054</td>\n",
       "      <td>120418926</td>\n",
       "      <td>Samuel Lampa</td>\n",
       "      <td>9391</td>\n",
       "    </tr>\n",
       "    <tr>\n",
       "      <th>4</th>\n",
       "      <td>NaN</td>\n",
       "      <td>2017-06-22 23:17:56</td>\n",
       "      <td>[]</td>\n",
       "      <td>0</td>\n",
       "      <td>False</td>\n",
       "      <td>878029314289147904</td>\n",
       "      <td>8.780287e+17</td>\n",
       "      <td>1.244408e+09</td>\n",
       "      <td>NaN</td>\n",
       "      <td>NaN</td>\n",
       "      <td>NaN</td>\n",
       "      <td>NaN</td>\n",
       "      <td>0</td>\n",
       "      <td>False</td>\n",
       "      <td>NaN</td>\n",
       "      <td>NaN</td>\n",
       "      <td>@SheWhoVotes He went to Northwestern Law School? ðŸ˜‚ jk ðŸ—¿</td>\n",
       "      <td>1189</td>\n",
       "      <td>85</td>\n",
       "      <td>107</td>\n",
       "      <td>701190848751403008</td>\n",
       "      <td>Janna Propaganda</td>\n",
       "      <td>3328</td>\n",
       "    </tr>\n",
       "  </tbody>\n",
       "</table>\n",
       "</div>"
      ],
      "text/plain": [
       "   coordinates           created_at                        entities_hashtags  favorite_count  favorited              id_str  in_reply_to_status_id_str  in_reply_to_user_id_str place_country place_country_code place_name place_type  retweet_count  retweeted  retweeted_status_user_id_str retweeted_status_user_name                                                                                                 text  user_favorites_count  user_followers_count  user_friends_count         user_id_str          user_name  user_statuses_count\n",
       "0          NaN  2017-06-22 23:16:53                                       []               0      False  878029049469190144                        NaN                      NaN           NaN                NaN        NaN        NaN              0      False                  3.366467e+08             John McGonigal  RT @jmcgonigal9: Penn State student section tickets sold out in 89 minutes\\r\\n\\r\\nhttps://t.co/K...                   132                     3                  44  774045894652166144    David Kononchuk                  130\n",
       "1          NaN  2017-06-22 23:17:13  [{'indices': [112, 115], 'text': 'Wx'}]               0      False  878029136089894912                        NaN                      NaN           NaN                NaN        NaN        NaN              0      False                           NaN                        NaN  ...A SIGNIFICANT WEATHER ADVISORY HAS BEEN ISSUED UNTIL 630 PM CDT FOR... Northwestern Marshall ...                     0                   602                 607           888181566  AmericaAlerts App                85724\n",
       "2          NaN  2017-06-22 23:17:47                                       []               0      False  878029276557131776                        NaN                      NaN           NaN                NaN        NaN        NaN              0      False                           NaN                        NaN  Inspired by this innovative wave 4 forming whole students that @CSUDH is riding &amp; stoking w/...                   693                   875                1221          2363593488            Giacomo                 3086\n",
       "3          NaN  2017-06-22 23:17:53                                       []               0      False  878029303304208384                        NaN                      NaN           NaN                NaN        NaN        NaN              0      False                  7.091099e+17               David Eccles  RT @gringene_bio: @Big3BioSF @OmicsOmicsBlog @Stanford @PacBio If you're making DNA look like it...                  5796                  1047                1054           120418926       Samuel Lampa                 9391\n",
       "4          NaN  2017-06-22 23:17:56                                       []               0      False  878029314289147904               8.780287e+17             1.244408e+09           NaN                NaN        NaN        NaN              0      False                           NaN                        NaN                                        @SheWhoVotes He went to Northwestern Law School? ðŸ˜‚ jk ðŸ—¿                  1189                    85                 107  701190848751403008   Janna Propaganda                 3328"
      ]
     },
     "execution_count": 9,
     "metadata": {},
     "output_type": "execute_result"
    }
   ],
   "source": [
    "all_uni_data.head()"
   ]
  },
  {
   "cell_type": "code",
   "execution_count": 10,
   "metadata": {},
   "outputs": [
    {
     "data": {
      "text/plain": [
       "(100, 23)"
      ]
     },
     "execution_count": 10,
     "metadata": {},
     "output_type": "execute_result"
    }
   ],
   "source": [
    "all_uni_data.shape"
   ]
  }
 ],
 "metadata": {
  "kernelspec": {
   "display_name": "Python 3",
   "language": "python",
   "name": "python3"
  },
  "language_info": {
   "codemirror_mode": {
    "name": "ipython",
    "version": 3
   },
   "file_extension": ".py",
   "mimetype": "text/x-python",
   "name": "python",
   "nbconvert_exporter": "python",
   "pygments_lexer": "ipython3",
   "version": "3.6.7"
  }
 },
 "nbformat": 4,
 "nbformat_minor": 2
}
