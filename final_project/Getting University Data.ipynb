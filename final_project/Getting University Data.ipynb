{
 "cells": [
  {
   "cell_type": "markdown",
   "metadata": {},
   "source": [
    "# Data Extraction"
   ]
  },
  {
   "cell_type": "markdown",
   "metadata": {},
   "source": [
    "This notebook reads through the numerous JSON files and extracts only the relevant tweets based on string matching.\n",
    "\n",
    "The substrings searched for are actually hashtags, and by nature of which, will be found as exact matches within the tweet text body.\n",
    "\n",
    "These hashtags would also exist in the _entities_ json element in an array, which will be used later for exploration."
   ]
  },
  {
   "cell_type": "code",
   "execution_count": 1,
   "metadata": {},
   "outputs": [
    {
     "data": {
      "text/html": [
       "<style>.container { width:95% !important; }</style>"
      ],
      "text/plain": [
       "<IPython.core.display.HTML object>"
      ]
     },
     "metadata": {},
     "output_type": "display_data"
    }
   ],
   "source": [
    "# Put these at the top of every notebook, to get automatic reloading and inline plotting\n",
    "from IPython.core.display import display, HTML\n",
    "import pandas as pd\n",
    "%reload_ext autoreload\n",
    "%autoreload 1\n",
    "%matplotlib inline\n",
    "\n",
    "import warnings\n",
    "warnings.filterwarnings('ignore')\n",
    "\n",
    "pd.set_option('display.max_rows', 500)\n",
    "pd.set_option('display.max_columns', 500)\n",
    "pd.set_option('display.width', 1000)\n",
    "pd.set_option('max_colwidth',100)    \n",
    "\n",
    "display(HTML(\"<style>.container { width:95% !important; }</style>\"))\n",
    "\n",
    "import sys\n",
    "import matplotlib.pyplot as plt\n",
    "import seaborn as sns\n",
    "import re\n",
    "import json\n",
    "from itertools import combinations, takewhile\n",
    "import collections\n",
    "\n",
    "from simhash import Simhash, SimhashIndex\n",
    "\n",
    "import pandas as pd\n",
    "import numpy as np\n",
    "\n",
    "from pyspark.ml import Pipeline\n",
    "from pyspark.ml.feature import OneHotEncoder, StringIndexer, VectorAssembler\n",
    "# from pyspark.ml.feature import OneHotEncoderEstimator\n",
    "# OneHotEncoderEstimator is available starting from Spark 2.3\n",
    "from pyspark.ml.classification import LogisticRegression, LogisticRegressionModel\n",
    "from pyspark.ml.evaluation import BinaryClassificationEvaluator\n",
    "\n",
    "from pyspark.sql.functions import *\n",
    "from pyspark.sql.types import *"
   ]
  },
  {
   "cell_type": "code",
   "execution_count": 2,
   "metadata": {
    "scrolled": true
   },
   "outputs": [
    {
     "name": "stdout",
     "output_type": "stream",
     "text": [
      "WARNING: log4j.properties is not found. HADOOP_CONF_DIR may be incomplete.\n",
      "Java HotSpot(TM) 64-Bit Server VM warning: ignoring option MaxPermSize=512M; support was removed in 8.0\n"
     ]
    }
   ],
   "source": [
    "!hdfs dfs -ls -h '/user/ivy2/Tweets/' > '/home/sriharis/git_projects/BigDataEngg/final_project/file_list.txt'\n",
    "tweets_path = '/user/ivy2/Tweets/'"
   ]
  },
  {
   "cell_type": "code",
   "execution_count": 30,
   "metadata": {},
   "outputs": [],
   "source": [
    "# json_file = \"hdfs:///user/ivy2/Tweets/tweets*.json\"\n",
    "json_file = \"hdfs:///user/ivy2/Tweets/tweets2017*.json\"\n",
    "df=spark.read.json(json_file)"
   ]
  },
  {
   "cell_type": "code",
   "execution_count": 31,
   "metadata": {},
   "outputs": [
    {
     "name": "stdout",
     "output_type": "stream",
     "text": [
      "+------------------+--------------------+-------------------------+-----------------------+--------------------+-----------+---------+--------------------+--------------------+-------------------+------------------+-----------+--------------+-----------------+---------+-------------+------------------+----------+----------+-------------+---------+----------------------------+--------------------------+\n",
      "|            id_str|                text|in_reply_to_status_id_str|in_reply_to_user_id_str|          created_at|user_id_str|user_name|user_followers_count|user_favorites_count|user_statuses_count|user_friends_count|coordinates|favorite_count|entities_hashtags|favorited|place_country|place_country_code|place_name|place_type|retweet_count|retweeted|retweeted_status_user_id_str|retweeted_status_user_name|\n",
      "+------------------+--------------------+-------------------------+-----------------------+--------------------+-----------+---------+--------------------+--------------------+-------------------+------------------+-----------+--------------+-----------------+---------+-------------+------------------+----------+----------+-------------+---------+----------------------------+--------------------------+\n",
      "|878028835710619648|RT @millselle: my...|                     null|                   null|Thu Jun 22 23:16:...| 2222587376|GOAT.🇳🇬|                 495|               34038|              23409|               341|       null|             0|               []|    false|         null|              null|      null|      null|            0|    false|                   624398529|                Elle Mills|\n",
      "|878028835832209410|You clean up nice...|                     null|                   null|Thu Jun 22 23:16:...|  588687170|   Gordon|                 146|                 512|               1748|               509|       null|             0|               []|    false|         null|              null|      null|      null|            0|    false|                        null|                      null|\n",
      "+------------------+--------------------+-------------------------+-----------------------+--------------------+-----------+---------+--------------------+--------------------+-------------------+------------------+-----------+--------------+-----------------+---------+-------------+------------------+----------+----------+-------------+---------+----------------------------+--------------------------+\n",
      "only showing top 2 rows\n",
      "\n"
     ]
    }
   ],
   "source": [
    "fields_to_keep = [\"id_str\", \n",
    "                  \"text\",\n",
    "                  \"in_reply_to_status_id_str\",\n",
    "                  \"in_reply_to_user_id_str\", \n",
    "                  \"created_at\",\n",
    "                  # User columns\n",
    "                  \"user.id_str\",\n",
    "                  \"user.name\",\n",
    "                  \"user.followers_count\",\n",
    "                  \"user.favourites_count\",\n",
    "                  \"user.statuses_count\",\n",
    "                  \"user.friends_count\",\n",
    "                  # Other attributes\n",
    "                  \"coordinates\",\n",
    "                  \"favorite_count\",\n",
    "                  \"entities.hashtags\",\n",
    "                  \"favorited\", \n",
    "                  \"place.country\",\n",
    "                  \"place.country_code\",\n",
    "                  \"place.name\",\n",
    "                  \"place.place_type\",\n",
    "                  # Retweet columns\n",
    "                  \"retweet_count\", \n",
    "                  \"retweeted\",\n",
    "                  \"retweeted_status.user.id_str\",\n",
    "                  \"retweeted_status.user.name\"\n",
    "                 ]\n",
    "\n",
    "df = df.selectExpr(\"id_str\", \n",
    "              \"text\",\n",
    "              \"in_reply_to_status_id_str\",\n",
    "              \"in_reply_to_user_id_str\", \n",
    "              \"created_at\",\n",
    "              \"user.id_str as user_id_str\",\n",
    "              \"user.name as user_name\",\n",
    "              \"user.followers_count as user_followers_count\",\n",
    "              \"user.favourites_count as user_favorites_count\",\n",
    "              \"user.statuses_count as user_statuses_count\",\n",
    "              \"user.friends_count as user_friends_count\",\n",
    "              \"coordinates\",\n",
    "              \"favorite_count\",\n",
    "              \"entities.hashtags as entities_hashtags\",\n",
    "              \"favorited\", \n",
    "              \"place.country as place_country\",\n",
    "              \"place.country_code as place_country_code\",\n",
    "              \"place.name as place_name\",\n",
    "              \"place.place_type as place_type\",\n",
    "              \"retweet_count\", \n",
    "              \"retweeted\",\n",
    "              \"retweeted_status.user.id_str as retweeted_status_user_id_str\",\n",
    "              \"retweeted_status.user.name as retweeted_status_user_name\")\n",
    "df.show(2)"
   ]
  },
  {
   "cell_type": "code",
   "execution_count": 32,
   "metadata": {},
   "outputs": [
    {
     "data": {
      "text/plain": [
       "1489935"
      ]
     },
     "execution_count": 32,
     "metadata": {},
     "output_type": "execute_result"
    }
   ],
   "source": [
    "df.count()"
   ]
  },
  {
   "cell_type": "code",
   "execution_count": 34,
   "metadata": {},
   "outputs": [
    {
     "data": {
      "text/plain": [
       "31831"
      ]
     },
     "execution_count": 34,
     "metadata": {},
     "output_type": "execute_result"
    }
   ],
   "source": [
    "# uc_favored_tags = [\"uchicago\", \"uchearing\", \"universityofchicago\", \"pritzkerschoolofmedicine\",\n",
    "#                    \"uofc\", \"maroonmade\", \"chicagobooth\"]\n",
    "# nw_favored_tags = [\"northwestern\"]\n",
    "# upenn_favored_tags = [\"upenn\", \"penn\", \"uofpenn\", \"universityofpennsylvania\", \"pennlaw\", \"upennhearing\"]\n",
    "# uic_favored_tags = [\"UIC\", \"UICProud\"]\n",
    "# mit_favored_tags = [\"MIT\"]\n",
    "# stanford_favored_tags = [\"stanford\"]\n",
    "\n",
    "df_university  = df.where('lower(text) like \"%uchicago%\"\\\n",
    "                            or lower(text) like \"%uchearing%\"\\\n",
    "                            or lower(text) like \"%universityofchicago%\"\\\n",
    "                            or lower(text) like \"%pritzkerschoolofmedicine%\"\\\n",
    "                            or lower(text) like \"%uofc%\"\\\n",
    "                            or lower(text) like \"%chicagobooth%\"\\\n",
    "                            or lower(text) like \"%maroonmade%\"\\\n",
    "                            or lower(text) like \"%northwestern%\"\\\n",
    "                            or lower(text) like \"%upenn%\"\\\n",
    "                            or lower(text) like \"%upennhearing%\"\\\n",
    "                            or lower(text) like \"%penn%\"\\\n",
    "                            or lower(text) like \"%uofpenn%\"\\\n",
    "                            or lower(text) like \"%universityofpennsylvania%\"\\\n",
    "                            or lower(text) like \"%pennlaw%\"\\\n",
    "                            or lower(text) like \"%uicproud%\"\\\n",
    "                            or lower(text) like \"%uic %\"\\\n",
    "                            or lower(text) like \"%mit %\"\\\n",
    "                            or lower(text) like \"%stanford%\"'\n",
    "                         )\n",
    "df_university.cache()\n",
    "df_university.count()"
   ]
  },
  {
   "cell_type": "code",
   "execution_count": 35,
   "metadata": {},
   "outputs": [
    {
     "name": "stdout",
     "output_type": "stream",
     "text": [
      "+--------------------+\n",
      "|   entities_hashtags|\n",
      "+--------------------+\n",
      "|[[[7, 19], abeced...|\n",
      "|                  []|\n",
      "|[[[36, 44], Argon...|\n",
      "|  [[[112, 115], Wx]]|\n",
      "|[[[67, 76], Break...|\n",
      "|[[[108, 114], dad...|\n",
      "|                  []|\n",
      "|                  []|\n",
      "|                  []|\n",
      "|                  []|\n",
      "|                  []|\n",
      "|                  []|\n",
      "|   [[[91, 95], CBC]]|\n",
      "|[[[43, 57], Yuvas...|\n",
      "|                  []|\n",
      "|                  []|\n",
      "|[[[103, 111], B1G...|\n",
      "|[[[91, 99], CBCNe...|\n",
      "|                  []|\n",
      "|                  []|\n",
      "+--------------------+\n",
      "only showing top 20 rows\n",
      "\n"
     ]
    }
   ],
   "source": [
    "df_university.select(\"entities_hashtags\").limit(50).show()"
   ]
  },
  {
   "cell_type": "code",
   "execution_count": 36,
   "metadata": {},
   "outputs": [
    {
     "name": "stdout",
     "output_type": "stream",
     "text": [
      "WARNING: log4j.properties is not found. HADOOP_CONF_DIR may be incomplete.\n",
      "Java HotSpot(TM) 64-Bit Server VM warning: ignoring option MaxPermSize=512M; support was removed in 8.0\n",
      "2019-03-22 02:10:21,528 INFO  [main] fs.TrashPolicyDefault (TrashPolicyDefault.java:moveToTrash(182)) - Moved: 'hdfs://nameservice1/user/sriharis/project' to trash at: hdfs://nameservice1/user/sriharis/.Trash/Current/user/sriharis/project1553238621501\n"
     ]
    }
   ],
   "source": [
    "!hdfs dfs -rm -r \"hdfs:///user/sriharis/project\""
   ]
  },
  {
   "cell_type": "code",
   "execution_count": 37,
   "metadata": {
    "scrolled": true
   },
   "outputs": [],
   "source": [
    "hdfsdir = \"hdfs:///user/sriharis/project\"\n",
    "df_university.coalesce(1).write.format(\"json\").save(hdfsdir)"
   ]
  },
  {
   "cell_type": "code",
   "execution_count": 38,
   "metadata": {},
   "outputs": [
    {
     "name": "stdout",
     "output_type": "stream",
     "text": [
      "WARNING: log4j.properties is not found. HADOOP_CONF_DIR may be incomplete.\n",
      "Java HotSpot(TM) 64-Bit Server VM warning: ignoring option MaxPermSize=512M; support was removed in 8.0\n",
      "Found 2 items\n",
      "-rw-r--r--   3 sriharis sriharis          0 2019-03-22 02:10 /user/sriharis/project/_SUCCESS\n",
      "-rw-r--r--   3 sriharis sriharis     16.8 M 2019-03-22 02:10 /user/sriharis/project/part-00000-ad6a81ae-9524-4fa5-97e1-9babda4718a3-c000.json\n"
     ]
    }
   ],
   "source": [
    "!hadoop fs -ls -h /user/sriharis/project"
   ]
  },
  {
   "cell_type": "markdown",
   "metadata": {},
   "source": [
    "-----------------------------"
   ]
  },
  {
   "cell_type": "code",
   "execution_count": 39,
   "metadata": {},
   "outputs": [
    {
     "data": {
      "text/html": [
       "<div>\n",
       "<style scoped>\n",
       "    .dataframe tbody tr th:only-of-type {\n",
       "        vertical-align: middle;\n",
       "    }\n",
       "\n",
       "    .dataframe tbody tr th {\n",
       "        vertical-align: top;\n",
       "    }\n",
       "\n",
       "    .dataframe thead th {\n",
       "        text-align: right;\n",
       "    }\n",
       "</style>\n",
       "<table border=\"1\" class=\"dataframe\">\n",
       "  <thead>\n",
       "    <tr style=\"text-align: right;\">\n",
       "      <th></th>\n",
       "      <th>id_str</th>\n",
       "      <th>text</th>\n",
       "      <th>in_reply_to_status_id_str</th>\n",
       "      <th>in_reply_to_user_id_str</th>\n",
       "      <th>created_at</th>\n",
       "      <th>user_id_str</th>\n",
       "      <th>user_name</th>\n",
       "      <th>user_followers_count</th>\n",
       "      <th>user_favorites_count</th>\n",
       "      <th>user_statuses_count</th>\n",
       "      <th>user_friends_count</th>\n",
       "      <th>coordinates</th>\n",
       "      <th>favorite_count</th>\n",
       "      <th>entities_hashtags</th>\n",
       "      <th>favorited</th>\n",
       "      <th>place_country</th>\n",
       "      <th>place_country_code</th>\n",
       "      <th>place_name</th>\n",
       "      <th>place_type</th>\n",
       "      <th>retweet_count</th>\n",
       "      <th>retweeted</th>\n",
       "      <th>retweeted_status_user_id_str</th>\n",
       "      <th>retweeted_status_user_name</th>\n",
       "    </tr>\n",
       "  </thead>\n",
       "  <tbody>\n",
       "    <tr>\n",
       "      <th>0</th>\n",
       "      <td>878029049469190145</td>\n",
       "      <td>RT @jmcgonigal9: Penn State student section tickets sold out in 89 minutes\\n\\nhttps://t.co/KIm2e...</td>\n",
       "      <td>None</td>\n",
       "      <td>None</td>\n",
       "      <td>Thu Jun 22 23:16:53 +0000 2017</td>\n",
       "      <td>774045894652166144</td>\n",
       "      <td>David Kononchuk</td>\n",
       "      <td>3</td>\n",
       "      <td>132</td>\n",
       "      <td>130</td>\n",
       "      <td>44</td>\n",
       "      <td>None</td>\n",
       "      <td>0</td>\n",
       "      <td>[]</td>\n",
       "      <td>False</td>\n",
       "      <td>None</td>\n",
       "      <td>None</td>\n",
       "      <td>None</td>\n",
       "      <td>None</td>\n",
       "      <td>0</td>\n",
       "      <td>False</td>\n",
       "      <td>336646662</td>\n",
       "      <td>John McGonigal</td>\n",
       "    </tr>\n",
       "    <tr>\n",
       "      <th>1</th>\n",
       "      <td>878029136089894912</td>\n",
       "      <td>...A SIGNIFICANT WEATHER ADVISORY HAS BEEN ISSUED UNTIL 630 PM CDT FOR... Northwestern Marshall ...</td>\n",
       "      <td>None</td>\n",
       "      <td>None</td>\n",
       "      <td>Thu Jun 22 23:17:13 +0000 2017</td>\n",
       "      <td>888181566</td>\n",
       "      <td>AmericaAlerts App</td>\n",
       "      <td>602</td>\n",
       "      <td>0</td>\n",
       "      <td>85724</td>\n",
       "      <td>607</td>\n",
       "      <td>None</td>\n",
       "      <td>0</td>\n",
       "      <td>[([112, 115], Wx)]</td>\n",
       "      <td>False</td>\n",
       "      <td>None</td>\n",
       "      <td>None</td>\n",
       "      <td>None</td>\n",
       "      <td>None</td>\n",
       "      <td>0</td>\n",
       "      <td>False</td>\n",
       "      <td>None</td>\n",
       "      <td>None</td>\n",
       "    </tr>\n",
       "    <tr>\n",
       "      <th>2</th>\n",
       "      <td>878029276557131776</td>\n",
       "      <td>Inspired by this innovative wave 4 forming whole students that @CSUDH is riding &amp;amp; stoking w/...</td>\n",
       "      <td>None</td>\n",
       "      <td>None</td>\n",
       "      <td>Thu Jun 22 23:17:47 +0000 2017</td>\n",
       "      <td>2363593488</td>\n",
       "      <td>Giacomo</td>\n",
       "      <td>875</td>\n",
       "      <td>693</td>\n",
       "      <td>3086</td>\n",
       "      <td>1221</td>\n",
       "      <td>None</td>\n",
       "      <td>0</td>\n",
       "      <td>[]</td>\n",
       "      <td>False</td>\n",
       "      <td>None</td>\n",
       "      <td>None</td>\n",
       "      <td>None</td>\n",
       "      <td>None</td>\n",
       "      <td>0</td>\n",
       "      <td>False</td>\n",
       "      <td>None</td>\n",
       "      <td>None</td>\n",
       "    </tr>\n",
       "    <tr>\n",
       "      <th>3</th>\n",
       "      <td>878029303304208384</td>\n",
       "      <td>RT @gringene_bio: @Big3BioSF @OmicsOmicsBlog @Stanford @PacBio If you're making DNA look like it...</td>\n",
       "      <td>None</td>\n",
       "      <td>None</td>\n",
       "      <td>Thu Jun 22 23:17:53 +0000 2017</td>\n",
       "      <td>120418926</td>\n",
       "      <td>Samuel Lampa</td>\n",
       "      <td>1047</td>\n",
       "      <td>5796</td>\n",
       "      <td>9391</td>\n",
       "      <td>1054</td>\n",
       "      <td>None</td>\n",
       "      <td>0</td>\n",
       "      <td>[]</td>\n",
       "      <td>False</td>\n",
       "      <td>None</td>\n",
       "      <td>None</td>\n",
       "      <td>None</td>\n",
       "      <td>None</td>\n",
       "      <td>0</td>\n",
       "      <td>False</td>\n",
       "      <td>709109857006137345</td>\n",
       "      <td>David Eccles</td>\n",
       "    </tr>\n",
       "    <tr>\n",
       "      <th>4</th>\n",
       "      <td>878029314289147905</td>\n",
       "      <td>@SheWhoVotes He went to Northwestern Law School? 😂 jk 🗿</td>\n",
       "      <td>878028687785967617</td>\n",
       "      <td>1244408377</td>\n",
       "      <td>Thu Jun 22 23:17:56 +0000 2017</td>\n",
       "      <td>701190848751403008</td>\n",
       "      <td>Janna Propaganda</td>\n",
       "      <td>85</td>\n",
       "      <td>1189</td>\n",
       "      <td>3328</td>\n",
       "      <td>107</td>\n",
       "      <td>None</td>\n",
       "      <td>0</td>\n",
       "      <td>[]</td>\n",
       "      <td>False</td>\n",
       "      <td>None</td>\n",
       "      <td>None</td>\n",
       "      <td>None</td>\n",
       "      <td>None</td>\n",
       "      <td>0</td>\n",
       "      <td>False</td>\n",
       "      <td>None</td>\n",
       "      <td>None</td>\n",
       "    </tr>\n",
       "  </tbody>\n",
       "</table>\n",
       "</div>"
      ],
      "text/plain": [
       "               id_str                                                                                                 text in_reply_to_status_id_str in_reply_to_user_id_str                      created_at         user_id_str          user_name  user_followers_count  user_favorites_count  user_statuses_count  user_friends_count coordinates  favorite_count   entities_hashtags  favorited place_country place_country_code place_name place_type  retweet_count  retweeted retweeted_status_user_id_str retweeted_status_user_name\n",
       "0  878029049469190145  RT @jmcgonigal9: Penn State student section tickets sold out in 89 minutes\\n\\nhttps://t.co/KIm2e...                      None                    None  Thu Jun 22 23:16:53 +0000 2017  774045894652166144    David Kononchuk                     3                   132                  130                  44        None               0                  []      False          None               None       None       None              0      False                    336646662             John McGonigal\n",
       "1  878029136089894912  ...A SIGNIFICANT WEATHER ADVISORY HAS BEEN ISSUED UNTIL 630 PM CDT FOR... Northwestern Marshall ...                      None                    None  Thu Jun 22 23:17:13 +0000 2017           888181566  AmericaAlerts App                   602                     0                85724                 607        None               0  [([112, 115], Wx)]      False          None               None       None       None              0      False                         None                       None\n",
       "2  878029276557131776  Inspired by this innovative wave 4 forming whole students that @CSUDH is riding &amp; stoking w/...                      None                    None  Thu Jun 22 23:17:47 +0000 2017          2363593488            Giacomo                   875                   693                 3086                1221        None               0                  []      False          None               None       None       None              0      False                         None                       None\n",
       "3  878029303304208384  RT @gringene_bio: @Big3BioSF @OmicsOmicsBlog @Stanford @PacBio If you're making DNA look like it...                      None                    None  Thu Jun 22 23:17:53 +0000 2017           120418926       Samuel Lampa                  1047                  5796                 9391                1054        None               0                  []      False          None               None       None       None              0      False           709109857006137345               David Eccles\n",
       "4  878029314289147905                                              @SheWhoVotes He went to Northwestern Law School? 😂 jk 🗿        878028687785967617              1244408377  Thu Jun 22 23:17:56 +0000 2017  701190848751403008   Janna Propaganda                    85                  1189                 3328                 107        None               0                  []      False          None               None       None       None              0      False                         None                       None"
      ]
     },
     "execution_count": 39,
     "metadata": {},
     "output_type": "execute_result"
    }
   ],
   "source": [
    "pdf_university = df_university.toPandas()\n",
    "pdf_university.head()"
   ]
  },
  {
   "cell_type": "code",
   "execution_count": 40,
   "metadata": {},
   "outputs": [],
   "source": [
    "def clean_hashtags(row):\n",
    "    if row is None:\n",
    "        return []\n",
    "    if row is np.NaN:\n",
    "        return []\n",
    "    if type(row) == type(True):\n",
    "        return []\n",
    "    if (len(row) == 0):\n",
    "        return []\n",
    "    tags = []\n",
    "    for item in row:\n",
    "        tags.append(item.text)\n",
    "    return tags\n",
    "    \n",
    "pdf_university[\"hashtags_cleaned\"] = pdf_university[\"entities_hashtags\"].apply(clean_hashtags)"
   ]
  },
  {
   "cell_type": "code",
   "execution_count": 41,
   "metadata": {},
   "outputs": [
    {
     "data": {
      "text/plain": [
       "(31831, 24)"
      ]
     },
     "execution_count": 41,
     "metadata": {},
     "output_type": "execute_result"
    }
   ],
   "source": [
    "pdf_university.shape"
   ]
  },
  {
   "cell_type": "code",
   "execution_count": 42,
   "metadata": {},
   "outputs": [],
   "source": [
    "pdf_university.to_csv(os.path.join(os.getcwd(), \"uni_data.csv\"))"
   ]
  }
 ],
 "metadata": {
  "kernelspec": {
   "display_name": "pySpark 1G 4e",
   "language": "python",
   "name": "pyspark2_1g"
  }
 },
 "nbformat": 4,
 "nbformat_minor": 2
}
