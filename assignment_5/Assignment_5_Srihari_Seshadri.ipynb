{
 "cells": [
  {
   "cell_type": "markdown",
   "metadata": {},
   "source": [
    "# Assignment 5"
   ]
  },
  {
   "cell_type": "code",
   "execution_count": 49,
   "metadata": {},
   "outputs": [
    {
     "data": {
      "text/html": [
       "<style>.container { width:90% !important; }</style>"
      ],
      "text/plain": [
       "<IPython.core.display.HTML object>"
      ]
     },
     "metadata": {},
     "output_type": "display_data"
    }
   ],
   "source": [
    "# Put these at the top of every notebook, to get automatic reloading and inline plotting\n",
    "from IPython.core.display import display, HTML\n",
    "import pandas as pd\n",
    "%reload_ext autoreload\n",
    "%autoreload 1\n",
    "%matplotlib inline\n",
    "\n",
    "import warnings\n",
    "warnings.filterwarnings('ignore')\n",
    "\n",
    "pd.set_option('display.max_rows', 500)\n",
    "pd.set_option('display.max_columns', 500)\n",
    "pd.set_option('display.width', 1000)\n",
    "pd.set_option('max_colwidth',100)    \n",
    "\n",
    "display(HTML(\"<style>.container { width:90% !important; }</style>\"))"
   ]
  },
  {
   "cell_type": "code",
   "execution_count": 2,
   "metadata": {},
   "outputs": [
    {
     "name": "stdout",
     "output_type": "stream",
     "text": [
      "3.6.8 |Anaconda custom (64-bit)| (default, Dec 30 2018, 01:22:34) \n",
      "[GCC 7.3.0]\n"
     ]
    }
   ],
   "source": [
    "import sys\n",
    "import matplotlib.pyplot as plt\n",
    "import seaborn as sns\n",
    "import re\n",
    "import json\n",
    "from itertools import combinations, takewhile\n",
    "import collections\n",
    "\n",
    "from simhash import Simhash, SimhashIndex\n",
    "\n",
    "sns.set()\n",
    "\n",
    "print(sys.version)"
   ]
  },
  {
   "cell_type": "code",
   "execution_count": 3,
   "metadata": {},
   "outputs": [
    {
     "name": "stdout",
     "output_type": "stream",
     "text": [
      "2.4.0-cdh6.1.0\n"
     ]
    }
   ],
   "source": [
    "print(spark.version)"
   ]
  },
  {
   "cell_type": "code",
   "execution_count": 4,
   "metadata": {},
   "outputs": [],
   "source": [
    "import pandas as pd\n",
    "import numpy as np\n",
    "\n",
    "from pyspark.ml import Pipeline\n",
    "from pyspark.ml.feature import OneHotEncoder, StringIndexer, VectorAssembler\n",
    "# from pyspark.ml.feature import OneHotEncoderEstimator\n",
    "# OneHotEncoderEstimator is available starting from Spark 2.3\n",
    "from pyspark.ml.classification import LogisticRegression, LogisticRegressionModel\n",
    "from pyspark.ml.evaluation import BinaryClassificationEvaluator\n",
    "\n",
    "from pyspark.sql.functions import *\n",
    "from pyspark.sql.types import *"
   ]
  },
  {
   "cell_type": "code",
   "execution_count": 5,
   "metadata": {},
   "outputs": [
    {
     "name": "stdout",
     "output_type": "stream",
     "text": [
      "total 2.7G\n",
      "-rwxr-xr-x 1 kadochnikov kadochnikov 6.0M Nov  7 21:07 news_apple_fruit_2018_10.gz\n",
      "-rwxr-xr-x 1 kadochnikov kadochnikov  22M Nov  7 20:53 news_apple_fruit_2018_10.json\n",
      "-rwxr-xr-x 1 kadochnikov kadochnikov  44M Sep 23 12:21 news_autos_2018_09.gz\n",
      "-rwxr-xr-x 1 kadochnikov kadochnikov 169M Sep 23 12:13 news_autos_2018_09.json\n",
      "-rwxr-xr-x 1 kadochnikov kadochnikov  51M Feb 20  2018 news_chicago_il_2018_02.gz\n",
      "-rwxr-xr-x 1 kadochnikov kadochnikov 194M Feb 20  2018 news_chicago_il_2018_02.json\n",
      "-rwxr-xr-x 1 kadochnikov kadochnikov  54M Sep 23 11:53 news_chicago_il_2018_09.gz\n",
      "-rwxr-xr-x 1 kadochnikov kadochnikov 205M Sep 23 11:44 news_chicago_il_2018_09.json\n",
      "-rwxr-xr-x 1 kadochnikov kadochnikov  51M Nov  7 18:31 news_chicago_il_2018_10.gz\n",
      "-rwxr-xr-x 1 kadochnikov kadochnikov 186M Nov  7 18:27 news_chicago_il_2018_10.json\n",
      "-rwxr-xr-x 1 kadochnikov kadochnikov 104K Feb 22  2018 news_toyota_aws.json\n",
      "-rwxr-xr-x 1 kadochnikov kadochnikov  67M Jun  8  2018 news_university_2018_02.gz\n",
      "-rwxr-xr-x 1 kadochnikov kadochnikov 244M Jun  8  2018 news_university_2018_02.json\n",
      "-rwxr-xr-x 1 kadochnikov kadochnikov 138M Jun  8  2018 news_university_trimmed_2018_02.json\n",
      "-rwxr-xr-x 1 kadochnikov kadochnikov 681K Feb  2  2018 webhose_cat.json\n",
      "-rwxr-xr-x 1 kadochnikov kadochnikov 1.3G Oct  5 13:44 webhose_data.zip\n"
     ]
    }
   ],
   "source": [
    "!ls -l -h '/project/msca/kadochnikov/webhose/'"
   ]
  },
  {
   "cell_type": "code",
   "execution_count": 6,
   "metadata": {},
   "outputs": [
    {
     "data": {
      "text/plain": [
       "1"
      ]
     },
     "execution_count": 6,
     "metadata": {},
     "output_type": "execute_result"
    }
   ],
   "source": [
    "df = spark.read.json('file:///project/msca/kadochnikov/webhose/news_university_2018_02.json')\n",
    "# df.cache()\n",
    "df.count()"
   ]
  },
  {
   "cell_type": "code",
   "execution_count": 7,
   "metadata": {},
   "outputs": [
    {
     "name": "stdout",
     "output_type": "stream",
     "text": [
      "root\n",
      " |-- author: string (nullable = true)\n",
      " |-- crawled: string (nullable = true)\n",
      " |-- entities: struct (nullable = true)\n",
      " |    |-- locations: array (nullable = true)\n",
      " |    |    |-- element: struct (containsNull = true)\n",
      " |    |    |    |-- name: string (nullable = true)\n",
      " |    |    |    |-- sentiment: string (nullable = true)\n",
      " |    |-- organizations: array (nullable = true)\n",
      " |    |    |-- element: struct (containsNull = true)\n",
      " |    |    |    |-- name: string (nullable = true)\n",
      " |    |    |    |-- sentiment: string (nullable = true)\n",
      " |    |-- persons: array (nullable = true)\n",
      " |    |    |-- element: struct (containsNull = true)\n",
      " |    |    |    |-- name: string (nullable = true)\n",
      " |    |    |    |-- sentiment: string (nullable = true)\n",
      " |-- external_links: array (nullable = true)\n",
      " |    |-- element: string (containsNull = true)\n",
      " |-- highlightText: string (nullable = true)\n",
      " |-- highlightTitle: string (nullable = true)\n",
      " |-- language: string (nullable = true)\n",
      " |-- ord_in_thread: long (nullable = true)\n",
      " |-- published: string (nullable = true)\n",
      " |-- rating: double (nullable = true)\n",
      " |-- text: string (nullable = true)\n",
      " |-- thread: struct (nullable = true)\n",
      " |    |-- country: string (nullable = true)\n",
      " |    |-- domain_rank: long (nullable = true)\n",
      " |    |-- main_image: string (nullable = true)\n",
      " |    |-- participants_count: long (nullable = true)\n",
      " |    |-- performance_score: long (nullable = true)\n",
      " |    |-- published: string (nullable = true)\n",
      " |    |-- replies_count: long (nullable = true)\n",
      " |    |-- section_title: string (nullable = true)\n",
      " |    |-- site: string (nullable = true)\n",
      " |    |-- site_categories: array (nullable = true)\n",
      " |    |    |-- element: string (containsNull = true)\n",
      " |    |-- site_full: string (nullable = true)\n",
      " |    |-- site_section: string (nullable = true)\n",
      " |    |-- site_type: string (nullable = true)\n",
      " |    |-- social: struct (nullable = true)\n",
      " |    |    |-- facebook: struct (nullable = true)\n",
      " |    |    |    |-- comments: long (nullable = true)\n",
      " |    |    |    |-- likes: long (nullable = true)\n",
      " |    |    |    |-- shares: long (nullable = true)\n",
      " |    |    |-- gplus: struct (nullable = true)\n",
      " |    |    |    |-- shares: long (nullable = true)\n",
      " |    |    |-- linkedin: struct (nullable = true)\n",
      " |    |    |    |-- shares: long (nullable = true)\n",
      " |    |    |-- pinterest: struct (nullable = true)\n",
      " |    |    |    |-- shares: long (nullable = true)\n",
      " |    |    |-- stumbledupon: struct (nullable = true)\n",
      " |    |    |    |-- shares: long (nullable = true)\n",
      " |    |    |-- vk: struct (nullable = true)\n",
      " |    |    |    |-- shares: long (nullable = true)\n",
      " |    |-- spam_score: double (nullable = true)\n",
      " |    |-- title: string (nullable = true)\n",
      " |    |-- title_full: string (nullable = true)\n",
      " |    |-- url: string (nullable = true)\n",
      " |    |-- uuid: string (nullable = true)\n",
      " |-- title: string (nullable = true)\n",
      " |-- url: string (nullable = true)\n",
      " |-- uuid: string (nullable = true)\n",
      "\n"
     ]
    }
   ],
   "source": [
    "df.printSchema()"
   ]
  },
  {
   "cell_type": "markdown",
   "metadata": {},
   "source": [
    "## Running similarity analysis on \"Title\""
   ]
  },
  {
   "cell_type": "code",
   "execution_count": 8,
   "metadata": {},
   "outputs": [],
   "source": [
    "title_df = df.select('title').toPandas()"
   ]
  },
  {
   "cell_type": "code",
   "execution_count": 66,
   "metadata": {},
   "outputs": [
    {
     "name": "stdout",
     "output_type": "stream",
     "text": [
      "Number of records : 57500\n"
     ]
    },
    {
     "data": {
      "text/html": [
       "<div>\n",
       "<style scoped>\n",
       "    .dataframe tbody tr th:only-of-type {\n",
       "        vertical-align: middle;\n",
       "    }\n",
       "\n",
       "    .dataframe tbody tr th {\n",
       "        vertical-align: top;\n",
       "    }\n",
       "\n",
       "    .dataframe thead th {\n",
       "        text-align: right;\n",
       "    }\n",
       "</style>\n",
       "<table border=\"1\" class=\"dataframe\">\n",
       "  <thead>\n",
       "    <tr style=\"text-align: right;\">\n",
       "      <th></th>\n",
       "      <th>title</th>\n",
       "    </tr>\n",
       "  </thead>\n",
       "  <tbody>\n",
       "    <tr>\n",
       "      <th>0</th>\n",
       "      <td>FREE public planetarium shows at Wayne State University Planetarium - RSVP 1/26 and 2/2</td>\n",
       "    </tr>\n",
       "    <tr>\n",
       "      <th>1</th>\n",
       "      <td>A computer Science professor at my university sent this email out</td>\n",
       "    </tr>\n",
       "    <tr>\n",
       "      <th>2</th>\n",
       "      <td>Whos the Greatest College Football Team Ever</td>\n",
       "    </tr>\n",
       "    <tr>\n",
       "      <th>3</th>\n",
       "      <td>FULL HD VIDEO || ओढ़नी से मुह बाध के || College Me Aabelu || Vivek Dubey ...</td>\n",
       "    </tr>\n",
       "    <tr>\n",
       "      <th>4</th>\n",
       "      <td>Tips For Newborn Photography College Station TX</td>\n",
       "    </tr>\n",
       "    <tr>\n",
       "      <th>5</th>\n",
       "      <td>How To Prepare For Newborn Photography College Station TX</td>\n",
       "    </tr>\n",
       "    <tr>\n",
       "      <th>6</th>\n",
       "      <td>Tips For Getting The Best Outcome With Newborn Photography College Station TX</td>\n",
       "    </tr>\n",
       "    <tr>\n",
       "      <th>7</th>\n",
       "      <td>New Headmaster Joins King's College India at the Start of 2018</td>\n",
       "    </tr>\n",
       "    <tr>\n",
       "      <th>8</th>\n",
       "      <td>Sunway University Launches Publishing Department</td>\n",
       "    </tr>\n",
       "    <tr>\n",
       "      <th>9</th>\n",
       "      <td>Home Recording Studio Essentials for Beginners College Students</td>\n",
       "    </tr>\n",
       "    <tr>\n",
       "      <th>10</th>\n",
       "      <td>Oregon State vs. University of Oregon Women's Basketball</td>\n",
       "    </tr>\n",
       "    <tr>\n",
       "      <th>11</th>\n",
       "      <td>Oregon State vs. University of Oregon Women's Basketball</td>\n",
       "    </tr>\n",
       "    <tr>\n",
       "      <th>12</th>\n",
       "      <td>Oregon State vs. University of Oregon Women's Basketball</td>\n",
       "    </tr>\n",
       "    <tr>\n",
       "      <th>13</th>\n",
       "      <td>Oregon State vs. University of Oregon Women's Basketball</td>\n",
       "    </tr>\n",
       "    <tr>\n",
       "      <th>14</th>\n",
       "      <td>Oregon State vs. University of Oregon Women's Basketball</td>\n",
       "    </tr>\n",
       "    <tr>\n",
       "      <th>15</th>\n",
       "      <td>Oregon State vs. University of Oregon Women's Basketball</td>\n",
       "    </tr>\n",
       "    <tr>\n",
       "      <th>16</th>\n",
       "      <td>Oregon State vs. University of Oregon Women's Basketball</td>\n",
       "    </tr>\n",
       "    <tr>\n",
       "      <th>17</th>\n",
       "      <td>Oregon State vs. University of Oregon Women's Basketball</td>\n",
       "    </tr>\n",
       "    <tr>\n",
       "      <th>18</th>\n",
       "      <td>Oregon State vs. University of Oregon Women's Basketball</td>\n",
       "    </tr>\n",
       "    <tr>\n",
       "      <th>19</th>\n",
       "      <td>College Basketball Rankings: Projected Top 25 for Week 12</td>\n",
       "    </tr>\n",
       "  </tbody>\n",
       "</table>\n",
       "</div>"
      ],
      "text/plain": [
       "                                                                                      title\n",
       "0   FREE public planetarium shows at Wayne State University Planetarium - RSVP 1/26 and 2/2\n",
       "1                         A computer Science professor at my university sent this email out\n",
       "2                                              Whos the Greatest College Football Team Ever\n",
       "3               FULL HD VIDEO || ओढ़नी से मुह बाध के || College Me Aabelu || Vivek Dubey ...\n",
       "4                                           Tips For Newborn Photography College Station TX\n",
       "5                                 How To Prepare For Newborn Photography College Station TX\n",
       "6             Tips For Getting The Best Outcome With Newborn Photography College Station TX\n",
       "7                            New Headmaster Joins King's College India at the Start of 2018\n",
       "8                                          Sunway University Launches Publishing Department\n",
       "9                           Home Recording Studio Essentials for Beginners College Students\n",
       "10                                 Oregon State vs. University of Oregon Women's Basketball\n",
       "11                                 Oregon State vs. University of Oregon Women's Basketball\n",
       "12                                 Oregon State vs. University of Oregon Women's Basketball\n",
       "13                                 Oregon State vs. University of Oregon Women's Basketball\n",
       "14                                 Oregon State vs. University of Oregon Women's Basketball\n",
       "15                                 Oregon State vs. University of Oregon Women's Basketball\n",
       "16                                 Oregon State vs. University of Oregon Women's Basketball\n",
       "17                                 Oregon State vs. University of Oregon Women's Basketball\n",
       "18                                 Oregon State vs. University of Oregon Women's Basketball\n",
       "19                                College Basketball Rankings: Projected Top 25 for Week 12"
      ]
     },
     "execution_count": 66,
     "metadata": {},
     "output_type": "execute_result"
    }
   ],
   "source": [
    "print(\"Number of records :\", title_df.shape[0])\n",
    "title_df.head(20)"
   ]
  },
  {
   "cell_type": "code",
   "execution_count": 23,
   "metadata": {},
   "outputs": [],
   "source": [
    "data = title_df['title'].to_dict()"
   ]
  },
  {
   "cell_type": "markdown",
   "metadata": {},
   "source": [
    "#### Finding Near duplicates"
   ]
  },
  {
   "cell_type": "code",
   "execution_count": 44,
   "metadata": {},
   "outputs": [],
   "source": [
    "def get_features(s):\n",
    "    width = 3\n",
    "    s = s.lower()\n",
    "    s = re.sub(r'[^\\w]+', '', s)\n",
    "    max_len = np.maximum(len(s)-width+1, 1)\n",
    "    return [s[i:i + width] for i in range(max_len)]"
   ]
  },
  {
   "cell_type": "markdown",
   "metadata": {},
   "source": [
    "Let's fix a feature width and observe how the titles behave."
   ]
  },
  {
   "cell_type": "code",
   "execution_count": 45,
   "metadata": {},
   "outputs": [],
   "source": [
    "objs = [(str(k), Simhash(get_features(v))) for k, v in data.items()]"
   ]
  },
  {
   "cell_type": "markdown",
   "metadata": {},
   "source": [
    "Let's choose a test string from the set, and check how the algorithm behaves by visualising each cluster."
   ]
  },
  {
   "cell_type": "code",
   "execution_count": 72,
   "metadata": {},
   "outputs": [
    {
     "name": "stdout",
     "output_type": "stream",
     "text": [
      "Strings to test against :\n",
      "\t ['university']\n"
     ]
    }
   ],
   "source": [
    "test_str_list = [\"university\"]\n",
    "print(\"Strings to test against :\\n\\t\", test_str_list)"
   ]
  },
  {
   "cell_type": "markdown",
   "metadata": {},
   "source": [
    "Iterate through different tolerance values"
   ]
  },
  {
   "cell_type": "code",
   "execution_count": 95,
   "metadata": {
    "scrolled": false
   },
   "outputs": [
    {
     "name": "stdout",
     "output_type": "stream",
     "text": [
      "====================================================================================================\n",
      "Testing against string :  university\n",
      "--------------------------------------------------------------------------------\n",
      "Tolerance Value under scrutiny :  1\n",
      "Bucket Size : 86934\n",
      "Number of near duplicates : 11\n",
      "--------------------------------------------------------------------------------\n",
      "Tolerance Value under scrutiny :  2\n",
      "Bucket Size : 122186\n",
      "Number of near duplicates : 11\n",
      "--------------------------------------------------------------------------------\n",
      "Tolerance Value under scrutiny :  3\n",
      "Bucket Size : 88632\n",
      "Number of near duplicates : 11\n",
      "--------------------------------------------------------------------------------\n",
      "Tolerance Value under scrutiny :  4\n"
     ]
    },
    {
     "name": "stderr",
     "output_type": "stream",
     "text": [
      "Big bucket found. key:489:1, len:293\n",
      "Big bucket found. key:8d6:3, len:372\n"
     ]
    },
    {
     "name": "stdout",
     "output_type": "stream",
     "text": [
      "Bucket Size : 39256\n",
      "Number of near duplicates : 11\n",
      "--------------------------------------------------------------------------------\n",
      "Tolerance Value under scrutiny :  5\n"
     ]
    },
    {
     "name": "stderr",
     "output_type": "stream",
     "text": [
      "Big bucket found. key:181:0, len:302\n",
      "Big bucket found. key:225:1, len:355\n",
      "Big bucket found. key:4:2, len:541\n",
      "Big bucket found. key:182:3, len:215\n",
      "Big bucket found. key:8d:4, len:755\n"
     ]
    },
    {
     "name": "stdout",
     "output_type": "stream",
     "text": [
      "Bucket Size : 17124\n",
      "Number of near duplicates : 12\n",
      "--------------------------------------------------------------------------------\n",
      "Tolerance Value under scrutiny :  6\n"
     ]
    },
    {
     "name": "stderr",
     "output_type": "stream",
     "text": [
      "Big bucket found. key:181:0, len:378\n",
      "Big bucket found. key:4a:1, len:1154\n",
      "Big bucket found. key:12:2, len:520\n",
      "Big bucket found. key:10:3, len:255\n",
      "Big bucket found. key:d6:4, len:2216\n",
      "Big bucket found. key:1a4:5, len:487\n",
      "Big bucket found. key:140:6, len:229\n"
     ]
    },
    {
     "name": "stdout",
     "output_type": "stream",
     "text": [
      "Bucket Size : 4096\n",
      "Number of near duplicates : 13\n",
      "--------------------------------------------------------------------------------\n",
      "Tolerance Value under scrutiny :  7\n"
     ]
    },
    {
     "name": "stderr",
     "output_type": "stream",
     "text": [
      "Big bucket found. key:81:0, len:646\n",
      "Big bucket found. key:95:1, len:1453\n",
      "Big bucket found. key:48:2, len:1011\n",
      "Big bucket found. key:80:3, len:653\n",
      "Big bucket found. key:60:4, len:702\n",
      "Big bucket found. key:8d:5, len:1378\n",
      "Big bucket found. key:34:6, len:1955\n",
      "Big bucket found. key:50:7, len:512\n"
     ]
    },
    {
     "name": "stdout",
     "output_type": "stream",
     "text": [
      "Bucket Size : 2048\n",
      "Number of near duplicates : 16\n",
      "--------------------------------------------------------------------------------\n",
      "Tolerance Value under scrutiny :  8\n"
     ]
    },
    {
     "name": "stderr",
     "output_type": "stream",
     "text": [
      "Big bucket found. key:1:0, len:1247\n",
      "Big bucket found. key:2b:1, len:1652\n",
      "Big bucket found. key:22:2, len:1514\n",
      "Big bucket found. key:2:3, len:1634\n",
      "Big bucket found. key:8:4, len:1095\n",
      "Big bucket found. key:2c:5, len:2460\n",
      "Big bucket found. key:23:6, len:1611\n",
      "Big bucket found. key:1a:7, len:2551\n",
      "Big bucket found. key:50:8, len:512\n"
     ]
    },
    {
     "name": "stdout",
     "output_type": "stream",
     "text": [
      "Bucket Size : 1280\n",
      "Number of near duplicates : 23\n",
      "--------------------------------------------------------------------------------\n",
      "Tolerance Value under scrutiny :  9\n"
     ]
    },
    {
     "name": "stderr",
     "output_type": "stream",
     "text": [
      "Big bucket found. key:1:0, len:1524\n",
      "Big bucket found. key:16:1, len:3205\n",
      "Big bucket found. key:9:2, len:4170\n",
      "Big bucket found. key:12:3, len:2133\n",
      "Big bucket found. key:0:4, len:2434\n",
      "Big bucket found. key:2:5, len:1120\n"
     ]
    },
    {
     "name": "stdout",
     "output_type": "stream",
     "text": [
      "Bucket Size : 1600\n"
     ]
    },
    {
     "name": "stderr",
     "output_type": "stream",
     "text": [
      "Big bucket found. key:16:6, len:5078\n",
      "Big bucket found. key:23:7, len:2239\n",
      "Big bucket found. key:34:8, len:3668\n",
      "Big bucket found. key:140:9, len:229\n"
     ]
    },
    {
     "name": "stdout",
     "output_type": "stream",
     "text": [
      "Number of near duplicates : 49\n",
      "--------------------------------------------------------------------------------\n",
      "Tolerance Value under scrutiny :  10\n"
     ]
    },
    {
     "name": "stderr",
     "output_type": "stream",
     "text": [
      "Big bucket found. key:1:0, len:2958\n",
      "Big bucket found. key:c:1, len:5463\n",
      "Big bucket found. key:5:2, len:4114\n",
      "Big bucket found. key:11:3, len:2853\n",
      "Big bucket found. key:4:4, len:4311\n"
     ]
    },
    {
     "name": "stdout",
     "output_type": "stream",
     "text": [
      "Bucket Size : 12343\n"
     ]
    },
    {
     "name": "stderr",
     "output_type": "stream",
     "text": [
      "Big bucket found. key:0:5, len:5387\n",
      "Big bucket found. key:2:6, len:2360\n",
      "Big bucket found. key:c:7, len:4324\n",
      "Big bucket found. key:d:8, len:9739\n",
      "Big bucket found. key:4:9, len:2559\n"
     ]
    },
    {
     "name": "stdout",
     "output_type": "stream",
     "text": [
      "Number of near duplicates : 88\n",
      "--------------------------------------------------------------------------------\n",
      "Tolerance Value under scrutiny :  11\n"
     ]
    },
    {
     "name": "stderr",
     "output_type": "stream",
     "text": [
      "Big bucket found. key:1:0, len:2958\n",
      "Big bucket found. key:c:1, len:5463\n",
      "Big bucket found. key:5:2, len:4114\n",
      "Big bucket found. key:11:3, len:2853\n",
      "Big bucket found. key:4:4, len:4311\n"
     ]
    },
    {
     "name": "stdout",
     "output_type": "stream",
     "text": [
      "Bucket Size : 864\n"
     ]
    },
    {
     "name": "stderr",
     "output_type": "stream",
     "text": [
      "Big bucket found. key:0:5, len:5387\n",
      "Big bucket found. key:2:6, len:2360\n",
      "Big bucket found. key:c:7, len:4324\n",
      "Big bucket found. key:d:8, len:9739\n",
      "Big bucket found. key:4:9, len:2559\n",
      "Big bucket found. key:d:a, len:4025\n",
      "Big bucket found. key:a0:b, len:427\n"
     ]
    },
    {
     "name": "stdout",
     "output_type": "stream",
     "text": [
      "Number of near duplicates : 159\n",
      "--------------------------------------------------------------------------------\n",
      "Tolerance Value under scrutiny :  12\n"
     ]
    },
    {
     "name": "stderr",
     "output_type": "stream",
     "text": [
      "Big bucket found. key:1:0, len:4661\n",
      "Big bucket found. key:8:1, len:7573\n",
      "Big bucket found. key:5:2, len:7667\n",
      "Big bucket found. key:9:3, len:7328\n"
     ]
    },
    {
     "name": "stdout",
     "output_type": "stream",
     "text": [
      "Bucket Size : 24348\n"
     ]
    },
    {
     "name": "stderr",
     "output_type": "stream",
     "text": [
      "Big bucket found. key:8:4, len:5132\n",
      "Big bucket found. key:4:5, len:8859\n",
      "Big bucket found. key:0:6, len:6771\n",
      "Big bucket found. key:8:7, len:4153\n",
      "Big bucket found. key:0:8, len:6102\n",
      "Big bucket found. key:6:9, len:8438\n",
      "Big bucket found. key:d:a, len:12226\n",
      "Big bucket found. key:8:b, len:4498\n"
     ]
    },
    {
     "name": "stdout",
     "output_type": "stream",
     "text": [
      "Number of near duplicates : 268\n",
      "--------------------------------------------------------------------------------\n",
      "Tolerance Value under scrutiny :  13\n"
     ]
    },
    {
     "name": "stderr",
     "output_type": "stream",
     "text": [
      "Big bucket found. key:1:0, len:4661\n",
      "Big bucket found. key:8:1, len:7573\n",
      "Big bucket found. key:5:2, len:7667\n",
      "Big bucket found. key:9:3, len:7328\n"
     ]
    },
    {
     "name": "stdout",
     "output_type": "stream",
     "text": [
      "Bucket Size : 4210\n"
     ]
    },
    {
     "name": "stderr",
     "output_type": "stream",
     "text": [
      "Big bucket found. key:8:4, len:5132\n",
      "Big bucket found. key:4:5, len:8859\n",
      "Big bucket found. key:0:6, len:6771\n",
      "Big bucket found. key:8:7, len:4153\n",
      "Big bucket found. key:0:8, len:6102\n",
      "Big bucket found. key:6:9, len:8438\n",
      "Big bucket found. key:d:a, len:12226\n",
      "Big bucket found. key:8:b, len:4498\n",
      "Big bucket found. key:4:c, len:10808\n"
     ]
    },
    {
     "name": "stdout",
     "output_type": "stream",
     "text": [
      "Number of near duplicates : 448\n",
      "--------------------------------------------------------------------------------\n",
      "Tolerance Value under scrutiny :  14\n"
     ]
    },
    {
     "name": "stderr",
     "output_type": "stream",
     "text": [
      "Big bucket found. key:1:0, len:4661\n",
      "Big bucket found. key:8:1, len:7573\n",
      "Big bucket found. key:5:2, len:7667\n"
     ]
    },
    {
     "name": "stdout",
     "output_type": "stream",
     "text": [
      "Bucket Size : 480\n"
     ]
    },
    {
     "name": "stderr",
     "output_type": "stream",
     "text": [
      "Big bucket found. key:9:3, len:7328\n",
      "Big bucket found. key:8:4, len:5132\n",
      "Big bucket found. key:4:5, len:8859\n",
      "Big bucket found. key:0:6, len:6771\n",
      "Big bucket found. key:8:7, len:4153\n",
      "Big bucket found. key:0:8, len:6102\n",
      "Big bucket found. key:6:9, len:8438\n",
      "Big bucket found. key:d:a, len:12226\n",
      "Big bucket found. key:8:b, len:4498\n",
      "Big bucket found. key:4:c, len:10808\n",
      "Big bucket found. key:3:d, len:7596\n",
      "Big bucket found. key:50:e, len:512\n"
     ]
    },
    {
     "name": "stdout",
     "output_type": "stream",
     "text": [
      "Number of near duplicates : 950\n",
      "--------------------------------------------------------------------------------\n",
      "Tolerance Value under scrutiny :  15\n"
     ]
    },
    {
     "name": "stderr",
     "output_type": "stream",
     "text": [
      "Big bucket found. key:1:0, len:4661\n",
      "Big bucket found. key:8:1, len:7573\n",
      "Big bucket found. key:5:2, len:7667\n"
     ]
    },
    {
     "name": "stdout",
     "output_type": "stream",
     "text": [
      "Bucket Size : 256\n"
     ]
    },
    {
     "name": "stderr",
     "output_type": "stream",
     "text": [
      "Big bucket found. key:9:3, len:7328\n",
      "Big bucket found. key:8:4, len:5132\n",
      "Big bucket found. key:4:5, len:8859\n",
      "Big bucket found. key:0:6, len:6771\n",
      "Big bucket found. key:8:7, len:4153\n",
      "Big bucket found. key:0:8, len:6102\n",
      "Big bucket found. key:6:9, len:8438\n",
      "Big bucket found. key:d:a, len:12226\n",
      "Big bucket found. key:8:b, len:4498\n",
      "Big bucket found. key:4:c, len:10808\n",
      "Big bucket found. key:3:d, len:7596\n",
      "Big bucket found. key:0:e, len:4175\n",
      "Big bucket found. key:5:f, len:4211\n"
     ]
    },
    {
     "name": "stdout",
     "output_type": "stream",
     "text": [
      "Number of near duplicates : 1419\n",
      "--------------------------------------------------------------------------------\n",
      "Tolerance Value under scrutiny :  16\n"
     ]
    },
    {
     "name": "stderr",
     "output_type": "stream",
     "text": [
      "Big bucket found. key:1:0, len:8581\n",
      "Big bucket found. key:0:1, len:10758\n",
      "Big bucket found. key:6:2, len:12045\n"
     ]
    },
    {
     "name": "stdout",
     "output_type": "stream",
     "text": [
      "Bucket Size : 24284\n"
     ]
    },
    {
     "name": "stderr",
     "output_type": "stream",
     "text": [
      "Big bucket found. key:2:3, len:13079\n",
      "Big bucket found. key:1:4, len:12334\n",
      "Big bucket found. key:1:5, len:12464\n",
      "Big bucket found. key:2:6, len:8327\n",
      "Big bucket found. key:2:7, len:12446\n",
      "Big bucket found. key:0:8, len:11984\n",
      "Big bucket found. key:0:9, len:12350\n",
      "Big bucket found. key:2:a, len:7759\n",
      "Big bucket found. key:0:b, len:9276\n",
      "Big bucket found. key:6:c, len:10860\n",
      "Big bucket found. key:2:d, len:18569\n",
      "Big bucket found. key:3:e, len:18744\n",
      "Big bucket found. key:4:f, len:5585\n"
     ]
    },
    {
     "name": "stdout",
     "output_type": "stream",
     "text": [
      "Number of near duplicates : 2455\n",
      "--------------------------------------------------------------------------------\n",
      "Tolerance Value under scrutiny :  17\n"
     ]
    },
    {
     "name": "stderr",
     "output_type": "stream",
     "text": [
      "Big bucket found. key:1:0, len:8581\n",
      "Big bucket found. key:0:1, len:10758\n",
      "Big bucket found. key:6:2, len:12045\n"
     ]
    },
    {
     "name": "stdout",
     "output_type": "stream",
     "text": [
      "Bucket Size : 7454\n"
     ]
    },
    {
     "name": "stderr",
     "output_type": "stream",
     "text": [
      "Big bucket found. key:2:3, len:13079\n",
      "Big bucket found. key:1:4, len:12334\n",
      "Big bucket found. key:1:5, len:12464\n",
      "Big bucket found. key:2:6, len:8327\n",
      "Big bucket found. key:2:7, len:12446\n",
      "Big bucket found. key:0:8, len:11984\n",
      "Big bucket found. key:0:9, len:12350\n",
      "Big bucket found. key:2:a, len:7759\n",
      "Big bucket found. key:0:b, len:9276\n",
      "Big bucket found. key:6:c, len:10860\n",
      "Big bucket found. key:2:d, len:18569\n",
      "Big bucket found. key:3:e, len:18744\n",
      "Big bucket found. key:4:f, len:5585\n",
      "Big bucket found. key:4:10, len:16139\n"
     ]
    },
    {
     "name": "stdout",
     "output_type": "stream",
     "text": [
      "Number of near duplicates : 3355\n",
      "--------------------------------------------------------------------------------\n",
      "Tolerance Value under scrutiny :  18\n"
     ]
    },
    {
     "name": "stderr",
     "output_type": "stream",
     "text": [
      "Big bucket found. key:1:0, len:8581\n",
      "Big bucket found. key:0:1, len:10758\n",
      "Big bucket found. key:6:2, len:12045\n"
     ]
    },
    {
     "name": "stdout",
     "output_type": "stream",
     "text": [
      "Bucket Size : 1168\n"
     ]
    },
    {
     "name": "stderr",
     "output_type": "stream",
     "text": [
      "Big bucket found. key:2:3, len:13079\n",
      "Big bucket found. key:1:4, len:12334\n",
      "Big bucket found. key:1:5, len:12464\n",
      "Big bucket found. key:2:6, len:8327\n",
      "Big bucket found. key:2:7, len:12446\n",
      "Big bucket found. key:0:8, len:11984\n",
      "Big bucket found. key:0:9, len:12350\n",
      "Big bucket found. key:2:a, len:7759\n",
      "Big bucket found. key:0:b, len:9276\n",
      "Big bucket found. key:6:c, len:10860\n",
      "Big bucket found. key:2:d, len:18569\n",
      "Big bucket found. key:3:e, len:18744\n",
      "Big bucket found. key:4:f, len:5585\n",
      "Big bucket found. key:4:10, len:16139\n",
      "Big bucket found. key:6:11, len:10707\n",
      "Big bucket found. key:140:12, len:229\n"
     ]
    },
    {
     "name": "stdout",
     "output_type": "stream",
     "text": [
      "Number of near duplicates : 4575\n",
      "--------------------------------------------------------------------------------\n",
      "Tolerance Value under scrutiny :  19\n"
     ]
    },
    {
     "name": "stderr",
     "output_type": "stream",
     "text": [
      "Big bucket found. key:1:0, len:8581\n",
      "Big bucket found. key:0:1, len:10758\n",
      "Big bucket found. key:6:2, len:12045\n"
     ]
    },
    {
     "name": "stdout",
     "output_type": "stream",
     "text": [
      "Bucket Size : 280\n"
     ]
    },
    {
     "name": "stderr",
     "output_type": "stream",
     "text": [
      "Big bucket found. key:2:3, len:13079\n",
      "Big bucket found. key:1:4, len:12334\n",
      "Big bucket found. key:1:5, len:12464\n",
      "Big bucket found. key:2:6, len:8327\n",
      "Big bucket found. key:2:7, len:12446\n",
      "Big bucket found. key:0:8, len:11984\n",
      "Big bucket found. key:0:9, len:12350\n",
      "Big bucket found. key:2:a, len:7759\n",
      "Big bucket found. key:0:b, len:9276\n",
      "Big bucket found. key:6:c, len:10860\n",
      "Big bucket found. key:2:d, len:18569\n",
      "Big bucket found. key:3:e, len:18744\n",
      "Big bucket found. key:4:f, len:5585\n",
      "Big bucket found. key:4:10, len:16139\n",
      "Big bucket found. key:6:11, len:10707\n",
      "Big bucket found. key:0:12, len:12857\n",
      "Big bucket found. key:28:13, len:790\n"
     ]
    },
    {
     "name": "stdout",
     "output_type": "stream",
     "text": [
      "Number of near duplicates : 6038\n"
     ]
    }
   ],
   "source": [
    "map_unique_simcount = {}\n",
    "\n",
    "for test_string in test_str_list:\n",
    "    print(100*\"=\")\n",
    "    print(\"Testing against string : \", test_string)\n",
    "#     for tval in [4,8,10,12]:\n",
    "    for tval in range(1,20):\n",
    "        print(80*\"-\")\n",
    "        print(\"Tolerance Value under scrutiny : \", tval)\n",
    "        index = SimhashIndex(objs, k=tval)\n",
    "        print(\"Bucket Size :\", index.bucket_size())\n",
    "        # Get the similarity buckets\n",
    "        s = Simhash(get_features(test_string))\n",
    "        s_dups = index.get_near_dups(s)\n",
    "        num_dups = len(s_dups)\n",
    "        print (\"Number of near duplicates :\", num_dups)\n",
    "        \n",
    "        map_unique_simcount[tval] = {\"unique\":index.bucket_size(), \n",
    "                                     \"near_dup_count\":num_dups}\n",
    "\n",
    "#         display(title_df.iloc[s_dups].head(5))"
   ]
  },
  {
   "cell_type": "markdown",
   "metadata": {},
   "source": [
    "A higher tolerance value could prove invaluable here to cover a larger swath of topics. \n",
    "\n",
    "But a much higher model would pull in unnecessary topics that have less relevant content as well. So I would choose a tolerance value of 10."
   ]
  },
  {
   "cell_type": "markdown",
   "metadata": {},
   "source": [
    "###  Build a bar-chart visualization for two variables (count of unique and count of “near-duplicate”)"
   ]
  },
  {
   "cell_type": "code",
   "execution_count": 100,
   "metadata": {
    "scrolled": false
   },
   "outputs": [
    {
     "data": {
      "image/png": "[encoded data removed]",
      "text/plain": [
       "<Figure size 1152x504 with 2 Axes>"
      ]
     },
     "metadata": {},
     "output_type": "display_data"
    },
    {
     "data": {
      "image/png": "[encoded data removed]",
      "text/plain": [
       "<Figure size 1152x504 with 1 Axes>"
      ]
     },
     "metadata": {},
     "output_type": "display_data"
    }
   ],
   "source": [
    "df_unique_simcount = pd.DataFrame(map_unique_simcount).T\n",
    "f, ax = plt.subplots(1, 2, figsize=(16, 7))\n",
    "g1 = sns.lineplot(x=df_unique_simcount.index, y=\"unique\", data=df_unique_simcount, ax=ax[0])\n",
    "t1 = g1.set_title(\"Unique counts per Tolerance\")\n",
    "x1 = g1.set_xlabel(\"Tolerance\")\n",
    "\n",
    "g2 = sns.lineplot(x=df_unique_simcount.index, y=\"near_dup_count\", data=df_unique_simcount, ax=ax[1])\n",
    "t2 = g2.set_title(\"Near duplicates per Tolerance\")\n",
    "x2 = g2.set_xlabel(\"Tolerance\")\n",
    "\n",
    "f, ax = plt.subplots(1, 1, figsize=(16, 7))\n",
    "g = sns.barplot(y=\"near_dup_count\", x=\"unique\", data=df_unique_simcount)\n",
    "t = g.set_title(\"Unique counts vs. Near duplicates\")"
   ]
  },
  {
   "cell_type": "markdown",
   "metadata": {},
   "source": [
    "### Build a histogram showing the overall distribution of “near-duplication”"
   ]
  },
  {
   "cell_type": "code",
   "execution_count": 102,
   "metadata": {},
   "outputs": [
    {
     "data": {
      "image/png": "[encoded data removed]",
      "text/plain": [
       "<Figure size 1152x504 with 1 Axes>"
      ]
     },
     "metadata": {},
     "output_type": "display_data"
    }
   ],
   "source": [
    "f, ax = plt.subplots(1, 1, figsize=(16, 7))\n",
    "g = sns.distplot(a=df_unique_simcount[\"near_dup_count\"])\n",
    "t = g.set_title(\"Distribution of Near duplicates\")"
   ]
  }
 ],
 "metadata": {
  "kernelspec": {
   "display_name": "pySpark 2G 4e",
   "language": "python",
   "name": "pyspark2_2g"
  },
  "language_info": {
   "codemirror_mode": {
    "name": "ipython",
    "version": 3
   },
   "file_extension": ".py",
   "mimetype": "text/x-python",
   "name": "python",
   "nbconvert_exporter": "python",
   "pygments_lexer": "ipython3",
   "version": "3.6.8"
  }
 },
 "nbformat": 4,
 "nbformat_minor": 2
}
